{
 "cells": [
  {
   "cell_type": "markdown",
   "metadata": {},
   "source": [
    "Dictionaries, like lists, are useful as a container for your data sequence. As a sequence container, you can use iteration (loops) over all the items in your dictionary. For example, suppose a year has passed, and you want to update everyone's age. There are three dictionary functions that can help you do this:\n",
    "\n",
    "items() get all the key:value pairs\n",
    "\n",
    "keys() get all the keys\n",
    "\n",
    "values() get all the values"
   ]
  },
  {
   "cell_type": "code",
   "execution_count": 1,
   "metadata": {},
   "outputs": [
    {
     "name": "stdout",
     "output_type": "stream",
     "text": [
      "John : 52\n",
      "Siobhan : 21\n",
      "Ye : 18\n",
      "\n"
     ]
    }
   ],
   "source": [
    "age = {\"John\":52, \"Siobhan\":21,\"Ye\":18}\n",
    "\n",
    "for k,v in age.items():\n",
    "    print(k, \":\", v)\n",
    "print()"
   ]
  },
  {
   "cell_type": "code",
   "execution_count": 2,
   "metadata": {},
   "outputs": [
    {
     "name": "stdout",
     "output_type": "stream",
     "text": [
      "John\n",
      "Siobhan\n",
      "Ye\n",
      "\n"
     ]
    }
   ],
   "source": [
    "for k in age.keys():\n",
    "    print(k)\n",
    "print()"
   ]
  },
  {
   "cell_type": "code",
   "execution_count": 4,
   "metadata": {},
   "outputs": [
    {
     "name": "stdout",
     "output_type": "stream",
     "text": [
      "52\n",
      "21\n",
      "18\n",
      "\n"
     ]
    }
   ],
   "source": [
    "for v in age.values():\n",
    "    print(v)\n",
    "print()"
   ]
  },
  {
   "cell_type": "markdown",
   "metadata": {},
   "source": [
    "Returning to the problem of updating everyone's age. You want to update each value for the available keys, the equivalent of:\n",
    "\n",
    "age[\"John\"] = age[\"John\"] + 1\n",
    "\n",
    "age[\"Siobhan\"] = age[\"Siobhan\"] + 1\n",
    "\n",
    "age[\"Ye\"] = age[\"Ye\"] + 1\n",
    "\n",
    "For this, you need each of the keys, so you should choose the keys( ) function."
   ]
  },
  {
   "cell_type": "code",
   "execution_count": 6,
   "metadata": {},
   "outputs": [
    {
     "name": "stdout",
     "output_type": "stream",
     "text": [
      "{'John': 53, 'Siobhan': 22, 'Ye': 19}\n"
     ]
    }
   ],
   "source": [
    "age = {\"John\":52, \"Siobhan\":21,\"Ye\":18}\n",
    "\n",
    "for k in age.keys():\n",
    "    age[k] = age[k] + 1\n",
    "\n",
    "print(repr(age))"
   ]
  },
  {
   "cell_type": "markdown",
   "metadata": {},
   "source": [
    "## Do keys and values in a dictionary all have to have the same type?"
   ]
  },
  {
   "cell_type": "markdown",
   "metadata": {},
   "source": [
    "Besides providing a way for you to use keys, other than numbers to store information, you can also use dictionaries to collect information about a single data point. For example, you could collect the weather information for a city into a dictionary.\n",
    "\n",
    "adelaideWeather = {'AvgTemp':24, 'AvgYearlyRainfall': 553}"
   ]
  },
  {
   "cell_type": "markdown",
   "metadata": {},
   "source": [
    "You can also mix types for both the key and the values\n",
    "\n",
    "adelaideWeather = {'AvgTemp':24, 'AvgYearlyRainfall': 553, 'Climate': 'mediterranean'}\n",
    "\n",
    "You can even have your values be dictionaries!\n",
    "\n",
    "favouriteColours = {'John':{'blue', 'purple'}, 'Ye':{'red', 'yellow'}}\n",
    "\n",
    "The only restriction is that the key type(s) you choose must be immutable. The type(s) of the values have no restrictions. This can be a lot to remember!"
   ]
  },
  {
   "cell_type": "markdown",
   "metadata": {},
   "source": [
    "## Why Aren't Strings 'Mutable' When Lists Are?"
   ]
  },
  {
   "cell_type": "markdown",
   "metadata": {},
   "source": [
    "This is a subtle difference, but the key to understanding this is to think about whether you can change the data itself, or whether you have to assign the result.\n",
    "\n",
    "A list has several methods that allow you to change it: append( ), insert( ), sort( )... strings have none of these. You can't change a string once it's created. Of course, you can reassign the variable to a different string:\n",
    "\n",
    "myString = 'John'\n",
    "\n",
    "myString = myString + ' Ye'\n",
    "\n",
    "But notice here you haven't actually changed the original string 'John'. Instead, you have changed myString to refer to a new string: 'John Ye'.\n",
    "\n",
    "In contrast, in:\n",
    "\n",
    "nameList = ['John']\n",
    "\n",
    "nameList.append('Ye')\n",
    "\n",
    "You have actually changed the original list that just contained 'John' to now also have 'Ye'. Note that you didn't have to reassign nameList to refer to a new list. You didn't have to have:\n",
    "\n",
    "nameList = nameList.append('Ye')\n",
    "\n",
    "If you can change the type directly through a method, it is mutable. If you have to use assignment (because there are no methods provided by the type that allow you to change it), it is immutable."
   ]
  },
  {
   "cell_type": "markdown",
   "metadata": {},
   "source": [
    "## Summary"
   ]
  },
  {
   "cell_type": "markdown",
   "metadata": {},
   "source": [
    "You’ve seen that dictionaries are lists with labels. Key concepts you have covered in this section include:\n",
    "\n",
    "creating dictionaries\n",
    "\n",
    "adding values to dictionaries\n",
    "\n",
    "removing values from dictionaries\n",
    "\n",
    "pop() Remove and return value\n",
    "\n",
    "del Remove but don’t return value\n",
    "\n",
    "using copy() to copy lists\n",
    "\n",
    "mutable and immutable objects\n",
    "\n",
    "immutable objects can use =\n",
    "\n",
    "useful functions for looping over and modifying the values in a list\n",
    "\n",
    "items()\n",
    "\n",
    "keys()\n",
    "\n",
    "values().\n",
    " "
   ]
  },
  {
   "cell_type": "code",
   "execution_count": null,
   "metadata": {},
   "outputs": [],
   "source": []
  }
 ],
 "metadata": {
  "kernelspec": {
   "display_name": "Python 3",
   "language": "python",
   "name": "python3"
  },
  "language_info": {
   "codemirror_mode": {
    "name": "ipython",
    "version": 3
   },
   "file_extension": ".py",
   "mimetype": "text/x-python",
   "name": "python",
   "nbconvert_exporter": "python",
   "pygments_lexer": "ipython3",
   "version": "3.7.4"
  }
 },
 "nbformat": 4,
 "nbformat_minor": 2
}
