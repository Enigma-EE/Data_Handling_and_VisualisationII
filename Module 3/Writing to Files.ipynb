{
 "cells": [
  {
   "cell_type": "markdown",
   "metadata": {},
   "source": [
    "You may also need to write data from your program to a file to save it. The steps are the same (just adjusted for writing):\n",
    "\n",
    "1. Open the file.\n",
    "2. Write your data to the file.\n",
    "3. Close the file (unless you use with-as to open)."
   ]
  },
  {
   "cell_type": "markdown",
   "metadata": {},
   "source": [
    "## Opening the file for writing"
   ]
  },
  {
   "cell_type": "markdown",
   "metadata": {},
   "source": [
    "To write to the file instead, you pass another argument to the open call. This argument can be one of three values:\n",
    "\n",
    "'w' open for writing, truncating the file first.\n",
    "\n",
    "'x' open for exclusive creation, failing if the file already exists.\n",
    "\n",
    "'a' open for writing, appending to the end of the file if it exists."
   ]
  },
  {
   "cell_type": "markdown",
   "metadata": {},
   "source": [
    "## Writing the data"
   ]
  },
  {
   "cell_type": "markdown",
   "metadata": {},
   "source": [
    "Once you have your file open, you can write to it. You should keep in mind what format you want: CSV, JSON, unformatted (or your own format).\n",
    "\n",
    "For CSV files, recall that you used reader() or DictReader() to read CSV files. reader() returned a list of the values on each row. DictReader() read in the first line as the keys and then the following lines as the values placing the key:value pairs in a Python dictionary. There are writer equivalents of these:\n",
    "\n",
    "writer() writes comma delimited values to a file\n",
    "\n",
    "DictWriter() writes the keys as comma delimited header values and the dictionary values as comma \n",
    "delimited row values\n",
    "\n",
    "Try the code below in your Jupyter Notebook. Open the file in Excel or an editor and check the data."
   ]
  },
  {
   "cell_type": "code",
   "execution_count": 1,
   "metadata": {},
   "outputs": [],
   "source": [
    "# writing csv files from lists\n",
    "\n",
    "import csv\n",
    "\n",
    "data = [['name', 'age','postcode'],\n",
    "       ['John', 52, 5002],\n",
    "       ['Ye', 18,3005],\n",
    "       ['Siobhan', 34, 2356]]\n",
    "\n",
    "with open('writer_file.csv', 'w') as file:\n",
    "    writer = csv.writer(file)\n",
    "    writer.writerow(data)"
   ]
  },
  {
   "cell_type": "markdown",
   "metadata": {},
   "source": [
    "If your data is in the form of a list, then a writer() will write the data to your file in CSV format.\n",
    "\n",
    "DictWriter() should be used if your data is stored as a dictionary with key:value pairs. Try the code below in your Jupyter notebook. Again, check the file to see that the data has been written correctly."
   ]
  },
  {
   "cell_type": "code",
   "execution_count": 5,
   "metadata": {},
   "outputs": [],
   "source": [
    "# writing csv files from dictionaries\n",
    "import csv\n",
    "\n",
    "data = [{'name':'John', 'age':52, 'postcode':5002},\n",
    "        {'name':'Ye','age':18, 'postcode':3005},\n",
    "        {'name':'Siobhan', 'age':34, 'postcode':2356}\n",
    "       ]\n",
    "\n",
    "header = ['name','age','postcode']\n",
    "\n",
    "with open('dict_file.csv','w') as file:\n",
    "    # note when you create the DictWriter, you need to give headers\n",
    "    writer = csv.DictWriter(file,header)\n",
    "    \n",
    "    # with DictWriter you need to write the headers first and then write the rows\n",
    "    writer.writeheader()\n",
    "    for dictionary in data:\n",
    "        writer.writerow(dictionary)"
   ]
  },
  {
   "cell_type": "markdown",
   "metadata": {},
   "source": [
    "You may want to add additional data to an existing file. You can do this by opening it for appending instead of writing, using 'a' instead of 'w'. Again, if you have a list (single row) to add, you can use writer(). If you have a dictionary, use DictWriter()."
   ]
  },
  {
   "cell_type": "code",
   "execution_count": 7,
   "metadata": {},
   "outputs": [],
   "source": [
    "# append to the file adding another row\n",
    "\n",
    "new_data = {'name':'Jose', 'age':44, 'postcode':5125}\n",
    "\n",
    "header = ['name', 'age','postcode']\n",
    "\n",
    "with open('dict_file.csv','a') as file:\n",
    "    writer = csv.DictWriter(file,header)\n",
    "    writer.writerow(new_data)"
   ]
  },
  {
   "cell_type": "markdown",
   "metadata": {},
   "source": [
    "Using Python code, append a new row of data to each of the two files: writer_file.csv  downloadand dict_file.csv  download. Check that the data is written to the files."
   ]
  },
  {
   "cell_type": "code",
   "execution_count": 10,
   "metadata": {},
   "outputs": [],
   "source": [
    "new_row = ['Mark',67,4567]\n",
    "new_dictionary = {'name':'Mark','age':67,'postcode':4567}\n",
    "\n",
    "with open('writer_file.csv','a') as file:\n",
    "    writer = csv.writer(file)\n",
    "    writer.writerow(new_row)\n",
    "    \n",
    "with open('dict_file.csv', 'a') as file:\n",
    "    header = ['name','age','postcode']\n",
    "    writer = csv.DictWriter(file, header)\n",
    "    writer.writerow(new_dictionary)"
   ]
  },
  {
   "cell_type": "markdown",
   "metadata": {},
   "source": [
    "## Writing JSON Files"
   ]
  },
  {
   "cell_type": "markdown",
   "metadata": {},
   "source": [
    "JSON is even easier. Simply open the file for writing ('w') or appending ('a') and then call json.dump(data, file)."
   ]
  },
  {
   "cell_type": "code",
   "execution_count": 13,
   "metadata": {},
   "outputs": [],
   "source": [
    "import json\n",
    "\n",
    "data = [{'name':'John', 'age':52, 'postcode':5002},\n",
    "        {'name':'Ye','age':18, 'postcode':3005},\n",
    "        {'name':'Siobhan', 'age':34, 'postcode':2356}\n",
    "       ]\n",
    "\n",
    "with open('jfile.json','w') as file:\n",
    "    json.dump(data,file)"
   ]
  },
  {
   "cell_type": "markdown",
   "metadata": {},
   "source": [
    "## Summary"
   ]
  },
  {
   "cell_type": "markdown",
   "metadata": {},
   "source": [
    "Most data isn’t typed in by hand. In this section, you’ve practised reading and writing to files. Key concepts covered:\n",
    "\n",
    "**Different file types (CSV, XML, JSON...)**\n",
    "\n",
    "Opening a file with **open()**\n",
    "\n",
    "## Reading data from open files using Python readers\n",
    "\n",
    "**CSV library**\n",
    "\n",
    "* csv.reader() for Lists\n",
    "\n",
    "* csv.DictReader() for Dictionaries\n",
    "\n",
    "**JSON library**\n",
    "\n",
    "* read()\n",
    "\n",
    "* json.loads()\n",
    "\n",
    "## Writing data to open files using Python writers\n",
    "**CSV library**\n",
    "* csv_writer() for Lists\n",
    "* csv.DictWriter() for Dictionaries\n",
    "\n",
    "**JSON library**\n",
    "* json.dump()"
   ]
  },
  {
   "cell_type": "code",
   "execution_count": null,
   "metadata": {},
   "outputs": [],
   "source": []
  }
 ],
 "metadata": {
  "kernelspec": {
   "display_name": "Python 3",
   "language": "python",
   "name": "python3"
  },
  "language_info": {
   "codemirror_mode": {
    "name": "ipython",
    "version": 3
   },
   "file_extension": ".py",
   "mimetype": "text/x-python",
   "name": "python",
   "nbconvert_exporter": "python",
   "pygments_lexer": "ipython3",
   "version": "3.7.4"
  }
 },
 "nbformat": 4,
 "nbformat_minor": 2
}
