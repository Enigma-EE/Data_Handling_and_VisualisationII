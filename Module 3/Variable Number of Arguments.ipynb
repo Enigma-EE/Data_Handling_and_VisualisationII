{
 "cells": [
  {
   "cell_type": "markdown",
   "metadata": {},
   "source": [
    "Sometimes you may not know in advance how many parameters you want your function to take. Python provides two ways you can accept a variable number of arguments to a function."
   ]
  },
  {
   "cell_type": "code",
   "execution_count": 5,
   "metadata": {},
   "outputs": [
    {
     "name": "stdout",
     "output_type": "stream",
     "text": [
      "6\n",
      "15\n"
     ]
    }
   ],
   "source": [
    "# example variable number of parameters\n",
    "def sum_vals(*numbers):\n",
    "    sum = 0\n",
    "    for num in numbers:\n",
    "        sum = sum + num\n",
    "    return sum\n",
    "\n",
    "print(sum_vals(1,2,3))\n",
    "print(sum_vals(1,2,3,4,5))"
   ]
  },
  {
   "cell_type": "markdown",
   "metadata": {},
   "source": [
    "The single * will place all of the values into a tuple (an immutable list). You can then access all of the parameters as you would with a tuple.\n",
    "\n",
    "The second option (**) will place all of the values into a dictionary."
   ]
  },
  {
   "cell_type": "code",
   "execution_count": 6,
   "metadata": {},
   "outputs": [
    {
     "name": "stdout",
     "output_type": "stream",
     "text": [
      "John is in adelaide\n",
      "John is in adelaide\n"
     ]
    }
   ],
   "source": [
    "# example variable number of key=value parameters \n",
    "def isInAdelaide(**customer):\n",
    "    sum = 0\n",
    "    if customer['postcode'] >= 5000 and customer['postcode'] < 6000:\n",
    "        return True\n",
    "\n",
    "if isInAdelaide(name='John',postcode=5126):\n",
    "    print(\"John is in adelaide\")\n",
    "\n",
    "if isInAdelaide(name='John',postcode=5126, age=52):\n",
    "        print(\"John is in adelaide\")"
   ]
  },
  {
   "cell_type": "markdown",
   "metadata": {},
   "source": [
    "Variable number parameters can be useful if your data does not all have the same number of values."
   ]
  },
  {
   "cell_type": "markdown",
   "metadata": {},
   "source": [
    "## Default values"
   ]
  },
  {
   "cell_type": "markdown",
   "metadata": {},
   "source": [
    "You may also want to provide default values if the values are not provided when the function is called. This is used in a lot of the built-in functions you have used. For example, when you used open() to read a file, you only needed to give the filename. But when you used open() to write to a file, you had to give the filename and a letter ('w' to overwrite, 'a' to append to the file). That is because open() uses read as the default. You could call open() as:\n",
    "\n",
    "open('filename','r')\n",
    "\n",
    "and it would have the same effect. If you don't give the second argument, then the default is 'r'.\n",
    "\n",
    "Setting default values is simple. In your function definition, just add = default value to your parameters."
   ]
  },
  {
   "cell_type": "code",
   "execution_count": 7,
   "metadata": {},
   "outputs": [],
   "source": [
    "import csv\n",
    "\n",
    "def add_reservation(name,food_preference='none'):\n",
    "    with open('reservations.csv','a') as file:\n",
    "        writer = csv.writer(file)\n",
    "        writer.writerow([name,food_preference])\n",
    "        \n",
    "add_reservation(name='Mary')\n",
    "add_reservation(name='Markus',food_preference='vegetarian')"
   ]
  },
  {
   "cell_type": "markdown",
   "metadata": {},
   "source": [
    "After running this code, the file 'reservations.csv' will contain:\n",
    "\n",
    "Mary,none\n",
    "Markus,vegetarian"
   ]
  },
  {
   "cell_type": "markdown",
   "metadata": {},
   "source": [
    "## Summary"
   ]
  },
  {
   "cell_type": "markdown",
   "metadata": {},
   "source": [
    "You’ve now built your own functions! Key concepts from this section:\n",
    "\n",
    "Function terms\n",
    "1. Parameters (values passed to a function)\n",
    "2. Return values (values returned from a function)\n",
    "3. Arguments (the values used when actually calling the function, that are assigned to the function’s parameters).\n",
    "\n",
    "Function Parameters\n",
    "1. Lists\n",
    "2. Dictionaries\n",
    "3. Variable numbers of parameters\n",
    "4. Default values for parameters.\n",
    "\n",
    "Key rules\n",
    "1. Define before calling\n",
    "2. Watch for side effects (what is or isn’t changed in a function)."
   ]
  },
  {
   "cell_type": "markdown",
   "metadata": {},
   "source": [
    "Write a function that reads in a file of reservations in the form:\n",
    "\n",
    "name,food_preference\n",
    "\n",
    "Mary,none\n",
    "\n",
    "Markus,vegetarian\n",
    "\n",
    "John,chicken\n",
    "\n",
    "Ye,seafood\n",
    "\n",
    "Erika,seafood"
   ]
  },
  {
   "cell_type": "markdown",
   "metadata": {},
   "source": [
    "where row, other than the first, contains the name of the person and meal preference (one of seafood, chicken, vegetarian or unspecified) and returns a dictionary with the number of each type of meal ordered (e.g. {'seafood':15,chicken:23,vegetarian:12} )\n",
    "\n",
    "Call the function and print the returned dictionary."
   ]
  },
  {
   "cell_type": "code",
   "execution_count": 3,
   "metadata": {},
   "outputs": [
    {
     "ename": "KeyError",
     "evalue": "'food_preference'",
     "output_type": "error",
     "traceback": [
      "\u001b[1;31m---------------------------------------------------------------------------\u001b[0m",
      "\u001b[1;31mKeyError\u001b[0m                                  Traceback (most recent call last)",
      "\u001b[1;32m<ipython-input-3-45dfb875e943>\u001b[0m in \u001b[0;36m<module>\u001b[1;34m\u001b[0m\n\u001b[0;32m     19\u001b[0m \u001b[1;33m\u001b[0m\u001b[0m\n\u001b[0;32m     20\u001b[0m \u001b[1;33m\u001b[0m\u001b[0m\n\u001b[1;32m---> 21\u001b[1;33m \u001b[0mmeal_count\u001b[0m \u001b[1;33m=\u001b[0m \u001b[0mmeal_counter\u001b[0m\u001b[1;33m(\u001b[0m\u001b[1;33m)\u001b[0m\u001b[1;33m\u001b[0m\u001b[1;33m\u001b[0m\u001b[0m\n\u001b[0m\u001b[0;32m     22\u001b[0m \u001b[0mprint\u001b[0m\u001b[1;33m(\u001b[0m\u001b[0mmeal_count\u001b[0m\u001b[1;33m)\u001b[0m\u001b[1;33m\u001b[0m\u001b[1;33m\u001b[0m\u001b[0m\n",
      "\u001b[1;32m<ipython-input-3-45dfb875e943>\u001b[0m in \u001b[0;36mmeal_counter\u001b[1;34m()\u001b[0m\n\u001b[0;32m      8\u001b[0m \u001b[1;33m\u001b[0m\u001b[0m\n\u001b[0;32m      9\u001b[0m         \u001b[1;32mfor\u001b[0m \u001b[0mrow\u001b[0m \u001b[1;32min\u001b[0m \u001b[0mreader\u001b[0m\u001b[1;33m:\u001b[0m\u001b[1;33m\u001b[0m\u001b[1;33m\u001b[0m\u001b[0m\n\u001b[1;32m---> 10\u001b[1;33m             \u001b[1;32mif\u001b[0m \u001b[0mrow\u001b[0m\u001b[1;33m[\u001b[0m\u001b[1;34m'food_preference'\u001b[0m\u001b[1;33m]\u001b[0m \u001b[1;33m==\u001b[0m \u001b[1;34m'seafood'\u001b[0m\u001b[1;33m:\u001b[0m\u001b[1;33m\u001b[0m\u001b[1;33m\u001b[0m\u001b[0m\n\u001b[0m\u001b[0;32m     11\u001b[0m                 \u001b[0mmeals\u001b[0m\u001b[1;33m[\u001b[0m\u001b[1;34m'seafood'\u001b[0m\u001b[1;33m]\u001b[0m \u001b[1;33m=\u001b[0m \u001b[0mmeals\u001b[0m\u001b[1;33m[\u001b[0m\u001b[1;34m'seafood'\u001b[0m\u001b[1;33m]\u001b[0m\u001b[1;33m+\u001b[0m\u001b[1;36m1\u001b[0m\u001b[1;33m\u001b[0m\u001b[1;33m\u001b[0m\u001b[0m\n\u001b[0;32m     12\u001b[0m             \u001b[1;32melif\u001b[0m \u001b[0mrow\u001b[0m\u001b[1;33m[\u001b[0m\u001b[1;34m'food_preference'\u001b[0m\u001b[1;33m]\u001b[0m \u001b[1;33m==\u001b[0m \u001b[1;34m'chicken'\u001b[0m\u001b[1;33m:\u001b[0m\u001b[1;33m\u001b[0m\u001b[1;33m\u001b[0m\u001b[0m\n",
      "\u001b[1;31mKeyError\u001b[0m: 'food_preference'"
     ]
    }
   ],
   "source": [
    "import csv\n",
    "\n",
    "def meal_counter():\n",
    "    with open('reservations.csv') as file:\n",
    "        reader = csv.DictReader(file)\n",
    "        \n",
    "        meals = {'seafood':0,'chicken':0,'vegetarian':0,'unspecified':0}\n",
    "        \n",
    "        for row in reader:\n",
    "            if row['food_preference'] == 'seafood':\n",
    "                meals['seafood'] = meals['seafood']+1\n",
    "            elif row['food_preference'] == 'chicken':\n",
    "                meals['chicken'] = meals['chicken']+1\n",
    "            elif row['food_preference'] == 'vegetarian':\n",
    "                meals['vegetarian'] = meals['vegetarian']+1\n",
    "            else:\n",
    "                meals['unspecified'] = meals['unspecified']+1\n",
    "    return(meals)\n",
    "                \n",
    "    \n",
    "meal_count = meal_counter()\n",
    "print(meal_count)"
   ]
  },
  {
   "cell_type": "code",
   "execution_count": null,
   "metadata": {},
   "outputs": [],
   "source": []
  }
 ],
 "metadata": {
  "kernelspec": {
   "display_name": "Python 3",
   "language": "python",
   "name": "python3"
  },
  "language_info": {
   "codemirror_mode": {
    "name": "ipython",
    "version": 3
   },
   "file_extension": ".py",
   "mimetype": "text/x-python",
   "name": "python",
   "nbconvert_exporter": "python",
   "pygments_lexer": "ipython3",
   "version": "3.7.4"
  }
 },
 "nbformat": 4,
 "nbformat_minor": 2
}
