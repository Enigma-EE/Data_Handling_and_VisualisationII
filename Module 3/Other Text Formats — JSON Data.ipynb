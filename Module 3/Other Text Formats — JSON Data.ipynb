{
 "cells": [
  {
   "cell_type": "markdown",
   "metadata": {},
   "source": [
    "Although CSV is very common, sometimes your data will be in other formats. Some examples are JSON or XML. When you have to work with this sort of data, you can either study the format and use what you've learned about reading strings to extract the data, or find a module that is specifically designed to provide functions to work with that data type."
   ]
  },
  {
   "cell_type": "markdown",
   "metadata": {},
   "source": [
    "## JSON data"
   ]
  },
  {
   "cell_type": "markdown",
   "metadata": {},
   "source": [
    "JSON stores name:value pairs grouped by { }.\n",
    "\n",
    "Fortunately, there is a JSON module to help. The JSON module includes a function loads().\n",
    "\n",
    "json.loads(): takes a string in JSON data format and loads the data into dictionaries (for name value pairs) and lists (for unlabelled sequences). The example below shows how the data would be loaded once you have a string."
   ]
  },
  {
   "cell_type": "code",
   "execution_count": 13,
   "metadata": {},
   "outputs": [
    {
     "ename": "NameError",
     "evalue": "name 'jdict' is not defined",
     "output_type": "error",
     "traceback": [
      "\u001b[1;31m---------------------------------------------------------------------------\u001b[0m",
      "\u001b[1;31mNameError\u001b[0m                                 Traceback (most recent call last)",
      "\u001b[1;32m<ipython-input-13-9357ddb5e206>\u001b[0m in \u001b[0;36m<module>\u001b[1;34m\u001b[0m\n\u001b[0;32m      9\u001b[0m \u001b[1;31m# load data into dictionary\u001b[0m\u001b[1;33m\u001b[0m\u001b[1;33m\u001b[0m\u001b[1;33m\u001b[0m\u001b[0m\n\u001b[0;32m     10\u001b[0m \u001b[0mjdata\u001b[0m \u001b[1;33m=\u001b[0m \u001b[0mjson\u001b[0m\u001b[1;33m.\u001b[0m\u001b[0mloads\u001b[0m\u001b[1;33m(\u001b[0m\u001b[0mjstr\u001b[0m\u001b[1;33m)\u001b[0m\u001b[1;33m\u001b[0m\u001b[1;33m\u001b[0m\u001b[0m\n\u001b[1;32m---> 11\u001b[1;33m \u001b[0mprint\u001b[0m\u001b[1;33m(\u001b[0m\u001b[0mjdict\u001b[0m\u001b[1;33m)\u001b[0m\u001b[1;33m\u001b[0m\u001b[1;33m\u001b[0m\u001b[0m\n\u001b[0m\u001b[0;32m     12\u001b[0m \u001b[1;33m\u001b[0m\u001b[0m\n\u001b[0;32m     13\u001b[0m \u001b[0mprint\u001b[0m\u001b[1;33m(\u001b[0m\u001b[1;33m)\u001b[0m\u001b[1;33m\u001b[0m\u001b[1;33m\u001b[0m\u001b[0m\n",
      "\u001b[1;31mNameError\u001b[0m: name 'jdict' is not defined"
     ]
    }
   ],
   "source": [
    "import json\n",
    "\n",
    "jstr = '''{\"data\":[ {\"name\":\"John\",\"age\":52,\"postcode\":5002},\n",
    "                    {\"name\":\"Ye\",\"age\":18,\"postcode\":3005},\n",
    "                    {\"name\":\"Siobhan\",\"age\":34,\"postcode\":2356}\n",
    "                   ]\n",
    "           }'''\n",
    "\n",
    "# load data into dictionary\n",
    "jdata = json.loads(jstr)\n",
    "print(jdict)\n",
    "\n",
    "print()\n",
    "data = jdata[\"data\"]\n",
    "print(data)\n",
    "\n",
    "print()\n",
    "for i in range(len(data)):\n",
    "    print(data[i])"
   ]
  },
  {
   "cell_type": "markdown",
   "metadata": {},
   "source": [
    "To read the JSON in from a file:\n",
    "\n",
    "1. open the file as you did for CSV files\n",
    "2. read() from the file. this will return all of the JSON in the file as a string\n",
    "3. call the json.loads() on the string from Step 2."
   ]
  },
  {
   "cell_type": "code",
   "execution_count": 14,
   "metadata": {},
   "outputs": [
    {
     "name": "stdout",
     "output_type": "stream",
     "text": [
      "{'data': [{'name': 'John', 'age': 52, 'postcode': 5002}, {'name': 'Ye', 'age': 18, 'postcode': 3005}, {'name': 'Siobhan', 'age': 34, 'postcode': 2356}]}\n",
      "\n",
      "[{'name': 'John', 'age': 52, 'postcode': 5002}, {'name': 'Ye', 'age': 18, 'postcode': 3005}, {'name': 'Siobhan', 'age': 34, 'postcode': 2356}]\n",
      "\n",
      "{'name': 'John', 'age': 52, 'postcode': 5002}\n",
      "{'name': 'Ye', 'age': 18, 'postcode': 3005}\n",
      "{'name': 'Siobhan', 'age': 34, 'postcode': 2356}\n"
     ]
    }
   ],
   "source": [
    "import json\n",
    "\n",
    "with open('customers.txt', encoding='utf-8-sig') as dataFile:\n",
    "    # load data into dictionary\n",
    "    jstr = dataFile.read()\n",
    "    jdata=json.loads(jstr)\n",
    "    \n",
    "print(jdata)\n",
    "\n",
    "print()\n",
    "data = jdata[\"data\"]\n",
    "print(data)\n",
    "\n",
    "print()\n",
    "for i in range(len(data)):\n",
    "    print(data[i])"
   ]
  },
  {
   "cell_type": "markdown",
   "metadata": {},
   "source": [
    "When working with JSON, remember that name:value pairs in JSON will become dictionary elements, and comma separated values within [ ] will become part of a list."
   ]
  },
  {
   "cell_type": "markdown",
   "metadata": {},
   "source": [
    "## Practise Using JSON"
   ]
  },
  {
   "cell_type": "markdown",
   "metadata": {},
   "source": [
    "1. reading in the JSON\n",
    "\n",
    "use the read() method to read from your dataFile into a string. Call json.loads() on your string to convert it to dictionaries and lists.\n",
    "\n",
    "2. print the data list\n",
    "\n",
    "Data is a key for a dictionary. Its value is a list of three dictionaries. Each of those three dictionaries has three key:value pairs. We have three layers:\n",
    "\n",
    " 1. The key:value pairs in the dictionary (note you only have one key:value pair in this practice, the one with key:data, but you could have more, so you can use a loop to go through all of the key:value pairs).\n",
    " 2. The list of three dictionaries, which is the value for the key 'data'\n",
    " 3. The key:value pairs inside each of those dictionaries.\n",
    " \n",
    "You will want three loops; one to go through each of these layers."
   ]
  },
  {
   "cell_type": "code",
   "execution_count": 17,
   "metadata": {},
   "outputs": [
    {
     "name": "stdout",
     "output_type": "stream",
     "text": [
      "John\n",
      "52\n",
      "5002\n",
      "Ye\n",
      "18\n",
      "3005\n",
      "Siobhan\n",
      "34\n",
      "2356\n"
     ]
    }
   ],
   "source": [
    "import json\n",
    "\n",
    "with open('customers.txt', encoding='utf-8-sig') as dataFile:\n",
    "    # load data into dictionary\n",
    "    jstr = dataFile.read()\n",
    "    jdata=json.loads(jstr)\n",
    "    \n",
    "# each list of the dictionary step 1\n",
    "for list in jdata.values():\n",
    "   # each dictionary in the list step 2\n",
    "   for dictionary in list:\n",
    "       # each  value in the dictionary\n",
    "       for value in dictionary.values():\n",
    "           print(value)\n"
   ]
  },
  {
   "cell_type": "code",
   "execution_count": null,
   "metadata": {},
   "outputs": [],
   "source": []
  }
 ],
 "metadata": {
  "kernelspec": {
   "display_name": "Python 3",
   "language": "python",
   "name": "python3"
  },
  "language_info": {
   "codemirror_mode": {
    "name": "ipython",
    "version": 3
   },
   "file_extension": ".py",
   "mimetype": "text/x-python",
   "name": "python",
   "nbconvert_exporter": "python",
   "pygments_lexer": "ipython3",
   "version": "3.7.4"
  }
 },
 "nbformat": 4,
 "nbformat_minor": 2
}
