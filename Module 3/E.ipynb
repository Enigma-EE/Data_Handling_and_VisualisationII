{
 "cells": [
  {
   "cell_type": "markdown",
   "metadata": {},
   "source": [
    "## Practise Adding, Removing and Accessing Values in the Dictionary"
   ]
  },
  {
   "cell_type": "code",
   "execution_count": 1,
   "metadata": {},
   "outputs": [],
   "source": [
    "level = dict();  \n",
    "\n",
    "level[\"Ganyu\"] = 85\n",
    "level[\"Venti\"] = 80\n",
    "level[\"Klee\"] = 80\n",
    "level[\"Qiqi\"] = 66"
   ]
  },
  {
   "cell_type": "code",
   "execution_count": 2,
   "metadata": {},
   "outputs": [
    {
     "name": "stdout",
     "output_type": "stream",
     "text": [
      "There are 4 Characters in the dictionary\n"
     ]
    }
   ],
   "source": [
    "print(\"There are \" + str(len(level)) + \" Characters in the dictionary\")"
   ]
  },
  {
   "cell_type": "code",
   "execution_count": 3,
   "metadata": {},
   "outputs": [
    {
     "name": "stdout",
     "output_type": "stream",
     "text": [
      "66\n"
     ]
    }
   ],
   "source": [
    "above80 = level.pop(\"Qiqi\")\n",
    "print(above80)"
   ]
  },
  {
   "cell_type": "code",
   "execution_count": 4,
   "metadata": {},
   "outputs": [
    {
     "name": "stdout",
     "output_type": "stream",
     "text": [
      "with 5-star weapon:  {'Ganyu': 85, 'Klee': 80}\n"
     ]
    }
   ],
   "source": [
    "del level[\"Venti\"]\n",
    "print(\"with 5-star weapon: \", level)"
   ]
  },
  {
   "cell_type": "code",
   "execution_count": 5,
   "metadata": {},
   "outputs": [
    {
     "name": "stdout",
     "output_type": "stream",
     "text": [
      "level dictionary: {}\n"
     ]
    }
   ],
   "source": [
    "level.clear()\n",
    "print(\"level dictionary: \" + repr(level))"
   ]
  },
  {
   "cell_type": "markdown",
   "metadata": {},
   "source": [
    "Create a dictionary containing weather data for four Australian capital cities. Each location in the dictionary should contain the location, the average rainfall, and the average temperature.\n",
    "\n",
    "Print the values in your dictionary using a for loop.\n",
    "Hint: You can use the city name as the key and then make the value for each city a dictionary that contains the keys avgRainfall and avgTemp.\n",
    "\n",
    "Use the example for printing key-value pairs to print out your data."
   ]
  },
  {
   "cell_type": "code",
   "execution_count": 5,
   "metadata": {},
   "outputs": [
    {
     "name": "stdout",
     "output_type": "stream",
     "text": [
      "Sydney : {'averageTemp': 28, 'averageRain': 0} (°C & mm)\n",
      "Melbourne : {'averageTemp': 23, 'averageRain': 0} (°C & mm)\n",
      "Brisbane : {'averageTemp': 20, 'averageRain': 6.8} (°C & mm)\n",
      "Perth : {'averageTemp': 23, 'averageRain': 0.2} (°C & mm)\n"
     ]
    }
   ],
   "source": [
    "# data from http://www.bom.gov.au/watl/weather/,2021/4/3, 23:50\n",
    "latestWeather = {'Sydney': {'averageTemp': 28, 'averageRain': 0}, \n",
    "                 'Melbourne': {'averageTemp': 23, 'averageRain': 0}, \n",
    "                 'Brisbane': {'averageTemp': 20, 'averageRain': 6.8}, \n",
    "                 'Perth': {'averageTemp': 23, 'averageRain': 0.2}}\n",
    "\n",
    "\n",
    "for k, v in latestWeather.items():\n",
    "    print(k, ':', v, '(°C & mm)')"
   ]
  },
  {
   "cell_type": "code",
   "execution_count": null,
   "metadata": {},
   "outputs": [],
   "source": []
  }
 ],
 "metadata": {
  "kernelspec": {
   "display_name": "Python 3",
   "language": "python",
   "name": "python3"
  },
  "language_info": {
   "codemirror_mode": {
    "name": "ipython",
    "version": 3
   },
   "file_extension": ".py",
   "mimetype": "text/x-python",
   "name": "python",
   "nbconvert_exporter": "python",
   "pygments_lexer": "ipython3",
   "version": "3.7.4"
  }
 },
 "nbformat": 4,
 "nbformat_minor": 2
}
