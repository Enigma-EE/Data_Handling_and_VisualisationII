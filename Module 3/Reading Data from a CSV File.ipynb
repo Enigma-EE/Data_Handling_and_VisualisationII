{
 "cells": [
  {
   "cell_type": "markdown",
   "metadata": {},
   "source": [
    "There are three steps you need to remember when working with data from files:\n",
    "\n",
    "Open the file.\n",
    "\n",
    "Read or write the data.\n",
    "\n",
    "Close the file.\n",
    "\n",
    "Make sure you remember to do all three. Until you open the file, you won't be able to read it. But if you forget to close the file, you may leave it in a state where it can't be read by others (including yourself if you try to open it again) or where some of the data may be lost. So don't forget that last important step of closing your file when your program no longer needs to access it."
   ]
  },
  {
   "cell_type": "markdown",
   "metadata": {},
   "source": [
    "## Opening the file"
   ]
  },
  {
   "cell_type": "markdown",
   "metadata": {},
   "source": [
    "You open files using the built-in Python **open()** function. The open() function requires only a filename. There are other options, but the filename is all you need to provide if you want to read a text file.\n",
    "\n",
    "You can open the customer.csv file with:\n"
   ]
  },
  {
   "cell_type": "code",
   "execution_count": 1,
   "metadata": {},
   "outputs": [
    {
     "data": {
      "text/plain": [
       "<_io.TextIOWrapper name='customer.csv' mode='r' encoding='cp936'>"
      ]
     },
     "execution_count": 1,
     "metadata": {},
     "output_type": "execute_result"
    }
   ],
   "source": [
    "open('customer.csv')"
   ]
  },
  {
   "cell_type": "markdown",
   "metadata": {},
   "source": [
    "A word about where files are kept\n",
    "\n",
    "The function above works only if your Python code (or Jupyter workbook) and your customer.csv file are in the same folder. If they are in different folders, you will need to provide what is called the 'full path' to the customer.csv file. For now, just be sure you have saved your customer.csv file in the same folder where you are saving your Jupyter Notebook."
   ]
  },
  {
   "cell_type": "markdown",
   "metadata": {},
   "source": [
    "## Reading the File Contents"
   ]
  },
  {
   "cell_type": "markdown",
   "metadata": {},
   "source": [
    "Create a CSV file with a header line and data. Reading the data from your file, create a list called 'data'. Each element in your list should be a dictionary.\n",
    "\n",
    "Using loops, print all of the values in data (note: values only, do not print the keys)."
   ]
  },
  {
   "cell_type": "code",
   "execution_count": 1,
   "metadata": {},
   "outputs": [
    {
     "name": "stdout",
     "output_type": "stream",
     "text": [
      "John\n",
      "52\n",
      "5002\n",
      "Ye\n",
      "18\n",
      "3005\n",
      "Siobhan\n",
      "34\n",
      "2356\n"
     ]
    }
   ],
   "source": [
    "import csv\n",
    "\n",
    "data = []\n",
    "\n",
    "with open('customer.csv') as dataFile:\n",
    "    dreader = csv.DictReader(dataFile)\n",
    "    for row in dreader:\n",
    "        data.append(row)\n",
    "\n",
    "for element in data:\n",
    "    for value in element.values():\n",
    "        print(value)"
   ]
  },
  {
   "cell_type": "code",
   "execution_count": null,
   "metadata": {},
   "outputs": [],
   "source": []
  }
 ],
 "metadata": {
  "kernelspec": {
   "display_name": "Python 3",
   "language": "python",
   "name": "python3"
  },
  "language_info": {
   "codemirror_mode": {
    "name": "ipython",
    "version": 3
   },
   "file_extension": ".py",
   "mimetype": "text/x-python",
   "name": "python",
   "nbconvert_exporter": "python",
   "pygments_lexer": "ipython3",
   "version": "3.7.4"
  }
 },
 "nbformat": 4,
 "nbformat_minor": 2
}
