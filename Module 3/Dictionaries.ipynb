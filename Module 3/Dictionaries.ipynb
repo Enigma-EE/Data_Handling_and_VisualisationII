{
 "cells": [
  {
   "cell_type": "markdown",
   "metadata": {},
   "source": [
    "## Creating a dictionary"
   ]
  },
  {
   "cell_type": "markdown",
   "metadata": {},
   "source": [
    "To create a dictionary, you use curly brackets with key:value pairs separated by commas:\n",
    "\n",
    "age = {\"John\":52, \"Siobhan\":21, \"Ye\":18}\n",
    "\n",
    "You can also create dictionaries using a special construction method:\n",
    "\n",
    "age = dict(John=52, Siobhan=21, Ye=18)\n",
    "\n",
    "Note = is used instead of : when creating the dictionary with the dict() method!\n",
    "\n",
    "You can use either approach to creating your list."
   ]
  },
  {
   "cell_type": "markdown",
   "metadata": {},
   "source": [
    "## Adding, Removing and Accessing Values in the Dictionary"
   ]
  },
  {
   "cell_type": "code",
   "execution_count": 3,
   "metadata": {},
   "outputs": [],
   "source": [
    "# Exanple working with Dictionarise\n",
    "\n",
    "age = dict();  #create an empty dictionary\n",
    "\n",
    "# add entrise to the dictionary\n",
    "age[\"Siobhan\"] = 21\n",
    "age[\"John\"] = 52"
   ]
  },
  {
   "cell_type": "code",
   "execution_count": 6,
   "metadata": {},
   "outputs": [
    {
     "name": "stdout",
     "output_type": "stream",
     "text": [
      "age dictionary: {'Siobhan': 21, 'John': 52}\n"
     ]
    }
   ],
   "source": [
    "# \n",
    "# repr () returns the string representation of the dictionary\n",
    "print(\"age dictionary: \" + repr(age))\n"
   ]
  },
  {
   "cell_type": "code",
   "execution_count": 9,
   "metadata": {},
   "outputs": [
    {
     "name": "stdout",
     "output_type": "stream",
     "text": [
      "There are 2 key: value pairs in the dictionary\n"
     ]
    }
   ],
   "source": [
    "# len() give the length of the dictionary\n",
    "print(\"There are \" + str(len(age)) + \" key: value pairs in the dictionary\")\n"
   ]
  },
  {
   "cell_type": "code",
   "execution_count": 11,
   "metadata": {},
   "outputs": [
    {
     "name": "stdout",
     "output_type": "stream",
     "text": [
      "age dictionary copy: {'Siobhan': 21, 'John': 52}\n"
     ]
    }
   ],
   "source": [
    "# copy() makes a copy of the dictionary\n",
    "ageCopy = age.copy()\n",
    "print(\"age dictionary copy: \" + repr(ageCopy))  # return the string representation of the dictionary\n"
   ]
  },
  {
   "cell_type": "code",
   "execution_count": 12,
   "metadata": {},
   "outputs": [
    {
     "name": "stdout",
     "output_type": "stream",
     "text": [
      "copies are equivalent? True\n",
      "are age and ageCopy the same dictionary? False\n"
     ]
    }
   ],
   "source": [
    "# difference between == and is\n",
    "print(\"copies are equivalent?\", age == ageCopy)\n",
    "# == and != check if lists have same key: value pairs\n",
    "print(\"are age and ageCopy the same dictionary?\", age is ageCopy)\n",
    "# note the difference between == and is"
   ]
  },
  {
   "cell_type": "code",
   "execution_count": 13,
   "metadata": {},
   "outputs": [
    {
     "name": "stdout",
     "output_type": "stream",
     "text": [
      "52\n"
     ]
    }
   ],
   "source": [
    "# removing elements from the list\n",
    "# pop() removes and returns the value\n",
    "ageJohn = age.pop(\"John\")\n",
    "print(ageJohn)"
   ]
  },
  {
   "cell_type": "code",
   "execution_count": 14,
   "metadata": {},
   "outputs": [],
   "source": [
    "# del() removes but doesn't return the return value\n",
    "del age[\"Siobhan\"]"
   ]
  },
  {
   "cell_type": "code",
   "execution_count": 15,
   "metadata": {},
   "outputs": [
    {
     "name": "stdout",
     "output_type": "stream",
     "text": [
      "age dictionary: {}\n"
     ]
    }
   ],
   "source": [
    "# John and Siobhan have both been removed so list should now be empty\n",
    "print(\"age dictionary: \" + repr(age))"
   ]
  },
  {
   "cell_type": "code",
   "execution_count": 16,
   "metadata": {},
   "outputs": [
    {
     "name": "stdout",
     "output_type": "stream",
     "text": [
      "age dictionary copy: {'Siobhan': 21, 'John': 52}\n",
      "copies are equivalent? False\n"
     ]
    }
   ],
   "source": [
    "# but the copy of the dictionary hasn't been changed\n",
    "print(\"age dictionary copy: \" + repr(ageCopy))\n",
    "print(\"copies are equivalent?\", age == ageCopy)"
   ]
  },
  {
   "cell_type": "code",
   "execution_count": 17,
   "metadata": {},
   "outputs": [
    {
     "name": "stdout",
     "output_type": "stream",
     "text": [
      "age dictionary copy: {}\n"
     ]
    }
   ],
   "source": [
    "# clear() removes everything is a dictionary\n",
    "ageCopy.clear()\n",
    "print(\"age dictionary copy: \" + repr(ageCopy)) # return the string representation of the dictionary"
   ]
  },
  {
   "cell_type": "code",
   "execution_count": 15,
   "metadata": {},
   "outputs": [],
   "source": [
    "\n",
    "level = dict();\n",
    "\n",
    "level[\"Ganyu\"] = 85\n",
    "level[\"Venti\"] = 80\n",
    "level[\"Klee\"] = 80\n",
    "level[\"Qiqi\"] = 66"
   ]
  },
  {
   "cell_type": "code",
   "execution_count": 16,
   "metadata": {},
   "outputs": [
    {
     "name": "stdout",
     "output_type": "stream",
     "text": [
      "There are 4 Characters in the dictionary\n"
     ]
    }
   ],
   "source": [
    "print(\"There are \" + str(len(level)) + \" Characters in the dictionary\")"
   ]
  },
  {
   "cell_type": "code",
   "execution_count": 17,
   "metadata": {},
   "outputs": [
    {
     "name": "stdout",
     "output_type": "stream",
     "text": [
      "66\n"
     ]
    }
   ],
   "source": [
    "above80 = level.pop(\"Qiqi\")\n",
    "print(above80)"
   ]
  },
  {
   "cell_type": "code",
   "execution_count": 18,
   "metadata": {},
   "outputs": [
    {
     "name": "stdout",
     "output_type": "stream",
     "text": [
      "with 5-star weapon:  {'Ganyu': 85, 'Klee': 80}\n",
      "level dictionary: {}\n"
     ]
    }
   ],
   "source": [
    "del level[\"Venti\"]\n",
    "print(\"with 5-star weapon: \", level)\n",
    "level.clear()\n",
    "print(\"level dictionary: \" + repr(level))"
   ]
  },
  {
   "cell_type": "code",
   "execution_count": 7,
   "metadata": {},
   "outputs": [
    {
     "name": "stdout",
     "output_type": "stream",
     "text": [
      "stock categories: 4\n",
      "threw out 6 items\n",
      "{'Oranges': 20, 'Pineapples': 1}\n",
      "{}\n"
     ]
    }
   ],
   "source": [
    "\n",
    "storeStock = {'Oranges':5, 'Apples':6, 'Pineapples':1, 'Grapefruit':15}\n",
    "print('stock categories: '+str(len(storeStock)))\n",
    "\n",
    "storeStock['Oranges'] = 20\n",
    "\n",
    "disposed = storeStock.pop('Apples')\n",
    "print('threw out '+str(disposed)+' items')\n",
    "\n",
    "del storeStock['Grapefruit']\n",
    "print(storeStock)\n",
    "\n",
    "storeStock.clear()\n",
    "print(storeStock)"
   ]
  },
  {
   "cell_type": "markdown",
   "metadata": {},
   "source": [
    "## Checking if a key is in your dictionary"
   ]
  },
  {
   "cell_type": "markdown",
   "metadata": {},
   "source": [
    "What happens if you try to delete a key that isn't in your dictionary?\n",
    "\n",
    "To avoid an error trying to remove a key that doesn't exist in the dictionary, you should check first if the key exists."
   ]
  },
  {
   "cell_type": "code",
   "execution_count": 24,
   "metadata": {},
   "outputs": [],
   "source": [
    "age = dict(); \n",
    "\n",
    "age[\"Siobhan\"] = 21\n",
    "age[\"John\"] = 52"
   ]
  },
  {
   "cell_type": "code",
   "execution_count": 25,
   "metadata": {},
   "outputs": [
    {
     "name": "stdout",
     "output_type": "stream",
     "text": [
      "John is in age dictionary\n"
     ]
    }
   ],
   "source": [
    "if \"John\" in age:\n",
    "    print(\"John is in age dictionary\")\n"
   ]
  },
  {
   "cell_type": "code",
   "execution_count": 26,
   "metadata": {},
   "outputs": [
    {
     "name": "stdout",
     "output_type": "stream",
     "text": [
      "John is in age dictionary\n"
     ]
    }
   ],
   "source": [
    "\n",
    "if \"John\" in age:\n",
    "    print(\"John is in age dictionary\")\n",
    "    del age[\"John\"]\n"
   ]
  },
  {
   "cell_type": "code",
   "execution_count": 27,
   "metadata": {},
   "outputs": [],
   "source": [
    "\n",
    "if \"John\" in age:\n",
    "    print(\"John is in age dictionary\")\n",
    "    del age[\"John\"]"
   ]
  },
  {
   "cell_type": "code",
   "execution_count": null,
   "metadata": {},
   "outputs": [],
   "source": []
  }
 ],
 "metadata": {
  "kernelspec": {
   "display_name": "Python 3",
   "language": "python",
   "name": "python3"
  },
  "language_info": {
   "codemirror_mode": {
    "name": "ipython",
    "version": 3
   },
   "file_extension": ".py",
   "mimetype": "text/x-python",
   "name": "python",
   "nbconvert_exporter": "python",
   "pygments_lexer": "ipython3",
   "version": "3.7.4"
  }
 },
 "nbformat": 4,
 "nbformat_minor": 2
}
