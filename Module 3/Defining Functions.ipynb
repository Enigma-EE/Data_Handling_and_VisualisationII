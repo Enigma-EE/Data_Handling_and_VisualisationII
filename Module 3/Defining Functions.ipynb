{
 "cells": [
  {
   "cell_type": "markdown",
   "metadata": {},
   "source": [
    "Consider a program where we are asked to reverse a string.\n",
    "What should the function be called? Probably reverse. What should we give\n",
    "to the function? A string would make sense. What does reverse compute? The\n",
    "reverse of the given string. What should it return? The reversed string. Now\n",
    "we are ready to write the function.\n"
   ]
  },
  {
   "cell_type": "markdown",
   "metadata": {},
   "source": [
    "## Passing Arguments and Returning a Value"
   ]
  },
  {
   "cell_type": "code",
   "execution_count": 1,
   "metadata": {},
   "outputs": [
    {
     "name": "stdout",
     "output_type": "stream",
     "text": [
      "Please enter a string: 321\n",
      "The reverse of 321 is 123\n"
     ]
    }
   ],
   "source": [
    "def reverse(s):\n",
    "    \n",
    "    # Use the Accumulator Pattern\n",
    "    result =\"\"\n",
    "    for c in s :\n",
    "        result = c + result\n",
    "    \n",
    "    return result\n",
    "\n",
    "t = input (\"Please enter a string: \")\n",
    "print (\"The reverse of\", t,\"is\", reverse(t))\n"
   ]
  },
  {
   "cell_type": "markdown",
   "metadata": {},
   "source": [
    "## Scope of Variables"
   ]
  },
  {
   "cell_type": "markdown",
   "metadata": {},
   "source": [
    "When writing functions it is important to understand scope. Scope refers to the area\n",
    "in a program where a variable is defined. Normally, a variable is defined after it has\n",
    "been assigned a value. You cannot reference a variable until it has been assigned a\n",
    "value.\n"
   ]
  },
  {
   "cell_type": "markdown",
   "metadata": {},
   "source": [
    "The following program has an run-time error in it. Where does\n",
    "the error occur? Be very specific.\n",
    "\n",
    "x=x+1\n",
    "\n",
    "x=6\n",
    "\n",
    "print (x)"
   ]
  },
  {
   "cell_type": "markdown",
   "metadata": {},
   "source": [
    "the function is defined at the top of the program and the function is called on the last line of the program. A function must be defined before it is used."
   ]
  },
  {
   "cell_type": "markdown",
   "metadata": {},
   "source": [
    "The use of the global keyword forces Python to use the variable in the enclosing scope even when it\n",
    "appears on the left hand side of an assignment statement."
   ]
  },
  {
   "cell_type": "code",
   "execution_count": 4,
   "metadata": {
    "scrolled": true
   },
   "outputs": [
    {
     "name": "stdout",
     "output_type": "stream",
     "text": [
      "Please enter a string: 6.1\n",
      "The reverse of 6.1 is 1.6\n",
      "Enter another string or press enter to quite: \n",
      "You reversed these strings: \n",
      "6.1\n"
     ]
    }
   ],
   "source": [
    "# The string concatenation operator can still be used \n",
    "# if the values variable is declared to be global in the reverse function\n",
    "\n",
    "def reverse(s):\n",
    "    global values\n",
    "    \n",
    "    # values.append(s)\n",
    "    values = value + [s]\n",
    "\n",
    "    \n",
    "    # Use the Accumulator Pattern\n",
    "    result = \"\"\n",
    "    for c in s:\n",
    "        result = c + result\n",
    "        \n",
    "    return result\n",
    "\n",
    "# the values variable is defined in the enclosing scope of the reverse function\n",
    "\n",
    "value = []\n",
    "\n",
    "t = input(\"Please enter a string: \")\n",
    "while t.strip() !=\"\":\n",
    "    print (\"The reverse of\", t,\"is\", reverse(t))\n",
    "    t = input(\"Enter another string or press enter to quite: \")\n",
    "    \n",
    "print(\"You reversed these strings: \")\n",
    "for val in values:\n",
    "    print(val)"
   ]
  },
  {
   "cell_type": "markdown",
   "metadata": {},
   "source": [
    "The final scope rule is the built-in scope. The built-in scope refers to those\n",
    "identifiers that are built-in to Python. For instance, the len function can be used\n",
    "anywhere in a program to find the length of a sequence."
   ]
  },
  {
   "cell_type": "markdown",
   "metadata": {},
   "source": [
    "The one gotcha with scope is that local scope trumps the enclosing scope, which\n",
    "trumps the global scope, which trumps the built-in scope. Hence the LEGB rule. First\n",
    "local scope is scanned for the existence of an identifier. If that identifier is not defined\n",
    "in the local scope, then the enclosing scope is consulted. Again, if the identifier is not\n",
    "found in enclosing scope then the global scope is consulted and finally the built-in\n",
    "scope. This does have some implications in our programs.\n"
   ]
  },
  {
   "cell_type": "markdown",
   "metadata": {},
   "source": [
    "##  The Run-Time Stack"
   ]
  },
  {
   "cell_type": "markdown",
   "metadata": {},
   "source": [
    "The run-time stack is a data structure that is used by Python to execute programs.\n",
    "Python needs this run-time stack to maintain information about the state of your\n",
    "program as it executes. A stack is a data structure that lets you push and pop elements.\n",
    "You push elements onto the top of the stack and you pop elements from the top of the\n",
    "stack. Think of a stack of trays. You take trays off the top of the stack in a cafeteria.\n",
    "You put clean trays back on the top of the stack. A stack is a first in/first out data\n",
    "structure. Stacks can be created to hold a variety of different types of elements. The\n",
    "run-time stack is a stack of activation records.\n"
   ]
  },
  {
   "cell_type": "markdown",
   "metadata": {},
   "source": [
    "An activation record is an area of memory that holds a copy of each variable that\n",
    "is defined in the local scope of a function while it is executing."
   ]
  },
  {
   "cell_type": "markdown",
   "metadata": {},
   "source": [
    "a variable is defined when it appears on the left-hand side of an equals\n",
    "sign. Formal parameters of a function are also in the local scope of the function."
   ]
  },
  {
   "cell_type": "markdown",
   "metadata": {},
   "source": [
    "**In this example code the reverse function is called repeatedly\n",
    "until the user enters an empty string (just presses enter) to end the program.\n",
    "Each call to reverse pushes an activation record on the stack.**"
   ]
  },
  {
   "cell_type": "code",
   "execution_count": 2,
   "metadata": {},
   "outputs": [
    {
     "name": "stdout",
     "output_type": "stream",
     "text": [
      "Please enter a string: 3.9\n",
      "The resverse of 3.9 is 9.3\n",
      "Enter another string or press enter to qiut: \n"
     ]
    }
   ],
   "source": [
    "def reverse(s):\n",
    "    \n",
    "    # use the Accumulator Pattern\n",
    "    result = \"\"\n",
    "    for c in s:\n",
    "        result = c + result\n",
    "        \n",
    "    return result\n",
    "\n",
    "t = input(\"Please enter a string: \")\n",
    "while t.strip() != \"\":\n",
    "    print(\"The resverse of\", t, \"is\", reverse(t))\n",
    "    t = input(\"Enter another string or press enter to qiut: \")"
   ]
  },
  {
   "cell_type": "markdown",
   "metadata": {},
   "source": [
    "## Predicate Functions"
   ]
  },
  {
   "cell_type": "markdown",
   "metadata": {},
   "source": [
    "A predicate is an answer to a question with respect to one or more objects. For\n",
    "instance, we can ask, Is x even?. If the value that x refers to is even, the answer\n",
    "would be Yes or True. If x refers to something that is not even then the answer would\n",
    "be False. In Python, if we write a function that returns True or False depending\n",
    "on its parameters, that function is called a Predicate function. Predicate functions\n",
    "are usually implemented using the Guess and Check pattern. "
   ]
  },
  {
   "cell_type": "markdown",
   "metadata": {},
   "source": [
    "**Assume we want to write a predicate function that returns True\n",
    "if one number evenly divides another and false otherwise. Here is one version\n",
    "of the code that looks like the old Guess and Check pattern.**\n"
   ]
  },
  {
   "cell_type": "code",
   "execution_count": 14,
   "metadata": {},
   "outputs": [
    {
     "name": "stdout",
     "output_type": "stream",
     "text": [
      "Please enter an integer: 2\n",
      "Please enter another integer: 2\n",
      "2 evenly divides 2\n"
     ]
    }
   ],
   "source": [
    "# bad code\n",
    "\n",
    "def evenlyDivides(x,y):\n",
    "    # returns ture if x evenly divides y\n",
    "    \n",
    "    dividesIt = False\n",
    "    \n",
    "    if y % x == 0:\n",
    "        dividesIt = True\n",
    "    return dividesIt\n",
    "\n",
    "\n",
    "x = int(input(\"Please enter an integer: \"))\n",
    "y = int(input(\"Please enter another integer: \"))\n",
    "\n",
    "if evenlyDivides(x,y):\n",
    "    print(x,\"evenly divides\", y)\n",
    "else:\n",
    "    print(x,\"dose not evenly devide\", y)"
   ]
  },
  {
   "cell_type": "markdown",
   "metadata": {},
   "source": [
    "Observing that the function returns True or False it could be rewritten to just return\n",
    "that value instead of using a variable"
   ]
  },
  {
   "cell_type": "code",
   "execution_count": 20,
   "metadata": {},
   "outputs": [
    {
     "name": "stdout",
     "output_type": "stream",
     "text": [
      "Please enter an integer: 9\n",
      "Please enter another integer: 7\n",
      "9 evenly divides 7\n"
     ]
    }
   ],
   "source": [
    "# bad code \n",
    "\n",
    "def evenlyDivides(x,y):\n",
    "    # returns ture if x evenly divides y\n",
    "    if y:\n",
    "        return True\n",
    "    \n",
    "    return False\n",
    "\n",
    "\n",
    "x = int(input(\"Please enter an integer: \"))\n",
    "y = int(input(\"Please enter another integer: \"))\n",
    "\n",
    "if evenlyDivides(x,y):\n",
    "    print(x,\"evenly divides\", y)\n",
    "else:\n",
    "    print(x,\"dose not evenly devide\", y)"
   ]
  },
  {
   "cell_type": "markdown",
   "metadata": {},
   "source": [
    "there is one more version of this function that is even more\n",
    "concise in its definition. Any time you have an if statement where you see if c is true\n",
    "then return true else return false it can be replaced by return c. You don’t need an if\n",
    "statement if all you want to do is return true or false based on one condition."
   ]
  },
  {
   "cell_type": "code",
   "execution_count": 22,
   "metadata": {},
   "outputs": [
    {
     "name": "stdout",
     "output_type": "stream",
     "text": [
      "Please enter an integer: 5\n",
      "Please enter another integer: 8\n",
      "5 dose not evenly devide 8\n"
     ]
    }
   ],
   "source": [
    "# good code\n",
    "\n",
    "def evenlyDivides(x,y):\n",
    "    return y % x == 0\n",
    "\n",
    "x = int(input(\"Please enter an integer: \"))\n",
    "y = int(input(\"Please enter another integer: \"))\n",
    "\n",
    "if evenlyDivides(x,y):\n",
    "    print(x,\"evenly divides\", y)\n",
    "else:\n",
    "    print(x,\"dose not evenly devide\", y)"
   ]
  },
  {
   "cell_type": "markdown",
   "metadata": {},
   "source": [
    "this\n",
    "pattern may only be applied to predicate functions where only one condition needs\n",
    "to be checked. If we were trying to return write a predicate function that needed to\n",
    "check multiple conditions, then the second or first form of evenlyDivides would be\n",
    "required.\n"
   ]
  },
  {
   "cell_type": "markdown",
   "metadata": {},
   "source": [
    "## Top-Down Design"
   ]
  },
  {
   "cell_type": "markdown",
   "metadata": {},
   "source": [
    "Functions may be called from either the main code of a program or from other\n",
    "functions. A function call is allowed any place an expression may be written in\n",
    "Python. One technique for dealing with the complexity of writing a complex program\n",
    "is called Top-Down Design. In top-down design the programmer decides what major\n",
    "actions the program must take and then rather than worry about the details of how it\n",
    "is done, the programmer just defines a function that will handle that later.\n"
   ]
  },
  {
   "cell_type": "markdown",
   "metadata": {},
   "source": [
    "Assume we want to implement a program that will ask the\n",
    "users to enter a list of integers and then will answer which pairs of integers are\n",
    "evenly divisible. For instance, assume that the list of integers 1, 2, 3, 4, 5, 6,\n",
    "8, and 12 were entered. The program should respond:\n",
    "\n",
    "1 is evenly divisible by 1\n",
    "\n",
    "2 is evenly divisible by 1 2\n",
    "\n",
    "3 is evenly divisible by 1 3\n",
    "\n",
    "4 is evenly divisible by 1 2 4\n",
    "\n",
    "5 is evenly divisible by 1 5\n",
    "\n",
    "6 is evenly divisible by 1236\n",
    "\n",
    "8 is evenly divisible by 1248\n",
    "\n",
    "12 is evenly divisible by 1 2 3 4 6 12\n",
    "\n",
    "To accomplish this, a top down approach would start with getting the input\n",
    "from the user.\n"
   ]
  },
  {
   "cell_type": "code",
   "execution_count": 1,
   "metadata": {},
   "outputs": [
    {
     "ename": "SyntaxError",
     "evalue": "invalid syntax (<ipython-input-1-8cb986e2453f>, line 1)",
     "output_type": "error",
     "traceback": [
      "\u001b[1;36m  File \u001b[1;32m\"<ipython-input-1-8cb986e2453f>\"\u001b[1;36m, line \u001b[1;32m1\u001b[0m\n\u001b[1;33m    def evenlyDivides[lst]:\u001b[0m\n\u001b[1;37m                     ^\u001b[0m\n\u001b[1;31mSyntaxError\u001b[0m\u001b[1;31m:\u001b[0m invalid syntax\n"
     ]
    }
   ],
   "source": [
    "\n",
    "    \n",
    "s = input(\"Please enter a list of ints separated by spaces: \")\n",
    "\n",
    "lst = []\n",
    "for x in s.split():\n",
    "    lst.append(int(x))\n",
    "    \n",
    "evenlyDivisible(lst)"
   ]
  },
  {
   "cell_type": "markdown",
   "metadata": {},
   "source": [
    "Without worrying further about how evenlyDivisible works we can just assume\n",
    "that it will work once we get around to defining it. Of course, the program won’t run\n",
    "until we define evenlyDivisible. But we can decide that evenlyDivisible must print a\n",
    "report to the screen the way the output is specified in Example 5.12. Later we can\n",
    "write the evenlyDivisible function. In a top-down design, when we write the evenly\u0002Divisible function we would look to see if we could somehow make the job simpler\n",
    "by calling another function to help with the implementation. The evenlyDividesfunc\u0002tion could then be defined. In this way the main code calls a function to help with\n",
    "its implementation. Likewise, the evenlyDivisible function calls a function to aid in\n",
    "its implementation. This top-down approach continues until simple functions with\n",
    "straightforward implementations are all that is left.\n"
   ]
  },
  {
   "cell_type": "markdown",
   "metadata": {},
   "source": [
    "## Bottom-Up Design\n",
    "\n"
   ]
  },
  {
   "cell_type": "markdown",
   "metadata": {},
   "source": [
    "In a Bottom-Up Design we would start by defining a simple function that might be\n",
    "useful in solving a more complex problem. For instance, the evenlyDivides function\n",
    "that checks to see if one value evenly divides another, could be useful in solving\n",
    "the problem presented in Example 5.12. Using a bottom-up approach a programmer\n",
    "would then see that evenlyDivides solves a slightly simpler problem and would look\n",
    "for a way to apply the evenlyDivides function to the problem we are solving.\n"
   ]
  },
  {
   "cell_type": "code",
   "execution_count": null,
   "metadata": {},
   "outputs": [],
   "source": []
  }
 ],
 "metadata": {
  "kernelspec": {
   "display_name": "Python 3",
   "language": "python",
   "name": "python3"
  },
  "language_info": {
   "codemirror_mode": {
    "name": "ipython",
    "version": 3
   },
   "file_extension": ".py",
   "mimetype": "text/x-python",
   "name": "python",
   "nbconvert_exporter": "python",
   "pygments_lexer": "ipython3",
   "version": "3.7.4"
  }
 },
 "nbformat": 4,
 "nbformat_minor": 2
}
