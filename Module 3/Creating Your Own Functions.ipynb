{
 "cells": [
  {
   "cell_type": "markdown",
   "metadata": {},
   "source": [
    "functions have a common structure. This structure is:\n",
    "\n",
    "function_name(parameter1, parameter2....)"
   ]
  },
  {
   "cell_type": "markdown",
   "metadata": {},
   "source": [
    "To use/call a function the structure is:\n",
    "\n",
    "returned_value = function_name(argument1, argument2....)\n",
    "\n",
    "For example, the input() function is declared in the Python documentation (https://docs.python.org/3/library/functions.html#input) as:\n",
    "\n",
    "input([prompt])\n",
    "\n",
    "If the prompt argument is present, it is written to standard output without a trailing newline. The function then reads a line from input, converts it to a string (stripping a trailing newline), and returns that.\n",
    "\n",
    "Note how that matches the call:\n",
    "\n",
    "value = input('Enter a number: ')\n",
    "\n",
    "'Enter a number:  ' is the prompt. The input() function will return a string version of what the user types (ignoring the newline that occurs when the user hits enter). That returned string is then assigned to the variable value.\n",
    "\n"
   ]
  },
  {
   "cell_type": "markdown",
   "metadata": {},
   "source": [
    "## Creating your own functions"
   ]
  },
  {
   "cell_type": "markdown",
   "metadata": {},
   "source": [
    "Why create functions? As you have seen, being able to use functions can save you a lot of time writing code to do some common action. So if you expect to do something more than once, it's worth considering writing a function to do it. The built-in functions are actions that a lot of programmers use and the libraries/modules contain functions that do common actions for special purposes (such as maths, random numbers, and working with CSV files) which are less likely to be used by everyone, but still very useful if you happen to be working with those domains.\n",
    "\n",
    "But your programs are unique to you and you may have some common actions that you do that may not have made it into the Python built-in functions or a module. When this occurs, it's time for you to build your own function."
   ]
  },
  {
   "cell_type": "markdown",
   "metadata": {},
   "source": [
    "### To create a Python function, follow the template:"
   ]
  },
  {
   "cell_type": "markdown",
   "metadata": {},
   "source": [
    "def function_name(param1, param2, ....):\n",
    "    # code to run"
   ]
  },
  {
   "cell_type": "markdown",
   "metadata": {},
   "source": [
    "As an example, let's create a function that takes two numbers and returns the maximum of the values.\n",
    "\n",
    "The first step is to come up with a name for this function. You should choose a function name that reflects what the function does. This function will determine the maximum value, so max would be a good choice.\n",
    "\n",
    "The next step is to work out names for the parameters. For this example, there are two parameters representing the two values to be compared. As they are numbers and don't represent anything in particular (like a height, velocity, age, etc), num1 and num2 will do.\n",
    "\n",
    "The final step is to write the code to be run. When doing this, it is important to identify whether or not the function should return a value. This function returns the maximum of the two numbers, so it will have a return statement."
   ]
  },
  {
   "cell_type": "code",
   "execution_count": 1,
   "metadata": {},
   "outputs": [],
   "source": [
    "def max(num1,num2):\n",
    "    if num1 >num2:\n",
    "        return num1\n",
    "    return num2"
   ]
  },
  {
   "cell_type": "markdown",
   "metadata": {},
   "source": [
    "Having defined your function, you can now call it:"
   ]
  },
  {
   "cell_type": "code",
   "execution_count": 3,
   "metadata": {},
   "outputs": [
    {
     "name": "stdout",
     "output_type": "stream",
     "text": [
      "6\n",
      "10\n"
     ]
    }
   ],
   "source": [
    "print(max(5,6))\n",
    "print(max(10,6.2))"
   ]
  },
  {
   "cell_type": "markdown",
   "metadata": {},
   "source": [
    "You must define your function in your code before you call it. For example, try running the following code in you Jupyter notebook:"
   ]
  },
  {
   "cell_type": "code",
   "execution_count": 4,
   "metadata": {},
   "outputs": [
    {
     "ename": "NameError",
     "evalue": "name 'min_value' is not defined",
     "output_type": "error",
     "traceback": [
      "\u001b[1;31m---------------------------------------------------------------------------\u001b[0m",
      "\u001b[1;31mNameError\u001b[0m                                 Traceback (most recent call last)",
      "\u001b[1;32m<ipython-input-4-56953aa37f0d>\u001b[0m in \u001b[0;36m<module>\u001b[1;34m\u001b[0m\n\u001b[1;32m----> 1\u001b[1;33m \u001b[0mprint\u001b[0m\u001b[1;33m(\u001b[0m\u001b[0mmin_value\u001b[0m\u001b[1;33m(\u001b[0m\u001b[1;36m5\u001b[0m\u001b[1;33m,\u001b[0m \u001b[1;36m6\u001b[0m\u001b[1;33m)\u001b[0m\u001b[1;33m)\u001b[0m\u001b[1;33m\u001b[0m\u001b[1;33m\u001b[0m\u001b[0m\n\u001b[0m\u001b[0;32m      2\u001b[0m \u001b[1;33m\u001b[0m\u001b[0m\n\u001b[0;32m      3\u001b[0m \u001b[1;32mdef\u001b[0m \u001b[0mmin_value\u001b[0m\u001b[1;33m(\u001b[0m\u001b[0mnum1\u001b[0m\u001b[1;33m,\u001b[0m \u001b[0mnum2\u001b[0m\u001b[1;33m)\u001b[0m\u001b[1;33m:\u001b[0m\u001b[1;33m\u001b[0m\u001b[1;33m\u001b[0m\u001b[0m\n\u001b[0;32m      4\u001b[0m     \u001b[1;32mif\u001b[0m \u001b[0mnum1\u001b[0m \u001b[1;33m<\u001b[0m \u001b[0mnum2\u001b[0m\u001b[1;33m:\u001b[0m\u001b[1;33m\u001b[0m\u001b[1;33m\u001b[0m\u001b[0m\n\u001b[0;32m      5\u001b[0m         \u001b[1;32mreturn\u001b[0m \u001b[0mnum1\u001b[0m\u001b[1;33m\u001b[0m\u001b[1;33m\u001b[0m\u001b[0m\n",
      "\u001b[1;31mNameError\u001b[0m: name 'min_value' is not defined"
     ]
    }
   ],
   "source": [
    "print(min_value(5, 6))\n",
    "\n",
    "def min_value(num1, num2):\n",
    "    if num1 < num2:\n",
    "        return num1\n",
    "    return num2"
   ]
  },
  {
   "cell_type": "markdown",
   "metadata": {},
   "source": [
    "When you use the import statement, such as: import csv, all of the functions from that module are added to your Python environment so that you can call them. You can also choose to import just certain functions if you don't need all of the functions in the module by using from m import f. For example:"
   ]
  },
  {
   "cell_type": "code",
   "execution_count": 5,
   "metadata": {},
   "outputs": [
    {
     "name": "stdout",
     "output_type": "stream",
     "text": [
      "8.0\n"
     ]
    }
   ],
   "source": [
    "from math import pow\n",
    "\n",
    "print(pow(2,3))"
   ]
  },
  {
   "cell_type": "markdown",
   "metadata": {},
   "source": [
    "This will just import the pow() function from the math module without importing the other functions."
   ]
  },
  {
   "cell_type": "code",
   "execution_count": null,
   "metadata": {},
   "outputs": [],
   "source": []
  }
 ],
 "metadata": {
  "kernelspec": {
   "display_name": "Python 3",
   "language": "python",
   "name": "python3"
  },
  "language_info": {
   "codemirror_mode": {
    "name": "ipython",
    "version": 3
   },
   "file_extension": ".py",
   "mimetype": "text/x-python",
   "name": "python",
   "nbconvert_exporter": "python",
   "pygments_lexer": "ipython3",
   "version": "3.7.4"
  }
 },
 "nbformat": 4,
 "nbformat_minor": 2
}
