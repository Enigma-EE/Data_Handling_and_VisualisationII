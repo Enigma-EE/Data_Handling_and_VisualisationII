{
 "cells": [
  {
   "cell_type": "markdown",
   "metadata": {},
   "source": [
    " Python has a CSV module that exists to make reading from CSV files easier."
   ]
  },
  {
   "cell_type": "markdown",
   "metadata": {},
   "source": [
    "The CSV module defines readers which allow you to read each row. There are two options:\n",
    "\n",
    "reader: reads a row and returns the values as a list of strings\n",
    "\n",
    "DictReader: read each row and return the values as an ordered dictionary where the first row is used as the keys."
   ]
  },
  {
   "cell_type": "markdown",
   "metadata": {},
   "source": [
    "An ordered dictionary is just like a dictionary, except that the order of the elements is important. For example, if it were important to you that the name element in your dictionary appeared before the age element, then an ordered dictionary would keep the ordering. Usually, with dictionaries, you don't care about the order the values are stored, but DictReader returns an ordered dictionary, in case it is important to your task. You access the ordered dictionary in the same way you access a dictionary.\n",
    "\n",
    "Choose the reader that matches how you want to store your data (list or dictionary)."
   ]
  },
  {
   "cell_type": "code",
   "execution_count": 1,
   "metadata": {},
   "outputs": [
    {
     "name": "stdout",
     "output_type": "stream",
     "text": [
      "['锘縩ame', 'age', 'postcode']\n",
      "['John', '52', '5002']\n",
      "['Ye', '18', '3005']\n",
      "['Siobhan', '34', '2356']\n"
     ]
    },
    {
     "data": {
      "text/plain": [
       "<function TextIOWrapper.close()>"
      ]
     },
     "execution_count": 1,
     "metadata": {},
     "output_type": "execute_result"
    }
   ],
   "source": [
    "# example with reader - creates a list for each row\n",
    "import csv\n",
    "dataFile = open('customer.csv')\n",
    "\n",
    "reader = csv.reader(dataFile)\n",
    "\n",
    "for row in reader:\n",
    "    print(row)\n",
    "    \n",
    "dataFile.close"
   ]
  },
  {
   "cell_type": "markdown",
   "metadata": {},
   "source": [
    "An even safer way of opening your data file is to use with-as."
   ]
  },
  {
   "cell_type": "code",
   "execution_count": 2,
   "metadata": {},
   "outputs": [
    {
     "name": "stdout",
     "output_type": "stream",
     "text": [
      "['锘縩ame', 'age', 'postcode']\n",
      "['John', '52', '5002']\n",
      "['Ye', '18', '3005']\n",
      "['Siobhan', '34', '2356']\n"
     ]
    }
   ],
   "source": [
    "# example using with-as\n",
    "import csv\n",
    "with open('customer.csv') as dataFile:\n",
    "    reader = csv.reader(dataFile)\n",
    "    for row in reader:\n",
    "        print(row)"
   ]
  },
  {
   "cell_type": "markdown",
   "metadata": {},
   "source": [
    "This has the same effect of opening your file, but if there is an error in reading or writing your file that causes your program to stop, Python automatically closes the file for you."
   ]
  },
  {
   "cell_type": "code",
   "execution_count": 3,
   "metadata": {},
   "outputs": [
    {
     "name": "stdout",
     "output_type": "stream",
     "text": [
      "OrderedDict([('锘縩ame', 'John'), ('age', '52'), ('postcode', '5002')])\n",
      "OrderedDict([('锘縩ame', 'Ye'), ('age', '18'), ('postcode', '3005')])\n",
      "OrderedDict([('锘縩ame', 'Siobhan'), ('age', '34'), ('postcode', '2356')])\n"
     ]
    }
   ],
   "source": [
    "# example with DicRader - creates an ordered dictionary for each row\n",
    "import csv\n",
    "\n",
    "with open('customer.csv') as dataFile:\n",
    "    dreader = csv.DictReader(dataFile)\n",
    "    for row in dreader:\n",
    "        print(row)"
   ]
  },
  {
   "cell_type": "markdown",
   "metadata": {},
   "source": [
    "## What is \\ufeff?"
   ]
  },
  {
   "cell_type": "markdown",
   "metadata": {},
   "source": [
    "Note that **\\ufeff** has appeared before the first header field in the example (you may not have this depending on what application you used to create your file). This character is a special indicator of how the file has been encoded. You can remove this by specifying the encoding when you open the file, but unfortunately there isn't any way of easily detecting how the file has been encoded. Whenever you are reading files, check that your data does not contain extra encoding information. In general, this will appear at the start of the file, so you'll pick it up if you look at the first data item in the first row. If you have some unusual values or errors in your data results, you should consider errors in reading the data in as a possible cause."
   ]
  },
  {
   "cell_type": "markdown",
   "metadata": {},
   "source": [
    "A quick online search of '\\ufeff' reveals that this is the start of a 'utf-8-sig' encoded file. utf-8 is common encoding from Microsoft products. You can add the encoding parameter to the open call to read in this encoding and remove the \\ufeff from the data."
   ]
  },
  {
   "cell_type": "code",
   "execution_count": 4,
   "metadata": {},
   "outputs": [
    {
     "name": "stdout",
     "output_type": "stream",
     "text": [
      "OrderedDict([('name', 'John'), ('age', '52'), ('postcode', '5002')])\n",
      "OrderedDict([('name', 'Ye'), ('age', '18'), ('postcode', '3005')])\n",
      "OrderedDict([('name', 'Siobhan'), ('age', '34'), ('postcode', '2356')])\n"
     ]
    }
   ],
   "source": [
    "# including encoding in the open()\n",
    "# example with DictRader - creates an ordered dictionary for each row\n",
    "\n",
    "import csv\n",
    "\n",
    "with open('customer.csv', encoding='utf-8-sig') as dataFile:\n",
    "    dreader = csv.DictReader(dataFile)\n",
    "    for row in dreader:\n",
    "        print(row)"
   ]
  },
  {
   "cell_type": "code",
   "execution_count": null,
   "metadata": {},
   "outputs": [],
   "source": []
  }
 ],
 "metadata": {
  "kernelspec": {
   "display_name": "Python 3",
   "language": "python",
   "name": "python3"
  },
  "language_info": {
   "codemirror_mode": {
    "name": "ipython",
    "version": 3
   },
   "file_extension": ".py",
   "mimetype": "text/x-python",
   "name": "python",
   "nbconvert_exporter": "python",
   "pygments_lexer": "ipython3",
   "version": "3.7.4"
  }
 },
 "nbformat": 4,
 "nbformat_minor": 2
}
