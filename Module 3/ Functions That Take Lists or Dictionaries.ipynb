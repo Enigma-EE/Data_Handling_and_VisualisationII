{
 "cells": [
  {
   "cell_type": "markdown",
   "metadata": {},
   "source": [
    "Lists and dictionaries can also be passed as the arguments to functions."
   ]
  },
  {
   "cell_type": "code",
   "execution_count": 1,
   "metadata": {},
   "outputs": [
    {
     "name": "stdout",
     "output_type": "stream",
     "text": [
      "-5\n"
     ]
    }
   ],
   "source": [
    "def min_list_value(numbers):\n",
    "    min = numbers[0]\n",
    "    for num in numbers:\n",
    "        if num < min:\n",
    "            min = num\n",
    "    return min\n",
    "\n",
    "numbers = [5,6,-5,0.2,8]\n",
    "\n",
    "min = min_list_value(numbers)\n",
    "print(min)"
   ]
  },
  {
   "cell_type": "code",
   "execution_count": 2,
   "metadata": {},
   "outputs": [
    {
     "name": "stdout",
     "output_type": "stream",
     "text": [
      "2\n"
     ]
    }
   ],
   "source": [
    "def count_adelaide(customers):\n",
    "    count = 0\n",
    "    for customer in customers:\n",
    "        if customer['postcode'] >=5000 and customer['postcode'] <6000:\n",
    "            count = count + 1\n",
    "    return count\n",
    "\n",
    "customers = [{'name':'John', 'age': 52, 'postcode': 5345}, \n",
    "            {'name':'Ye', 'age': 22, 'postcode': 1234},\n",
    "            {'name':'Siobhan', 'age': 67, 'postcode': 5323}]\n",
    "\n",
    "print(count_adelaide(customers))"
   ]
  },
  {
   "cell_type": "markdown",
   "metadata": {},
   "source": [
    "## Side effects in functions"
   ]
  },
  {
   "cell_type": "markdown",
   "metadata": {},
   "source": [
    "When you pass an argument to a function, will the data you passed be changed? For example, what would happen if you were to change the values of the numbers in this function?"
   ]
  },
  {
   "cell_type": "code",
   "execution_count": 1,
   "metadata": {},
   "outputs": [
    {
     "name": "stdout",
     "output_type": "stream",
     "text": [
      "outside mystery, num= 5\n",
      "inside mystery, num= 6\n",
      "outside mystery, num= 5\n"
     ]
    }
   ],
   "source": [
    "def mystery(num):\n",
    "    num = num+1\n",
    "    print('inside mystery, num=',num)\n",
    "    \n",
    "num = 5\n",
    "print('outside mystery, num=',num)\n",
    "mystery(num)\n",
    "print('outside mystery, num=',num)"
   ]
  },
  {
   "cell_type": "markdown",
   "metadata": {},
   "source": [
    "If you pass an immutable type to a function, then you can only update it using assignment, '='. As the type itself is immutable, Python will make a new local variable for the result. Even if it uses the same name, the local variable will be used within the function and will only be available within the function. So when num = num+1 is run, a new variable called num, local to and only available in the function, is created. Any changes to this new variable do not affect any variables outside of the function (even if they have the same name)."
   ]
  },
  {
   "cell_type": "markdown",
   "metadata": {},
   "source": [
    "Compare this to list changes (a mutable type):"
   ]
  },
  {
   "cell_type": "code",
   "execution_count": 5,
   "metadata": {},
   "outputs": [
    {
     "name": "stdout",
     "output_type": "stream",
     "text": [
      "outside mystery, list= [5, 4, 3, 2, 1]\n",
      "inside mystery, list= [5, 4, 3, 2, 1, 0]\n",
      "outside mystery, list= [5, 4, 3, 2, 1, 0]\n"
     ]
    }
   ],
   "source": [
    "def mystery_list(list):\n",
    "    list.append(0)\n",
    "    print('inside mystery, list=',list)\n",
    "    \n",
    "list = [5,4,3,2,1]\n",
    "print('outside mystery, list=',list)\n",
    "mystery_list(list)\n",
    "print('outside mystery, list=',list)"
   ]
  },
  {
   "cell_type": "markdown",
   "metadata": {},
   "source": [
    "What is the difference? Why did the list get changed but num didn't? Notice that in the mystery_list function there is no assignment. There is no '='. The use of '=' creates a new variable local to the function."
   ]
  },
  {
   "cell_type": "code",
   "execution_count": 7,
   "metadata": {},
   "outputs": [
    {
     "name": "stdout",
     "output_type": "stream",
     "text": [
      "5 6\n",
      "[1, 2, 3] [4, 5, 6]\n"
     ]
    }
   ],
   "source": [
    "def swap(num1, num2):\n",
    "    temp = num1\n",
    "    num1=num2\n",
    "    num2=temp\n",
    "    \n",
    "    \n",
    "def swap_list(list1, list2):\n",
    "    temp = list1\n",
    "    list1=list2\n",
    "    list2=temp\n",
    "    \n",
    "num1=5\n",
    "num2=6\n",
    "swap(num1,num2)\n",
    "print(num1, num2)\n",
    "\n",
    "list1=[1,2,3]\n",
    "list2=[4,5,6]\n",
    "swap_list(list1,list2)\n",
    "print(list1,list2)"
   ]
  },
  {
   "cell_type": "markdown",
   "metadata": {},
   "source": [
    "That clearly doesn't do what you want. The assignment in the functions means that the local variables for num1, num2, list1, list2 are changed and the variables with the same names outside the function are not. In general, a function should only access values from the parameters or change only mutable parameters using the functions (rather than assignment).\n",
    "\n",
    "Fortunately, you generally wouldn't need to use a function to swap values like this in Python. You can just list the names of the variables or objects you want to swap and reassign them."
   ]
  },
  {
   "cell_type": "code",
   "execution_count": 8,
   "metadata": {},
   "outputs": [
    {
     "name": "stdout",
     "output_type": "stream",
     "text": [
      "6 5\n",
      "[4, 5, 6] [1, 2, 3]\n"
     ]
    }
   ],
   "source": [
    "num1=5\n",
    "num2=6\n",
    "num1,num2 = num2,num1\n",
    "print(num1, num2)\n",
    "\n",
    "list1=[1,2,3]\n",
    "list2=[4,5,6]\n",
    "list1,list2 = list2,list1\n",
    "print(list1,list2)"
   ]
  },
  {
   "cell_type": "code",
   "execution_count": 8,
   "metadata": {},
   "outputs": [
    {
     "ename": "NameError",
     "evalue": "name 'num1' is not defined",
     "output_type": "error",
     "traceback": [
      "\u001b[1;31m---------------------------------------------------------------------------\u001b[0m",
      "\u001b[1;31mNameError\u001b[0m                                 Traceback (most recent call last)",
      "\u001b[1;32m<ipython-input-8-137df07b39f8>\u001b[0m in \u001b[0;36m<module>\u001b[1;34m\u001b[0m\n\u001b[0;32m      4\u001b[0m     \u001b[0mnum2\u001b[0m\u001b[1;33m=\u001b[0m\u001b[0mdouble\u001b[0m\u001b[1;33m(\u001b[0m\u001b[0mnum1\u001b[0m\u001b[1;33m)\u001b[0m\u001b[1;33m\u001b[0m\u001b[1;33m\u001b[0m\u001b[0m\n\u001b[0;32m      5\u001b[0m \u001b[1;33m\u001b[0m\u001b[0m\n\u001b[1;32m----> 6\u001b[1;33m \u001b[0mprint\u001b[0m\u001b[1;33m(\u001b[0m\u001b[0mnum1\u001b[0m\u001b[1;33m,\u001b[0m\u001b[0mnum2\u001b[0m\u001b[1;33m)\u001b[0m\u001b[1;33m\u001b[0m\u001b[1;33m\u001b[0m\u001b[0m\n\u001b[0m",
      "\u001b[1;31mNameError\u001b[0m: name 'num1' is not defined"
     ]
    }
   ],
   "source": [
    "def double(num1):\n",
    "    num1*2\n",
    "    num1=7\n",
    "    num2=double(num1)\n",
    "\n",
    "print(num1,num2)"
   ]
  },
  {
   "cell_type": "code",
   "execution_count": 10,
   "metadata": {},
   "outputs": [
    {
     "name": "stdout",
     "output_type": "stream",
     "text": [
      "7 None\n"
     ]
    }
   ],
   "source": [
    "def double(num1):\n",
    "    num1*2\n",
    "\n",
    "num1=7\n",
    "num2=double(num1)\n",
    "print(num1,num2)"
   ]
  },
  {
   "cell_type": "code",
   "execution_count": null,
   "metadata": {},
   "outputs": [],
   "source": []
  }
 ],
 "metadata": {
  "kernelspec": {
   "display_name": "Python 3",
   "language": "python",
   "name": "python3"
  },
  "language_info": {
   "codemirror_mode": {
    "name": "ipython",
    "version": 3
   },
   "file_extension": ".py",
   "mimetype": "text/x-python",
   "name": "python",
   "nbconvert_exporter": "python",
   "pygments_lexer": "ipython3",
   "version": "3.7.4"
  }
 },
 "nbformat": 4,
 "nbformat_minor": 2
}
