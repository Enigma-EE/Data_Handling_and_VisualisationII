{
 "cells": [
  {
   "cell_type": "markdown",
   "metadata": {},
   "source": [
    "Data science questions are generally not about small amounts of data. Instead, you're usually looking for trends and relationships over large amounts of data of differing types. These data sets are usually in files or databases and you need to read the data into your program."
   ]
  },
  {
   "cell_type": "markdown",
   "metadata": {},
   "source": [
    "So far, you've only looked at two ways of getting data into your Python program:\n",
    "\n",
    "variables: data = 5\n",
    "\n",
    "input( ): data = int(input(\"Enter a number: \"))\n",
    "\n",
    "In this section, you'll learn how to get your data directly from a file."
   ]
  },
  {
   "cell_type": "markdown",
   "metadata": {},
   "source": [
    "There are two main formats that files come in: binary and text.\n",
    "\n",
    "Text files can be read by people. If you open up a text file in any editor, you will be able to read its contents.\n",
    "\n",
    "Binary files may also contain words, numbers, and other readable elements, but they are represented or encoded using patterns of 0s and 1s and are designed to be read by computer programs rather than humans.\n",
    "\n",
    "Some files, such as PDF and Word, combine both text and binary parts.\n",
    "\n",
    "Although it is possible to read binary files, it is unlikely that you will want to try to work out how to convert the encoded data into Python types. So your first step is to get it into text format. Many applications will give you the option to save a file as a text file. If your data is not in a text format, see if you can convert it or save it into a text format.\n",
    "\n",
    "Text files store your data into a readable form, but you still have to know what data is in the file and how it is laid out in order to use the data. For example, one popular text data format is CSV. This stands for 'comma-separated values' and as its name implies, you will find that the data is stored as values with commas separating them. CSV files are often one of the options you can choose when saving a spreadsheet."
   ]
  },
  {
   "cell_type": "code",
   "execution_count": null,
   "metadata": {},
   "outputs": [],
   "source": []
  }
 ],
 "metadata": {
  "kernelspec": {
   "display_name": "Python 3",
   "language": "python",
   "name": "python3"
  },
  "language_info": {
   "codemirror_mode": {
    "name": "ipython",
    "version": 3
   },
   "file_extension": ".py",
   "mimetype": "text/x-python",
   "name": "python",
   "nbconvert_exporter": "python",
   "pygments_lexer": "ipython3",
   "version": "3.7.4"
  }
 },
 "nbformat": 4,
 "nbformat_minor": 2
}
