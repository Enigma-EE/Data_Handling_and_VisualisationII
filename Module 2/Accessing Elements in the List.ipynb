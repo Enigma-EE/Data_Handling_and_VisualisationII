{
 "cells": [
  {
   "cell_type": "markdown",
   "metadata": {},
   "source": [
    "To access the elements contained in a list via their position within the list, you can use square brackets. The number within the square brackets is called the index. The first element in a list is [0] and the last one is [n-1] where n is the number of elements in the list."
   ]
  },
  {
   "cell_type": "code",
   "execution_count": 1,
   "metadata": {},
   "outputs": [
    {
     "data": {
      "text/plain": [
       "'zero'"
      ]
     },
     "execution_count": 1,
     "metadata": {},
     "output_type": "execute_result"
    }
   ],
   "source": [
    "#access list element example \n",
    "listNumbers = ['zero', 1, 2, 3, 'four', 5.0, 'six', 7, 8.0, 9]\n",
    "listNumbers [0]"
   ]
  },
  {
   "cell_type": "code",
   "execution_count": 3,
   "metadata": {},
   "outputs": [
    {
     "name": "stdout",
     "output_type": "stream",
     "text": [
      "four 9\n"
     ]
    }
   ],
   "source": [
    "#access list element example\n",
    "print(listNumbers[4],listNumbers[9])"
   ]
  },
  {
   "cell_type": "markdown",
   "metadata": {},
   "source": [
    "Slicing gets a part of the list. The slice syntax is [start:stop: step] and returns a subsequence of the list as a new list:\n",
    "\n",
    "**start** index is optional and when it is omitted, the default value is 0.\n",
    "\n",
    "**stop** index is optional and the default value is the length of the list.\n",
    "\n",
    "**step** is the space between the values. This value is optional and the default value is 1. A negative step reverses the direction of the iteration.\n",
    "\n",
    "Does this remind you of the range() function? The start:stop:step format is common when you're working with indexes of a sequence in Python."
   ]
  },
  {
   "cell_type": "code",
   "execution_count": 5,
   "metadata": {},
   "outputs": [
    {
     "data": {
      "text/plain": [
       "['zero', 1, 2]"
      ]
     },
     "execution_count": 5,
     "metadata": {},
     "output_type": "execute_result"
    }
   ],
   "source": [
    "#slicing example \n",
    "# get items starting at 0 and stopping at, not including, 3\n",
    "listNumbers[0:3]"
   ]
  },
  {
   "cell_type": "code",
   "execution_count": 6,
   "metadata": {},
   "outputs": [
    {
     "name": "stdout",
     "output_type": "stream",
     "text": [
      "['zero', 1, 2]\n"
     ]
    }
   ],
   "source": [
    "#Omit start by default starts in the position 0\n",
    "print(listNumbers[:3])"
   ]
  },
  {
   "cell_type": "code",
   "execution_count": 7,
   "metadata": {},
   "outputs": [
    {
     "data": {
      "text/plain": [
       "[3, 'four', 5.0, 'six', 7, 8.0, 9]"
      ]
     },
     "execution_count": 7,
     "metadata": {},
     "output_type": "execute_result"
    }
   ],
   "source": [
    "#Omit stop by default goes until the length of the list  \n",
    "listNumbers[3:]"
   ]
  },
  {
   "cell_type": "code",
   "execution_count": 8,
   "metadata": {},
   "outputs": [
    {
     "name": "stdout",
     "output_type": "stream",
     "text": [
      "length of the list is 10\n"
     ]
    },
    {
     "data": {
      "text/plain": [
       "[3, 'four', 5.0, 'six', 7, 8.0, 9]"
      ]
     },
     "execution_count": 8,
     "metadata": {},
     "output_type": "execute_result"
    }
   ],
   "source": [
    "length = len(listNumbers)\n",
    "print('length of the list is', length)\n",
    "listNumbers[3:length]"
   ]
  },
  {
   "cell_type": "code",
   "execution_count": 10,
   "metadata": {},
   "outputs": [
    {
     "name": "stdout",
     "output_type": "stream",
     "text": [
      "listNumbers[-1] =  9\n",
      "listNumbers[-2] =  8.0\n"
     ]
    }
   ],
   "source": [
    "# using a negative value\n",
    "# recall that negative values count from the end\n",
    "print('listNumbers[-1] = ', listNumbers[-1])\n",
    "print('listNumbers[-2] = ', listNumbers[-2])"
   ]
  },
  {
   "cell_type": "code",
   "execution_count": 11,
   "metadata": {},
   "outputs": [
    {
     "data": {
      "text/plain": [
       "['zero', 1, 2, 3, 'four', 5.0, 'six', 7, 8.0]"
      ]
     },
     "execution_count": 11,
     "metadata": {},
     "output_type": "execute_result"
    }
   ],
   "source": [
    "#using a negative value with start \n",
    "#get all the elements except the last one \n",
    "listNumbers[0:-1]"
   ]
  },
  {
   "cell_type": "code",
   "execution_count": 12,
   "metadata": {},
   "outputs": [
    {
     "data": {
      "text/plain": [
       "[7, 8.0, 9]"
      ]
     },
     "execution_count": 12,
     "metadata": {},
     "output_type": "execute_result"
    }
   ],
   "source": [
    "#using a negative value in start \n",
    "#get the last three elements \n",
    "listNumbers[-3:]"
   ]
  },
  {
   "cell_type": "code",
   "execution_count": 13,
   "metadata": {},
   "outputs": [
    {
     "data": {
      "text/plain": [
       "[9, 8.0, 7, 'six', 5.0, 'four', 3, 2, 1, 'zero']"
      ]
     },
     "execution_count": 13,
     "metadata": {},
     "output_type": "execute_result"
    }
   ],
   "source": [
    "#using a negative value -1 for the step\n",
    "#reverse the list \n",
    "listNumbers[::-1]"
   ]
  },
  {
   "cell_type": "code",
   "execution_count": 14,
   "metadata": {},
   "outputs": [
    {
     "data": {
      "text/plain": [
       "[9, 8.0, 7, 'six', 5.0, 'four', 3, 2, 1]"
      ]
     },
     "execution_count": 14,
     "metadata": {},
     "output_type": "execute_result"
    }
   ],
   "source": [
    "# note that when the step is negative, if the start:stop aren't specified, \n",
    "# the start becomes the end by default and the stop becomes the beginning\n",
    "# this is equivalent to\n",
    "listNumbers[10:0:-1]"
   ]
  },
  {
   "cell_type": "code",
   "execution_count": 15,
   "metadata": {},
   "outputs": [
    {
     "data": {
      "text/plain": [
       "['zero', 2, 'four', 'six', 8.0]"
      ]
     },
     "execution_count": 15,
     "metadata": {},
     "output_type": "execute_result"
    }
   ],
   "source": [
    "#Slicing with two steps\n",
    "listNumbers[0:10:2]"
   ]
  },
  {
   "cell_type": "markdown",
   "metadata": {},
   "source": [
    "write the code that will take the list and slice it to extract every third element from the end to the beginning of the list."
   ]
  },
  {
   "cell_type": "code",
   "execution_count": 17,
   "metadata": {},
   "outputs": [
    {
     "data": {
      "text/plain": [
       "[9, 'six', 3, 'zero']"
      ]
     },
     "execution_count": 17,
     "metadata": {},
     "output_type": "execute_result"
    }
   ],
   "source": [
    "listNumbers[::-3]"
   ]
  },
  {
   "cell_type": "code",
   "execution_count": null,
   "metadata": {},
   "outputs": [],
   "source": []
  }
 ],
 "metadata": {
  "kernelspec": {
   "display_name": "Python 3",
   "language": "python",
   "name": "python3"
  },
  "language_info": {
   "codemirror_mode": {
    "name": "ipython",
    "version": 3
   },
   "file_extension": ".py",
   "mimetype": "text/x-python",
   "name": "python",
   "nbconvert_exporter": "python",
   "pygments_lexer": "ipython3",
   "version": "3.7.4"
  }
 },
 "nbformat": 4,
 "nbformat_minor": 2
}
