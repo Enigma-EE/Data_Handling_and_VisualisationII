{
 "cells": [
  {
   "cell_type": "markdown",
   "metadata": {},
   "source": [
    "Often an action needs to be done more than once in a program. For example, we might want to ask the user multiple times for an input. We could do this by just typing the line multiple times."
   ]
  },
  {
   "cell_type": "code",
   "execution_count": 1,
   "metadata": {},
   "outputs": [
    {
     "name": "stdout",
     "output_type": "stream",
     "text": [
      "Enter a name:EE\n",
      "EE\n",
      "Enter a name:EE\n",
      "EE\n",
      "Enter a name:EE\n",
      "EE\n"
     ]
    }
   ],
   "source": [
    "name = input(\"Enter a name:\")\n",
    "print(name)\n",
    "name = input(\"Enter a name:\")\n",
    "print(name)\n",
    "name = input(\"Enter a name:\")\n",
    "print(name)"
   ]
  },
  {
   "cell_type": "markdown",
   "metadata": {},
   "source": [
    "## 'For' loop statements"
   ]
  },
  {
   "cell_type": "code",
   "execution_count": 3,
   "metadata": {},
   "outputs": [
    {
     "name": "stdout",
     "output_type": "stream",
     "text": [
      "1\n",
      "2\n",
      "3\n",
      "4\n",
      "5\n"
     ]
    }
   ],
   "source": [
    "#This code prints the first 5 numbers starting with the number 1\n",
    "for i in 1,2,3,4,5:\n",
    "    print(i)"
   ]
  },
  {
   "cell_type": "markdown",
   "metadata": {},
   "source": [
    "Creating a sequence using the range( ) function\n",
    "The built-in function range() comes in handy when you want to generate a sequence of numbers (an arithmetic progression).\n",
    "\n",
    "Range takes 3 values: the start of the range, the end of the range, and the increment (or step) between values. All of these are optional other than the end point. If not specified, the start is 0 and the step is 1. For example, range(10) generates the list [0, 1, 2, 3, 4, 5, 6, 7, 8, 9]\n",
    "\n",
    "It is possible to let the range start at another number, or to specify a different increment (even negative).\n",
    "\n",
    "Examples of range( ) function"
   ]
  },
  {
   "cell_type": "code",
   "execution_count": 6,
   "metadata": {},
   "outputs": [
    {
     "name": "stdout",
     "output_type": "stream",
     "text": [
      "range(0, 20)\n",
      "range(15, 20)\n",
      "range(0, 22, 3)\n",
      "range(-20, -201, -10)\n",
      "range(200, -201, -10)\n"
     ]
    }
   ],
   "source": [
    "sequence1 = range(20) # generate 20 values starting by the number 0\n",
    "sequence2 = range(15,20) # generates 15, 16, 17, 18, and 19 \n",
    "sequence3 = range(0,22,3) #generates 0, 3, 6, 9, ...,21\n",
    "sequence4 = range(-20,-201,-10) #generates -20, -30, -40, ...,200  \n",
    "sequence5 = range(200,-201,-10) #generates -20, -30, -40, ...,200  \n",
    "print(sequence1)\n",
    "print(sequence2)\n",
    "print(sequence3)\n",
    "print(sequence4)\n",
    "print(sequence5)"
   ]
  },
  {
   "cell_type": "code",
   "execution_count": 7,
   "metadata": {},
   "outputs": [
    {
     "name": "stdout",
     "output_type": "stream",
     "text": [
      "0\n",
      "1\n",
      "2\n",
      "3\n",
      "4\n"
     ]
    }
   ],
   "source": [
    "#This code prints the first 5 numbers\n",
    "#starting by the number 0 using the range() function to generate a sequence\n",
    "\n",
    "for i in range(5):\n",
    "    print(i)"
   ]
  },
  {
   "cell_type": "code",
   "execution_count": 8,
   "metadata": {},
   "outputs": [
    {
     "name": "stdout",
     "output_type": "stream",
     "text": [
      "H\n",
      "e\n",
      "l\n",
      "l\n",
      "o\n",
      "!\n"
     ]
    }
   ],
   "source": [
    "# This code prints all the charaters in a string\n",
    "\n",
    "str1 = 'Hello!'\n",
    "for s in str1:\n",
    "    print(s)\n"
   ]
  },
  {
   "cell_type": "code",
   "execution_count": 10,
   "metadata": {},
   "outputs": [
    {
     "name": "stdout",
     "output_type": "stream",
     "text": [
      "Apples APPLES\n",
      "Pears PEARS\n",
      "Orange ORANGE\n",
      "Mandrains MANDRAINS\n",
      "Limes LIMES\n",
      "Nectarines NECTARINES\n",
      "Apricots APRICOTS\n",
      "Bananas BANANAS\n",
      "Strawberries STRAWBERRIES\n",
      "Watermelon WATERMELON\n",
      "Plums PLUMS\n"
     ]
    }
   ],
   "source": [
    "# This code prints all the elements in the list of strings(fruits)\n",
    "# and print each element in capital letters\n",
    "\n",
    "#List of fruits\n",
    "Fruits = ['Apples','Pears', 'Orange','Mandrains','Limes','Nectarines','Apricots',\n",
    "         'Bananas', 'Strawberries', 'Watermelon','Plums']\n",
    "\n",
    "for fruit in Fruits:\n",
    "    print(fruit,fruit.upper())"
   ]
  },
  {
   "cell_type": "markdown",
   "metadata": {},
   "source": [
    "As you can see, if you can create any kind of sequence, you can use 'for in' to iterate through all of the items in your sequence."
   ]
  },
  {
   "cell_type": "code",
   "execution_count": 13,
   "metadata": {},
   "outputs": [
    {
     "name": "stdout",
     "output_type": "stream",
     "text": [
      "20 value starting with 0\n",
      "0\n",
      "1\n",
      "2\n",
      "3\n",
      "4\n",
      "5\n",
      "6\n",
      "7\n",
      "8\n",
      "9\n",
      "10\n",
      "11\n",
      "12\n",
      "13\n",
      "14\n",
      "15\n",
      "16\n",
      "17\n",
      "18\n",
      "19\n",
      "sequence 15,16,17,18 and 19\n",
      "15\n",
      "16\n",
      "17\n",
      "18\n",
      "19\n",
      "sequence 0, 3, 6, 9, ...,21\n",
      "0\n",
      "3\n",
      "6\n",
      "9\n",
      "12\n",
      "15\n",
      "18\n",
      "21\n",
      "squence -20, -30, -40, ...,-200\n",
      "-10\n",
      "-20\n",
      "-30\n",
      "-40\n",
      "-50\n",
      "-60\n",
      "-70\n",
      "-80\n",
      "-90\n",
      "-100\n",
      "-110\n",
      "-120\n",
      "-130\n",
      "-140\n",
      "-150\n",
      "-160\n",
      "-170\n",
      "-180\n",
      "-190\n",
      "-200\n",
      "sequence 200, 190, 180, ..., -200\n",
      "200\n",
      "190\n",
      "180\n",
      "170\n",
      "160\n",
      "150\n",
      "140\n",
      "130\n",
      "120\n",
      "110\n",
      "100\n",
      "90\n",
      "80\n",
      "70\n",
      "60\n",
      "50\n",
      "40\n",
      "30\n",
      "20\n",
      "10\n",
      "0\n",
      "-10\n",
      "-20\n",
      "-30\n",
      "-40\n",
      "-50\n",
      "-60\n",
      "-70\n",
      "-80\n",
      "-90\n",
      "-100\n",
      "-110\n",
      "-120\n",
      "-130\n",
      "-140\n",
      "-150\n",
      "-160\n",
      "-170\n",
      "-180\n",
      "-190\n",
      "-200\n"
     ]
    }
   ],
   "source": [
    "\n",
    "print('20 value starting with 0')\n",
    "sequence1 = range(20) # generate 20 values starting with the number 0\n",
    "for i in sequence1:\n",
    "    print(i)\n",
    "\n",
    "print('sequence 15,16,17,18 and 19')\n",
    "sequence2 = range(15,20) # generates 15, 16, 17, 18, and 19\n",
    "for i in sequence2:\n",
    "    print(i)\n",
    "\n",
    "print(\"sequence 0, 3, 6, 9, ...,21\") \n",
    "sequence3 = range(0,22,3) #generates 0, 3, 6, 9, ...,21\n",
    "for i in sequence3:\n",
    "    print(i)\n",
    "\n",
    "print(\"squence -20, -30, -40, ...,-200\")\n",
    "sequence4 = range(-10,-201,-10) #generates -20, -30, -40, ...,-200\n",
    "for i in sequence4:\n",
    "    print(i)\n",
    "\n",
    "print('sequence 200, 190, 180, ..., -200')\n",
    "suquence5 = range(200,-201,-10) # generates 200, 190, 180, ..., -200\n",
    "for i in sequence5:\n",
    "      print(i)"
   ]
  },
  {
   "cell_type": "markdown",
   "metadata": {},
   "source": [
    "The for statement is a second looping statement introduced in this book. It can be\n",
    "used to iterate through a container object. The syntax of the for statement begins with a line that consists of the for keyword, followed by an\n",
    "identifier, and then the in keyword, and then a container object, and finally a colon.\n",
    "After the for line is an indented statement block, which is executed repeatedly, once\n",
    "for each element in the collection object. In each iteration, the current element of the\n",
    "collection is assigned to the identifier after the for keyword, which serves as the loop\n",
    "variable. For example, the following code iterates through a tuple, printing out each\n",
    "element:"
   ]
  },
  {
   "cell_type": "code",
   "execution_count": 15,
   "metadata": {},
   "outputs": [
    {
     "name": "stdout",
     "output_type": "stream",
     "text": [
      "1\n",
      "a\n",
      "True\n"
     ]
    }
   ],
   "source": [
    "t = (1,'a',True)\n",
    "for x in t:\n",
    "    print(x)"
   ]
  },
  {
   "cell_type": "code",
   "execution_count": 16,
   "metadata": {},
   "outputs": [
    {
     "name": "stdout",
     "output_type": "stream",
     "text": [
      "1\n",
      "2\n",
      "3\n"
     ]
    }
   ],
   "source": [
    "#An equivalent loop using the while statement is\n",
    "t = (1,2,3)\n",
    "i = 0\n",
    "while i<len(t):\n",
    "    x=t[i]\n",
    "    print(x)\n",
    "    i += 1"
   ]
  },
  {
   "cell_type": "markdown",
   "metadata": {},
   "source": [
    "In the example above, the variable i is used as the loop variable. It iterates through\n",
    "the values 0, 1,...,len(t). At each iteration, a corresponding element t[i] is taken\n",
    "from the container t, and assigned to the variable x. This type of iteration through\n",
    "a container object is called traversal. Compared with the while loop, the for loop\n",
    "is more convenient for performing tuple traversal, since using a for statement, the\n",
    "additional loop variable x is unnecessary. Container objects that can be iterated\n",
    "through using a for loop are also called iterable objects. Tuples are iterable."
   ]
  },
  {
   "cell_type": "markdown",
   "metadata": {},
   "source": [
    "The break and continue statements can also be applied to a forloop, with the same\n",
    "interpretation as in a while loop: the break statement terminates the loop, and the\n",
    "continue statement skips the rest of the loop body and starts the next loop iteration"
   ]
  },
  {
   "cell_type": "code",
   "execution_count": 17,
   "metadata": {},
   "outputs": [
    {
     "name": "stdout",
     "output_type": "stream",
     "text": [
      "1\n",
      "2\n",
      "3\n",
      "4\n",
      "5\n"
     ]
    }
   ],
   "source": [
    "t = (1,2,3,4,5,7,10)\n",
    "for i in t:\n",
    "    if i > 5:\n",
    "        break\n",
    "    print(i)"
   ]
  },
  {
   "cell_type": "code",
   "execution_count": 19,
   "metadata": {},
   "outputs": [
    {
     "name": "stdout",
     "output_type": "stream",
     "text": [
      "1\n",
      "2\n",
      "3\n",
      "done\n"
     ]
    }
   ],
   "source": [
    "t = (1,2,3)\n",
    "for x in t:\n",
    "    print(x)\n",
    "else:\n",
    "    print('done')"
   ]
  },
  {
   "cell_type": "code",
   "execution_count": 20,
   "metadata": {},
   "outputs": [
    {
     "name": "stdout",
     "output_type": "stream",
     "text": [
      "1\n"
     ]
    }
   ],
   "source": [
    "t = (1,2,3)\n",
    "for x in t:\n",
    "    print(x)\n",
    "    break\n",
    "else:\n",
    "    print('done')"
   ]
  },
  {
   "cell_type": "code",
   "execution_count": null,
   "metadata": {},
   "outputs": [],
   "source": [
    "import random\n",
    "\n",
    "limit = 501\n",
    "value = random.randint(60,126)\n",
    "x = 0\n",
    "\n",
    "while x < 501:\n",
    "    if x:\n",
    "        value = random.randint(60,126)\n",
    "        print('blood glucose reading is', value)\n",
    "        print('sample ', x)\n",
    "    x += 1"
   ]
  }
 ],
 "metadata": {
  "kernelspec": {
   "display_name": "Python 3",
   "language": "python",
   "name": "python3"
  },
  "language_info": {
   "codemirror_mode": {
    "name": "ipython",
    "version": 3
   },
   "file_extension": ".py",
   "mimetype": "text/x-python",
   "name": "python",
   "nbconvert_exporter": "python",
   "pygments_lexer": "ipython3",
   "version": "3.7.4"
  }
 },
 "nbformat": 4,
 "nbformat_minor": 2
}
