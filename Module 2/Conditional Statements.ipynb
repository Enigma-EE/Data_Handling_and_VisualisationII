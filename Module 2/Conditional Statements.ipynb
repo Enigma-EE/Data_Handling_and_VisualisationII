{
 "cells": [
  {
   "cell_type": "markdown",
   "metadata": {},
   "source": [
    "## Making decisions\n"
   ]
  },
  {
   "cell_type": "markdown",
   "metadata": {},
   "source": [
    "### 'if' statement"
   ]
  },
  {
   "cell_type": "markdown",
   "metadata": {},
   "source": [
    "In Python, you express decisions with an 'if' statement.\n",
    "\n",
    "**if (condition):**\n",
    "\n",
    "    statement to do if condition is true\n",
    "    "
   ]
  },
  {
   "cell_type": "code",
   "execution_count": 12,
   "metadata": {},
   "outputs": [
    {
     "name": "stdout",
     "output_type": "stream",
     "text": [
      "person1 is employable\n"
     ]
    }
   ],
   "source": [
    "person1_age = 18\n",
    "person2_age = 12\n",
    "\n",
    "if person1_age >=14:\n",
    "    print(\"person1 is employable\")\n",
    "\n",
    "if person2_age >= 14:\n",
    "    print(\"person2 is not employable\")"
   ]
  },
  {
   "cell_type": "markdown",
   "metadata": {},
   "source": [
    "### 'else' statement"
   ]
  },
  {
   "cell_type": "markdown",
   "metadata": {},
   "source": [
    "if condition: \n",
    "\n",
    "    statement to do if condition true  \n",
    "\n",
    "else:  \n",
    "     \n",
    "    statement to do if condition not true "
   ]
  },
  {
   "cell_type": "code",
   "execution_count": 7,
   "metadata": {},
   "outputs": [
    {
     "name": "stdout",
     "output_type": "stream",
     "text": [
      "person1 is employable\n",
      "person2 is not employable\n"
     ]
    }
   ],
   "source": [
    "person1_age = 18\n",
    "person2_age = 12\n",
    "\n",
    "if person1_age >=14:\n",
    "    print('person1 is employable')\n",
    "else:\n",
    "    print('person1 is not employable')\n",
    "    \n",
    "if person2_age >=14:\n",
    "    print('person2 is employable')\n",
    "else:\n",
    "    print('person2 is not employable')\n",
    "  "
   ]
  },
  {
   "cell_type": "markdown",
   "metadata": {},
   "source": [
    "### : \n",
    "Indentation is important in Python. If the statement isn't indented, Python will assume it isn't part of the ‘if’ statement"
   ]
  },
  {
   "cell_type": "markdown",
   "metadata": {},
   "source": [
    "### 'elif' statement"
   ]
  },
  {
   "cell_type": "markdown",
   "metadata": {},
   "source": [
    "you might have more than just two options. What if you wanted to create a third category of people who are employable as juniors? You can add as many different options as you want by using elif."
   ]
  },
  {
   "cell_type": "markdown",
   "metadata": {},
   "source": [
    "if condition1:\n",
    "\n",
    "     statement to do if condition true\n",
    "\n",
    "elif condition2:\n",
    "\n",
    "     statement to do if previous conditions not true but condition2 is true\n",
    "\n",
    "elif condition3:\n",
    "\n",
    "     statement to do if previous conditions are not true but condition3 is true\n",
    "\n",
    "else:\n",
    "\n",
    "     statement to do if none of the above conditions are true"
   ]
  },
  {
   "cell_type": "code",
   "execution_count": 11,
   "metadata": {},
   "outputs": [
    {
     "name": "stdout",
     "output_type": "stream",
     "text": [
      "person1 is employable as a junior\n"
     ]
    }
   ],
   "source": [
    "person1_age = 14\n",
    "\n",
    "if person1_age >= 16:\n",
    "    print('person1 is employable')\n",
    "    \n",
    "elif person1_age >= 14:\n",
    "    print('person1 is employable as a junior')\n",
    "    \n",
    "else:\n",
    "    print('person1 is not employable')"
   ]
  },
  {
   "cell_type": "code",
   "execution_count": 10,
   "metadata": {},
   "outputs": [
    {
     "name": "stdout",
     "output_type": "stream",
     "text": [
      "person1 is employable\n"
     ]
    }
   ],
   "source": [
    "person1_age = 16\n",
    "\n",
    "if person1_age >= 16:\n",
    "    print('person1 is employable')\n",
    "    \n",
    "elif person1_age >= 14:\n",
    "    print('person1 is employable as a junior')\n",
    "    \n",
    "else:\n",
    "    print('person1 is not employable')"
   ]
  },
  {
   "cell_type": "code",
   "execution_count": null,
   "metadata": {},
   "outputs": [],
   "source": []
  }
 ],
 "metadata": {
  "kernelspec": {
   "display_name": "Python 3",
   "language": "python",
   "name": "python3"
  },
  "language_info": {
   "codemirror_mode": {
    "name": "ipython",
    "version": 3
   },
   "file_extension": ".py",
   "mimetype": "text/x-python",
   "name": "python",
   "nbconvert_exporter": "python",
   "pygments_lexer": "ipython3",
   "version": "3.7.4"
  }
 },
 "nbformat": 4,
 "nbformat_minor": 2
}
