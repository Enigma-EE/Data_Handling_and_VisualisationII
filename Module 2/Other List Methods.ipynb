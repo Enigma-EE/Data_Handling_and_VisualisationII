{
 "cells": [
  {
   "cell_type": "markdown",
   "metadata": {},
   "source": [
    "## append(element) function is used to add an element to the end of the list."
   ]
  },
  {
   "cell_type": "code",
   "execution_count": 2,
   "metadata": {},
   "outputs": [
    {
     "name": "stdout",
     "output_type": "stream",
     "text": [
      "colors before append  ['black', 'white ', 'yellow']\n",
      "color after append: ['black', 'white ', 'yellow', 'red']\n"
     ]
    }
   ],
   "source": [
    "colors = ['black', 'white ', 'yellow']\n",
    "print ('colors before append ', colors)\n",
    "colors.append('red')\n",
    "print('color after append:', colors)"
   ]
  },
  {
   "cell_type": "markdown",
   "metadata": {},
   "source": [
    "## insert(index, element) function is used to add an element in a specific position indicated by index."
   ]
  },
  {
   "cell_type": "code",
   "execution_count": 3,
   "metadata": {},
   "outputs": [
    {
     "name": "stdout",
     "output_type": "stream",
     "text": [
      "color before insert: ['black', 'white ', 'yellow', 'red']\n",
      "color after insert: ['black', 'white ', 'yellow', 'green', 'red']\n"
     ]
    }
   ],
   "source": [
    "#Example insert an element \n",
    "\n",
    "print('color before insert:',colors)\n",
    "colors.insert(3,'green')\n",
    "print('color after insert:', colors)"
   ]
  },
  {
   "cell_type": "markdown",
   "metadata": {},
   "source": [
    "## remove(element) function is used to search and remove the first matching element in a list. If the element is not in the list, the method returns an error."
   ]
  },
  {
   "cell_type": "code",
   "execution_count": 5,
   "metadata": {},
   "outputs": [
    {
     "name": "stdout",
     "output_type": "stream",
     "text": [
      "colors before remove  ['black', 'white ', 'yellow', 'green', 'red']\n",
      "color after remove  ['black', 'white ', 'green', 'red']\n"
     ]
    }
   ],
   "source": [
    "# Example of remove\n",
    "print('colors before remove ',colors)\n",
    "colors.remove('yellow')\n",
    "print('color after remove ', colors)"
   ]
  },
  {
   "cell_type": "code",
   "execution_count": 6,
   "metadata": {},
   "outputs": [
    {
     "ename": "ValueError",
     "evalue": "list.remove(x): x not in list",
     "output_type": "error",
     "traceback": [
      "\u001b[1;31m---------------------------------------------------------------------------\u001b[0m",
      "\u001b[1;31mValueError\u001b[0m                                Traceback (most recent call last)",
      "\u001b[1;32m<ipython-input-6-3fcda5e79487>\u001b[0m in \u001b[0;36m<module>\u001b[1;34m\u001b[0m\n\u001b[0;32m      1\u001b[0m \u001b[1;31m#What happens if we try to remove an element that is not present in the list\u001b[0m\u001b[1;33m\u001b[0m\u001b[1;33m\u001b[0m\u001b[1;33m\u001b[0m\u001b[0m\n\u001b[1;32m----> 2\u001b[1;33m \u001b[0mcolors\u001b[0m\u001b[1;33m.\u001b[0m\u001b[0mremove\u001b[0m\u001b[1;33m(\u001b[0m\u001b[1;34m'purple'\u001b[0m\u001b[1;33m)\u001b[0m\u001b[1;33m\u001b[0m\u001b[1;33m\u001b[0m\u001b[0m\n\u001b[0m",
      "\u001b[1;31mValueError\u001b[0m: list.remove(x): x not in list"
     ]
    }
   ],
   "source": [
    "#What happens if we try to remove an element that is not present in the list \n",
    "colors.remove('purple')"
   ]
  },
  {
   "cell_type": "markdown",
   "metadata": {},
   "source": [
    "## sort function is used to sort a list in ascending, descending, or user-defined order."
   ]
  },
  {
   "cell_type": "code",
   "execution_count": 7,
   "metadata": {},
   "outputs": [
    {
     "name": "stdout",
     "output_type": "stream",
     "text": [
      "listNumbers before sort:  [120, 50, 3, 200, 8.9, 3000, 90, 6.66]\n",
      "listNumbers after ascending sort:  [3, 6.66, 8.9, 50, 90, 120, 200, 3000]\n",
      "listNumbers after decending sort:  [3000, 200, 120, 90, 50, 8.9, 6.66, 3]\n"
     ]
    }
   ],
   "source": [
    "# Example of sort\n",
    "listNumbers = [120, 50, 3, 200, 8.9, 3000, 90, 6.66 ]\n",
    "print('listNumbers before sort: ', listNumbers)\n",
    "listNumbers.sort()\n",
    "print('listNumbers after ascending sort: ', listNumbers)\n",
    "listNumbers.sort(reverse = True)\n",
    "print('listNumbers after decending sort: ', listNumbers)"
   ]
  },
  {
   "cell_type": "markdown",
   "metadata": {},
   "source": [
    "Other list methods include clear, copy, count, extend, index, mro, pop and reverse."
   ]
  },
  {
   "cell_type": "markdown",
   "metadata": {},
   "source": [
    "If you want to know which methods a list has, type the word 'list' with a dot and then the tab key in a code cell. A menu will be displayed with all the methods. If you want to know more about a method, type the word 'help', followed by the method inside of parenthesis e.g. help(list.remove)."
   ]
  },
  {
   "cell_type": "markdown",
   "metadata": {},
   "source": [
    "list.(tab)"
   ]
  },
  {
   "cell_type": "code",
   "execution_count": 8,
   "metadata": {},
   "outputs": [
    {
     "name": "stdout",
     "output_type": "stream",
     "text": [
      "Help on method_descriptor:\n",
      "\n",
      "remove(self, value, /)\n",
      "    Remove first occurrence of value.\n",
      "    \n",
      "    Raises ValueError if the value is not present.\n",
      "\n"
     ]
    }
   ],
   "source": [
    "help(list.remove)"
   ]
  },
  {
   "cell_type": "code",
   "execution_count": null,
   "metadata": {},
   "outputs": [],
   "source": []
  }
 ],
 "metadata": {
  "kernelspec": {
   "display_name": "Python 3",
   "language": "python",
   "name": "python3"
  },
  "language_info": {
   "codemirror_mode": {
    "name": "ipython",
    "version": 3
   },
   "file_extension": ".py",
   "mimetype": "text/x-python",
   "name": "python",
   "nbconvert_exporter": "python",
   "pygments_lexer": "ipython3",
   "version": "3.7.4"
  }
 },
 "nbformat": 4,
 "nbformat_minor": 2
}
