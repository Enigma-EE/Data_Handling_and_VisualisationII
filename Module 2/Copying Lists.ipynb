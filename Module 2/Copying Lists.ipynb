{
 "cells": [
  {
   "cell_type": "markdown",
   "metadata": {},
   "source": [
    "One of the most common problems programmers encounter is in copying lists. When you assign a list (lst1) to another list (lst2), e.g. lst2 = lst1, both lst2 and lst1 refer to the same list. If you modify either of the lists, the other list is modified as well. This behaviour occurs because both variables are assigned to the same memory space. To avoid this behaviour, you need to create a new list. You can do this using list() or by using the copy() method. With this, you assign the lists to different memory spaces.\n",
    "\n",
    "lst2 = list(lst1) or\n",
    "\n",
    "lst2 = lst1.copy()"
   ]
  },
  {
   "cell_type": "code",
   "execution_count": 1,
   "metadata": {},
   "outputs": [
    {
     "name": "stdout",
     "output_type": "stream",
     "text": [
      "lst1 ->  ['a', 'A', 'c', 'd']\n",
      "lst2 ->  ['a', 'A', 'c', 'd']\n"
     ]
    }
   ],
   "source": [
    "#Example of how a variable is modified after being assigned in a new variable \n",
    "#(in case of the new variable is modified) \n",
    "lst1 = ['a','b','c','d']\n",
    "lst2 = lst1\n",
    "lst2[1] = 'A'\n",
    "print('lst1 -> ', lst1)\n",
    "print('lst2 -> ', lst2)"
   ]
  },
  {
   "cell_type": "code",
   "execution_count": 2,
   "metadata": {},
   "outputs": [
    {
     "name": "stdout",
     "output_type": "stream",
     "text": [
      "lst1 ->  ['a', 'A', 'c', 1]\n",
      "lst2 ->  ['a', 'A', 'c', 1]\n"
     ]
    }
   ],
   "source": [
    "#the same behavior ocurrs if we modified the original variable the new variable is modified \n",
    "lst1[3] = 1\n",
    "print('lst1 -> ', lst1)\n",
    "print('lst2 -> ', lst2)\n"
   ]
  },
  {
   "cell_type": "code",
   "execution_count": 3,
   "metadata": {},
   "outputs": [
    {
     "name": "stdout",
     "output_type": "stream",
     "text": [
      "lst1->  ['a', 'b', 'c', 'd']\n",
      "lst2->  ['a', 'A', 'c', 'd']\n",
      "lst3->  ['a', 'b', 'c', 'd']\n"
     ]
    }
   ],
   "source": [
    "#To avoid that the variable being modified  use list before the assigning it in a new variable\n",
    "lst1 = ['a', 'b', 'c', 'd']\n",
    "lst2 = list(lst1)\n",
    "lst3 = lst2.copy()\n",
    "lst2[1] = 'A'\n",
    "print('lst1-> ', lst1)\n",
    "print('lst2-> ', lst2)\n",
    "print('lst3-> ', lst3)"
   ]
  },
  {
   "cell_type": "markdown",
   "metadata": {},
   "source": [
    "The getslice operation for a list object makes a copy of a slice from the list object,\n",
    "and returns the copy rather than a reference to the original slice. For example,"
   ]
  },
  {
   "cell_type": "code",
   "execution_count": 4,
   "metadata": {},
   "outputs": [
    {
     "data": {
      "text/plain": [
       "[5, 7]"
      ]
     },
     "execution_count": 4,
     "metadata": {},
     "output_type": "execute_result"
    }
   ],
   "source": [
    "l = [1,3,5,7,9]\n",
    "x = l[2:4]\n",
    "x"
   ]
  },
  {
   "cell_type": "code",
   "execution_count": 5,
   "metadata": {},
   "outputs": [
    {
     "data": {
      "text/plain": [
       "[0, 7]"
      ]
     },
     "execution_count": 5,
     "metadata": {},
     "output_type": "execute_result"
    }
   ],
   "source": [
    "x[0] = 0\n",
    "x"
   ]
  },
  {
   "cell_type": "code",
   "execution_count": 6,
   "metadata": {},
   "outputs": [
    {
     "data": {
      "text/plain": [
       "[1, 3, 5, 7, 9]"
      ]
     },
     "execution_count": 6,
     "metadata": {},
     "output_type": "execute_result"
    }
   ],
   "source": [
    "l"
   ]
  },
  {
   "cell_type": "markdown",
   "metadata": {},
   "source": [
    "In the example above, the value of l does not change when the value of x changes,\n",
    "because x and l do not have direct binding relationships."
   ]
  },
  {
   "cell_type": "markdown",
   "metadata": {},
   "source": [
    "A simple way of copying a list is to slice the whole list."
   ]
  },
  {
   "cell_type": "markdown",
   "metadata": {},
   "source": [
    "when both the start and the end indices are omitted in a getslice operation, the whole\n",
    "sequence is taken as the resulting slice. This provides a more succinct way of copying\n",
    "a list:"
   ]
  },
  {
   "cell_type": "code",
   "execution_count": 7,
   "metadata": {},
   "outputs": [
    {
     "data": {
      "text/plain": [
       "[0, 3, 5, 7, 9]"
      ]
     },
     "execution_count": 7,
     "metadata": {},
     "output_type": "execute_result"
    }
   ],
   "source": [
    "l = [1,3,5,7,9]\n",
    "l1 = l[0 : len(l)]  # the whole list sliced and copied\n",
    "l2 = l[ : ] # a more succinct way of slicing a list\n",
    "l[0] = 0\n",
    "l1[1] = 0\n",
    "l2[2] = 0\n",
    "l"
   ]
  },
  {
   "cell_type": "code",
   "execution_count": 8,
   "metadata": {},
   "outputs": [
    {
     "data": {
      "text/plain": [
       "[1, 0, 5, 7, 9]"
      ]
     },
     "execution_count": 8,
     "metadata": {},
     "output_type": "execute_result"
    }
   ],
   "source": [
    "l1"
   ]
  },
  {
   "cell_type": "code",
   "execution_count": 9,
   "metadata": {},
   "outputs": [
    {
     "data": {
      "text/plain": [
       "[1, 3, 0, 7, 9]"
      ]
     },
     "execution_count": 9,
     "metadata": {},
     "output_type": "execute_result"
    }
   ],
   "source": [
    "l2"
   ]
  },
  {
   "cell_type": "markdown",
   "metadata": {},
   "source": [
    "As shown by the example above, modifications to l, l1 and l2 do not affect each\n",
    "other, because they are different copies of the same list object."
   ]
  },
  {
   "cell_type": "markdown",
   "metadata": {},
   "source": [
    "A second way of making a copy of a list object is using the copy module. The\n",
    "module contains a function, copy, which takes a single argument, which is typically\n",
    "a mutable container object, and returns a copy of the argument."
   ]
  },
  {
   "cell_type": "code",
   "execution_count": 10,
   "metadata": {},
   "outputs": [
    {
     "data": {
      "text/plain": [
       "[0, 3, 5, 7, 9]"
      ]
     },
     "execution_count": 10,
     "metadata": {},
     "output_type": "execute_result"
    }
   ],
   "source": [
    "import copy\n",
    "l = [1,3,5,7,9]\n",
    "l1 = copy.copy(l)\n",
    "l[0] = 0\n",
    "l"
   ]
  },
  {
   "cell_type": "code",
   "execution_count": 11,
   "metadata": {},
   "outputs": [
    {
     "data": {
      "text/plain": [
       "[1, 3, 5, 7, 9]"
      ]
     },
     "execution_count": 11,
     "metadata": {},
     "output_type": "execute_result"
    }
   ],
   "source": [
    "l1"
   ]
  },
  {
   "cell_type": "markdown",
   "metadata": {},
   "source": [
    "For an example where list copying is used, consider the problem of deciding\n",
    "whether an integer is a palindrome number. A palindrome number is a number that\n",
    "remains the same when the order of the digits in it is reversed. For example, 12321\n",
    "and 1111 are palindrome numbers, but 123 is not a palindrome number. The function\n",
    "palindrome below takes an integer argument and returns a Boolean value indicating\n",
    "whether the argument is a palindrome number.\""
   ]
  },
  {
   "cell_type": "code",
   "execution_count": 12,
   "metadata": {},
   "outputs": [
    {
     "data": {
      "text/plain": [
       "True"
      ]
     },
     "execution_count": 12,
     "metadata": {},
     "output_type": "execute_result"
    }
   ],
   "source": [
    "def palindrome(n):\n",
    "    l = list(str(n))\n",
    "    r = l[:]\n",
    "    r.reverse()\n",
    "    return l == r\n",
    "\n",
    "palindrome(12321)"
   ]
  },
  {
   "cell_type": "code",
   "execution_count": 13,
   "metadata": {},
   "outputs": [
    {
     "data": {
      "text/plain": [
       "True"
      ]
     },
     "execution_count": 13,
     "metadata": {},
     "output_type": "execute_result"
    }
   ],
   "source": [
    "palindrome(1111)"
   ]
  },
  {
   "cell_type": "code",
   "execution_count": 14,
   "metadata": {},
   "outputs": [
    {
     "data": {
      "text/plain": [
       "False"
      ]
     },
     "execution_count": 14,
     "metadata": {},
     "output_type": "execute_result"
    }
   ],
   "source": [
    "palindrome(123)"
   ]
  },
  {
   "cell_type": "markdown",
   "metadata": {},
   "source": [
    "The palindrome function above works by converting the integer argument into a\n",
    "string, so that each digit is converted into a character. Then it converts the string into\n",
    "a list of all the digits in the integer. The digits are put into the reverse order by making\n",
    "a copy of the list and reversing it. A comparison between the reversed version and\n",
    "the original list determines whether the integer is a palindrome number."
   ]
  },
  {
   "cell_type": "markdown",
   "metadata": {},
   "source": [
    "Given that the slicing operation l[:: −1] makes a reverse copy of the list, the\n",
    "palindrome function can be simplified as:"
   ]
  },
  {
   "cell_type": "code",
   "execution_count": 15,
   "metadata": {},
   "outputs": [],
   "source": [
    "def palindrome(n):\n",
    "    l = list(str(n))\n",
    "    r = l[ : : -1]\n",
    "    return l == r"
   ]
  },
  {
   "cell_type": "markdown",
   "metadata": {},
   "source": [
    "Further given that the slicing operation applies to strings also, the function can be\n",
    "further simplified, without using a list."
   ]
  },
  {
   "cell_type": "code",
   "execution_count": 16,
   "metadata": {},
   "outputs": [],
   "source": [
    "def palindrome(n):\n",
    "    s = str(n)\n",
    "    r = s[ : : -1]\n",
    "    return s == r"
   ]
  },
  {
   "cell_type": "code",
   "execution_count": null,
   "metadata": {},
   "outputs": [],
   "source": []
  }
 ],
 "metadata": {
  "kernelspec": {
   "display_name": "Python 3",
   "language": "python",
   "name": "python3"
  },
  "language_info": {
   "codemirror_mode": {
    "name": "ipython",
    "version": 3
   },
   "file_extension": ".py",
   "mimetype": "text/x-python",
   "name": "python",
   "nbconvert_exporter": "python",
   "pygments_lexer": "ipython3",
   "version": "3.7.4"
  }
 },
 "nbformat": 4,
 "nbformat_minor": 2
}
