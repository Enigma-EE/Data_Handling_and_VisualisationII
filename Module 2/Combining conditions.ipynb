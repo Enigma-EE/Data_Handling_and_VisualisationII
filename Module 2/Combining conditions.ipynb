{
 "cells": [
  {
   "cell_type": "markdown",
   "metadata": {},
   "source": [
    "We still haven't dealt with whether the person is retired. A person might be of employable age, but has retired and therefore isn't seeking employment. You'd want to filter them out of your possible employees as well. You can do this in one of two ways. The first is to nest 'if' statements."
   ]
  },
  {
   "cell_type": "markdown",
   "metadata": {},
   "source": [
    "if condition1:\n",
    "    \n",
    "    if condition2:\n",
    "        \n",
    "        statement to do if both conditions are true\n",
    "    else:\n",
    "        \n",
    "        statement to do if condition1 is true but condition2 isn't\n",
    "\n",
    "else:\n",
    "     \n",
    "    statement to do if condition1 is not true"
   ]
  },
  {
   "cell_type": "code",
   "execution_count": 3,
   "metadata": {},
   "outputs": [
    {
     "name": "stdout",
     "output_type": "stream",
     "text": [
      "person is employable\n"
     ]
    }
   ],
   "source": [
    "age = 55\n",
    "retired = False\n",
    "\n",
    "if not retired:\n",
    "    if age >= 14:\n",
    "        if age >=16: \n",
    "            print('person is employable')\n",
    "        else:\n",
    "                print('person is employable as a junior')\n",
    "    else:\n",
    "            print('person is not employable')\n",
    "            \n",
    "else:\n",
    "    print('person is not employable')"
   ]
  },
  {
   "cell_type": "markdown",
   "metadata": {},
   "source": [
    "Another option is to use and or or to combine your conditions. "
   ]
  },
  {
   "cell_type": "code",
   "execution_count": 5,
   "metadata": {},
   "outputs": [
    {
     "name": "stdout",
     "output_type": "stream",
     "text": [
      "person is employable\n"
     ]
    }
   ],
   "source": [
    "age = 55\n",
    "retired = False\n",
    "\n",
    "if age >=14 and not retired:\n",
    "    if age < 16:\n",
    "        print('person is employable as a junior')\n",
    "    else:\n",
    "        print('person is employable')\n",
    "\n",
    "else:\n",
    "    print('person is not employable')"
   ]
  },
  {
   "cell_type": "markdown",
   "metadata": {},
   "source": [
    "Combining conditions can make the code easier to read and reduce duplication. Both ways are tools in your toolbox, so use whichever way makes most sense to you for your particular problem."
   ]
  },
  {
   "cell_type": "markdown",
   "metadata": {},
   "source": [
    "## Finding the Max of Three Integers"
   ]
  },
  {
   "cell_type": "code",
   "execution_count": 1,
   "metadata": {},
   "outputs": [
    {
     "name": "stdout",
     "output_type": "stream",
     "text": [
      "Please enter an integer:3\n",
      "Please enter another integer:6\n",
      "Pleasr enter a third integer:2\n",
      "6 is greatest\n",
      "Done\n"
     ]
    }
   ],
   "source": [
    "x = int(input('Please enter an integer:'))\n",
    "y = int(input('Please enter another integer:'))\n",
    "z = int(input('Pleasr enter a third integer:'))\n",
    " \n",
    "if y > x:\n",
    "       if z > x:\n",
    "          print(z, 'is greatest.')\n",
    "       else:\n",
    "          print(y, 'is greatest')\n",
    "    \n",
    "else:\n",
    "        if z > x:\n",
    "           print(z, 'is greatest')\n",
    "        else:\n",
    "         print(x, 'is greatest')\n",
    "        \n",
    "print('Done')"
   ]
  },
  {
   "cell_type": "markdown",
   "metadata": {},
   "source": [
    "There is no way a good programmer would write a program that included the code\n",
    "that appeared in Example. It is too complicated. Instead, it would be much better\n",
    "to use a pattern or idiom called Guess and Check. Using this pattern involves first\n",
    "making a guess as to a correct solution and storing that guess in a variable. Then,\n",
    "you use one or more if statements to check that guess to see if it was correct or not.\n",
    "If it was not a correct guess, then the variable can be updated with a new guess.\n",
    "Finally, when the guess has been thoroughly checked, it should equal the value we\n",
    "were looking for.\n"
   ]
  },
  {
   "cell_type": "markdown",
   "metadata": {},
   "source": [
    "## The Guess and Check Pattern"
   ]
  },
  {
   "cell_type": "code",
   "execution_count": 3,
   "metadata": {},
   "outputs": [
    {
     "name": "stdout",
     "output_type": "stream",
     "text": [
      "Please enter an integer:5\n",
      "Please enter another integer:8\n",
      "Pleasr enter a third integer:12\n",
      "12 is greatest.\n",
      "Done.\n"
     ]
    }
   ],
   "source": [
    "# This couldbe rewritten using the guess and check pattern \n",
    "# if we first make a guess as to the maximum value and then fix it if needed\n",
    "\n",
    "x = int(input('Please enter an integer:'))\n",
    "y = int(input('Please enter another integer:'))\n",
    "z = int(input('Pleasr enter a third integer:'))\n",
    "\n",
    "# Here is our initial guess\n",
    "\n",
    "maxNum = x\n",
    "\n",
    "if y > maxNum:       # Fix our guess if needed\n",
    "    maxNum = y\n",
    "if z > maxNum:       # Fix our guess again if needed\n",
    "    maxNum = z\n",
    "    \n",
    "print(maxNum, 'is greatest.')\n",
    "print('Done.')"
   ]
  },
  {
   "cell_type": "markdown",
   "metadata": {},
   "source": [
    "## Choosing from a List of Alternatives"
   ]
  },
  {
   "cell_type": "code",
   "execution_count": 6,
   "metadata": {},
   "outputs": [
    {
     "name": "stdout",
     "output_type": "stream",
     "text": [
      "Please enter a number: 33\n",
      "Please enter a second number: 66\n",
      "1) Add the two numbers\n",
      "2) Subtract the two numbers\n",
      "3) Multiply the two numbers\n",
      "4) Divide the two numbers\n",
      "Please enter your chioce：3\n",
      "The answer is:2178.0\n"
     ]
    }
   ],
   "source": [
    "x = float(input('Please enter a number: '))\n",
    "y = float(input('Please enter a second number: '))\n",
    "\n",
    "print('1) Add the two numbers')\n",
    "print('2) Subtract the two numbers')\n",
    "print('3) Multiply the two numbers')\n",
    "print('4) Divide the two numbers')\n",
    "\n",
    "choice = int(input('Please enter your chioce：'))\n",
    "\n",
    "print('The answer is:', end='')\n",
    "\n",
    "if choice == 1:\n",
    "    print(x + y)\n",
    "else:\n",
    "    if choice == 2:\n",
    "        print(x - y)\n",
    "    else:\n",
    "        if choice == 3:\n",
    "            print(x * y)\n",
    "        else:\n",
    "            if choice == 4:\n",
    "                print(x / y)\n",
    "            else:\n",
    "                print('You did not enter a valid choice.')"
   ]
  },
  {
   "cell_type": "markdown",
   "metadata": {},
   "source": [
    "There can be as many alternatives as are needed. In addition, the else clause\n",
    "is optional so may or may not appear in the statement. If we revise our example\n",
    "using this form of the if statement it looks a lot better. Not only does it look better, it is easier to read and it is still clear which choices are being considered. In\n",
    "either case, if the conditions are not mutually exclusive then priority is given to\n",
    "the first condition that evaluates to true. This means that while a condition may be\n",
    "true, its statements may not be executed if it is not the first true condition in the if\n",
    "statement."
   ]
  },
  {
   "cell_type": "code",
   "execution_count": 15,
   "metadata": {},
   "outputs": [
    {
     "name": "stdout",
     "output_type": "stream",
     "text": [
      "Please enter a number: 3\n",
      "Please enter a second number: 6\n",
      "1) Add the two numbers\n",
      "2) Subtract the two numbers\n",
      "3) Multiply the two numbers\n",
      "4) Divide the two numbers\n",
      "Please enter your chioce：2\n",
      "The answer is:-3.0\n"
     ]
    }
   ],
   "source": [
    "# Same as above but looks nicer\n",
    "x = float(input('Please enter a number: '))\n",
    "y = float(input('Please enter a second number: '))\n",
    "\n",
    "print('1) Add the two numbers')\n",
    "print('2) Subtract the two numbers')\n",
    "print('3) Multiply the two numbers')\n",
    "print('4) Divide the two numbers')\n",
    "\n",
    "choice = int(input('Please enter your chioce：'))\n",
    "\n",
    "print('The answer is:', end='')\n",
    "\n",
    "if choice == 1:\n",
    "    print(x + y)\n",
    "elif choice == 2:\n",
    "    print(x - y)\n",
    "elif choice == 3:\n",
    "    print(x * y)\n",
    "elif choice == 4:\n",
    "    print(x / y)\n",
    "else:\n",
    "    print('You did not enter a valid choice.')"
   ]
  },
  {
   "cell_type": "markdown",
   "metadata": {},
   "source": [
    "\n",
    "## The Boolean Type\n",
    "In an ifstatement the condition evaluates to true or false. The Boolean value of the\n",
    "condition decides which branch is to be executed. The only requirement for a condition in an if statement is that it evaluates to true or false. So writing if True ... would\n",
    "mean that the then statements would always be executed. Writing such an ifstatement\n",
    "doesn’t really make sense, but using Boolean values in ifstatements sometimes does."
   ]
  },
  {
   "cell_type": "code",
   "execution_count": 6,
   "metadata": {},
   "outputs": [
    {
     "name": "stdout",
     "output_type": "stream",
     "text": [
      "Please enter a number: 0.5\n",
      "0.5 is between 0 and 1\n"
     ]
    }
   ],
   "source": [
    "# a program that must decide if a value is between 0 and 1\n",
    "\n",
    "x = float(input('Please enter a number: '))\n",
    "\n",
    "if x >=0 and x <= 1:\n",
    "    print( x,'is between 0 and 1')"
   ]
  },
  {
   "cell_type": "code",
   "execution_count": 10,
   "metadata": {},
   "outputs": [
    {
     "name": "stdout",
     "output_type": "stream",
     "text": [
      "Please enter your age: 77\n",
      "You can join.\n"
     ]
    }
   ],
   "source": [
    "#  Consider a club where you must be under 18 and over 15 to join.\n",
    "# Here is a first try at a program that tells you whether you can join or not.\n",
    "\n",
    "age = int(input('Please enter your age: '))\n",
    "\n",
    "if (not age > 15) and (not age < 18):\n",
    "    print(\"You can't join\")\n",
    "else:\n",
    "          print('You can join.')"
   ]
  },
  {
   "cell_type": "markdown",
   "metadata": {},
   "source": [
    "Does this program do the job? In fact, as it is written here everyone can join\n",
    "the club. The problem is with the choice of and in the Boolean expression. It\n",
    "should have been or. The correct program would be written as follows."
   ]
  },
  {
   "cell_type": "code",
   "execution_count": 11,
   "metadata": {},
   "outputs": [
    {
     "name": "stdout",
     "output_type": "stream",
     "text": [
      "Please enter your age: 77\n",
      "You can't join\n"
     ]
    }
   ],
   "source": [
    "age = int(input('Please enter your age: '))\n",
    "\n",
    "if (not age > 15) or (not age < 18):\n",
    "    print(\"You can't join\")\n",
    "else:\n",
    "          print('You can join.')"
   ]
  },
  {
   "cell_type": "markdown",
   "metadata": {},
   "source": [
    "While the program above is correct, it is still difficult to understand why it is\n",
    "correct. The problem is the use of negation with the or operator. A much better\n",
    "way to write it would be to remove the negation in the expression.\n"
   ]
  },
  {
   "cell_type": "code",
   "execution_count": 12,
   "metadata": {},
   "outputs": [
    {
     "name": "stdout",
     "output_type": "stream",
     "text": [
      "Please enter your age: 77\n",
      "You can't join.\n"
     ]
    }
   ],
   "source": [
    "age = int(input('Please enter your age: '))\n",
    "\n",
    "if age > 15 and age < 18:\n",
    "    print(\"You can join\")\n",
    "else:\n",
    "          print(\"You can't join.\"\n",
    "               )"
   ]
  },
  {
   "cell_type": "code",
   "execution_count": 14,
   "metadata": {},
   "outputs": [
    {
     "name": "stdout",
     "output_type": "stream",
     "text": [
      "Plaese enter your age: 77\n",
      "You can't join.\n"
     ]
    }
   ],
   "source": [
    "# The guess and check pattern can be applied to Boolean valuesas well. \n",
    "#If you need to decide a yes or no question, you can make a guess and then fix it if needed\n",
    "\n",
    "age = int(input(\"Plaese enter your age: \"))\n",
    "member = True\n",
    "if age <= 15:\n",
    "    member = False\n",
    "if age >= 18:\n",
    "    member = False\n",
    "if member:\n",
    "    print(\"You can join.\")\n",
    "else:\n",
    "    print(\"You can't join.\")"
   ]
  },
  {
   "cell_type": "markdown",
   "metadata": {},
   "source": [
    "## Short Circuit Logic"
   ]
  },
  {
   "cell_type": "markdown",
   "metadata": {},
   "source": [
    "Once in a while using the guess and check pattern may not produce the desired\n",
    "results. There are situations where you may want to evaluate one condition only if\n",
    "another condition is true or false."
   ]
  },
  {
   "cell_type": "code",
   "execution_count": 17,
   "metadata": {},
   "outputs": [
    {
     "name": "stdout",
     "output_type": "stream",
     "text": [
      "Please enter the numerator: 5\n",
      "Please enter the denominator: 7\n",
      "The fraction in not a whole number.\n"
     ]
    }
   ],
   "source": [
    "#  a program that checks to see if one integer evenly divides another\n",
    "top = int(input(\"Please enter the numerator: \"))\n",
    "bottom = int(input(\"Please enter the denominator: \"))\n",
    "\n",
    "if bottom != 0 and top % bottom == 0:\n",
    "    print(\"The numerator is evenly divied by the denominator.\")\n",
    "else:\n",
    "    print(\"The fraction in not a whole number.\")"
   ]
  },
  {
   "cell_type": "markdown",
   "metadata": {},
   "source": [
    "Dividing top by bottom would result in a run-time error if bottom were 0. However,\n",
    "division by 0 will never happen in this code because Python, and most programming\n",
    "languages, uses short-circuit logic. This means that since both A and B must be true\n",
    "in the expression A and B for the expression to evaluate to true, if it turns out that A\n",
    "evaluates to false then there is no point in evaluating B and therefore it is skipped. In\n",
    "other words, Boolean expressions are evaluated from left to right until the truth or\n",
    "falsity of the expression can be determined and the condition evaluation terminates."
   ]
  },
  {
   "cell_type": "markdown",
   "metadata": {},
   "source": [
    "##  Comparing Floats for Equality"
   ]
  },
  {
   "cell_type": "markdown",
   "metadata": {},
   "source": [
    "Because floats are only approximations of real numbers, there is some round-off\n",
    "error expected when dealing with real numbers in a program.\n"
   ]
  },
  {
   "cell_type": "code",
   "execution_count": 18,
   "metadata": {},
   "outputs": [
    {
     "name": "stdout",
     "output_type": "stream",
     "text": [
      "Please enter the numerator: 4\n",
      "Please enter the denominator:8\n",
      "Please enter your guess: 2\n",
      "Sorry, that's wrong. the correct value was 0.5\n"
     ]
    }
   ],
   "source": [
    "# compares a guess with the result of dividing two floats and tells you if you are correct or not\n",
    "\n",
    "top = float(input(\"Please enter the numerator: \"))\n",
    "bottom = float(input(\"Please enter the denominator:\"))\n",
    "\n",
    "guess = float(input(\"Please enter your guess: \"))\n",
    "\n",
    "result = top/bottom\n",
    "biggest = abs(result)\n",
    "\n",
    "if abs(guess) > biggest:\n",
    "    biggset = abs(guess)\n",
    "\n",
    "    # require the answer is within 1/10th percent of correct value\n",
    "if abs((guess-result)/biggest) < .001:\n",
    "    print(\"Your guessed right!\")\n",
    "else:\n",
    "    print(\"Sorry, that's wrong. the correct value was\", result)"
   ]
  },
  {
   "cell_type": "markdown",
   "metadata": {},
   "source": [
    "Write Python code that asks the user to input a number and then using an 'if' statement prints, whether or not the number is between 0 and 100. Test with numbers both less than 0, between 0 and 100, greater than 100, and the 'boundary cases' 0 and 100.\n",
    "\n",
    "Don't forget the user's input will be a string. You will need to convert it to a number type."
   ]
  },
  {
   "cell_type": "code",
   "execution_count": 21,
   "metadata": {},
   "outputs": [
    {
     "name": "stdout",
     "output_type": "stream",
     "text": [
      "Please enter a number:-5\n",
      "number is not between 0 and 100\n"
     ]
    }
   ],
   "source": [
    "# Some test cases: 0, 100, -5, 101, 50\n",
    "\n",
    "num = int(input(\"Please enter a number:\"))\n",
    "\n",
    "if num >= 0 and num <=100:\n",
    "    print(\"number is between 0 and 100.\")\n",
    "else:\n",
    "    print(\"number is not between 0 and 100\")"
   ]
  },
  {
   "cell_type": "code",
   "execution_count": 23,
   "metadata": {},
   "outputs": [
    {
     "name": "stdout",
     "output_type": "stream",
     "text": [
      "qualifies for pension\n"
     ]
    }
   ],
   "source": [
    "# This code should print whether a person is pension age (age 65 or older) \n",
    "# but it isn't correct as a person who is 65 has been told they do not qualify. \n",
    "# Correct the error.\n",
    "#if age > 65:\n",
    "    #print(\"qualifies for pension\")\n",
    "#else:\n",
    "    #print(\"not qualified for pension\")\n",
    "\n",
    "    #>= needs to be used rather than > or people age exactly 65 won't be included.\n",
    "if age >= 65:\n",
    "    print(\"qualifies for pension\")\n",
    "else:\n",
    "    print(\"not qualified for pension\")"
   ]
  },
  {
   "cell_type": "markdown",
   "metadata": {},
   "source": [
    "Remember the problem with converting the strings 'True' and 'False' into their boolean equivalents? If it has slipped your mind, all non-empty strings are converted to 'True'. So bool('True') is true but bool('False') is also true.\n",
    "\n",
    "Write a program that prompts the user to enter 'True' or 'False'. Based on what they have entered, create a boolean variable called 'answer' and set it to 'True' or 'False', depending on what the user entered.\n",
    "\n",
    "Hint: How can you test if what the user entered was the string 'True'? Use an 'if' statement to set the answer to the right value based on that condition. Print the value and type of answer."
   ]
  },
  {
   "cell_type": "code",
   "execution_count": 24,
   "metadata": {},
   "outputs": [
    {
     "name": "stdout",
     "output_type": "stream",
     "text": [
      "Please enter True or False True\n",
      "True <class 'bool'>\n"
     ]
    }
   ],
   "source": [
    "answer = input(\"Please enter True or False \")\n",
    "\n",
    "if(answer == 'True'):\n",
    "    answer = True\n",
    "elif(answer == 'False'):\n",
    "    answer = False\n",
    "else:\n",
    "    print(\"You didn't enter True or False.\")\n",
    "    \n",
    "print(answer, type(answer))"
   ]
  },
  {
   "cell_type": "code",
   "execution_count": null,
   "metadata": {},
   "outputs": [],
   "source": []
  }
 ],
 "metadata": {
  "kernelspec": {
   "display_name": "Python 3",
   "language": "python",
   "name": "python3"
  },
  "language_info": {
   "codemirror_mode": {
    "name": "ipython",
    "version": 3
   },
   "file_extension": ".py",
   "mimetype": "text/x-python",
   "name": "python",
   "nbconvert_exporter": "python",
   "pygments_lexer": "ipython3",
   "version": "3.7.4"
  }
 },
 "nbformat": 4,
 "nbformat_minor": 2
}
