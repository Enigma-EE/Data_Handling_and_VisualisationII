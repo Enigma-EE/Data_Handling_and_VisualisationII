{
 "cells": [
  {
   "cell_type": "markdown",
   "metadata": {},
   "source": [
    "'For' loops are fine if you want to do something a known number of times (e.g. 5 times, 50 times, etc.), but sometimes you don't know how many times you want to repeat something; you just know when you want to stop. For example, what if you wanted to keep asking the user to input strings until they typed 'stop'? A 'while' loop repeats code until some condition is met.\n",
    "\n"
   ]
  },
  {
   "cell_type": "markdown",
   "metadata": {},
   "source": [
    "while (condition):  \n",
    "    statements\n"
   ]
  },
  {
   "cell_type": "code",
   "execution_count": 9,
   "metadata": {},
   "outputs": [
    {
     "name": "stdout",
     "output_type": "stream",
     "text": [
      "Enter a name: EE\n",
      "Enter a name: stop\n",
      "stop\n"
     ]
    }
   ],
   "source": [
    "str1 = input(\"Enter a name: \")\n",
    "while (str1 != \"stop\"):\n",
    "    str1 = input(\"Enter a name: \")\n",
    "    print(str1)"
   ]
  },
  {
   "cell_type": "markdown",
   "metadata": {},
   "source": [
    "Note the indentation again. If the statement isn't indented, it isn't part of the 'while' loop.\n",
    "\n",
    "Try this code in your Jupyter notebook. Then try removing the indentation in front of the print(str1) statement and run it again. What happens?"
   ]
  },
  {
   "cell_type": "code",
   "execution_count": 8,
   "metadata": {},
   "outputs": [
    {
     "name": "stdout",
     "output_type": "stream",
     "text": [
      "Enter a name: EE\n",
      "EE\n",
      "Enter a name: stop\n"
     ]
    }
   ],
   "source": [
    "str1 = input(\"Enter a name: \")\n",
    "while (str1 != \"stop\"):\n",
    "    print(str1)\n",
    "    str1 = input(\"Enter a name: \")"
   ]
  },
  {
   "cell_type": "markdown",
   "metadata": {},
   "source": [
    "Python will generate an error if there is no statement for the while to execute. Put the indentation back in for the print and then try removing the indentation in front of the str1 = input(\"Enter a name: \") statement that is inside the 'while' loop. Run the program again and type your name. What happens?"
   ]
  },
  {
   "cell_type": "code",
   "execution_count": 7,
   "metadata": {},
   "outputs": [
    {
     "name": "stdout",
     "output_type": "stream",
     "text": [
      "0\n",
      "1\n",
      "2\n"
     ]
    }
   ],
   "source": [
    "i = 0\n",
    "while i<3:\n",
    "    print(i)\n",
    "    i +=1"
   ]
  },
  {
   "cell_type": "markdown",
   "metadata": {},
   "source": [
    "The value of the variable i is set to 0in the beginning of execution. The while\n",
    "statement checks the value of i in the beginning of each iteration to decide whether\n",
    "the loop body is executed. Inside the loop body, the value of i is incremented by 1. As\n",
    "a result, each time the Boolean expression i < 3 is evaluated, the value of i changes.\n",
    "When the value of i becomes 3 after the third iteration, the Boolean expression i < 3\n",
    "becomes False and the loop finishes. It is commen to use the value of a variable (e.g.\n",
    "i in the example above) to control the execution of a loop, and such a variable is also\n",
    "called the loop variable"
   ]
  },
  {
   "cell_type": "markdown",
   "metadata": {},
   "source": [
    "Another way to control the termination of a loop is via user input. For example,\n",
    "consider a program that generates random letters to a user. The program works by\n",
    "repeatedly generating random letters to the user until she asks it to stop. This can be\n",
    "achieved by using a while loop, with the loop body being a random letter generator,\n",
    "and the looping condition being whether the user requested to stop the program."
   ]
  },
  {
   "cell_type": "markdown",
   "metadata": {},
   "source": [
    "In order to generate a random letter, one can use a random number generater\n",
    "together with a mapping from numbers to letters. The former is readily available in the random module, while the latter can be implemented by using a string that\n",
    "contains all the candidate letters. An integer can be mapped into a letter in the string\n",
    "by serving as the index in a getitem operation. Given this random letter generator,\n",
    "the full program can be written as:"
   ]
  },
  {
   "cell_type": "code",
   "execution_count": 6,
   "metadata": {},
   "outputs": [
    {
     "name": "stdout",
     "output_type": "stream",
     "text": [
      "Generate radom letter? [Y/N]Y\n",
      "D\n",
      "Generate random letter? [Y/N] N\n",
      "Bye\n"
     ]
    }
   ],
   "source": [
    "import random\n",
    "s = 'ABCDEFGHIJKLMNOPQRSTUVWXYZ'\n",
    "command = input('Generate radom letter? [Y/N]' )\n",
    "while command == 'Y':\n",
    "    i = random.randint(0, len(s)-1)\n",
    "    print (s[i])\n",
    "    command = input('Generate random letter? [Y/N] ')\n",
    "print ('Bye')"
   ]
  },
  {
   "cell_type": "markdown",
   "metadata": {},
   "source": [
    "The program above consists of five top-level statements. The first is an import\n",
    "statement for the random module. The second is an assignment statement that defines\n",
    "the string for mapping integers to letters. The string consists of the upper case English\n",
    "alphabet. The third statement is an assignment statement that requests the user to\n",
    "enter a command. The fourth statement is a compound while loop, which consists\n",
    "of a statement block that generates a random number and then asks the user for the\n",
    "next command. The fifth statement is a print statement that indicates the finishing of\n",
    "execution to the user."
   ]
  },
  {
   "cell_type": "markdown",
   "metadata": {},
   "source": [
    "The loop body consists of three statements, the first being an assignment statement\n",
    "that obtains a random integer that ranges over all possible indices on the string, the\n",
    "second being a print statement that shows the value of an expression that maps the\n",
    "integer to a letter by using the getitem operation, and the third being the assignment\n",
    "statement that asks the user for the next command."
   ]
  },
  {
   "cell_type": "markdown",
   "metadata": {},
   "source": [
    "The while statement can be extended with an else component also, in exactly the\n",
    "same syntax as the if statement. The interpretation is the same: when the Boolean\n",
    "expression is evaluated to False, the indented statement block under else is executed,\n",
    "for once only. For example,"
   ]
  },
  {
   "cell_type": "code",
   "execution_count": 5,
   "metadata": {},
   "outputs": [
    {
     "name": "stdout",
     "output_type": "stream",
     "text": [
      "b\n"
     ]
    }
   ],
   "source": [
    "while False:\n",
    "    print('a')\n",
    "else:\n",
    "    print('b')"
   ]
  },
  {
   "cell_type": "markdown",
   "metadata": {},
   "source": [
    "The statement above would maintain its behavior if the while keyword were\n",
    "changed into if. The loop body is not executed at all in this case. In case the loop\n",
    "body is executed a finite number of times, the else statement block is executed when\n",
    "the iterations finish (i.e. the first time when the Boolean expression becomes False)."
   ]
  },
  {
   "cell_type": "code",
   "execution_count": 4,
   "metadata": {},
   "outputs": [
    {
     "name": "stdout",
     "output_type": "stream",
     "text": [
      "0\n",
      "1\n",
      "2\n",
      "Done with i = 3\n"
     ]
    }
   ],
   "source": [
    "i = 0\n",
    "while i < 3:\n",
    "    print(i)\n",
    "    i +=1\n",
    "else:\n",
    "    print('Done with i =', i)"
   ]
  },
  {
   "cell_type": "code",
   "execution_count": null,
   "metadata": {},
   "outputs": [],
   "source": [
    "# In case the loop is infinite, the else statement block is never executed\n",
    "while True:\n",
    "    print('a')\n",
    "else:\n",
    "    print('b')\n",
    "    "
   ]
  },
  {
   "cell_type": "markdown",
   "metadata": {},
   "source": [
    "In the example above, the letter ‘b’ is not printed when the execution of the\n",
    "program is interrupted by force, since the Boolean expression is never evaluated to\n",
    "False."
   ]
  },
  {
   "cell_type": "markdown",
   "metadata": {},
   "source": [
    "## Branching Nested in a Loop"
   ]
  },
  {
   "cell_type": "markdown",
   "metadata": {},
   "source": [
    "As other statements, an ifstatement can be put into the loop body of awhile statement.\n",
    "For a simple example, suppose that a user needs to print all the integers from 1 to\n",
    "100 that are not multiples of 3. One solution is to set up a loop variable i that counts\n",
    "from 1 too 100, in the same way as the earlier example that counts from 0 to 2, while\n",
    "printing out the value of i only when it is not a multiple of 3."
   ]
  },
  {
   "cell_type": "code",
   "execution_count": 3,
   "metadata": {},
   "outputs": [
    {
     "name": "stdout",
     "output_type": "stream",
     "text": [
      "1\n",
      "2\n",
      "4\n",
      "5\n",
      "7\n",
      "8\n",
      "10\n",
      "11\n",
      "13\n",
      "14\n",
      "16\n",
      "17\n",
      "19\n",
      "20\n",
      "22\n",
      "23\n",
      "25\n",
      "26\n",
      "28\n",
      "29\n",
      "31\n",
      "32\n",
      "34\n",
      "35\n",
      "37\n",
      "38\n",
      "40\n",
      "41\n",
      "43\n",
      "44\n",
      "46\n",
      "47\n",
      "49\n",
      "50\n",
      "52\n",
      "53\n",
      "55\n",
      "56\n",
      "58\n",
      "59\n",
      "61\n",
      "62\n",
      "64\n",
      "65\n",
      "67\n",
      "68\n",
      "70\n",
      "71\n",
      "73\n",
      "74\n",
      "76\n",
      "77\n",
      "79\n",
      "80\n",
      "82\n",
      "83\n",
      "85\n",
      "86\n",
      "88\n",
      "89\n",
      "91\n",
      "92\n",
      "94\n",
      "95\n",
      "97\n",
      "98\n"
     ]
    }
   ],
   "source": [
    "# conditinal print\n",
    "i = 1\n",
    "while i< 100:\n",
    "    if i %3 != 0:\n",
    "        print(i)\n",
    "    i += 1"
   ]
  },
  {
   "cell_type": "markdown",
   "metadata": {},
   "source": [
    "In the example above, the print statement is put under the Boolean condition\n",
    "that i%3 != 0. Hence in a dynamic execution sequence, it will be executed only\n",
    "when i is not a multiple of 3. The analysis of if statements nested in while loops is\n",
    "similar to the analysis of nested ifstatements—the execution of each statement can be\n",
    "analyzed separately, in an outer-intra hierarchy. Note that the underlying mechanism\n",
    "of each individual if and while statement, no matter whether nested or not, is the\n",
    "same and relies on the relevant Boolean expression only. "
   ]
  },
  {
   "cell_type": "markdown",
   "metadata": {},
   "source": [
    "For a more complex example, in which the Boolean condition of the loop is\n",
    "affected by the execution of an if statement in the loop body, take the following number guessing game. Suppose that the computer generates a random number between\n",
    "1 and 100, and the user tries to guess it. Every time the user enters a guess, the\n",
    "computer tells whether the guessed number is greater than, equal to, or smaller than\n",
    "the answer. In case the guess is correct, the game ends with the user winning the\n",
    "game. Otherwise the user is allowed to enter another guess. The game repeats until\n",
    "the user finds the answer. An example implementation of the game is as follows:"
   ]
  },
  {
   "cell_type": "code",
   "execution_count": 2,
   "metadata": {},
   "outputs": [
    {
     "name": "stdout",
     "output_type": "stream",
     "text": [
      "Your guess is: 66\n",
      "Too small.\n",
      "Your guess is: 88\n",
      "Too large.\n",
      "Your guess is: 77\n",
      "Too large.\n",
      "Your guess is: 70\n",
      "Too large.\n",
      "Your guess is: 67\n",
      "You win!\n"
     ]
    }
   ],
   "source": [
    "# guess\n",
    "random.randint(1,100)\n",
    "wins = False    # looping condiimport random\n",
    "answer = randomtion\n",
    "while not wins:\n",
    "    guess = int(input('Your guess is: '))\n",
    "    if guess == answer:\n",
    "        print('You win!')\n",
    "        wins = True\n",
    "    elif guess > answer:\n",
    "        print('Too large.')\n",
    "    elif guess < answer:\n",
    "        print('Too small.')"
   ]
  },
  {
   "cell_type": "code",
   "execution_count": 10,
   "metadata": {},
   "outputs": [
    {
     "name": "stdout",
     "output_type": "stream",
     "text": [
      "Your guess is: 50\n",
      "Too large.\n",
      "Your guess is: 30\n",
      "Too large.\n",
      "Your guess is: 15\n",
      "Too large.\n",
      "Your guess is: 8\n",
      "Too large.\n",
      "Your guess is: 7\n",
      "Too large.\n",
      "Your guess is: 6\n",
      "Too large.\n",
      "Your guess is: 5\n",
      "Too large.\n",
      "You lose.\n"
     ]
    }
   ],
   "source": [
    "# The program above can be made more challenging \n",
    "# by setting a limit on the number of guesses allowed\n",
    "\n",
    "# guess limit\n",
    "import random\n",
    "limit = 7\n",
    "answer = random.randint(1,100)\n",
    "guesses = 0\n",
    "wins = False    # looping condition\n",
    "while guesses < limit and not wins:\n",
    "    guess = int(input('Your guess is:'))\n",
    "    guesses += 1\n",
    "    if guess == answer:\n",
    "        print('You win!')\n",
    "        wins = True\n",
    "    else:\n",
    "        if guess > answer:\n",
    "            print('Too large.')\n",
    "        else:\n",
    "            print('Too small.')\n",
    "else:\n",
    "    if not wins:\n",
    "        print('You lose.')"
   ]
  },
  {
   "cell_type": "markdown",
   "metadata": {},
   "source": [
    "guess_limit.py uses an additional variable, guesses, to count the number of guesses\n",
    "that the user has already made. An extra condition that guesses is smaller than limit\n",
    "is added to the Boolean expression for while, which decides whether to allow the\n",
    "user to guess again. In addition, when the loop finishes, either winsis True or guesses\n",
    "is equal to limit. In the latter case, the user has lost the game. A corresponding else\n",
    "statement block is added so that a message is shown to the user the the game finishes\n",
    "without being won."
   ]
  },
  {
   "cell_type": "markdown",
   "metadata": {},
   "source": [
    "##  Break and Continue"
   ]
  },
  {
   "cell_type": "markdown",
   "metadata": {},
   "source": [
    "break and continue are two statements that are associated with loops; they must\n",
    "be put in a loop body. When break is executed, Python finishes the loop by directly\n",
    "jumping out of the looping statement (e.g. while), executing any successing state\u0002ments. When continue is executed, Python finishes the current loop iteration without\n",
    "executing the rest of the loop body, jumping back to the Boolean condition again."
   ]
  },
  {
   "cell_type": "code",
   "execution_count": 11,
   "metadata": {},
   "outputs": [
    {
     "name": "stdout",
     "output_type": "stream",
     "text": [
      "1\n"
     ]
    }
   ],
   "source": [
    "i = 1\n",
    "while i<3:\n",
    "    print(i)\n",
    "    break  #jump out directly\n",
    "    i +=1\n",
    "else:\n",
    "    print('Done.')"
   ]
  },
  {
   "cell_type": "code",
   "execution_count": 12,
   "metadata": {},
   "outputs": [
    {
     "name": "stdout",
     "output_type": "stream",
     "text": [
      "1\n"
     ]
    }
   ],
   "source": [
    "print(i)"
   ]
  },
  {
   "cell_type": "markdown",
   "metadata": {},
   "source": [
    "In the example above, the statement print i in the while loop is executed only\n",
    "once, because the first time the break statement is executed, the loop finishes. The\n",
    "final value of i is 1, since i+ = 1 is not executed. Because the Boolean expression\n",
    "i < 3 is not evaluated a second time, it does not have a chance to become False, and\n",
    "therefore the else statement block is not executed.\n",
    "An example for continue is shown below."
   ]
  },
  {
   "cell_type": "code",
   "execution_count": 14,
   "metadata": {},
   "outputs": [
    {
     "name": "stdout",
     "output_type": "stream",
     "text": [
      "done\n"
     ]
    }
   ],
   "source": [
    "i = 1\n",
    "while i<3:\n",
    "    i += 1\n",
    "    continue  # jump to while\n",
    "    print (i)\n",
    "else:\n",
    "    print('done')"
   ]
  },
  {
   "cell_type": "code",
   "execution_count": 15,
   "metadata": {},
   "outputs": [
    {
     "name": "stdout",
     "output_type": "stream",
     "text": [
      "3\n"
     ]
    }
   ],
   "source": [
    "print(i)"
   ]
  },
  {
   "cell_type": "markdown",
   "metadata": {},
   "source": [
    "In the example above, the statement print i in the while loop is never executed.\n",
    "This is because every time continue is executed, the rest of the loop body is skipped.\n",
    "However, the loop continues until the Boolean expression i < 3 is changed to False,\n",
    "as demonstrated by the ‘done’ message and the final value of i."
   ]
  },
  {
   "cell_type": "markdown",
   "metadata": {},
   "source": [
    "The use of break and continue can sometimes make a program more intuitive\n",
    "to understand. A version of guess_break.py that uses break instead of a complex\n",
    "Boolean condition is:"
   ]
  },
  {
   "cell_type": "code",
   "execution_count": 17,
   "metadata": {},
   "outputs": [
    {
     "name": "stdout",
     "output_type": "stream",
     "text": [
      "Your guess is: 9\n",
      "Too small.\n",
      "Your guess is: 50\n",
      "Too large.\n",
      "Your guess is: 30\n",
      "Too large.\n",
      "Your guess is: 20\n",
      "Too large.\n",
      "Your guess is: 15\n",
      "Too large.\n",
      "Your guess is: 10\n",
      "Too small.\n",
      "Your guess is: 11\n",
      "Too small.\n",
      "You lose.\n"
     ]
    }
   ],
   "source": [
    "# guess break\n",
    "\n",
    "import random\n",
    "answer = random.randint(1,100)\n",
    "limit = 7\n",
    "guesses = 0\n",
    "while guesses < limit:\n",
    "    guess = int(input(\"Your guess is: \"))\n",
    "    guesses += 1\n",
    "    if guess == answer:\n",
    "        print('You win.')\n",
    "        break\n",
    "    else:\n",
    "        if guess > answer:\n",
    "            print('Too large.')\n",
    "        else:\n",
    "            print('Too small.')\n",
    "else:\n",
    "    print('You lose.')"
   ]
  },
  {
   "cell_type": "markdown",
   "metadata": {},
   "source": [
    "Write Python code that tries to guess a number between 1 and 100. The computer is not going to be very intelligent and will just choose a random number in the range and ask if it has guessed right. If the user says 'no', the program should loop again, generating another random number in the range. This continues until the user does not say 'no', at which point the program should print 'Hooray, your number was NN', where NN is the number."
   ]
  },
  {
   "cell_type": "code",
   "execution_count": 18,
   "metadata": {},
   "outputs": [
    {
     "name": "stdout",
     "output_type": "stream",
     "text": [
      "Pick a number between 1 and 100 and I'll try to guess it \n",
      "Is your number 97?no\n",
      "Is your number 96?no\n",
      "Is your number 74?no\n",
      "Is your number 26?no\n",
      "Is your number 97?no\n",
      "Is your number 34?no\n",
      "Is your number 9?yes\n",
      "Hooray, your number was 9\n"
     ]
    }
   ],
   "source": [
    "import random\n",
    "\n",
    "print(\"Pick a number between 1 and 100 and I'll try to guess it \")\n",
    "correct = \"no\"\n",
    "while(correct == \"no\"):\n",
    "    guess = random.randint(1,100)\n",
    "    correct = input(\"Is your number \"+ str(guess) + \"?\")\n",
    "print(\"Hooray, your number was \" + str(guess))"
   ]
  },
  {
   "cell_type": "code",
   "execution_count": null,
   "metadata": {},
   "outputs": [],
   "source": []
  }
 ],
 "metadata": {
  "kernelspec": {
   "display_name": "Python 3",
   "language": "python",
   "name": "python3"
  },
  "language_info": {
   "codemirror_mode": {
    "name": "ipython",
    "version": 3
   },
   "file_extension": ".py",
   "mimetype": "text/x-python",
   "name": "python",
   "nbconvert_exporter": "python",
   "pygments_lexer": "ipython3",
   "version": "3.7.4"
  }
 },
 "nbformat": 4,
 "nbformat_minor": 2
}
