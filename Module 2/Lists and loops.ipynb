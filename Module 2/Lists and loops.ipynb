{
 "cells": [
  {
   "cell_type": "markdown",
   "metadata": {},
   "source": [
    "Earlier, you used a list of numbers and a loop to calculate the average temperature. Lists can contain other types than numbers and loops allow you to easily access all of the elements."
   ]
  },
  {
   "cell_type": "code",
   "execution_count": 2,
   "metadata": {},
   "outputs": [
    {
     "name": "stdout",
     "output_type": "stream",
     "text": [
      "color list:  ['black', 'white ', 'green', 'red']\n",
      "Print each element of the list using a for-loop\n",
      "black\n",
      "white \n",
      "green\n",
      "red\n"
     ]
    }
   ],
   "source": [
    "#using colors list to iterate\n",
    "colors = ['black', 'white ', 'green', 'red']\n",
    "\n",
    "print('color list: ', colors)\n",
    "\n",
    "print('Print each element of the list using a for-loop')\n",
    "for c in colors:\n",
    "    print(c)"
   ]
  },
  {
   "cell_type": "markdown",
   "metadata": {},
   "source": [
    "In your Jupyter Notebook, write code that finds the 'apple' elements in a list (listThings) and appends them in another list (appleList). Duplicate 'apple' elements should be removed from listThings, so that only one 'apple' element remains in listThings and all the 'apple' elements are added to appleList.\n",
    "For example, if the 'apple' element is repeated three times, the appleList should have three elements and listThings should have one 'apple' element. You will need to use append(), for loop or while loop, count() and remove().\n",
    "\n",
    "Print listThings before and after, remove duplicates and print appleList.\n",
    "\n",
    "Input\n",
    "listThings = ['banana', 'apple', 'apple', 3, 10, 78, 5.5, 'apple', list(range(200,205)), 'apple', 'apple', 10.5]\n",
    "appleList = [ ]\n",
    "\n",
    "Output\n",
    "listThings = ['banana', 'apple', 3, 10, 78, 5.5, list(range(200,205)), 10.5]\n",
    "appleList = ['apple', 'apple', 'apple', 'apple', 'apple']"
   ]
  },
  {
   "cell_type": "markdown",
   "metadata": {},
   "source": [
    "Try breaking the problem down into two steps, write code for each one, and run to check it works.\n",
    "\n",
    "Loop through all of the items in listThings and if the item is 'apple' append it to appleList. Print appleList.\n",
    "Remove duplicate 'apple' elements from listThings (see next hint for this if you want some help). Print listThings."
   ]
  },
  {
   "cell_type": "markdown",
   "metadata": {},
   "source": [
    "How many duplicates do you need to remove? How can you use the count() method to work this out?\n",
    "\n",
    "Loop this many times using a for-loop. Each time you loop, remove an 'apple' from listThings.\n",
    "\n",
    "Print listThings.How many duplicates do you need to remove? How can you use the count() method to work this out?\n",
    "\n",
    "Loop this many times using a for-loop. Each time you loop, remove an 'apple' from listThings.\n",
    "\n",
    "Print listThings."
   ]
  },
  {
   "cell_type": "code",
   "execution_count": 4,
   "metadata": {},
   "outputs": [
    {
     "name": "stdout",
     "output_type": "stream",
     "text": [
      "listThings->  ['banana', 'apple', 'apple', 3, 10, 78, 5.5, 'apple', [200, 201, 202, 203, 204], 'apple', 'apple', 10.5]\n",
      "listThings =  ['banana', 3, 10, 78, 5.5, [200, 201, 202, 203, 204], 'apple', 10.5]\n",
      "appleList =  ['apple', 'apple', 'apple', 'apple', 'apple']\n"
     ]
    }
   ],
   "source": [
    "listThings = ['banana', 'apple', 'apple', 3, 10, 78, 5.5, 'apple', \n",
    "              list(range(200,205)), 'apple', 'apple', 10.5]\n",
    "#Print listThings\n",
    "print('listThings-> ', listThings)\n",
    "\n",
    "fruit = 'apple'\n",
    "seen = False\n",
    "appleList = []\n",
    "\n",
    "\n",
    "# add all of the apple elements to the appleList\n",
    "for thing in listThings:\n",
    "    if(thing == fruit):\n",
    "        appleList.append(thing)\n",
    "\n",
    "# count how many times apple occurs and remove all but one of these\n",
    "for i in range(listThings.count(fruit)-1):\n",
    "    listThings.remove(fruit)\n",
    "    \n",
    "print('listThings = ', listThings)\n",
    "print('appleList = ', appleList)"
   ]
  },
  {
   "cell_type": "markdown",
   "metadata": {},
   "source": [
    "In these activities, you’ve covered a lot about lists. Lists allow you to store multiple data in a single variable. Key concepts we have covered:\n",
    "\n",
    "Lists with the same type of data\n",
    "\n",
    "Lists with different types of data\n",
    "\n",
    "Operators on lists (+, *, in, not in)\n",
    "\n",
    "List methods\n",
    "\n",
    "len()\n",
    "\n",
    "append()\n",
    "\n",
    "insert()\n",
    "\n",
    "remove()\n",
    "\n",
    "sort()\n",
    "\n",
    "Getting parts of a list\n",
    "\n",
    "accessing: [ ]\n",
    "\n",
    "slicing: [start:stop:step]\n",
    "\n",
    "copying: copy()\n",
    "\n",
    "Using loops to process list data."
   ]
  },
  {
   "cell_type": "code",
   "execution_count": null,
   "metadata": {},
   "outputs": [],
   "source": []
  }
 ],
 "metadata": {
  "kernelspec": {
   "display_name": "Python 3",
   "language": "python",
   "name": "python3"
  },
  "language_info": {
   "codemirror_mode": {
    "name": "ipython",
    "version": 3
   },
   "file_extension": ".py",
   "mimetype": "text/x-python",
   "name": "python",
   "nbconvert_exporter": "python",
   "pygments_lexer": "ipython3",
   "version": "3.7.4"
  }
 },
 "nbformat": 4,
 "nbformat_minor": 2
}
