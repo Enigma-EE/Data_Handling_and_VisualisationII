{
 "cells": [
  {
   "cell_type": "code",
   "execution_count": 1,
   "metadata": {},
   "outputs": [
    {
     "name": "stdout",
     "output_type": "stream",
     "text": [
      "Average Temperature per week 19.43\n"
     ]
    }
   ],
   "source": [
    "dayTemp1 = 22\n",
    "dayTemp2 = 18\n",
    "dayTemp3 = 20\n",
    "dayTemp4 = 21\n",
    "dayTemp5 = 23\n",
    "dayTemp6 = 15\n",
    "dayTemp7 = 17\n",
    "averageTemWeek = (dayTemp1 + dayTemp2 + dayTemp3 + dayTemp4 +dayTemp5 +dayTemp6 +dayTemp7)/7\n",
    "print(\"Average Temperature per week\", round(averageTemWeek,2))"
   ]
  },
  {
   "cell_type": "markdown",
   "metadata": {},
   "source": [
    "Sometimes you need to store more than one value in a variable. For example, the temperature for each day during a month. For this, you would need 30 variables, but to manage that many variables would be very tedious! The solution to this is to use a 'list', which lets you store all 30 values with just one variable. Consider the example where you need the average temperature for a week."
   ]
  },
  {
   "cell_type": "markdown",
   "metadata": {},
   "source": [
    "You can manage that with separate variables for one week, but what if you wanted two weeks, three weeks, or more? You can combine these temperatures into a single variable called 'temps' that stores a list as follows:"
   ]
  },
  {
   "cell_type": "code",
   "execution_count": 2,
   "metadata": {},
   "outputs": [
    {
     "name": "stdout",
     "output_type": "stream",
     "text": [
      "[22, 18, 20, 21, 23, 15, 17]\n"
     ]
    }
   ],
   "source": [
    "# to create a list\n",
    "# list the items to be included separated by commas in inside of square brackets\n",
    "temps = [22,18,20,21,23,15,17]\n",
    "print(temps)"
   ]
  },
  {
   "cell_type": "markdown",
   "metadata": {},
   "source": [
    "A very useful feature of lists is that they are a sequence, so you can use them in a 'for in' loop. You can sum the temperatures in a loop."
   ]
  },
  {
   "cell_type": "code",
   "execution_count": 4,
   "metadata": {},
   "outputs": [
    {
     "name": "stdout",
     "output_type": "stream",
     "text": [
      "136\n"
     ]
    }
   ],
   "source": [
    "temps = [22,18,20,21,23,15,17]\n",
    "sum = 0\n",
    "for temp in temps:\n",
    "    sum = sum + temp\n",
    "    \n",
    "print(sum)"
   ]
  },
  {
   "cell_type": "code",
   "execution_count": 6,
   "metadata": {},
   "outputs": [
    {
     "data": {
      "text/plain": [
       "7"
      ]
     },
     "execution_count": 6,
     "metadata": {},
     "output_type": "execute_result"
    }
   ],
   "source": [
    "#You can get the number of elements in the list by using the len() function\n",
    "temps = [22,18,20,21,23,15,17]\n",
    "len(temps)"
   ]
  },
  {
   "cell_type": "markdown",
   "metadata": {},
   "source": [
    "Combine the ideas on the previous page (looping over the list to calculate the sum and getting the number of elements) to write Python code to create a list of temperatures and then calculate and print the average temperature."
   ]
  },
  {
   "cell_type": "code",
   "execution_count": 11,
   "metadata": {},
   "outputs": [
    {
     "name": "stdout",
     "output_type": "stream",
     "text": [
      "The average temperture is: 19.4\n"
     ]
    }
   ],
   "source": [
    "temps = [22,18,20,21,23,15,17]\n",
    "sum = 0\n",
    "for temp in temps:\n",
    "    sum = sum + temp\n",
    "averageTemWeek = sum/len(temps)\n",
    "print('The average temperture is: ' + str(round(averageTemWeek,1)))"
   ]
  },
  {
   "cell_type": "code",
   "execution_count": null,
   "metadata": {},
   "outputs": [],
   "source": []
  }
 ],
 "metadata": {
  "kernelspec": {
   "display_name": "Python 3",
   "language": "python",
   "name": "python3"
  },
  "language_info": {
   "codemirror_mode": {
    "name": "ipython",
    "version": 3
   },
   "file_extension": ".py",
   "mimetype": "text/x-python",
   "name": "python",
   "nbconvert_exporter": "python",
   "pygments_lexer": "ipython3",
   "version": "3.7.4"
  }
 },
 "nbformat": 4,
 "nbformat_minor": 2
}
