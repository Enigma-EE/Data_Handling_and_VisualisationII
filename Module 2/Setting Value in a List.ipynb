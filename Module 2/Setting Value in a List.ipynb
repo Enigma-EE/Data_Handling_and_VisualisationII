{
 "cells": [
  {
   "cell_type": "markdown",
   "metadata": {},
   "source": [
    "Setting the value in a list takes the form of the assignment statement e.g. list1[index] = value.\n",
    "\n",
    "Also, you can use slice to assign a value, or values, in a specific slice of the list."
   ]
  },
  {
   "cell_type": "code",
   "execution_count": 2,
   "metadata": {},
   "outputs": [
    {
     "name": "stdout",
     "output_type": "stream",
     "text": [
      "list1 before assignment:  [1, 2, 3, 'Hello', 5, 'six']\n",
      "list1 after assignment:  [1, 2, 3, 'four', 5, 'six']\n"
     ]
    }
   ],
   "source": [
    "#Example of setting the value in a specific list position\n",
    "list1 = [1, 2, 3, 'Hello', 5, 'six']\n",
    "print('list1 before assignment: ', list1)\n",
    "list1[3] = 'four'\n",
    "print('list1 after assignment: ', list1)"
   ]
  },
  {
   "cell_type": "code",
   "execution_count": 3,
   "metadata": {},
   "outputs": [
    {
     "data": {
      "text/plain": [
       "[1.4, 3, 20.8, 5, 'a', 'b', 'c']"
      ]
     },
     "execution_count": 3,
     "metadata": {},
     "output_type": "execute_result"
    }
   ],
   "source": [
    "#Example of setting the values in a slice of the list \n",
    "list1 = [1.4,3,20.8,5,'d']\n",
    "string = 'abc'\n",
    "list1[4:] = string\n",
    "list1"
   ]
  },
  {
   "cell_type": "code",
   "execution_count": null,
   "metadata": {},
   "outputs": [],
   "source": []
  }
 ],
 "metadata": {
  "kernelspec": {
   "display_name": "Python 3",
   "language": "python",
   "name": "python3"
  },
  "language_info": {
   "codemirror_mode": {
    "name": "ipython",
    "version": 3
   },
   "file_extension": ".py",
   "mimetype": "text/x-python",
   "name": "python",
   "nbconvert_exporter": "python",
   "pygments_lexer": "ipython3",
   "version": "3.7.4"
  }
 },
 "nbformat": 4,
 "nbformat_minor": 2
}
