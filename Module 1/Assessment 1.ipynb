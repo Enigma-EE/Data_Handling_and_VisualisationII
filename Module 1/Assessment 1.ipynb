{
 "cells": [
  {
   "cell_type": "markdown",
   "metadata": {},
   "source": [
    "## Section 1 – Blood Glucose Data "
   ]
  },
  {
   "cell_type": "markdown",
   "metadata": {},
   "source": [
    "## A Set of Simulated Blood Glucose Data"
   ]
  },
  {
   "cell_type": "markdown",
   "metadata": {},
   "source": [
    "**This is a simulation of the behaviour of the glucose in the blood in 5 persons without diabetes**\n",
    "\n",
    "* the normal values are below 126 mg/dL and over 60 mg/dL"
   ]
  },
  {
   "cell_type": "code",
   "execution_count": 9,
   "metadata": {},
   "outputs": [
    {
     "name": "stdout",
     "output_type": "stream",
     "text": [
      "Subject 1: 95\n",
      "Subject 2: 84\n",
      "Subject 3: 101\n",
      "Subject 4: 99\n",
      "Subject 5: 100\n"
     ]
    }
   ],
   "source": [
    "#generate and print random numbers in [60, 126]\n",
    "\n",
    "import random\n",
    "\n",
    "print('Subject 1:', random.randint(60,126))\n",
    "print('Subject 2:', random.randint(60,126))\n",
    "print('Subject 3:', random.randint(60,126))\n",
    "print('Subject 4:', random.randint(60,126))\n",
    "print('Subject 5:', random.randint(60,126))"
   ]
  },
  {
   "cell_type": "markdown",
   "metadata": {},
   "source": [
    "## Section 2 – BMI calculator"
   ]
  },
  {
   "cell_type": "markdown",
   "metadata": {},
   "source": [
    "## A Body Mass Index (BMI) Calculator"
   ]
  },
  {
   "cell_type": "markdown",
   "metadata": {},
   "source": [
    "**This is a calculator for calculating the Body Mass Index (BMI) in kg/m^2.**\n",
    "\n",
    "* The BMI is calculated as body mass (colloquially called weight) divided by height squared\n",
    "* The equation used is **BMI = m/h^2**\n",
    " * m is the person’s weight in kg and h is their height in metres"
   ]
  },
  {
   "cell_type": "code",
   "execution_count": 6,
   "metadata": {},
   "outputs": [
    {
     "name": "stdout",
     "output_type": "stream",
     "text": [
      "Enter a number for the weight:   37\n",
      "Enter a number for the height:   156\n",
      "BMI =   2.96\n"
     ]
    }
   ],
   "source": [
    "import math\n",
    "\n",
    "x = float(input('Enter a number for the weight:   '))\n",
    "y = float(input('Enter a number for the height:   '))\n",
    "z = math.sqrt(y)\n",
    "print('BMI =  ', round(x/z,2))"
   ]
  },
  {
   "cell_type": "markdown",
   "metadata": {},
   "source": [
    "## Section 3 – DNA"
   ]
  },
  {
   "cell_type": "markdown",
   "metadata": {},
   "source": [
    "## Counting the Four Nucleobases: AGCT"
   ]
  },
  {
   "cell_type": "markdown",
   "metadata": {},
   "source": [
    "**This is a tool for determines the number of times each of the four nucleobases: adenine, guanine, cytosine, and thymine appears in a DNA sequence.**"
   ]
  },
  {
   "cell_type": "markdown",
   "metadata": {},
   "source": [
    "* In here the DNA sequence is represented as the letters of the nucleobases in the order they appear.\n",
    "* You will type in a sequence of nucleobases as A,G,C,T.\n",
    "  * For example: GAATAACA "
   ]
  },
  {
   "cell_type": "code",
   "execution_count": 2,
   "metadata": {},
   "outputs": [
    {
     "name": "stdout",
     "output_type": "stream",
     "text": [
      "Enter your DNA sequence:    GAATAACA\n",
      "Your sequence is  GAATAACA\n",
      "Adenine:   5\n",
      "Guanine:   1\n",
      "Cytosine:   1\n",
      "Thymine:   1\n"
     ]
    }
   ],
   "source": [
    "dna = str(input('Enter your DNA sequence:    '))\n",
    "print('Your sequence is ',dna)\n",
    "print('Adenine:  ',dna.count('A'))\n",
    "print('Guanine:  ',dna.count('G'))\n",
    "print('Cytosine:  ',dna.count('C'))\n",
    "print('Thymine:  ',dna.count('T'))"
   ]
  },
  {
   "cell_type": "markdown",
   "metadata": {},
   "source": [
    "**If the tool above dose not work, copy your sequence in the text box below**"
   ]
  },
  {
   "cell_type": "code",
   "execution_count": 4,
   "metadata": {},
   "outputs": [
    {
     "name": "stdout",
     "output_type": "stream",
     "text": [
      "Enter your DNA sequence:    g,aTaC\n",
      "Your sequence is  GATAC\n",
      "Adenine:   2\n",
      "Guanine:   1\n",
      "Cytosine:   1\n",
      "Thymine:   1\n"
     ]
    }
   ],
   "source": [
    "dna2 = str(input('Enter your DNA sequence:    '))\n",
    "dna2 = dna2.upper()\n",
    "dna2= dna2.replace(',', '')\n",
    "print('Your sequence is ',dna2)\n",
    "print('Adenine:  ',dna2.count('A'))\n",
    "print('Guanine:  ',dna2.count('G'))\n",
    "print('Cytosine:  ',dna2.count('C'))\n",
    "print('Thymine:  ',dna2.count('T'))"
   ]
  },
  {
   "cell_type": "code",
   "execution_count": 1,
   "metadata": {},
   "outputs": [
    {
     "data": {
      "text/plain": [
       "0.1875"
      ]
     },
     "execution_count": 1,
     "metadata": {},
     "output_type": "execute_result"
    }
   ],
   "source": [
    "3/(4*4)"
   ]
  },
  {
   "cell_type": "code",
   "execution_count": 2,
   "metadata": {},
   "outputs": [
    {
     "data": {
      "text/plain": [
       "3.0"
      ]
     },
     "execution_count": 2,
     "metadata": {},
     "output_type": "execute_result"
    }
   ],
   "source": [
    "3/4*4"
   ]
  },
  {
   "cell_type": "code",
   "execution_count": 3,
   "metadata": {},
   "outputs": [
    {
     "data": {
      "text/plain": [
       "3.0"
      ]
     },
     "execution_count": 3,
     "metadata": {},
     "output_type": "execute_result"
    }
   ],
   "source": [
    "(3/4)*4"
   ]
  },
  {
   "cell_type": "code",
   "execution_count": null,
   "metadata": {},
   "outputs": [],
   "source": []
  }
 ],
 "metadata": {
  "kernelspec": {
   "display_name": "Python 3",
   "language": "python",
   "name": "python3"
  },
  "language_info": {
   "codemirror_mode": {
    "name": "ipython",
    "version": 3
   },
   "file_extension": ".py",
   "mimetype": "text/x-python",
   "name": "python",
   "nbconvert_exporter": "python",
   "pygments_lexer": "ipython3",
   "version": "3.7.4"
  }
 },
 "nbformat": 4,
 "nbformat_minor": 2
}
