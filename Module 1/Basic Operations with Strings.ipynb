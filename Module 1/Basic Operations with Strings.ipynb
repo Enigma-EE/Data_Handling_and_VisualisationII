{
 "cells": [
  {
   "cell_type": "markdown",
   "metadata": {},
   "source": [
    "Now that you know about strings, there are many operations that you can do on them. Some very useful ones are:\n",
    "\n",
    "concatenate a string with others strings, using +\n",
    "\n",
    "repetition of strings for a number of times *\n",
    "\n",
    "getting the length of a string with len() function."
   ]
  },
  {
   "cell_type": "code",
   "execution_count": 2,
   "metadata": {},
   "outputs": [
    {
     "data": {
      "text/plain": [
       "'Example of string concatenation:Hello wordfrom Jupter!'"
      ]
     },
     "execution_count": 2,
     "metadata": {},
     "output_type": "execute_result"
    }
   ],
   "source": [
    "# Combining (concatenate)two or more string\n",
    "str1 = 'Hello word'\n",
    "str2 = 'from Jupter!'\n",
    "str3 = 'Example of string concatenation:'\n",
    "str3+str1+str2"
   ]
  },
  {
   "cell_type": "code",
   "execution_count": 3,
   "metadata": {},
   "outputs": [
    {
     "name": "stdout",
     "output_type": "stream",
     "text": [
      "Another example of string concatenation: Hello wordfrom Jupter!\n"
     ]
    }
   ],
   "source": [
    "#You can assign the concatenation to a variable \n",
    "str3 = str1 + str2\n",
    "\n",
    "#You can also concatenate inside of the print \n",
    "print('Another example of string concatenation: ' + str3)"
   ]
  },
  {
   "cell_type": "code",
   "execution_count": 4,
   "metadata": {},
   "outputs": [
    {
     "data": {
      "text/plain": [
       "'Hello!Hello!Hello!'"
      ]
     },
     "execution_count": 4,
     "metadata": {},
     "output_type": "execute_result"
    }
   ],
   "source": [
    "#repeting strings for n times\n",
    "str1 = 'Hello!'\n",
    "str1*3"
   ]
  },
  {
   "cell_type": "code",
   "execution_count": 5,
   "metadata": {},
   "outputs": [
    {
     "name": "stdout",
     "output_type": "stream",
     "text": [
      "Bye!Bye!Bye!Bye!Bye!Bye!\n"
     ]
    }
   ],
   "source": [
    "#You can assign the string repetition to a variable\n",
    "str1 = 'Bye!' *2\n",
    "\n",
    "#Also, you can repeat a string inside of the print\n",
    "print(str1*3)\n"
   ]
  },
  {
   "cell_type": "code",
   "execution_count": 6,
   "metadata": {},
   "outputs": [
    {
     "data": {
      "text/plain": [
       "11"
      ]
     },
     "execution_count": 6,
     "metadata": {},
     "output_type": "execute_result"
    }
   ],
   "source": [
    "#Getting the length of a string \n",
    "\n",
    "#this string has 11 characters including the blank spaces\n",
    "str1 = \"Hello World\"\n",
    "len(str1)"
   ]
  },
  {
   "cell_type": "markdown",
   "metadata": {},
   "source": [
    "So far, you have been mostly using just variables and literal values. But often you want to get the values from somewhere outside the program: a user, a database, a file, etc. You can get input from the user by using the input( ) function. In your Jupyter notebook, type the code below and run it."
   ]
  },
  {
   "cell_type": "code",
   "execution_count": 7,
   "metadata": {},
   "outputs": [
    {
     "name": "stdout",
     "output_type": "stream",
     "text": [
      "Enter your name:EE\n",
      "Your entered: EE\n"
     ]
    }
   ],
   "source": [
    "name = input('Enter your name:')\n",
    "print('Your entered:', name)"
   ]
  },
  {
   "cell_type": "code",
   "execution_count": 17,
   "metadata": {},
   "outputs": [
    {
     "name": "stdout",
     "output_type": "stream",
     "text": [
      "Enter a string: Arknights\n",
      "Enter a string: Genshen\n",
      "Enter a string: PC\n",
      "ArknightsArknightsArknightsArknightsArknightsArknightsArknightsArknights\n",
      "ArknightsGenshenPC\n",
      "9 7 2\n"
     ]
    }
   ],
   "source": [
    "str1 = input(\"Enter a string: \")\n",
    "str2 = input(\"Enter a string: \")\n",
    "str3 = input(\"Enter a string: \")\n",
    "\n",
    "print (str1 * 8)\n",
    "\n",
    "print (str1+str2+str3)\n",
    "\n",
    "print (len(str1), len(str2), len(str3))"
   ]
  },
  {
   "cell_type": "code",
   "execution_count": 19,
   "metadata": {},
   "outputs": [
    {
     "name": "stdout",
     "output_type": "stream",
     "text": [
      "Enter a string: 2\n"
     ]
    },
    {
     "data": {
      "text/plain": [
       "str"
      ]
     },
     "execution_count": 19,
     "metadata": {},
     "output_type": "execute_result"
    }
   ],
   "source": []
  },
  {
   "cell_type": "code",
   "execution_count": null,
   "metadata": {},
   "outputs": [],
   "source": []
  }
 ],
 "metadata": {
  "kernelspec": {
   "display_name": "Python 3",
   "language": "python",
   "name": "python3"
  },
  "language_info": {
   "codemirror_mode": {
    "name": "ipython",
    "version": 3
   },
   "file_extension": ".py",
   "mimetype": "text/x-python",
   "name": "python",
   "nbconvert_exporter": "python",
   "pygments_lexer": "ipython3",
   "version": "3.7.4"
  }
 },
 "nbformat": 4,
 "nbformat_minor": 2
}
