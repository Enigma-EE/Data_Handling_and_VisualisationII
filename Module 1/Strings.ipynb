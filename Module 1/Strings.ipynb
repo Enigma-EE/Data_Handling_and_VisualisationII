{
 "cells": [
  {
   "cell_type": "markdown",
   "metadata": {},
   "source": [
    "In Python, strings are a special data type: a sequence of characters used for dealing with text, such as names or places. Also, Python has a lot of methods for manipulating strings. A string is created by inserting text in single or double quotation marks. It usually makes no difference which you choose, but there are some cases where it matters which you'll learn about. A triple quotation is used for strings that cover more than one line."
   ]
  },
  {
   "cell_type": "code",
   "execution_count": 1,
   "metadata": {},
   "outputs": [
    {
     "name": "stdout",
     "output_type": "stream",
     "text": [
      "Example 1. Hello data scientists \n",
      "Example 2. Hello data scientists \n",
      "\n",
      "Example 3. To divide a long string into two or more\n",
      "lines without error when running the cell, \n",
      "use triple quotation marks.\n"
     ]
    }
   ],
   "source": [
    "string1 = 'Example 1. Hello data scientists '\n",
    "string2 = \"Example 2. Hello data scientists \"\n",
    "\n",
    "#We can declare an emty string\n",
    "string3 = \"\" \n",
    "\n",
    "multipleLineString = \"\"\"Example 3. To divide a long string into two or more\n",
    "lines without error when running the cell, \n",
    "use triple quotation marks.\"\"\"\n",
    "print(string1)\n",
    "print(string2)\n",
    "print(string3)\n",
    "print(multipleLineString)"
   ]
  },
  {
   "cell_type": "code",
   "execution_count": 2,
   "metadata": {},
   "outputs": [
    {
     "data": {
      "text/plain": [
       "str"
      ]
     },
     "execution_count": 2,
     "metadata": {},
     "output_type": "execute_result"
    }
   ],
   "source": [
    "type(multipleLineString)"
   ]
  },
  {
   "cell_type": "markdown",
   "metadata": {},
   "source": [
    "### Special characters into a string"
   ]
  },
  {
   "cell_type": "markdown",
   "metadata": {},
   "source": [
    "You use the backslash \\ to get certain special characters (called escaped characters) into your string.\n",
    "\n",
    "For example, the new line is actually represented by the special character \\n You can see these special characters when displaying the value of the string (note displaying not printing). This is how strings with special characters look!"
   ]
  },
  {
   "cell_type": "code",
   "execution_count": 5,
   "metadata": {},
   "outputs": [
    {
     "data": {
      "text/plain": [
       "'ABC --\\nDEF--\\nGHI--'"
      ]
     },
     "execution_count": 5,
     "metadata": {},
     "output_type": "execute_result"
    }
   ],
   "source": [
    "# /n represents a new line\n",
    "str1 = \"\"\"ABC --\n",
    "DEF--\n",
    "GHI--\"\"\"\n",
    "str1"
   ]
  },
  {
   "cell_type": "markdown",
   "metadata": {},
   "source": [
    "When you display str1 in the example above, you can see the \\n characters representing the new lines. Printing, as opposed to displaying, has a different effect. The special characters affect how strings are printed, but we don't see the special character notation in the printed output. For example, if the \\n special character is in the string the print will put a new line at that point."
   ]
  },
  {
   "cell_type": "code",
   "execution_count": 7,
   "metadata": {},
   "outputs": [
    {
     "name": "stdout",
     "output_type": "stream",
     "text": [
      "\n",
      "\n",
      "ABC\n",
      "DEF\n",
      "GHI\n"
     ]
    }
   ],
   "source": [
    "str1 = 'ABC\\nDEF\\nGHI'\n",
    "print('\\n')# You can include \\n inside the print on its own.  This will print an blank line.\n",
    "print(str1)"
   ]
  },
  {
   "cell_type": "code",
   "execution_count": 9,
   "metadata": {},
   "outputs": [
    {
     "name": "stdout",
     "output_type": "stream",
     "text": [
      "JKL\tMNO\tPQR\n"
     ]
    }
   ],
   "source": [
    "#'\\t' represents the tab in a string \n",
    "str2 = 'JKL\\tMNO\\tPQR'\n",
    "print(str2)"
   ]
  },
  {
   "cell_type": "markdown",
   "metadata": {},
   "source": [
    "What if you want to include a single quotation mark in your string? This causes a problem as the quotation mark will be assumed to mark the end of the string."
   ]
  },
  {
   "cell_type": "code",
   "execution_count": 10,
   "metadata": {},
   "outputs": [
    {
     "ename": "SyntaxError",
     "evalue": "invalid syntax (<ipython-input-10-635e7ebcd244>, line 2)",
     "output_type": "error",
     "traceback": [
      "\u001b[1;36m  File \u001b[1;32m\"<ipython-input-10-635e7ebcd244>\"\u001b[1;36m, line \u001b[1;32m2\u001b[0m\n\u001b[1;33m    str1 = 'I don't like homework'\u001b[0m\n\u001b[1;37m                  ^\u001b[0m\n\u001b[1;31mSyntaxError\u001b[0m\u001b[1;31m:\u001b[0m invalid syntax\n"
     ]
    }
   ],
   "source": [
    "# You want to insert apostrophes into strings, but this won't work!\n",
    "str1 = 'I don't like homework'"
   ]
  },
  {
   "cell_type": "markdown",
   "metadata": {},
   "source": [
    "You can fix this problem by again using the **\\** escape character.  You can also fix this by using the double quote instead of the single quote. Likewise, if you want to include the double quote, you can escape it or use the single quotes for your string."
   ]
  },
  {
   "cell_type": "code",
   "execution_count": 14,
   "metadata": {},
   "outputs": [
    {
     "name": "stdout",
     "output_type": "stream",
     "text": [
      "\n",
      " I don't like homework \n",
      " I don't like homework \n",
      " He said:\"Hello\" \n",
      " He said \"Hello\"\n"
     ]
    }
   ],
   "source": [
    "# \\is used to insert apostrophes\n",
    "str1 = 'I don\\'t like homework'\n",
    "#ues double quotation marks\n",
    "str2=\"I don't like homework\"\n",
    "\n",
    "# the same issue occurs if you want to include double quotes!\n",
    "# again you can either use \\ to escape or use single quotes to start/end the string\n",
    "\n",
    "# \\ is used to insert double quote\n",
    "str3 = \"He said:\\\"Hello\\\"\"\n",
    "# use single quotation marks\n",
    "str4 = 'He said \"Hello\"'\n",
    "\n",
    "print('\\n',str1,'\\n',str2,'\\n',str3,'\\n',str4)"
   ]
  },
  {
   "cell_type": "code",
   "execution_count": 15,
   "metadata": {},
   "outputs": [
    {
     "name": "stdout",
     "output_type": "stream",
     "text": [
      "c:\\Documents\\PythonCourse\\strings.ipynb\n"
     ]
    }
   ],
   "source": [
    "# \\\\is also used to insert the backslash itself\n",
    "fileName = 'c:\\\\Documents\\\\PythonCourse\\\\strings.ipynb'\n",
    "print(fileName)"
   ]
  },
  {
   "cell_type": "code",
   "execution_count": 24,
   "metadata": {},
   "outputs": [
    {
     "name": "stdout",
     "output_type": "stream",
     "text": [
      "Tia's\n",
      "his\n",
      "students' \n",
      "To escape a special character use the \\ character\n",
      "She said: \"My cat's favourite food is tuna\" \n"
     ]
    }
   ],
   "source": [
    "# Solution \n",
    "str1 = '''Tia\\'s\n",
    "his\n",
    "students\\' '''\n",
    "str2 = \"To escape a special character use the \\\\ character\"\n",
    "str3 = \"She said: \\\"My cat's favourite food is tuna\\\" \"\n",
    "\n",
    "print (str1)\n",
    "print (str2)\n",
    "print (str3)\n"
   ]
  },
  {
   "cell_type": "code",
   "execution_count": null,
   "metadata": {},
   "outputs": [],
   "source": []
  }
 ],
 "metadata": {
  "kernelspec": {
   "display_name": "Python 3",
   "language": "python",
   "name": "python3"
  },
  "language_info": {
   "codemirror_mode": {
    "name": "ipython",
    "version": 3
   },
   "file_extension": ".py",
   "mimetype": "text/x-python",
   "name": "python",
   "nbconvert_exporter": "python",
   "pygments_lexer": "ipython3",
   "version": "3.7.4"
  }
 },
 "nbformat": 4,
 "nbformat_minor": 2
}
