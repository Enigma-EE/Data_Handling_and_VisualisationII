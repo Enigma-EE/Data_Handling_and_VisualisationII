{
 "cells": [
  {
   "cell_type": "markdown",
   "metadata": {},
   "source": [
    "A slice is used to pick out part of a string.  It usually takes three values:\n",
    "\n",
    "1. start — starting index where the slicing of the string starts.\n",
    "1. stop — index until which the slicing takes place. The slicing stops at length of the string.\n",
    "1. step — integer value which determines the increment between each index for slicing.\n",
    "\n",
    "Example: str1[start:stop:step]"
   ]
  },
  {
   "cell_type": "markdown",
   "metadata": {},
   "source": [
    "You don't have to provide all of the parameters; just the ones you want to specify. If you leave out the step parameter, it will step by 1. If you leave out start, it will start from the beginning of the string. If you leave out stop, it will go to the end of the string.\n",
    "\n",
    "You can also use negative values. For the start and stop, it will be the distance of the index from the end of the string, instead of from the beginning. For step, a negative number will cause it to go from the end characters towards the start."
   ]
  },
  {
   "cell_type": "code",
   "execution_count": 2,
   "metadata": {},
   "outputs": [
    {
     "name": "stdout",
     "output_type": "stream",
     "text": [
      "length of str1-> 12\n",
      "str1[0:5]-> HELLO\n",
      "str1[0:5:1]-> HELLO\n",
      "str1[ :5]-> HELLO\n",
      "str1[6:12]-> WORLD!\n",
      "str1[6: ]-> WORLD!\n",
      "str1[-3: ]-> LD!\n",
      "str1[ : :2]-> HLOWRD\n",
      "str1[0:6:2]-> HLO\n",
      "str1[ : :-1]-> !DLROW OLLEH\n",
      "str1[:]-> HELLO WORLD!\n"
     ]
    }
   ],
   "source": [
    "# Examples with slices\n",
    "str1 = 'HELLO WORLD!' # This string has 12 characters \n",
    "print('length of str1->',len(str1))\n",
    "\n",
    "print('str1[0:5]->',str1[0:5])#without step\n",
    "\n",
    "print('str1[0:5:1]->',str1[0:5:1])#with step\n",
    "\n",
    "print('str1[ :5]->',str1[:5])#When the start position is not specified for default it starts in 0\n",
    "\n",
    "print('str1[6:12]->',str1[6:12])#Return the characters from position 6 to 12\n",
    "\n",
    "print('str1[6: ]->',str1[6: ])\n",
    "#When the stop position is not specified for default it stops at the end of the string\n",
    "\n",
    "print('str1[-3: ]->',str1[-3: ])#Return the last 3 characters of the string\n",
    "\n",
    "print('str1[ : :2]->',str1[ : :2])#Return characters every 2 positions\n",
    "\n",
    "print('str1[0:6:2]->',str1[ 0:6:2])#Return the characters from position 0 to 6 every 2 positions\n",
    "\n",
    "print('str1[ : :-1]->',str1[ : :-1])#a negative step reverses the string\n",
    "\n",
    "print('str1[:]->',str1[:])#Return all the characters of the string"
   ]
  },
  {
   "cell_type": "code",
   "execution_count": 7,
   "metadata": {},
   "outputs": [
    {
     "name": "stdout",
     "output_type": "stream",
     "text": [
      "alphabet[0:5]-> abcde\n",
      "alphabet[5:15]-> fghijklmno\n",
      "abcdefghijklmnopqrstu\n",
      "acegikmoqsuwy\n",
      "aeimquy\n",
      "zyxwvutsrqponmlkjihgfedcba\n"
     ]
    }
   ],
   "source": [
    "alphabet ='abcdefghijklmnopqrstuvwxyz'\n",
    "\n",
    "print('alphabet[0:5]->',alphabet[0:5])\n",
    "print('alphabet[5:15]->',alphabet[5:15])\n",
    "print(alphabet[:-5])\n",
    "print(alphabet[::2])\n",
    "print(alphabet[::4])\n",
    "print(alphabet[::-1])"
   ]
  },
  {
   "cell_type": "code",
   "execution_count": null,
   "metadata": {},
   "outputs": [],
   "source": []
  }
 ],
 "metadata": {
  "kernelspec": {
   "display_name": "Python 3",
   "language": "python",
   "name": "python3"
  },
  "language_info": {
   "codemirror_mode": {
    "name": "ipython",
    "version": 3
   },
   "file_extension": ".py",
   "mimetype": "text/x-python",
   "name": "python",
   "nbconvert_exporter": "python",
   "pygments_lexer": "ipython3",
   "version": "3.7.4"
  }
 },
 "nbformat": 4,
 "nbformat_minor": 2
}
