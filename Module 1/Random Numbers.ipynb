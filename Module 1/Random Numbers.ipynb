{
 "cells": [
  {
   "cell_type": "markdown",
   "metadata": {},
   "source": [
    "Python has another module called random that lets you generate random numbers. This module has a basic function random(), which generates a random float (using a uniform distribution) in the range [0.0, 1.0]. As with all modules, to use the random module you need to import it.\n",
    "\n",
    "https://docs.python.org/3/library/random.html"
   ]
  },
  {
   "cell_type": "code",
   "execution_count": 1,
   "metadata": {},
   "outputs": [
    {
     "name": "stdout",
     "output_type": "stream",
     "text": [
      "Random float number 1 is  0.9444391126045205\n",
      "Random float number 2 is  0.42157109457892616\n",
      "Random float number 3 is  0.5343533376833675\n",
      "Random float number 4 is  0.8833480563318564\n"
     ]
    }
   ],
   "source": [
    "import random\n",
    "print('Random float number 1 is ', random.random())\n",
    "print('Random float number 2 is ', random.random())\n",
    "print('Random float number 3 is ', random.random())\n",
    "print('Random float number 4 is ', random.random())\n",
    "#Every time this cell is executed, the generated numbers change \n"
   ]
  },
  {
   "cell_type": "markdown",
   "metadata": {},
   "source": [
    "### Generating a random float number in a range"
   ]
  },
  {
   "cell_type": "markdown",
   "metadata": {},
   "source": [
    "The basic **random** function is good for probabilities since it gives a number between 0.0 and 1.0 (inclusive), but often you want a random number in a different range, for example, simulating the roll of a die, which should give a number between 1 and 6 (inclusive).\n",
    "\n",
    "You can generate a uniformly distributed random float number in a range with the function **random.uniform()**. This function needs a starting point (the minimum number allowed) and stopping point (the maximum number allowed)."
   ]
  },
  {
   "cell_type": "code",
   "execution_count": 2,
   "metadata": {},
   "outputs": [
    {
     "name": "stdout",
     "output_type": "stream",
     "text": [
      "Random float between -3.5 and 8.3 4.879474534779662\n",
      "Random float between 25.5 and 99.9 27.24637959019221\n"
     ]
    }
   ],
   "source": [
    "# starting point -3.5,stopping point 8.3\n",
    "print('Random float between -3.5 and 8.3', random.uniform(-3.5,8.3))\n",
    "# starting point 25.5,stopping point 99.9\n",
    "print('Random float between 25.5 and 99.9', random.uniform(25.5,99.9))"
   ]
  },
  {
   "cell_type": "markdown",
   "metadata": {},
   "source": [
    "Other distributions\n",
    "The uniform() function uses a uniform distribution, which means that all values are equally likely. There are many other types of distributions besides uniform, and Python provides functions besides uniform() in the random module to allow you to get random values in different distributions. If you need a different type of distribution, you can find these in the Python documentation in the https://docs.python.org/3/library/random.html#real-valued-distributions"
   ]
  },
  {
   "cell_type": "markdown",
   "metadata": {},
   "source": [
    "### Generating a random integer number in a range"
   ]
  },
  {
   "cell_type": "markdown",
   "metadata": {},
   "source": [
    "When rolling a die, you probably don't want 1.0, 2.0...5.0, 6.0. Integers match what you'd expect from a die much better than a float. You can generate a random integer number in a range with the function **random.randint()**. This function needs a starting point (minimum number allowed) and stopping point (maximum number allowed)."
   ]
  },
  {
   "cell_type": "code",
   "execution_count": 5,
   "metadata": {},
   "outputs": [
    {
     "name": "stdout",
     "output_type": "stream",
     "text": [
      "Random integer between -7 and 10 4\n",
      "Random integer between 230 and 600 500\n"
     ]
    }
   ],
   "source": [
    "# Example of random interger generation\n",
    "randomNumber = random.randint(-7,10)\n",
    "print('Random integer between -7 and 10', randomNumber)\n",
    "\n",
    "print('Random integer between 230 and 600', random.randint(230,600))\n"
   ]
  },
  {
   "cell_type": "markdown",
   "metadata": {},
   "source": [
    "## Choosing a Random Element from a Sequence of Elements"
   ]
  },
  {
   "cell_type": "markdown",
   "metadata": {},
   "source": [
    "Sometimes you want to randomly choose a set of possible values that aren't numbers. You'll cover different types of sequences in detail in Weeks 2 and 3. But for now, you can see an example of a list containing different types of fruits. The important thing to note is that the random module provides a function **random.choice()** that will choose a random value from a list."
   ]
  },
  {
   "cell_type": "code",
   "execution_count": 6,
   "metadata": {},
   "outputs": [
    {
     "name": "stdout",
     "output_type": "stream",
     "text": [
      "A randomly chosen of friut: Limes\n"
     ]
    }
   ],
   "source": [
    "#from a set or sequence\n",
    "fruits = ['Apples', 'Pears', 'Orange', 'Mandarins', 'Limes', 'Nectarines', 'Apricots', \n",
    "          'Bananas', 'Strawberries', 'Watermelon', 'Plums']\n",
    "print('A randomly chosen of friut:', random.choice(fruits))"
   ]
  },
  {
   "cell_type": "markdown",
   "metadata": {},
   "source": [
    "### but are they really random?"
   ]
  },
  {
   "cell_type": "code",
   "execution_count": 7,
   "metadata": {},
   "outputs": [
    {
     "name": "stdout",
     "output_type": "stream",
     "text": [
      "0.09033985426934954\n",
      "0.9506335645634441\n"
     ]
    }
   ],
   "source": [
    "import random\n",
    "\n",
    "random.seed(55)\n",
    "\n",
    "print(random.random())\n",
    "print(random.random())\n"
   ]
  },
  {
   "cell_type": "markdown",
   "metadata": {},
   "source": [
    "You should notice that the same 'random' values are generated every time you run the code. This happens because computers are programmed to follow a set of instructions. When it comes to generating 'random' numbers in a distribution, they can follow mathematical equations to do this, but they still need a starting point or initial value. This initial value is called a seed. Your version of Python will set this seed when you first import the random module.\n",
    "\n",
    "Sometimes you'd like to generate the same random sequence so that you can reproduce an example. You can do this by setting the seed yourself using the **seed()** function. Whenever you call seed() with a specific number, for example random.seed(5), the random numbers generated will always be the same sequence."
   ]
  },
  {
   "cell_type": "markdown",
   "metadata": {},
   "source": [
    "Two important functions provided by the random module include random.random\n",
    "and random.randint. random.random() takes no input arguments, and returns a ran\u0002dom floating point number in the range [0.0, 1.0). random.randint(a, b) takes two\n",
    "integer input arguments a and b, and returns a random number between a and b,\n",
    "inclusive."
   ]
  },
  {
   "cell_type": "code",
   "execution_count": 8,
   "metadata": {},
   "outputs": [
    {
     "data": {
      "text/plain": [
       "0.14997105299598545"
      ]
     },
     "execution_count": 8,
     "metadata": {},
     "output_type": "execute_result"
    }
   ],
   "source": [
    ">>> import random\n",
    ">>> random.random()"
   ]
  },
  {
   "cell_type": "code",
   "execution_count": 9,
   "metadata": {},
   "outputs": [
    {
     "data": {
      "text/plain": [
       "14"
      ]
     },
     "execution_count": 9,
     "metadata": {},
     "output_type": "execute_result"
    }
   ],
   "source": [
    "random.randint(10 ,20)"
   ]
  },
  {
   "cell_type": "markdown",
   "metadata": {},
   "source": [
    "there are also cases where a\n",
    "**customized function** is needed. The following chapters will introduce step by step\n",
    "how complex functionalities can be achieved by the powerful Python language."
   ]
  },
  {
   "cell_type": "code",
   "execution_count": 13,
   "metadata": {},
   "outputs": [
    {
     "name": "stdout",
     "output_type": "stream",
     "text": [
      "0.5035029679964463\n",
      "0\n",
      "43.775357902650285\n",
      "Canberra\n"
     ]
    }
   ],
   "source": [
    "#  generate and print random numbers in the following ranges:\n",
    "# [0.0, 1.0], [-10, 10], [-99.9, 99.9] and a random choice from a list. \n",
    "\n",
    "print(random.random())\n",
    "\n",
    "print(random.randint(-10, 10))\n",
    "\n",
    "print(random.uniform(-99.9, 99.9))\n",
    "\n",
    "cities = ['Adelaide', 'Melbourne', 'Perth', 'Canberra', 'Darwin', 'Brisbane']\n",
    "print(random.choice(cities))"
   ]
  },
  {
   "cell_type": "code",
   "execution_count": null,
   "metadata": {},
   "outputs": [],
   "source": []
  }
 ],
 "metadata": {
  "kernelspec": {
   "display_name": "Python 3",
   "language": "python",
   "name": "python3"
  },
  "language_info": {
   "codemirror_mode": {
    "name": "ipython",
    "version": 3
   },
   "file_extension": ".py",
   "mimetype": "text/x-python",
   "name": "python",
   "nbconvert_exporter": "python",
   "pygments_lexer": "ipython3",
   "version": "3.7.4"
  }
 },
 "nbformat": 4,
 "nbformat_minor": 2
}
