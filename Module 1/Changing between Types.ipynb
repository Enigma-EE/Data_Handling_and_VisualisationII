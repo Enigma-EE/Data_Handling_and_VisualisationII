{
 "cells": [
  {
   "cell_type": "markdown",
   "metadata": {},
   "source": [
    "### Why is it important to change between different types of data?"
   ]
  },
  {
   "cell_type": "markdown",
   "metadata": {},
   "source": [
    "Usually, real-world data comes without specific types or in formats that are different to your requirements, so it is necessary to know how to convert the data from one type to another type that is more suited to what you want to do.\n",
    "\n",
    "In this section, you will be practising the exercises in your Jupyter notebook. As mentioned at the start of this week, your notebook will become your portfolio and you will get a chance to share your work with your peers in ‘Week 1: Peer Review Discussion’.\n",
    "\n",
    "Let's start by reviewing the types you've learnt. Below is Python code to create and print variables of different types."
   ]
  },
  {
   "cell_type": "code",
   "execution_count": 1,
   "metadata": {},
   "outputs": [],
   "source": [
    "#Including libraries \n",
    "import math\n",
    "import datetime"
   ]
  },
  {
   "cell_type": "code",
   "execution_count": 3,
   "metadata": {},
   "outputs": [
    {
     "name": "stdout",
     "output_type": "stream",
     "text": [
      "VariableName         Value                   Type\n",
      "-----------------------------------------------------------------\n",
      "daysOfWeek         7                   <class 'int'>\n",
      "Pi                 3.141592653589793   <class 'float'>\n",
      "isMyFirstVariable  False               <class 'bool'>\n",
      "name               John                <class 'str'>\n",
      "today              2021-03-12          <class 'datetime.date'>\n"
     ]
    }
   ],
   "source": [
    "# integer -> int\n",
    "daysOfWeek = 7\n",
    "\n",
    "#Float or decimal \n",
    "Pi = math.pi\n",
    "\n",
    "#boolean -> bool \n",
    "isMyFirstVariable = False\n",
    "\n",
    "#String --> you can use single or double quotation\n",
    "name = 'John'\n",
    "\n",
    "#Datetime\n",
    "today = datetime.date.today()\n",
    "\n",
    "\n",
    "#Printing the value of the variables and their type\n",
    "print('VariableName         Value                   Type')\n",
    "print('-----------------------------------------------------------------')\n",
    "print ('daysOfWeek        ',daysOfWeek,'                 ', type(daysOfWeek))\n",
    "print ('Pi                ',Pi,' ', type(Pi))\n",
    "print ('isMyFirstVariable ',isMyFirstVariable,'             ', type(isMyFirstVariable))\n",
    "print ('name              ',name,'              ', type(name))\n",
    "print ('today             ',today,'        ', type(today))"
   ]
  },
  {
   "cell_type": "markdown",
   "metadata": {},
   "source": [
    "### How to change a type of data to other types"
   ]
  },
  {
   "cell_type": "markdown",
   "metadata": {},
   "source": [
    "You learnt that **input( )** returns what the user types in as a string. You might also come across numbers that are represented as integers, but you want to work with them as floats. You can get the variables into the type that you need through casting. Casting is when you convert a variable value from one type to another. In Python, this is possible with functions such as **int( ), float( ) or str( )**."
   ]
  },
  {
   "cell_type": "code",
   "execution_count": 4,
   "metadata": {},
   "outputs": [
    {
     "name": "stdout",
     "output_type": "stream",
     "text": [
      "VariableName     Value     Type\n",
      "------------------------------------------\n",
      "str1               125   <class 'str'>\n",
      "Pi                 3     <class 'int'>\n",
      "isMyFirstVariable  0     <class 'int'>\n"
     ]
    }
   ],
   "source": [
    "#Converting any type to int \n",
    "str1 = '125'\n",
    "str1_int = int(str1) #Casting from string to int\n",
    "\n",
    "Pi = int(Pi) # When converting from float to int, you lose the precision decimals  \n",
    "\n",
    "isMyFirstVariable = int(isMyFirstVariable)\n",
    "\n",
    "print('VariableName     Value     Type')\n",
    "print('------------------------------------------')\n",
    "print ('str1              ',str1,' ', type(str1))\n",
    "print ('Pi                ',Pi,'   ', type(Pi))\n",
    "print ('isMyFirstVariable ',isMyFirstVariable,'   ', type(isMyFirstVariable))\n",
    "#NOTE: datetime.date type cannot convert to a int "
   ]
  },
  {
   "cell_type": "markdown",
   "metadata": {},
   "source": [
    "You already know how to convert a datetime to a string by using the **strftime( )** function. But what if you want to convert a string to a datetime? You can do this with the **strptime( )** function. Note the similarity. 'f' for formatting the datetime as a string and 'p' for converting the string to a datetime. The formatting codes indicate the format that the string is in. The values can then be extracted into a datetime."
   ]
  },
  {
   "cell_type": "code",
   "execution_count": 6,
   "metadata": {},
   "outputs": [
    {
     "name": "stdout",
     "output_type": "stream",
     "text": [
      "strDate:  1981-08-16 00:00:00  Type <class 'datetime.datetime'>\n"
     ]
    }
   ],
   "source": [
    "#Converting a string to datetime\n",
    "import datetime\n",
    "strDate = '08-16-1981'\n",
    "\n",
    "#strptime is a method to convert a string into a datatime method\n",
    "# datetime.strptime(<string name>, format)\n",
    "\n",
    "# note that the format %m-%d-%Y matches the format of the string 08-16-1981\n",
    "# strptime returns a datetime, so strDate will change types to be a datetime\n",
    "strDate = datetime.datetime.strptime(strDate, '%m-%d-%Y')\n",
    "print('strDate: ', strDate,' Type', type(strDate))"
   ]
  },
  {
   "cell_type": "markdown",
   "metadata": {},
   "source": [
    "Similarly, you may want to convert from a string or number to a boolean value. The approach is the same, but the behaviour may surprise you!"
   ]
  },
  {
   "cell_type": "code",
   "execution_count": 7,
   "metadata": {},
   "outputs": [
    {
     "name": "stdout",
     "output_type": "stream",
     "text": [
      "str_bool:  True  Type <class 'bool'>\n",
      "str_bool2:  False  Type <class 'bool'>\n"
     ]
    }
   ],
   "source": [
    "#Converting a string to a boolean variable\n",
    "# All strings convert to True unless they are empty!!!!!\n",
    "\n",
    "str1 = 'False'\n",
    "str_bool = bool(str1) \n",
    "print('str_bool: ', str_bool,' Type', type(str_bool))\n",
    "\n",
    "#Using an empty string \n",
    "str2 = ''\n",
    "str_bool2 = bool(str2)\n",
    "print('str_bool2: ', str_bool2,' Type', type(str_bool2))\n",
    "\n",
    "#NOTE: To return False when the string has 'False' as a value, \n",
    "#you will have to write code that checks the string value.  \n",
    "# You'll look at this next week."
   ]
  },
  {
   "cell_type": "markdown",
   "metadata": {},
   "source": [
    "Return the variables daysOfWeek, Pi, isMyFirstVariable and name to their original values and types, and then perform the following tasks:\n",
    "\n",
    "Create a datetime for today.\n",
    "\n",
    "Convert all of these variables to strings. It is pretty similar to casting for int examples with exception of datetime. To convert the datetime to a string use the function strftime() (see Week 1: Date and Timehttps://myuni.adelaide.edu.au/courses/63752/pages/week-1-date-and-time).\n",
    "\n",
    "Finally, print a table with VariableName, Value, and Type."
   ]
  },
  {
   "cell_type": "code",
   "execution_count": 8,
   "metadata": {},
   "outputs": [
    {
     "name": "stdout",
     "output_type": "stream",
     "text": [
      "Variable Name\t\tValue\t\t\tType\n",
      "------------------------------------------------------------\n",
      "daysOfWeek\t\t7\t\t\t <class 'str'>\n",
      "Pi\t\t\t3.141592653589793\t <class 'str'>\n",
      "isMyFirstVariable\tFalse\t\t\t <class 'str'>\n",
      "name\t\t\tJohn\t\t\t <class 'str'>\n",
      "today\t\t\t12-03-21\t\t <class 'str'>\n"
     ]
    }
   ],
   "source": [
    "import math\n",
    "import datetime\n",
    "\n",
    "daysOfWeek = 7\n",
    "Pi = math.pi\n",
    "isMyFirstVariable = False\n",
    "name = 'John'\n",
    "today = datetime.datetime.now()\n",
    "\n",
    "daysOfWeek = str(daysOfWeek)\n",
    "Pi = str(Pi)\n",
    "isMyFirstVariable = str(isMyFirstVariable)\n",
    "today = today.strftime(\"%d-%m-%y\")\n",
    "\n",
    "print(\"Variable Name\\t\\tValue\\t\\t\\tType\")\n",
    "print(\"------------------------------------------------------------\")\n",
    "print(\"daysOfWeek\\t\\t\"+daysOfWeek+\"\\t\\t\\t\",type(daysOfWeek))\n",
    "print(\"Pi\\t\\t\\t\"+Pi+\"\\t\",type(Pi))\n",
    "print(\"isMyFirstVariable\\t\"+isMyFirstVariable+\"\\t\\t\\t\",type(isMyFirstVariable))\n",
    "print(\"name\\t\\t\\t\"+name+\"\\t\\t\\t\",type(name))\n",
    "print(\"today\\t\\t\\t\"+today+\"\\t\\t\",type(today))"
   ]
  },
  {
   "cell_type": "code",
   "execution_count": null,
   "metadata": {},
   "outputs": [],
   "source": []
  }
 ],
 "metadata": {
  "kernelspec": {
   "display_name": "Python 3",
   "language": "python",
   "name": "python3"
  },
  "language_info": {
   "codemirror_mode": {
    "name": "ipython",
    "version": 3
   },
   "file_extension": ".py",
   "mimetype": "text/x-python",
   "name": "python",
   "nbconvert_exporter": "python",
   "pygments_lexer": "ipython3",
   "version": "3.7.4"
  }
 },
 "nbformat": 4,
 "nbformat_minor": 2
}
