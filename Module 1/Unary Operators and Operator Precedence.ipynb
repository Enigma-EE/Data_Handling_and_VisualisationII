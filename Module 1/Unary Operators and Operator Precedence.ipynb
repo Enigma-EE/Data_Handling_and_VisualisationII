{
 "cells": [
  {
   "cell_type": "markdown",
   "metadata": {},
   "source": [
    "The symbols + and - can be used as unary operators. A unary operator just needs one operand (number or variable) to work. When you apply \"-\" to a number or variable, it is affected as follows:\n",
    "\n",
    "If the number is positive (greater than zero), the result is the same number but negative.\n",
    "If the number is negative (less than zero), the result is the same number but positive.\n",
    "Zero is unaffected.\n",
    "When we applied \"+\" to a number or variable, the resulting value is no different from the original value."
   ]
  },
  {
   "cell_type": "code",
   "execution_count": 1,
   "metadata": {},
   "outputs": [
    {
     "name": "stdout",
     "output_type": "stream",
     "text": [
      "-10 5 0\n"
     ]
    }
   ],
   "source": [
    "#Note: You can assign different variables with different values at the same time, using commas to separate them.\n",
    "a, b, c = 10, -5, 0\n",
    "a = -a\n",
    "b = -b\n",
    "c = -c\n",
    "print (a, b, c)"
   ]
  },
  {
   "cell_type": "markdown",
   "metadata": {},
   "source": [
    "### Operator precedence and associativity"
   ]
  },
  {
   "cell_type": "markdown",
   "metadata": {},
   "source": [
    "In Python, all the operators have precedence and associativity.\n",
    "\n",
    "Precedence indicates which operation will happen first when you have multiple operators in an expression. For example:\n",
    "\n",
    "Order\tOperator\n",
    "\n",
    "**First**\tExponentiation **\n",
    "\n",
    "**Second**\tMultiplication *, division (/ and //) and modulo %\n",
    "\n",
    "**Third**\tAddition + and subtraction -"
   ]
  },
  {
   "cell_type": "markdown",
   "metadata": {},
   "source": [
    "We can use parentheses to override these precedence rules. For example, multiplication has higher precedence than addition. So the expression 3+4*2 will be equal to 11 . If we want to make the addition happen first, we can wrap the addition in parentheses. For example, in the expression (3+4)*2 , we force the addition to be performed before multiplication by grouping the 3+4 together with the parentheses. The result of this expression will be 14."
   ]
  },
  {
   "cell_type": "code",
   "execution_count": null,
   "metadata": {},
   "outputs": [],
   "source": []
  }
 ],
 "metadata": {
  "kernelspec": {
   "display_name": "Python 3",
   "language": "python",
   "name": "python3"
  },
  "language_info": {
   "codemirror_mode": {
    "name": "ipython",
    "version": 3
   },
   "file_extension": ".py",
   "mimetype": "text/x-python",
   "name": "python",
   "nbconvert_exporter": "python",
   "pygments_lexer": "ipython3",
   "version": "3.7.4"
  }
 },
 "nbformat": 4,
 "nbformat_minor": 2
}
