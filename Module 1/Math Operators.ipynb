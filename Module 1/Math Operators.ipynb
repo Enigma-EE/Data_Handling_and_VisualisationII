{
 "cells": [
  {
   "cell_type": "markdown",
   "metadata": {},
   "source": [
    "The binary operators need two operands (numbers or variables) to work. The common arithmetic binary operators in Python are listed as follows.\n",
    "\n",
    "\n",
    "**+\t         Addition**\n",
    "\n",
    "**-\t         Subtraction**\n",
    "\n",
    " (*\t         Multiplication）\n",
    "\n",
    "\n",
    "**/\t         Division**\n",
    "\n",
    "****\t         Exponentiation**\n",
    "\n",
    "**//\t         Integer division**\n",
    "\n",
    "**%        Modulo (division remainder)**"
   ]
  },
  {
   "cell_type": "markdown",
   "metadata": {},
   "source": [
    "When you divide two numbers in python using \"/\" the result is always a decimal number, regardless of whether the numbers are integers. However, if the division is made with \"//\" the result is always an integer number (truncate the decimal part and keep the integer). So be sure to take care to use the one you want. If you want to divide 8 pieces of cake by 3 people so that each person gets the same number of slices, then “//” makes sense: 8//3 = 2, each person gets 2 slices and the extra two slices are kept for later. But if you want to know what half of 5 is, 5//2=2 probably isn’t the answer you wanted. 5/2 will give 2.5.\n",
    "\n",
    "Also, remember your maths rules — you can't divide by zero!"
   ]
  },
  {
   "cell_type": "code",
   "execution_count": 1,
   "metadata": {},
   "outputs": [
    {
     "data": {
      "text/plain": [
       "1"
      ]
     },
     "execution_count": 1,
     "metadata": {},
     "output_type": "execute_result"
    }
   ],
   "source": [
    "#we can use the cells as a calculator without assigning the numbers or the result in any variable\n",
    "#the result given by the cell is the last operation\n",
    "3 + 2 # Addition\n",
    "3 - 2 # Subtraction\n",
    "3 * 2 # Multiplication\n",
    "3/2 # Division\n",
    "3 ** 2 #Exponentiation\n",
    "3 // 2 #Integer division\n",
    "3 % 2 #Modulo"
   ]
  },
  {
   "cell_type": "code",
   "execution_count": 2,
   "metadata": {},
   "outputs": [
    {
     "name": "stdout",
     "output_type": "stream",
     "text": [
      "3/2= 1.5\n"
     ]
    }
   ],
   "source": [
    "#you can display a result using print\n",
    "print('3/2=',3/2)"
   ]
  },
  {
   "cell_type": "code",
   "execution_count": 3,
   "metadata": {},
   "outputs": [
    {
     "data": {
      "text/plain": [
       "9"
      ]
     },
     "execution_count": 3,
     "metadata": {},
     "output_type": "execute_result"
    }
   ],
   "source": [
    "3**2"
   ]
  },
  {
   "cell_type": "code",
   "execution_count": 4,
   "metadata": {},
   "outputs": [
    {
     "data": {
      "text/plain": [
       "1"
      ]
     },
     "execution_count": 4,
     "metadata": {},
     "output_type": "execute_result"
    }
   ],
   "source": [
    "3//2"
   ]
  },
  {
   "cell_type": "code",
   "execution_count": 5,
   "metadata": {},
   "outputs": [
    {
     "data": {
      "text/plain": [
       "1"
      ]
     },
     "execution_count": 5,
     "metadata": {},
     "output_type": "execute_result"
    }
   ],
   "source": [
    "3%2"
   ]
  },
  {
   "cell_type": "code",
   "execution_count": null,
   "metadata": {},
   "outputs": [],
   "source": []
  }
 ],
 "metadata": {
  "kernelspec": {
   "display_name": "Python 3",
   "language": "python",
   "name": "python3"
  },
  "language_info": {
   "codemirror_mode": {
    "name": "ipython",
    "version": 3
   },
   "file_extension": ".py",
   "mimetype": "text/x-python",
   "name": "python",
   "nbconvert_exporter": "python",
   "pygments_lexer": "ipython3",
   "version": "3.7.4"
  }
 },
 "nbformat": 4,
 "nbformat_minor": 2
}
