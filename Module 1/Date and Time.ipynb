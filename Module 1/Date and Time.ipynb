{
 "cells": [
  {
   "cell_type": "markdown",
   "metadata": {},
   "source": [
    "Two other important data types are date and time. Almost of all the data sets include these types — and for this reason. It is vital to know how to manipulate dates and times.\n",
    "\n",
    "Python has a library named **datetime** to help you work with these types.\n",
    "\n"
   ]
  },
  {
   "cell_type": "markdown",
   "metadata": {},
   "source": [
    "You can see all of the methods that the library provides by looking at the https://docs.python.org/2/library/datetime.html#datetime.datetime\n",
    "\n",
    "To use the datetime module, you first need to remember to import it.\n",
    "\n",
    "datetime objects have three main types that you'll be working with: date, time and datetime. Date is used to store dates, time is used to store time and datetime is used to store both."
   ]
  },
  {
   "cell_type": "code",
   "execution_count": 1,
   "metadata": {},
   "outputs": [
    {
     "name": "stdout",
     "output_type": "stream",
     "text": [
      "2020-12-25 15:06:00\n",
      "2020-11-15\n",
      "23:00:00\n"
     ]
    },
    {
     "data": {
      "text/plain": [
       "(datetime.datetime, datetime.date, datetime.time)"
      ]
     },
     "execution_count": 1,
     "metadata": {},
     "output_type": "execute_result"
    }
   ],
   "source": [
    "# Storing dates and times\n",
    "import datetime\n",
    "\n",
    "# create a datetime: \n",
    "# datetime(year, month, day, hour=0, minute=0, second=0, microsecond=0, tzinfo=None, *, fold=0)\n",
    "# anything with =0 is optional\n",
    "current_datetime = datetime.datetime(2020, 12, 25, 15, 6)\n",
    "print(current_datetime)\n",
    "\n",
    "# create a date: date(year, month, day)\n",
    "current_date = datetime.date(2020, 11, 15)\n",
    "print(current_date)\n",
    "\n",
    "# create a time: time(hour=0, minute=0, second=0, microsecond=0, tzinfo=None, *, fold=0)\n",
    "current_time = datetime.time(23)\n",
    "print(current_time)\n",
    "\n",
    "#Getting the types\n",
    "type(current_datetime), type(current_date), type(current_time)"
   ]
  },
  {
   "cell_type": "markdown",
   "metadata": {},
   "source": [
    "The above ways of storing dates and times are useful if you have the data you want to store, but often you want to create a timestamp of the current time. The datetime module provides **datetime.now()**, which will give you the current time. Likewise, you can get today's date from **date.today()**.\n",
    "\n"
   ]
  },
  {
   "cell_type": "code",
   "execution_count": 2,
   "metadata": {},
   "outputs": [
    {
     "name": "stdout",
     "output_type": "stream",
     "text": [
      "2021-03-12 16:45:20.498313\n"
     ]
    }
   ],
   "source": [
    "# Getting the current date and time \n",
    "import datetime \n",
    "\n",
    "current_datetime = datetime.datetime.now()\n",
    "print(current_datetime)"
   ]
  },
  {
   "cell_type": "code",
   "execution_count": 3,
   "metadata": {},
   "outputs": [
    {
     "name": "stdout",
     "output_type": "stream",
     "text": [
      "2021-03-12\n"
     ]
    }
   ],
   "source": [
    "#Create a date from today() method \n",
    "today = datetime.date.today()\n",
    "print(today)"
   ]
  },
  {
   "cell_type": "markdown",
   "metadata": {},
   "source": [
    "Sometimes data sources may use POSIX timestamps instead of other date formats. These timestamps are an encoding of the date/time in the number of seconds since a specific date. You can create datetime or date from a timestamp. You can't create times this way."
   ]
  },
  {
   "cell_type": "code",
   "execution_count": 4,
   "metadata": {},
   "outputs": [
    {
     "name": "stdout",
     "output_type": "stream",
     "text": [
      "2019-09-20 03:51:44\n",
      "2019-09-20\n"
     ]
    }
   ],
   "source": [
    "#Create a datetime from timestamp\n",
    "date_time_timestamp = datetime.datetime.fromtimestamp(1568917304)\n",
    "print(date_time_timestamp)\n",
    "\n",
    "#Create a date from timestamp\n",
    "date_timestamp = datetime.date.fromtimestamp(1568917304)\n",
    "print(date_timestamp)"
   ]
  },
  {
   "cell_type": "markdown",
   "metadata": {},
   "source": [
    "### Printing parts of date and time variables"
   ]
  },
  {
   "cell_type": "code",
   "execution_count": 6,
   "metadata": {},
   "outputs": [
    {
     "name": "stdout",
     "output_type": "stream",
     "text": [
      "2021-03-12\n",
      "Year  2021\n",
      "Month  3\n",
      "Day  12\n"
     ]
    }
   ],
   "source": [
    "#We can get the year, month and day from today \n",
    "today = datetime.date.today()\n",
    "print(today)\n",
    "print('Year ',today.year)\n",
    "print('Month ',today.month)\n",
    "print('Day ',today.day)\n"
   ]
  },
  {
   "cell_type": "markdown",
   "metadata": {},
   "source": [
    "However, there is a more general approach. Often you will want to see or store your data by its string name rather than a number. Especially for months of the year. You may want to print or store \"September\" rather than the number 9. The **strftime( )** function (string format time) allows you to convert the number to the right string. **strftime( )** takes a parameter that says what type of value to print (month, day, etc.). For example, the format code for full month name is %B. So if you want to print out the month name from your current_datetime variable, you can use:"
   ]
  },
  {
   "cell_type": "code",
   "execution_count": 7,
   "metadata": {},
   "outputs": [
    {
     "name": "stdout",
     "output_type": "stream",
     "text": [
      "March\n"
     ]
    }
   ],
   "source": [
    "print(current_datetime.strftime(\"%B\"))"
   ]
  },
  {
   "cell_type": "markdown",
   "metadata": {},
   "source": [
    "The full list of format codes is in the table.\n",
    "https://myuni.adelaide.edu.au/courses/63752/files/8078248/download?wrap=1"
   ]
  },
  {
   "cell_type": "code",
   "execution_count": 8,
   "metadata": {},
   "outputs": [
    {
     "name": "stdout",
     "output_type": "stream",
     "text": [
      "Today               2021-03-12 16:51:21.013318\n",
      "Year                2021\n",
      "Month               03\n",
      "Full month name     March\n",
      "Day                 12\n",
      "Full weekday name   Friday\n"
     ]
    }
   ],
   "source": [
    "#Printing year, month and day in a string format \n",
    "today = datetime.datetime.now()\n",
    "print('Today              ',today)\n",
    "\n",
    "\n",
    "year = today.strftime(\"%Y\")\n",
    "month = today.strftime(\"%m\")\n",
    "monthName = today.strftime(\"%B\")\n",
    "day = today.strftime (\"%d\")\n",
    "weekDayName = today.strftime (\"%A\")\n",
    "print('Year               ',year)\n",
    "print('Month              ',month)\n",
    "print('Full month name    ',monthName)\n",
    "print('Day                ',day)\n",
    "print('Full weekday name  ',weekDayName)"
   ]
  },
  {
   "cell_type": "markdown",
   "metadata": {},
   "source": [
    "## Summary"
   ]
  },
  {
   "cell_type": "markdown",
   "metadata": {},
   "source": [
    "The key topics you covered in this section are:\n",
    "\n",
    "Strings\n",
    "\n",
    "Special characters in strings (\\n, \\t, ‘, “)\n",
    "\n",
    "Basic string operations:\n",
    "\n",
    "+(concatenate),\n",
    "\n",
    "*(repeat)\n",
    "\n",
    "len() (number of characters in string)\n",
    "\n",
    "String methods: such as upper() and count()\n",
    "\n",
    "Selecting characters in a string\n",
    "\n",
    "With an index: s[5]\n",
    "\n",
    "With slicing: a[3:8:2]\n",
    "\n",
    "Time and Dates\n",
    "\n",
    "Creating date time objects\n",
    "\n",
    "Printing values from date time objects\n",
    "\n",
    "You’ve now covered how to store, access and modify all of your basic types. You’ve learnt several common operations and methods that you can do on the types, and, importantly, know where to look to find more methods or remind yourself of what methods are available and how to use them."
   ]
  },
  {
   "cell_type": "markdown",
   "metadata": {},
   "source": [
    "**Write code in your Jupyter Notebook that gets today's date and prints out the date in the following format:**\n",
    "\n",
    "Wednesday, 22nd of October 2019\n",
    "\n",
    "5pm Wednesday\n",
    "\n",
    "Mon Sep 6\n",
    "\n",
    "22/10/2019\n",
    "\n",
    "5:30pm\n"
   ]
  },
  {
   "cell_type": "code",
   "execution_count": null,
   "metadata": {},
   "outputs": [],
   "source": []
  },
  {
   "cell_type": "code",
   "execution_count": null,
   "metadata": {},
   "outputs": [],
   "source": []
  }
 ],
 "metadata": {
  "kernelspec": {
   "display_name": "Python 3",
   "language": "python",
   "name": "python3"
  },
  "language_info": {
   "codemirror_mode": {
    "name": "ipython",
    "version": 3
   },
   "file_extension": ".py",
   "mimetype": "text/x-python",
   "name": "python",
   "nbconvert_exporter": "python",
   "pygments_lexer": "ipython3",
   "version": "3.7.4"
  }
 },
 "nbformat": 4,
 "nbformat_minor": 2
}
