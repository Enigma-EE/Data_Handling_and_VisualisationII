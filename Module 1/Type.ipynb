{
 "cells": [
  {
   "cell_type": "markdown",
   "metadata": {},
   "source": [
    "#### Every value has a type. In Python, the basic data types are numbers (ints and floats), booleans and strings."
   ]
  },
  {
   "cell_type": "code",
   "execution_count": 4,
   "metadata": {},
   "outputs": [
    {
     "data": {
      "text/plain": [
       "(3.14159, False, 'John')"
      ]
     },
     "execution_count": 4,
     "metadata": {},
     "output_type": "execute_result"
    }
   ],
   "source": [
    "#integer -> int\n",
    "daysOfWeek = 7\n",
    "#Float of decimal\n",
    "Pi = 3.14159\n",
    "#boolean -> bool\n",
    "isMyFirstVariable = False\n",
    "#String --> you can use single or double quotation\n",
    "name = 'John'\n",
    "\n",
    "#　you can print out the value of a variable by just typing its name\n",
    "Pi, isMyFirstVariable, name"
   ]
  },
  {
   "cell_type": "code",
   "execution_count": 5,
   "metadata": {},
   "outputs": [
    {
     "data": {
      "text/plain": [
       "int"
      ]
     },
     "execution_count": 5,
     "metadata": {},
     "output_type": "execute_result"
    }
   ],
   "source": [
    "#this code display what type is a varible using the function type (variable name)\n",
    "type (daysOfWeek)"
   ]
  },
  {
   "cell_type": "code",
   "execution_count": 6,
   "metadata": {},
   "outputs": [
    {
     "data": {
      "text/plain": [
       "3374.592"
      ]
     },
     "execution_count": 6,
     "metadata": {},
     "output_type": "execute_result"
    }
   ],
   "source": [
    "# suppose that the annual interest rate of a savings account is 4 %.\n",
    "#To calculate the amount of money in the account after three years, \n",
    "# with an initialsum of 3, 000 dollars is put into the account\n",
    "3000*1.04**3"
   ]
  },
  {
   "cell_type": "code",
   "execution_count": 5,
   "metadata": {},
   "outputs": [
    {
     "data": {
      "text/plain": [
       "3.1622776601683795"
      ]
     },
     "execution_count": 5,
     "metadata": {},
     "output_type": "execute_result"
    }
   ],
   "source": [
    "#  suppose that the area of a square is 10 m2. \n",
    "# The length of each edge can be calculated by\n",
    "10 ** 0.5"
   ]
  },
  {
   "cell_type": "code",
   "execution_count": 7,
   "metadata": {},
   "outputs": [
    {
     "data": {
      "text/plain": [
       "3.16"
      ]
     },
     "execution_count": 7,
     "metadata": {},
     "output_type": "execute_result"
    }
   ],
   "source": [
    "#  The result can be rounded up to the second decimal place.\n",
    "\n",
    "round(10**0.5, 2)"
   ]
  },
  {
   "cell_type": "code",
   "execution_count": 10,
   "metadata": {},
   "outputs": [
    {
     "data": {
      "text/plain": [
       "3.16"
      ]
     },
     "execution_count": 10,
     "metadata": {},
     "output_type": "execute_result"
    }
   ],
   "source": [
    "#For notational convenience and to make programs easier to maintain\n",
    "#Python allows names to be given to mathematical values. \n",
    "#An equivalent way of calculating the edge length is:\n",
    "a=10\n",
    "w=a**0.5\n",
    "round(w,2)"
   ]
  },
  {
   "cell_type": "markdown",
   "metadata": {},
   "source": [
    "In the example above, a denotes the area of the square, and w denotes its width.\n",
    "The use of a and w makes it easier to understand the underlying physical meanings\n",
    "of the values. a and w are called identifiers in Python. Each Python identifiers is\n",
    "bound to a specific value. In the example, a is bound to 10 and w is bound to √10.\n"
   ]
  },
  {
   "cell_type": "code",
   "execution_count": 11,
   "metadata": {},
   "outputs": [
    {
     "data": {
      "text/plain": [
       "1"
      ]
     },
     "execution_count": 11,
     "metadata": {},
     "output_type": "execute_result"
    }
   ],
   "source": [
    "#Identifiers can be bound to new value:\n",
    "x=1\n",
    "x"
   ]
  },
  {
   "cell_type": "code",
   "execution_count": 12,
   "metadata": {},
   "outputs": [
    {
     "data": {
      "text/plain": [
       "2"
      ]
     },
     "execution_count": 12,
     "metadata": {},
     "output_type": "execute_result"
    }
   ],
   "source": [
    "x=2\n",
    "x"
   ]
  },
  {
   "cell_type": "markdown",
   "metadata": {},
   "source": [
    "\n",
    "In the example, the value of x is first 1, and then 2. Because identifiers can change\n",
    "their values, they are also called variables."
   ]
  },
  {
   "cell_type": "markdown",
   "metadata": {},
   "source": [
    "The = sign in the above example is not an operator, and hence the commands a = 10 and w = round(a ∗ ∗0.5) are not expressions. They bare no values. Instead,the = sign denotes an assignment statement, which binds an identifier to a value.\n",
    "Here a statement is a command to be executed by Python, and statements are the basic execution units in Python.\n",
    "Python gives a name to a value by binding the value to an identifier."
   ]
  },
  {
   "cell_type": "markdown",
   "metadata": {},
   "source": [
    "Formally, an identifier must start with a letter or underscore (_), and contain a sequence of letters, numbers and underscores. \n",
    "For example, area, a, a0, area_of_square and _a are all valid identifiers, but 0a, area of square or a1! are not valid identifiers. An additional rule is that identifiers must not be keywords in Python, which are a list of reserved words."
   ]
  },
  {
   "cell_type": "code",
   "execution_count": 14,
   "metadata": {},
   "outputs": [
    {
     "data": {
      "text/plain": [
       "0.45"
      ]
     },
     "execution_count": 14,
     "metadata": {},
     "output_type": "execute_result"
    }
   ],
   "source": [
    "#suppose that a ball is tossed up on the edge of a cliff with an initial velocity v0, \n",
    "#and that the initial altitude of the ball is 0 m. \n",
    "#The question is to find the vertical position \n",
    "# of the ball at a certain number of seconds t after the toss. \n",
    "#If the initial velocity of 5 m/s and the time is 0.1 s, the altitude can be calculated by\n",
    "v0=5\n",
    "g=9.81\n",
    "t=0.1\n",
    "h=v0*t-0.5*g*t**2\n",
    "round(h,2)"
   ]
  },
  {
   "cell_type": "code",
   "execution_count": 15,
   "metadata": {},
   "outputs": [
    {
     "data": {
      "text/plain": [
       "0.09"
      ]
     },
     "execution_count": 15,
     "metadata": {},
     "output_type": "execute_result"
    }
   ],
   "source": [
    "#to further obtain the vertical location of the ball at 1 s, \n",
    "#only t and h need to be modified.\n",
    "t=1\n",
    "h=v0*t-0.5*g*t**2\n",
    "round(h,2)"
   ]
  },
  {
   "cell_type": "code",
   "execution_count": 16,
   "metadata": {},
   "outputs": [
    {
     "data": {
      "text/plain": [
       "2"
      ]
     },
     "execution_count": 16,
     "metadata": {},
     "output_type": "execute_result"
    }
   ],
   "source": [
    "# Note that the value of h must be calculated again after the value of t changes.\n",
    "#This is because an assignment statement binds an identifier to a value, \n",
    "#rather than establishing a mathematical correlation between a set of variables.\n",
    "x=1\n",
    "x=x+1\n",
    "x"
   ]
  },
  {
   "cell_type": "code",
   "execution_count": 18,
   "metadata": {},
   "outputs": [
    {
     "data": {
      "text/plain": [
       "2"
      ]
     },
     "execution_count": 18,
     "metadata": {},
     "output_type": "execute_result"
    }
   ],
   "source": [
    "#An equivalent but perhaps less ‘counter-intuitive’ way of doing x = x + 1 is x+= 1.\n",
    "\n",
    "x=1\n",
    "x+=1\n",
    "x"
   ]
  },
  {
   "cell_type": "code",
   "execution_count": 19,
   "metadata": {},
   "outputs": [
    {
     "data": {
      "text/plain": [
       "-1"
      ]
     },
     "execution_count": 19,
     "metadata": {},
     "output_type": "execute_result"
    }
   ],
   "source": [
    "#The same applies to x = x − 3, x = x ∗ 6, and other arithmetic operators\n",
    "x-=3\n",
    "x\n"
   ]
  },
  {
   "cell_type": "code",
   "execution_count": 20,
   "metadata": {},
   "outputs": [
    {
     "data": {
      "text/plain": [
       "-6"
      ]
     },
     "execution_count": 20,
     "metadata": {},
     "output_type": "execute_result"
    }
   ],
   "source": [
    "x*=6\n",
    "x"
   ]
  },
  {
   "cell_type": "markdown",
   "metadata": {},
   "source": [
    "In general, x<op>=y is equivalent to x=x<op>y, where <op> can be +, −, ∗,\n",
    "/, % etc. The special assignment statements +=, −=, ∗=, /= and %= can be used\n",
    "as a concise alternative to a = assignment statement when it incrementally changes\n",
    "the value of one variable."
   ]
  },
  {
   "cell_type": "code",
   "execution_count": 21,
   "metadata": {},
   "outputs": [
    {
     "data": {
      "text/plain": [
       "0.09"
      ]
     },
     "execution_count": 21,
     "metadata": {},
     "output_type": "execute_result"
    }
   ],
   "source": [
    "#to find the position of the ball after 3 s in the previous problem.\n",
    "\n",
    "t=3\n",
    "round(h,2)"
   ]
  },
  {
   "cell_type": "code",
   "execution_count": 23,
   "metadata": {},
   "outputs": [
    {
     "data": {
      "text/plain": [
       "-29.15"
      ]
     },
     "execution_count": 23,
     "metadata": {},
     "output_type": "execute_result"
    }
   ],
   "source": [
    "h=v0*t-0.5*g*t**2\n",
    "round(h,2)"
   ]
  },
  {
   "cell_type": "markdown",
   "metadata": {},
   "source": [
    "The commands above are executed sequentially and individually. \n",
    "When t is bound to the new value 3, h is not affected, and remains 0.09. \n",
    "After the new h assignment is executed, its value changes to −29.15 according to the new t."
   ]
  },
  {
   "cell_type": "code",
   "execution_count": 25,
   "metadata": {},
   "outputs": [
    {
     "data": {
      "text/plain": [
       "1"
      ]
     },
     "execution_count": 25,
     "metadata": {},
     "output_type": "execute_result"
    }
   ],
   "source": [
    "#Cascaded assignments.\n",
    "#Several assignment statements to the same value can be cascaded into a single line.\n",
    "#For example, a = 1 and b = 1 can be cascaded into a = b = 1.\n",
    "a=b=1\n",
    "a\n"
   ]
  },
  {
   "cell_type": "code",
   "execution_count": 26,
   "metadata": {},
   "outputs": [
    {
     "data": {
      "text/plain": [
       "1"
      ]
     },
     "execution_count": 26,
     "metadata": {},
     "output_type": "execute_result"
    }
   ],
   "source": [
    "b"
   ]
  },
  {
   "cell_type": "code",
   "execution_count": 33,
   "metadata": {},
   "outputs": [
    {
     "data": {
      "text/plain": [
       "(float, bool, str)"
      ]
     },
     "execution_count": 33,
     "metadata": {},
     "output_type": "execute_result"
    }
   ],
   "source": [
    "# float/ decimal\n",
    "Pi=3.14159\n",
    "\n",
    "#boolean ->bool\n",
    "isMyFirstVatiable = False\n",
    "\n",
    "#string(single/double quotation)\n",
    "name='EE'\n",
    "\n",
    "#Display the types\n",
    "type(Pi), type(isMyFirstVatiable), type(name)\n",
    "\n",
    "\n",
    "\n",
    "\n"
   ]
  },
  {
   "cell_type": "code",
   "execution_count": 37,
   "metadata": {},
   "outputs": [
    {
     "data": {
      "text/plain": [
       "(3, int, 200, int, True, bool, 'KK', str)"
      ]
     },
     "execution_count": 37,
     "metadata": {},
     "output_type": "execute_result"
    }
   ],
   "source": [
    "# Integer\n",
    "age=3\n",
    "\n",
    "#Float\n",
    "weight=200\n",
    "\n",
    "#Bool\n",
    "employed = True\n",
    "\n",
    "# String\n",
    "\n",
    "name='KK'\n",
    "\n",
    "age, type(age),weight,type(age),employed,type(employed),name,type(name)"
   ]
  },
  {
   "cell_type": "code",
   "execution_count": null,
   "metadata": {},
   "outputs": [],
   "source": []
  }
 ],
 "metadata": {
  "kernelspec": {
   "display_name": "Python 3",
   "language": "python",
   "name": "python3"
  },
  "language_info": {
   "codemirror_mode": {
    "name": "ipython",
    "version": 3
   },
   "file_extension": ".py",
   "mimetype": "text/x-python",
   "name": "python",
   "nbconvert_exporter": "python",
   "pygments_lexer": "ipython3",
   "version": "3.7.4"
  }
 },
 "nbformat": 4,
 "nbformat_minor": 2
}
