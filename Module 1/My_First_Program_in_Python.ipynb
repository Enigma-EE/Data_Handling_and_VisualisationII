{
 "cells": [
  {
   "cell_type": "markdown",
   "metadata": {},
   "source": [
    "# Markdown cell"
   ]
  },
  {
   "cell_type": "markdown",
   "metadata": {},
   "source": [
    "# My first Python Jupyter Notebook\n",
    "this is not my first Jupyter notebook "
   ]
  },
  {
   "cell_type": "markdown",
   "metadata": {},
   "source": [
    "### Headings"
   ]
  },
  {
   "cell_type": "markdown",
   "metadata": {},
   "source": [
    "# Biggest Heading"
   ]
  },
  {
   "cell_type": "markdown",
   "metadata": {},
   "source": [
    "## Sub Heading"
   ]
  },
  {
   "cell_type": "markdown",
   "metadata": {},
   "source": [
    "### Sub Sub Heading"
   ]
  },
  {
   "cell_type": "markdown",
   "metadata": {},
   "source": [
    "#### Sub Sub Sub Heading"
   ]
  },
  {
   "cell_type": "markdown",
   "metadata": {},
   "source": [
    "### Numbered Lists\n",
    "1. Item 1\n",
    "1. Item 2\n",
    "1. Item 3\n",
    "     1. Item 3.1\n",
    "     1. Item 3.2"
   ]
  },
  {
   "cell_type": "markdown",
   "metadata": {},
   "source": [
    "### Dot Points\n",
    "* Point 1\n",
    "* Point 2\n",
    "     * Subpoint 2.1\n",
    "* Point 3"
   ]
  },
  {
   "cell_type": "markdown",
   "metadata": {},
   "source": [
    "### Emphasis\n",
    "*Italic*\n",
    "**Bold**"
   ]
  },
  {
   "cell_type": "markdown",
   "metadata": {},
   "source": [
    "### Line\n",
    "***"
   ]
  },
  {
   "cell_type": "markdown",
   "metadata": {},
   "source": [
    "### Math Symbols\n",
    "$x=5^2$"
   ]
  },
  {
   "cell_type": "markdown",
   "metadata": {},
   "source": [
    "### To insert a new cell, you can:\n",
    "\n",
    "1. click on the + button\n",
    "2. in the insert menu, click on 'Insert Cell Above' or 'Insert Cell Below'\n",
    "3. use a shortcut: a (insert a cell above the current cell) or b (insert a cell below the current cell)."
   ]
  },
  {
   "cell_type": "markdown",
   "metadata": {},
   "source": [
    "# Code Cells"
   ]
  },
  {
   "cell_type": "code",
   "execution_count": 1,
   "metadata": {},
   "outputs": [],
   "source": [
    "#Print is used to print text or values of a variable\n",
    "#Tto look up what Print function does (using ? symbol). This can be applied to any python function\n",
    "?print"
   ]
  },
  {
   "cell_type": "markdown",
   "metadata": {},
   "source": [
    "Docstring:\n",
    "print(value, ..., sep=' ', end='\\n', file=sys.stdout, flush=False)\n",
    "\n",
    "Prints the values to a stream, or to sys.stdout by default.\n",
    "\n",
    "Optional keyword arguments:\n",
    "\n",
    "file:  a file-like object (stream); defaults to the current sys.stdout.\n",
    "\n",
    "sep:   string inserted between values, default a space.\n",
    "\n",
    "end:   string appended after the last value, default a newline.\n",
    "\n",
    "flush: whether to forcibly flush the stream.\n",
    "\n",
    "Type:      builtin_function_or_method"
   ]
  },
  {
   "cell_type": "code",
   "execution_count": 4,
   "metadata": {},
   "outputs": [
    {
     "name": "stdout",
     "output_type": "stream",
     "text": [
      "Hello world from Jupter Notebook!\n",
      "Hello world from Jupter Notebook!\n"
     ]
    }
   ],
   "source": [
    "# The '#' character allows you to add comments about your code\n",
    "# alphanumveric characters in quotations simples '' or double \"\"\n",
    "print('Hello world from Jupter Notebook!')\n",
    "print(\"Hello world from Jupter Notebook!\")"
   ]
  },
  {
   "cell_type": "code",
   "execution_count": 5,
   "metadata": {},
   "outputs": [
    {
     "name": "stdout",
     "output_type": "stream",
     "text": [
      "Hello world from Jupyter Notebook!\n",
      "Hello world from Jupyter Notebook!\n"
     ]
    }
   ],
   "source": [
    "#Assigning a value into a variable. In this case, alphanumeric characters\n",
    "firstVariable = 'Hello world from Jupyter Notebook!'\n",
    "secondVariable = \"Hello world from Jupyter Notebook!\"\n",
    "#Printing the values of the variables \n",
    "print(firstVariable)\n",
    "print(secondVariable)"
   ]
  },
  {
   "cell_type": "code",
   "execution_count": 6,
   "metadata": {},
   "outputs": [
    {
     "name": "stdout",
     "output_type": "stream",
     "text": [
      "Hello world EE\n"
     ]
    }
   ],
   "source": [
    "print('Hello world EE')"
   ]
  },
  {
   "cell_type": "markdown",
   "metadata": {},
   "source": [
    "# Variable"
   ]
  },
  {
   "cell_type": "code",
   "execution_count": 7,
   "metadata": {},
   "outputs": [
    {
     "name": "stdout",
     "output_type": "stream",
     "text": [
      "Hello world from Jupter Notebook!\n"
     ]
    }
   ],
   "source": [
    "firstVariable = 'Hello world from Jupter Notebook!'\n",
    "#Printing the values of the vatiable\n",
    "print (firstVariable)"
   ]
  },
  {
   "cell_type": "markdown",
   "metadata": {},
   "source": [
    "Both, those definitions depends on how you interpret a variable..could be a float if it is important that the variable has decimals or could be a integer otherwise\n",
    "those definition relies on every problem\n"
   ]
  },
  {
   "cell_type": "markdown",
   "metadata": {},
   "source": [
    "for the 3rd q how to we make sure any sort of a string is converted into the necessary uppercase input\n",
    "\n",
    "Once the code to count the different bases is working, extend your code to help the poor typist by accepting upper- or lower-case letters and removing any extra comma characters ‘,’.  For example, if the user types: g,aTaC  that would be converted in the program to GATAC.  Print the converted DNA before printing the nucleobase counts...i'm referring to this part of the q\n"
   ]
  },
  {
   "cell_type": "markdown",
   "metadata": {},
   "source": [
    "The upper() method returns a string where all characters are in upper case\n",
    "\n",
    "You can put whatever you think is important to avoid errors\n"
   ]
  },
  {
   "cell_type": "code",
   "execution_count": 8,
   "metadata": {},
   "outputs": [
    {
     "data": {
      "text/plain": [
       "4"
      ]
     },
     "execution_count": 8,
     "metadata": {},
     "output_type": "execute_result"
    }
   ],
   "source": [
    "# the = means assign the value on the right to the variable name on the left.\n",
    "height = 4\n",
    "# You can see the value of the variable by just typing its name\n",
    "height"
   ]
  },
  {
   "cell_type": "markdown",
   "metadata": {},
   "source": [
    "## Naming conventions for variables"
   ]
  },
  {
   "cell_type": "markdown",
   "metadata": {},
   "source": [
    "A naming convention for variables is the recommended naming standards in Python. The main idea is be consistent with the names of the variables throughout all of your code. A variable:\n",
    "\n",
    " * can have a short name e.g. x or more descriptive name e.g. weight or lastName\n",
    " * can contain letters (A-z), numbers (0-9) and underscores (_)\n",
    " * cannot start with a number is case-sensitive (which means weight is a different variable than Weight).\n",
    " \n",
    "You can give any name to your variable. However, a reserved word cannot be used as a variable name. Here is a list of reserved words in Python.\n",
    "\n",
    "**and\tdel\tfrom\tNone\ttry\n",
    "as\telif\tglobal\tnonlocal\tTrue\n",
    "assert\telse\tif\tnot\twhile\n",
    "break\texcept\timport\tor\twith\n",
    "class\tFalse\tin\tpass\tyield\n",
    "continue\tfinally\tis\traise\treturn\n",
    "def\tfor\tlambda**\t\n",
    "\n",
    "When choosing your variable, make it readable by using a descriptive name and always use the same format. Variables are typically lower case. If there is more than one word in your variable name, they are joined either by an underscore such as **last_name** or using 'camel case' (for example: **lastName**). The standard Python convention is underscore. However, camel case is also very popular. You can use whichever you prefer as long as you are consistent (don't switch between them in a single program).\n"
   ]
  },
  {
   "cell_type": "code",
   "execution_count": null,
   "metadata": {},
   "outputs": [],
   "source": []
  }
 ],
 "metadata": {
  "kernelspec": {
   "display_name": "Python 3",
   "language": "python",
   "name": "python3"
  },
  "language_info": {
   "codemirror_mode": {
    "name": "ipython",
    "version": 3
   },
   "file_extension": ".py",
   "mimetype": "text/x-python",
   "name": "python",
   "nbconvert_exporter": "python",
   "pygments_lexer": "ipython3",
   "version": "3.7.4"
  }
 },
 "nbformat": 4,
 "nbformat_minor": 2
}
