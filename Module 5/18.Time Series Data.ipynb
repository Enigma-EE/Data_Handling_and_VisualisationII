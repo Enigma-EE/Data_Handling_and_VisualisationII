{
 "cells": [
  {
   "cell_type": "markdown",
   "metadata": {},
   "source": [
    "Series and Data Frames are the main Pandas structures used. However, in many sectors of industry, you need to work with dates, times and time-indexed data. Pandas has a special structure to manage this type of data called a Time Series.\n",
    "\n",
    "A Time Series is a collection of data at specific dates/times — Pandas time/date objects can act as the Index (row labels) for data in a Series or Data Frame. This kind of data is essential in the real world. Information such as transaction dates in banking information or measurements from sensors monitoring your heartbeat when you are doing physical activity all rely on having the ability to record dates or time.\n",
    "\n",
    "Time Series data generally has one or more attributes, all of which can be recorded with Pandas:\n",
    "\n",
    "Timestamps are a particular moment in time (e.g. Mon 5 Oct 2019, 3:45:20 pm).\n",
    "Timedeltas are a duration of time that has a beginning and endpoint (e.g. 5 seconds).\n",
    "Periods are a special case of Timedeltas that are regular (e.g. repeated every 5 seconds).\n",
    "During this section, you will perform several operations over dates and time. Pandas Time Series build off of the Python DateTime objects that you covered in Week 1: Date and Time. Review that section to refresh your memory on how you can use DateTime objects. You will find that Time Series work similarly. As you have seen throughout your study of Pandas, Pandas provides the functionality of Python but built on top of NumPy to get faster processing. Time Series are the same — Python DateTime functionality with NumPy speed."
   ]
  },
  {
   "cell_type": "code",
   "execution_count": 1,
   "metadata": {},
   "outputs": [],
   "source": [
    "# first import the libraries: Numpy, pandas and datetime\n",
    "\n",
    "import numpy as np\n",
    "import pandas as pd\n",
    "import datetime"
   ]
  },
  {
   "cell_type": "markdown",
   "metadata": {},
   "source": [
    "## How Pandas represents dates, times and intervals\n",
    "\n",
    "To build a Time Series, you first need to know how to create each of the three objects: Timestamp, Timedelta and Period."
   ]
  },
  {
   "cell_type": "markdown",
   "metadata": {},
   "source": [
    "###  Timestamp\n",
    "\n",
    "Let's start with Timestamp. There are many ways you can create a Timestamp object. Any of the formats you used to create DateTime objects will work. The following examples cover a range of ways to create Timestamp objects."
   ]
  },
  {
   "cell_type": "code",
   "execution_count": 2,
   "metadata": {},
   "outputs": [
    {
     "data": {
      "text/plain": [
       "Timestamp('2019-10-09 00:00:00')"
      ]
     },
     "execution_count": 2,
     "metadata": {},
     "output_type": "execute_result"
    }
   ],
   "source": [
    "# create a Timestamp object\n",
    "# argument: year, month, day, hour, minutes, seconds\n",
    "pd.Timestamp(2019,10,9)\n",
    "\n",
    "#You can see the last two number are zero this is because\n",
    "#they represent the hour, minutes and seconds \n",
    "# which we did not provide in this example"
   ]
  },
  {
   "cell_type": "code",
   "execution_count": 3,
   "metadata": {},
   "outputs": [
    {
     "data": {
      "text/plain": [
       "Timestamp('2019-10-09 14:30:00')"
      ]
     },
     "execution_count": 3,
     "metadata": {},
     "output_type": "execute_result"
    }
   ],
   "source": [
    "# adding the hour and minutes\n",
    "pd.Timestamp(2019,10,9,14,30)"
   ]
  },
  {
   "cell_type": "code",
   "execution_count": 6,
   "metadata": {},
   "outputs": [
    {
     "data": {
      "text/plain": [
       "Timestamp('2021-05-27 17:59:41.597997')"
      ]
     },
     "execution_count": 6,
     "metadata": {},
     "output_type": "execute_result"
    }
   ],
   "source": [
    "# getting the current time\n",
    "pd.Timestamp('now')"
   ]
  },
  {
   "cell_type": "code",
   "execution_count": 7,
   "metadata": {},
   "outputs": [
    {
     "data": {
      "text/plain": [
       "Timestamp('2016-06-08 14:45:00')"
      ]
     },
     "execution_count": 7,
     "metadata": {},
     "output_type": "execute_result"
    }
   ],
   "source": [
    "pd.Timestamp(\"8 June 2016 2:45 pm\")"
   ]
  },
  {
   "cell_type": "markdown",
   "metadata": {},
   "source": [
    "### Timedelta\n",
    "\n",
    "A Timedelta allows you to create an Object that you can use to represent an offset. For example, if you wanted to add one day to all of your data, you can create a one-day Timedelta and then add that Timedelta to all of your Timestamp objects. Timedelta give you a way to express such things as:\n",
    "\n",
    "increase the time by 10 seconds\n",
    "\n",
    "find all data between the current time and the current time plus 3 days."
   ]
  },
  {
   "cell_type": "code",
   "execution_count": 8,
   "metadata": {},
   "outputs": [
    {
     "data": {
      "text/plain": [
       "Timedelta('10 days 04:00:05.006007')"
      ]
     },
     "execution_count": 8,
     "metadata": {},
     "output_type": "execute_result"
    }
   ],
   "source": [
    "# create a time delta \n",
    "# years= , months= ,days= ,hours= ,seconds= ,milliseconds= ,microseconds= \n",
    "pd.Timedelta(weeks=1, days=3, hours=4, seconds=5, milliseconds=6,microseconds=7)\n",
    "\n",
    "# note in the result how Timedelta is converted: 1 week becomes 7 days"
   ]
  },
  {
   "cell_type": "code",
   "execution_count": 9,
   "metadata": {},
   "outputs": [
    {
     "data": {
      "text/plain": [
       "Timedelta('-7 days +04:00:00')"
      ]
     },
     "execution_count": 9,
     "metadata": {},
     "output_type": "execute_result"
    }
   ],
   "source": [
    "# you can also go backwards in time by using '-'\n",
    "pd.Timedelta(weeks=-1, hours=4)"
   ]
  },
  {
   "cell_type": "code",
   "execution_count": 10,
   "metadata": {},
   "outputs": [
    {
     "data": {
      "text/plain": [
       "Timedelta('1 days 00:00:20')"
      ]
     },
     "execution_count": 10,
     "metadata": {},
     "output_type": "execute_result"
    }
   ],
   "source": [
    "# string description also works\n",
    "pd.Timedelta(\"1 day 20 seconds\")"
   ]
  },
  {
   "cell_type": "code",
   "execution_count": 12,
   "metadata": {},
   "outputs": [
    {
     "name": "stdout",
     "output_type": "stream",
     "text": [
      "2021-05-27 18:11:05.981446\n",
      "time + 10 seconds:  2021-05-27 18:11:15.981446\n"
     ]
    }
   ],
   "source": [
    "# use a Timedalta to increase a time by 10 seconds\n",
    "time = pd.Timestamp('now')\n",
    "print(time)\n",
    "shift10Sec = pd.Timedelta(\"10 seconds\")\n",
    "print('time + 10 seconds: ', time+shift10Sec)"
   ]
  },
  {
   "cell_type": "markdown",
   "metadata": {},
   "source": [
    "### Period\n",
    "\n",
    "Timedelta represents a change or difference, whereas Period represents a time span. For example, you would use Timedelta to express: today + one day (one day is a Timedelta). You would use a Period to express: every day, every hour, every third week."
   ]
  },
  {
   "cell_type": "code",
   "execution_count": 13,
   "metadata": {},
   "outputs": [
    {
     "name": "stdout",
     "output_type": "stream",
     "text": [
      "2019-04-11 08:00\n",
      "2019-04-11 09:00\n",
      "2019-04-11 06:00\n"
     ]
    }
   ],
   "source": [
    "# create a period\n",
    "# frequence, year, month, quarter, day, hour, ,minute, second\n",
    "# you can find all the frequency options at: \n",
    "# https://pandas.pydata.org/pandas-docs/stable/user_guide/timeseries.html#offset-aliases\n",
    "\n",
    "pr = pd.Period(freq='H', year=2019, month=4, quarter=2, day=11, hour=8, minute=36, second=5)\n",
    "\n",
    "print(pr)\n",
    "\n",
    "# you can do arithmetic on a period to increase by the frequency\n",
    "# note that the amount of change is base on the frequancy (Hour: H) of period\n",
    "\n",
    "print(pr+1)\n",
    "print(pr-2)\n"
   ]
  },
  {
   "attachments": {
    "image.png": {
     "image/png": "[encoded data removed]"
    }
   },
   "cell_type": "markdown",
   "metadata": {},
   "source": [
    "![image.png](attachment:image.png)\n",
    "\n",
    "as before, the frequency options can be found at:\\\n",
    "https://pandas.pydata.org/pandas-docs/stable/user_guide/timeseries.html#offset-aliases"
   ]
  },
  {
   "cell_type": "code",
   "execution_count": 14,
   "metadata": {},
   "outputs": [
    {
     "name": "stdout",
     "output_type": "stream",
     "text": [
      "2019-04-11 08:59\n",
      "2019-04-11 08:57\n"
     ]
    }
   ],
   "source": [
    "print(pr.asfreq('min'))\n",
    "print(pr.asfreq('min')-2)"
   ]
  },
  {
   "cell_type": "markdown",
   "metadata": {},
   "source": [
    "Hopefully, you can see that the Period represents a timespan. It may not be immediately obvious how a Period object is going to allow you to express every other day, given it is just a single date or time. You will see how it is used shortly, but for now, it is just important to understand that Timestamps represent a single instance in time, Timedeltas represent an offset or change in time, and Periods represent a time span."
   ]
  },
  {
   "cell_type": "code",
   "execution_count": null,
   "metadata": {},
   "outputs": [],
   "source": []
  }
 ],
 "metadata": {
  "kernelspec": {
   "display_name": "Python 3",
   "language": "python",
   "name": "python3"
  },
  "language_info": {
   "codemirror_mode": {
    "name": "ipython",
    "version": 3
   },
   "file_extension": ".py",
   "mimetype": "text/x-python",
   "name": "python",
   "nbconvert_exporter": "python",
   "pygments_lexer": "ipython3",
   "version": "3.7.4"
  }
 },
 "nbformat": 4,
 "nbformat_minor": 2
}
