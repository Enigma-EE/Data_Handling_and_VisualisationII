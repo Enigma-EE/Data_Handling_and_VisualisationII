{
 "cells": [
  {
   "cell_type": "markdown",
   "metadata": {},
   "source": [
    "Since Pandas is based on NumPy, many operations that are applicable to NumPy arrays can also be used by Series. An example is filtering values contained in a structure by using conditions."
   ]
  },
  {
   "cell_type": "code",
   "execution_count": 4,
   "metadata": {},
   "outputs": [
    {
     "name": "stdout",
     "output_type": "stream",
     "text": [
      "population = \n",
      "Sydney        4627345\n",
      "Melbourne     4246375\n",
      "Brisbane      2189878\n",
      "Perth         1896548\n",
      "Adelaide      1225235\n",
      "Gold Coast     591473\n",
      "Canberra       367752\n",
      "Newcastle      308308\n",
      "Wollongong     292190\n",
      "Logan City     282673\n",
      "dtype: int64\n",
      "\n",
      "Filtering the cities by the number of population larger than 1 million\n"
     ]
    },
    {
     "data": {
      "text/plain": [
       "Sydney       4627345\n",
       "Melbourne    4246375\n",
       "Brisbane     2189878\n",
       "Perth        1896548\n",
       "Adelaide     1225235\n",
       "dtype: int64"
      ]
     },
     "execution_count": 4,
     "metadata": {},
     "output_type": "execute_result"
    }
   ],
   "source": [
    "import pandas as pd\n",
    "\n",
    "# Example of filtering\n",
    "population_dictionary={'Sydney':4627345,\n",
    "                       'Melbourne':4246375,\n",
    "                       'Brisbane':2189878,\n",
    "                       'Perth': 1896548,\n",
    "                       'Adelaide': 1225235,\n",
    "                       'Gold Coast':591473,\n",
    "                       'Canberra':367752,\n",
    "                       'Newcastle':308308,\n",
    "                       'Wollongong':292190,\n",
    "                       'Logan City':282673}\n",
    "\n",
    "population = pd.Series(population_dictionary)\n",
    "\n",
    "\n",
    "print('population = ')\n",
    "print(population)\n",
    "print()\n",
    "\n",
    "\n",
    "# put condition in the index to select out data matching the condition\n",
    "print('Filtering the cities by the number of population larger than 1 million')\n",
    "population[population>1000000]"
   ]
  },
  {
   "cell_type": "markdown",
   "metadata": {},
   "source": [
    "Mathematical functions and operations on Series\n",
    "Mathematical functions that have been applied on NumPy arrays can be applied on Series as well. You can also apply the arithmetic operations like +, −, ∗, ∗∗, /, //."
   ]
  },
  {
   "cell_type": "code",
   "execution_count": 6,
   "metadata": {},
   "outputs": [
    {
     "name": "stdout",
     "output_type": "stream",
     "text": [
      "subPop =\n",
      "Sydney       4627345\n",
      "Melbourne    4246375\n",
      "Brisbane     2189878\n",
      "Perth        1896548\n",
      "Adelaide     1225235\n",
      "dtype: int64\n",
      "\n",
      "subPop/10 = \n",
      "Sydney       462734.5\n",
      "Melbourne    424637.5\n",
      "Brisbane     218987.8\n",
      "Perth        189654.8\n",
      "Adelaide     122523.5\n",
      "dtype: float64\n",
      "\n",
      "subPop - 1,000,000 = \n",
      "Sydney       4527345\n",
      "Melbourne    4146375\n",
      "Brisbane     2089878\n",
      "Perth        1796548\n",
      "Adelaide     1125235\n",
      "dtype: int64\n"
     ]
    }
   ],
   "source": [
    "# Example of arithmetic operations on series\n",
    "print('subPop =')\n",
    "subPop = population[:5] \n",
    "print(subPop)\n",
    "print()\n",
    "\n",
    "# divide all the population by 10\n",
    "print('subPop/10 = ')\n",
    "print(subPop/10)\n",
    "print()\n",
    "\n",
    "# subtract 1 million from each populations\n",
    "print('subPop - 1,000,000 = ')\n",
    "print(subPop-100000)"
   ]
  },
  {
   "cell_type": "code",
   "execution_count": 7,
   "metadata": {},
   "outputs": [
    {
     "name": "stdout",
     "output_type": "stream",
     "text": [
      "The mean of subPop is  2837076.2\n"
     ]
    }
   ],
   "source": [
    "# Example of Mathmatical functions on series\n",
    "print('The mean of subPop is ', subPop.mean())"
   ]
  },
  {
   "cell_type": "code",
   "execution_count": null,
   "metadata": {},
   "outputs": [],
   "source": []
  }
 ],
 "metadata": {
  "kernelspec": {
   "display_name": "Python 3",
   "language": "python",
   "name": "python3"
  },
  "language_info": {
   "codemirror_mode": {
    "name": "ipython",
    "version": 3
   },
   "file_extension": ".py",
   "mimetype": "text/x-python",
   "name": "python",
   "nbconvert_exporter": "python",
   "pygments_lexer": "ipython3",
   "version": "3.7.4"
  }
 },
 "nbformat": 4,
 "nbformat_minor": 2
}
