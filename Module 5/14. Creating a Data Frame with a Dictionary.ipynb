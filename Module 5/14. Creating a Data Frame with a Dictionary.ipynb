{
 "cells": [
  {
   "cell_type": "markdown",
   "metadata": {},
   "source": [
    "A Data Frame can be created from a dictionary, Series and even the combination of these two. The Dictionary keys provide the column labels for the Data Frame."
   ]
  },
  {
   "cell_type": "code",
   "execution_count": 1,
   "metadata": {
    "scrolled": true
   },
   "outputs": [
    {
     "data": {
      "text/html": [
       "<div>\n",
       "<style scoped>\n",
       "    .dataframe tbody tr th:only-of-type {\n",
       "        vertical-align: middle;\n",
       "    }\n",
       "\n",
       "    .dataframe tbody tr th {\n",
       "        vertical-align: top;\n",
       "    }\n",
       "\n",
       "    .dataframe thead th {\n",
       "        text-align: right;\n",
       "    }\n",
       "</style>\n",
       "<table border=\"1\" class=\"dataframe\">\n",
       "  <thead>\n",
       "    <tr style=\"text-align: right;\">\n",
       "      <th></th>\n",
       "      <th>C1</th>\n",
       "      <th>C2</th>\n",
       "      <th>C3</th>\n",
       "    </tr>\n",
       "  </thead>\n",
       "  <tbody>\n",
       "    <tr>\n",
       "      <td>0</td>\n",
       "      <td>1</td>\n",
       "      <td>6</td>\n",
       "      <td>11</td>\n",
       "    </tr>\n",
       "    <tr>\n",
       "      <td>1</td>\n",
       "      <td>2</td>\n",
       "      <td>7</td>\n",
       "      <td>12</td>\n",
       "    </tr>\n",
       "    <tr>\n",
       "      <td>2</td>\n",
       "      <td>3</td>\n",
       "      <td>8</td>\n",
       "      <td>13</td>\n",
       "    </tr>\n",
       "    <tr>\n",
       "      <td>3</td>\n",
       "      <td>4</td>\n",
       "      <td>9</td>\n",
       "      <td>14</td>\n",
       "    </tr>\n",
       "    <tr>\n",
       "      <td>4</td>\n",
       "      <td>5</td>\n",
       "      <td>10</td>\n",
       "      <td>15</td>\n",
       "    </tr>\n",
       "  </tbody>\n",
       "</table>\n",
       "</div>"
      ],
      "text/plain": [
       "   C1  C2  C3\n",
       "0   1   6  11\n",
       "1   2   7  12\n",
       "2   3   8  13\n",
       "3   4   9  14\n",
       "4   5  10  15"
      ]
     },
     "execution_count": 1,
     "metadata": {},
     "output_type": "execute_result"
    }
   ],
   "source": [
    "import pandas as pd\n",
    "import numpy as np\n",
    "\n",
    "# create a DataFrame using 3 series and a Dictionary\n",
    "s1 = pd.Series(np.arange(1,6))\n",
    "s2 = pd.Series(np.arange(6,11))\n",
    "s3 = pd.Series(np.arange(11,16))\n",
    "df2 = pd.DataFrame({'C1':s1, 'C2':s2, 'C3':s3})\n",
    "\n",
    "df2\n",
    "\n",
    "# Note how the dictionary keys become the column lables"
   ]
  },
  {
   "cell_type": "code",
   "execution_count": 2,
   "metadata": {},
   "outputs": [
    {
     "data": {
      "text/html": [
       "<div>\n",
       "<style scoped>\n",
       "    .dataframe tbody tr th:only-of-type {\n",
       "        vertical-align: middle;\n",
       "    }\n",
       "\n",
       "    .dataframe tbody tr th {\n",
       "        vertical-align: top;\n",
       "    }\n",
       "\n",
       "    .dataframe thead th {\n",
       "        text-align: right;\n",
       "    }\n",
       "</style>\n",
       "<table border=\"1\" class=\"dataframe\">\n",
       "  <thead>\n",
       "    <tr style=\"text-align: right;\">\n",
       "      <th></th>\n",
       "      <th>product</th>\n",
       "      <th>color</th>\n",
       "      <th>price</th>\n",
       "      <th>price_discount</th>\n",
       "    </tr>\n",
       "  </thead>\n",
       "  <tbody>\n",
       "    <tr>\n",
       "      <td>0</td>\n",
       "      <td>ball</td>\n",
       "      <td>blue</td>\n",
       "      <td>1.2</td>\n",
       "      <td>1.1</td>\n",
       "    </tr>\n",
       "    <tr>\n",
       "      <td>1</td>\n",
       "      <td>pen</td>\n",
       "      <td>green</td>\n",
       "      <td>1.0</td>\n",
       "      <td>0.8</td>\n",
       "    </tr>\n",
       "    <tr>\n",
       "      <td>2</td>\n",
       "      <td>pencil</td>\n",
       "      <td>yellow</td>\n",
       "      <td>0.6</td>\n",
       "      <td>0.5</td>\n",
       "    </tr>\n",
       "    <tr>\n",
       "      <td>3</td>\n",
       "      <td>paper</td>\n",
       "      <td>red</td>\n",
       "      <td>0.9</td>\n",
       "      <td>0.8</td>\n",
       "    </tr>\n",
       "    <tr>\n",
       "      <td>4</td>\n",
       "      <td>mug</td>\n",
       "      <td>white</td>\n",
       "      <td>1.7</td>\n",
       "      <td>1.5</td>\n",
       "    </tr>\n",
       "  </tbody>\n",
       "</table>\n",
       "</div>"
      ],
      "text/plain": [
       "  product   color  price  price_discount\n",
       "0    ball    blue    1.2             1.1\n",
       "1     pen   green    1.0             0.8\n",
       "2  pencil  yellow    0.6             0.5\n",
       "3   paper     red    0.9             0.8\n",
       "4     mug   white    1.7             1.5"
      ]
     },
     "execution_count": 2,
     "metadata": {},
     "output_type": "execute_result"
    }
   ],
   "source": [
    "# create a DataFrame from a Dictionary with List values\n",
    "\n",
    "data_dict = {'product': ['ball','pen','pencil','paper','mug'],\n",
    "            'color': ['blue','green','yellow','red','white'],\n",
    "            'price': [1.2,1.0,0.6,0.9,1.7],\n",
    "            'price_discount': [1.1,0.8, 0.5,0.8,1.5]}\n",
    "\n",
    "df3 = pd.DataFrame(data_dict)\n",
    "df3\n",
    "\n",
    "#Again note how the keys become the column labels and the values become the data"
   ]
  },
  {
   "cell_type": "markdown",
   "metadata": {},
   "source": [
    "If the labels for the index (row) are not explicitly specified in your DataFrame, Pandas by default assigns a numeric sequence starting from 0. As you saw earlier, if you want to assign labels to the indexes (rows) you can include the index parameter when you create your DataFrame object to assign the labels you want."
   ]
  },
  {
   "cell_type": "code",
   "execution_count": 3,
   "metadata": {},
   "outputs": [
    {
     "data": {
      "text/html": [
       "<div>\n",
       "<style scoped>\n",
       "    .dataframe tbody tr th:only-of-type {\n",
       "        vertical-align: middle;\n",
       "    }\n",
       "\n",
       "    .dataframe tbody tr th {\n",
       "        vertical-align: top;\n",
       "    }\n",
       "\n",
       "    .dataframe thead th {\n",
       "        text-align: right;\n",
       "    }\n",
       "</style>\n",
       "<table border=\"1\" class=\"dataframe\">\n",
       "  <thead>\n",
       "    <tr style=\"text-align: right;\">\n",
       "      <th></th>\n",
       "      <th>product</th>\n",
       "      <th>color</th>\n",
       "      <th>price</th>\n",
       "      <th>price_discount</th>\n",
       "    </tr>\n",
       "  </thead>\n",
       "  <tbody>\n",
       "    <tr>\n",
       "      <td>one</td>\n",
       "      <td>ball</td>\n",
       "      <td>blue</td>\n",
       "      <td>1.2</td>\n",
       "      <td>1.1</td>\n",
       "    </tr>\n",
       "    <tr>\n",
       "      <td>two</td>\n",
       "      <td>pen</td>\n",
       "      <td>green</td>\n",
       "      <td>1.0</td>\n",
       "      <td>0.8</td>\n",
       "    </tr>\n",
       "    <tr>\n",
       "      <td>three</td>\n",
       "      <td>pencil</td>\n",
       "      <td>yellow</td>\n",
       "      <td>0.6</td>\n",
       "      <td>0.5</td>\n",
       "    </tr>\n",
       "    <tr>\n",
       "      <td>four</td>\n",
       "      <td>paper</td>\n",
       "      <td>red</td>\n",
       "      <td>0.9</td>\n",
       "      <td>0.8</td>\n",
       "    </tr>\n",
       "    <tr>\n",
       "      <td>five</td>\n",
       "      <td>mug</td>\n",
       "      <td>white</td>\n",
       "      <td>1.7</td>\n",
       "      <td>1.5</td>\n",
       "    </tr>\n",
       "  </tbody>\n",
       "</table>\n",
       "</div>"
      ],
      "text/plain": [
       "      product   color  price  price_discount\n",
       "one      ball    blue    1.2             1.1\n",
       "two       pen   green    1.0             0.8\n",
       "three  pencil  yellow    0.6             0.5\n",
       "four    paper     red    0.9             0.8\n",
       "five      mug   white    1.7             1.5"
      ]
     },
     "execution_count": 3,
     "metadata": {},
     "output_type": "execute_result"
    }
   ],
   "source": [
    "# assign lables to the index(rows)\n",
    "df3 = pd.DataFrame(data_dict, index=['one','two','three','four','five'])\n",
    "df3"
   ]
  },
  {
   "cell_type": "markdown",
   "metadata": {},
   "source": [
    "A Data Frame performs automatic alignment of the data for each Series in the dictionary. This means that each value will appear in the correct column. To achieve this, the Series or arrays you are using to create the frame should have the same size.\n",
    "\n",
    "What happens if your Series or arrays don't have the same size? No worries! Pandas will automatically fill these spaces with the NaN values."
   ]
  },
  {
   "cell_type": "code",
   "execution_count": 4,
   "metadata": {},
   "outputs": [
    {
     "data": {
      "text/html": [
       "<div>\n",
       "<style scoped>\n",
       "    .dataframe tbody tr th:only-of-type {\n",
       "        vertical-align: middle;\n",
       "    }\n",
       "\n",
       "    .dataframe tbody tr th {\n",
       "        vertical-align: top;\n",
       "    }\n",
       "\n",
       "    .dataframe thead th {\n",
       "        text-align: right;\n",
       "    }\n",
       "</style>\n",
       "<table border=\"1\" class=\"dataframe\">\n",
       "  <thead>\n",
       "    <tr style=\"text-align: right;\">\n",
       "      <th></th>\n",
       "      <th>C1</th>\n",
       "      <th>C2</th>\n",
       "      <th>C3</th>\n",
       "      <th>C4</th>\n",
       "    </tr>\n",
       "  </thead>\n",
       "  <tbody>\n",
       "    <tr>\n",
       "      <td>0</td>\n",
       "      <td>1</td>\n",
       "      <td>6.0</td>\n",
       "      <td>11</td>\n",
       "      <td>16.0</td>\n",
       "    </tr>\n",
       "    <tr>\n",
       "      <td>1</td>\n",
       "      <td>2</td>\n",
       "      <td>7.0</td>\n",
       "      <td>12</td>\n",
       "      <td>17.0</td>\n",
       "    </tr>\n",
       "    <tr>\n",
       "      <td>2</td>\n",
       "      <td>3</td>\n",
       "      <td>8.0</td>\n",
       "      <td>13</td>\n",
       "      <td>18.0</td>\n",
       "    </tr>\n",
       "    <tr>\n",
       "      <td>3</td>\n",
       "      <td>4</td>\n",
       "      <td>NaN</td>\n",
       "      <td>14</td>\n",
       "      <td>19.0</td>\n",
       "    </tr>\n",
       "    <tr>\n",
       "      <td>4</td>\n",
       "      <td>5</td>\n",
       "      <td>NaN</td>\n",
       "      <td>15</td>\n",
       "      <td>NaN</td>\n",
       "    </tr>\n",
       "  </tbody>\n",
       "</table>\n",
       "</div>"
      ],
      "text/plain": [
       "   C1   C2  C3    C4\n",
       "0   1  6.0  11  16.0\n",
       "1   2  7.0  12  17.0\n",
       "2   3  8.0  13  18.0\n",
       "3   4  NaN  14  19.0\n",
       "4   5  NaN  15   NaN"
      ]
     },
     "execution_count": 4,
     "metadata": {},
     "output_type": "execute_result"
    }
   ],
   "source": [
    "# create a DataFrame using 4 Series with different size and a dictionary for column lables\n",
    "s1 = pd.Series(np.arange(1,6)) # 5 elements\n",
    "s2 = pd.Series(np.arange(6,9)) # 3 elements\n",
    "s3 = pd.Series(np.arange(11,16)) # 5 elements\n",
    "s4 = pd.Series((np.arange(16,20)))# 4 elements\n",
    "df2 = pd.DataFrame({'C1':s1, 'C2': s2, 'C3':s3, 'C4':s4})\n",
    "df2"
   ]
  },
  {
   "cell_type": "markdown",
   "metadata": {},
   "source": [
    "## Practise Data Frames"
   ]
  },
  {
   "cell_type": "code",
   "execution_count": 9,
   "metadata": {},
   "outputs": [
    {
     "name": "stdout",
     "output_type": "stream",
     "text": [
      "Data Frame for 5x4 array:\n",
      "    0   1   2   3\n",
      "0   1   2   3   4\n",
      "1   5   6   7   8\n",
      "2   9  10  11  12\n",
      "3  13  14  15  16\n",
      "4  17  18  19  20\n",
      "\n"
     ]
    }
   ],
   "source": [
    "# Create a Data Frame using a two-dimensional array 5x4 (5 rows and 4 columns)\n",
    "\n",
    "import pandas as pd\n",
    "import numpy as np\n",
    "\n",
    "# 5x4 array\n",
    "# could also use lists rather than arange, but arange, saves typing :)\n",
    "\n",
    "df1 = pd.DataFrame(np.array([np.arange(1,5),np.arange(5,9), \n",
    "                             np.arange(9,13),np.arange(13,17),\n",
    "                             np.arange(17,21)]))\n",
    "print('Data Frame for 5x4 array:')\n",
    "print(df1)\n",
    "print()"
   ]
  },
  {
   "cell_type": "code",
   "execution_count": 6,
   "metadata": {},
   "outputs": [
    {
     "name": "stdout",
     "output_type": "stream",
     "text": [
      "Data Frame from 3 equal size Series\n",
      "   0   1   2   3\n",
      "0  1   2   3   4\n",
      "1  5   6   7   8\n",
      "2  9  10  11  12\n"
     ]
    }
   ],
   "source": [
    "# Create a Data Frame using 3 Series with the same size.\n",
    "s1 = pd.Series(np.arange(1,5))\n",
    "s2 = pd.Series(np.arange(5,9))\n",
    "s3 = pd.Series(np.arange(9,13))\n",
    "df2 = pd.DataFrame([s1,s2,s3])\n",
    "print('Data Frame from 3 equal size Series')\n",
    "print(df2)\n"
   ]
  },
  {
   "cell_type": "code",
   "execution_count": 7,
   "metadata": {},
   "outputs": [
    {
     "name": "stdout",
     "output_type": "stream",
     "text": [
      "Data Frame from 5 different sized Series\n",
      "     0     1     2     3     4    5    6    7    8     9    10\n",
      "0  1.0   2.0   3.0   4.0   NaN  NaN  NaN  NaN  NaN   NaN   NaN\n",
      "1  5.0   NaN   NaN   NaN   NaN  NaN  NaN  NaN  NaN   NaN   NaN\n",
      "2  9.0  10.0  11.0  12.0   NaN  NaN  NaN  NaN  NaN   NaN   NaN\n",
      "3  8.0   9.0  10.0  11.0  12.0  NaN  NaN  NaN  NaN   NaN   NaN\n",
      "4  1.0   2.0   3.0   4.0   5.0  6.0  7.0  8.0  9.0  10.0  11.0\n"
     ]
    }
   ],
   "source": [
    "# Create a Data Frame using 5 Series with different sizes\n",
    "s1 = pd.Series(np.arange(1,5))\n",
    "s2 = pd.Series(np.arange(5,6))\n",
    "s3 = pd.Series(np.arange(9,13))\n",
    "s4 = pd.Series(np.arange(8,13))\n",
    "s5 = pd.Series(np.arange(1,12))\n",
    "df3 = pd.DataFrame([s1,s2,s3,s4,s5])\n",
    "print('Data Frame from 5 different sized Series')\n",
    "print(df3)"
   ]
  },
  {
   "cell_type": "code",
   "execution_count": 8,
   "metadata": {},
   "outputs": [
    {
     "name": "stdout",
     "output_type": "stream",
     "text": [
      "Data Frame from Dictionary with index (row) and column labels\n",
      "      col1  col2  col3\n",
      "row1     1     5     9\n",
      "row2     2     6    10\n",
      "row3     3     7    11\n",
      "row4     4     8    12\n"
     ]
    }
   ],
   "source": [
    "# Create a Data Frame with labelled rows (index) and columns using a dictionary.\n",
    "df4 = pd.DataFrame({'col1':[1,2,3,4],'col2':[5,6,7,8], 'col3':[9,10,11,12]}, \n",
    "                   index=['row1','row2','row3','row4'])\n",
    "print('Data Frame from Dictionary with index (row) and column labels')\n",
    "print(df4)"
   ]
  },
  {
   "cell_type": "code",
   "execution_count": null,
   "metadata": {},
   "outputs": [],
   "source": []
  }
 ],
 "metadata": {
  "kernelspec": {
   "display_name": "Python 3",
   "language": "python",
   "name": "python3"
  },
  "language_info": {
   "codemirror_mode": {
    "name": "ipython",
    "version": 3
   },
   "file_extension": ".py",
   "mimetype": "text/x-python",
   "name": "python",
   "nbconvert_exporter": "python",
   "pygments_lexer": "ipython3",
   "version": "3.7.4"
  }
 },
 "nbformat": 4,
 "nbformat_minor": 2
}
