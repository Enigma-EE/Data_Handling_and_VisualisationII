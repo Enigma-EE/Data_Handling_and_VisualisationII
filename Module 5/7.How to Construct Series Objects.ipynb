{
 "cells": [
  {
   "attachments": {
    "image.png": {
     "image/png": "[encoded data removed]"
    }
   },
   "cell_type": "markdown",
   "metadata": {},
   "source": [
    "![image.png](attachment:image.png)"
   ]
  },
  {
   "cell_type": "code",
   "execution_count": 1,
   "metadata": {},
   "outputs": [
    {
     "data": {
      "text/plain": [
       "0     5\n",
       "1    10\n",
       "2    15\n",
       "3    20\n",
       "dtype: int64"
      ]
     },
     "execution_count": 1,
     "metadata": {},
     "output_type": "execute_result"
    }
   ],
   "source": [
    "import pandas as pd\n",
    "import numpy as np\n",
    "\n",
    "# Construct a series with a default index\n",
    "pd.Series([5,10,15,20])"
   ]
  },
  {
   "cell_type": "code",
   "execution_count": 2,
   "metadata": {},
   "outputs": [
    {
     "data": {
      "text/plain": [
       "a    22\n",
       "b    22\n",
       "c    22\n",
       "d    22\n",
       "e    22\n",
       "dtype: int64"
      ]
     },
     "execution_count": 2,
     "metadata": {},
     "output_type": "execute_result"
    }
   ],
   "source": [
    "# Construct a series with label indexes\n",
    "pd.Series(22,['a','b','c','d','e'])"
   ]
  },
  {
   "cell_type": "code",
   "execution_count": 3,
   "metadata": {},
   "outputs": [
    {
     "data": {
      "text/plain": [
       "2        orange\n",
       "3         apple\n",
       "1      nectarin\n",
       "4    strawberry\n",
       "dtype: object"
      ]
     },
     "execution_count": 3,
     "metadata": {},
     "output_type": "execute_result"
    }
   ],
   "source": [
    "# Construct a series from a dictionary\n",
    "pd.Series({2:'orange',3:'apple',1:'nectarin',4:'strawberry'})"
   ]
  },
  {
   "cell_type": "code",
   "execution_count": 4,
   "metadata": {},
   "outputs": [
    {
     "data": {
      "text/plain": [
       "2        orange\n",
       "4    strawberry\n",
       "dtype: object"
      ]
     },
     "execution_count": 4,
     "metadata": {},
     "output_type": "execute_result"
    }
   ],
   "source": [
    "# Construct a series from specific indexes  from a dictionary\n",
    "pd.Series({2:'orange',3:'apple',1:'nectarin',4:'strawberry'}, index=[2,4])"
   ]
  },
  {
   "cell_type": "code",
   "execution_count": 5,
   "metadata": {},
   "outputs": [
    {
     "data": {
      "text/plain": [
       "0   -34\n",
       "1    32\n",
       "2    10\n",
       "3   -36\n",
       "4     7\n",
       "5    20\n",
       "6    28\n",
       "7   -14\n",
       "8   -19\n",
       "9   -33\n",
       "dtype: int32"
      ]
     },
     "execution_count": 5,
     "metadata": {},
     "output_type": "execute_result"
    }
   ],
   "source": [
    "# creating a Series from an array\n",
    "# create an array one-dimentional randomly between -50 to 50\n",
    "a1 = np.random.randint(low= -50, high = 50, size = 10)\n",
    "data = pd.Series(a1)\n",
    "data\n",
    "\n",
    "# NOTE:the Series contains both a sequence of values and a sequence of indices"
   ]
  },
  {
   "cell_type": "code",
   "execution_count": 6,
   "metadata": {},
   "outputs": [
    {
     "data": {
      "text/plain": [
       "a   -34\n",
       "b    32\n",
       "c    10\n",
       "d   -36\n",
       "e     7\n",
       "f    20\n",
       "h    28\n",
       "i   -14\n",
       "j   -19\n",
       "k   -33\n",
       "dtype: int32"
      ]
     },
     "execution_count": 6,
     "metadata": {},
     "output_type": "execute_result"
    }
   ],
   "source": [
    "# create the same Series with specific indexes\n",
    "data = pd.Series(a1, index=['a','b','c','d','e','f','h','i','j','k'])\n",
    "data"
   ]
  },
  {
   "cell_type": "code",
   "execution_count": 9,
   "metadata": {},
   "outputs": [
    {
     "data": {
      "text/plain": [
       "array([-34,  32,  10, -36,   7,  20,  28, -14, -19, -33])"
      ]
     },
     "execution_count": 9,
     "metadata": {},
     "output_type": "execute_result"
    }
   ],
   "source": [
    "# visualize the value\n",
    "data.values"
   ]
  },
  {
   "cell_type": "code",
   "execution_count": 10,
   "metadata": {},
   "outputs": [
    {
     "data": {
      "text/plain": [
       "Index(['a', 'b', 'c', 'd', 'e', 'f', 'h', 'i', 'j', 'k'], dtype='object')"
      ]
     },
     "execution_count": 10,
     "metadata": {},
     "output_type": "execute_result"
    }
   ],
   "source": [
    "#visualize the index\n",
    "data.index"
   ]
  },
  {
   "cell_type": "markdown",
   "metadata": {},
   "source": [
    "Accessing the data in a series is similar to accessing NumPy arrays: using an index value inside of square brackets. Remember, if you are using the implicit (default) numeric index, the index starts at zero.\n",
    "\n",
    "Also, you can access a slice of the data as you did with arrays in NumPy.\n",
    "\n",
    "<series_name> [start, stop, step]"
   ]
  },
  {
   "cell_type": "code",
   "execution_count": 11,
   "metadata": {},
   "outputs": [
    {
     "data": {
      "text/plain": [
       "28"
      ]
     },
     "execution_count": 11,
     "metadata": {},
     "output_type": "execute_result"
    }
   ],
   "source": [
    "# getting the data in the position 6\n",
    "# the 6 value is the index lable of the single item in the Series whose value is 28\n",
    "data[6]"
   ]
  },
  {
   "cell_type": "code",
   "execution_count": 12,
   "metadata": {
    "scrolled": true
   },
   "outputs": [
    {
     "data": {
      "text/plain": [
       "d   -36\n",
       "e     7\n",
       "f    20\n",
       "h    28\n",
       "i   -14\n",
       "dtype: int32"
      ]
     },
     "execution_count": 12,
     "metadata": {},
     "output_type": "execute_result"
    }
   ],
   "source": [
    "# Slice the Series\n",
    "data[3:8]"
   ]
  },
  {
   "cell_type": "code",
   "execution_count": 13,
   "metadata": {},
   "outputs": [
    {
     "data": {
      "text/plain": [
       "k   -33\n",
       "j   -19\n",
       "i   -14\n",
       "h    28\n",
       "f    20\n",
       "e     7\n",
       "d   -36\n",
       "c    10\n",
       "b    32\n",
       "a   -34\n",
       "dtype: int32"
      ]
     },
     "execution_count": 13,
     "metadata": {},
     "output_type": "execute_result"
    }
   ],
   "source": [
    "# Reverse the series\n",
    "data[::-1]"
   ]
  },
  {
   "cell_type": "code",
   "execution_count": 14,
   "metadata": {},
   "outputs": [
    {
     "data": {
      "text/plain": [
       "a   -34\n",
       "c    10\n",
       "e     7\n",
       "h    28\n",
       "j   -19\n",
       "dtype: int32"
      ]
     },
     "execution_count": 14,
     "metadata": {},
     "output_type": "execute_result"
    }
   ],
   "source": [
    "# Getting the data at every second position\n",
    "data[::2]"
   ]
  },
  {
   "cell_type": "markdown",
   "metadata": {},
   "source": [
    "Series are mutable objects. Recall that if you assign mutable objects, they refer to the same object. Be sure to use the Series copy() method if you want a copy."
   ]
  },
  {
   "cell_type": "code",
   "execution_count": 16,
   "metadata": {},
   "outputs": [
    {
     "name": "stdout",
     "output_type": "stream",
     "text": [
      "data =\n",
      "a    27\n",
      "b   -14\n",
      "c    -2\n",
      "d    -4\n",
      "e    -6\n",
      "f    -2\n",
      "h    45\n",
      "i   -46\n",
      "j    35\n",
      "k   -37\n",
      "dtype: int32\n",
      "\n",
      "Before modify a1[0], data[0]=  27\n",
      "a1[0] =  100\n",
      "After modify a1[0], data[0]=  100\n",
      "\n",
      "To avoid this problem, we create the series with a copy of a1 array\n",
      "\n",
      "Before modifying a1[0], data[0]=  100\n",
      "a1[0] =  -187\n",
      "After modifying a1[0], data[0]=  100\n"
     ]
    }
   ],
   "source": [
    "#Note: When you assign a mutable object to a series changes to the series or mutable\n",
    "# object will change both!\n",
    "\n",
    "#create an array one-dimensional with random integers between -50 to 50 \n",
    "a1 = np.random.randint(low=-50, high =50, size=10)\n",
    "\n",
    "# create a data series fro this array\n",
    "data = pd.Series(a1, index=['a','b', 'c', 'd', 'e', 'f', 'h', 'i', 'j', 'k'])\n",
    "\n",
    "print('data =')\n",
    "print(data)\n",
    "print()\n",
    "\n",
    "print('Before modify a1[0], data[0]= ',data[0])\n",
    "#modifying the array, changes the data series!\n",
    "a1[0]=100\n",
    "print('a1[0] = ', a1[0])\n",
    "print('After modify a1[0], data[0]= ',data[0])\n",
    "print()\n",
    "\n",
    "#To avoid, you need to copy the arrays or series.\n",
    "print('To avoid this problem, we create the series with a copy of a1 array')\n",
    "data = pd.Series(np.copy(a1), index=['a','b', 'c', 'd', 'e', 'f', 'h', 'i', 'j', 'k'])\n",
    "print()\n",
    "print('Before modifying a1[0], data[0]= ',data[0])\n",
    "a1[0]=-187\n",
    "print('a1[0] = ', a1[0])\n",
    "print('After modifying a1[0], data[0]= ',data[0])"
   ]
  },
  {
   "cell_type": "code",
   "execution_count": null,
   "metadata": {},
   "outputs": [],
   "source": []
  }
 ],
 "metadata": {
  "kernelspec": {
   "display_name": "Python 3",
   "language": "python",
   "name": "python3"
  },
  "language_info": {
   "codemirror_mode": {
    "name": "ipython",
    "version": 3
   },
   "file_extension": ".py",
   "mimetype": "text/x-python",
   "name": "python",
   "nbconvert_exporter": "python",
   "pygments_lexer": "ipython3",
   "version": "3.7.4"
  }
 },
 "nbformat": 4,
 "nbformat_minor": 2
}
