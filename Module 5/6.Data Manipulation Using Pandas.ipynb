{
 "cells": [
  {
   "cell_type": "markdown",
   "metadata": {},
   "source": [
    "Matplotlib provides a way of plotting NumPy arrays. But NumPy arrays are limited: all data has to be the same type (no mixing numbers and strings) and you can only index an array with a number (data[2]). What if you want to index by labels, like getting the data from South Australia using data[SouthAustralia] as you did with Dictionaries? What if you want to store both South Australia’s temperature (a number) and its capital city (a string) in the data for South Australia? Arrays don’t provide a way of doing either of these.\n",
    "\n",
    "Pandas is a library for python that provides an implementation of two new data types SeriesandDataFrames. These types both allow you to index by numbers or labels and DataFrames allow you to mix different types within your data.\n",
    "\n",
    "In addition to gaining these benefits, Pandas is built on top of NumPy and provides the efficiency of NumPy arrays. Series and DataFramescan also be used in a wide variety of data analysis libraries. The Pandas library is a keytool for anyone doing data science.\n",
    "\n",
    "The first step to working with Pandas is to import the Pandas and NumPy library."
   ]
  },
  {
   "cell_type": "code",
   "execution_count": 1,
   "metadata": {},
   "outputs": [],
   "source": [
    "import pandas as pd\n",
    "import numpy as np"
   ]
  },
  {
   "cell_type": "markdown",
   "metadata": {},
   "source": [
    "## Data structure in Pandas"
   ]
  },
  {
   "cell_type": "markdown",
   "metadata": {},
   "source": [
    "The core of Pandas are the following data structures:\n",
    "\n",
    "**Series** — an object used to represent a 1-dimensional array of indexed data.\n",
    "\n",
    "**Dataframe** — consists of an ordered collection of columns (similar to a spreadsheet), each column can contain a value of a different type like string, date, numeric, etc."
   ]
  },
  {
   "cell_type": "markdown",
   "metadata": {},
   "source": [
    "## Series"
   ]
  },
  {
   "attachments": {
    "image.png": {
     "image/png": "[encoded data removed]"
    }
   },
   "cell_type": "markdown",
   "metadata": {},
   "source": [
    "You can create a series from a list or array. In the figure, you can see the structure of a series.\n",
    "![image.png](attachment:image.png)\n"
   ]
  },
  {
   "cell_type": "markdown",
   "metadata": {},
   "source": [
    "This looks a lot like NumPy arrays, but Pandas gives you more ways to index the data. Sometimes you want to create a series using significant labels other than numbers to distinguish and identify each item regardless of the order in which they were inserted into the series.\n",
    "\n",
    "The main difference between a Pandas series and NumPy array is the index, while the NumPy array only has an implicitly defined integer index used to access the values, the Pandas series can have an explicitly defined index used to access the values. With series, the indexes can be numeric (default) or any immutable type."
   ]
  },
  {
   "cell_type": "code",
   "execution_count": null,
   "metadata": {},
   "outputs": [],
   "source": []
  }
 ],
 "metadata": {
  "kernelspec": {
   "display_name": "Python 3",
   "language": "python",
   "name": "python3"
  },
  "language_info": {
   "codemirror_mode": {
    "name": "ipython",
    "version": 3
   },
   "file_extension": ".py",
   "mimetype": "text/x-python",
   "name": "python",
   "nbconvert_exporter": "python",
   "pygments_lexer": "ipython3",
   "version": "3.7.4"
  }
 },
 "nbformat": 4,
 "nbformat_minor": 2
}
