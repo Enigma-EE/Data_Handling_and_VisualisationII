{
 "cells": [
  {
   "cell_type": "markdown",
   "metadata": {},
   "source": [
    "## Selecting Data from a Data Frame"
   ]
  },
  {
   "cell_type": "markdown",
   "metadata": {},
   "source": [
    "Just like Python (Lists, Dictionaries) and NumPy (1-dimensional array, 2-dimensional array) you can select the data you want from your Data Frame by using attributes such as values (for all of the data) or by using indexes (labels) to select specific data.\n",
    "\n",
    "Note how np.nan has been used to fill missing values."
   ]
  },
  {
   "cell_type": "code",
   "execution_count": 1,
   "metadata": {},
   "outputs": [
    {
     "data": {
      "text/html": [
       "<div>\n",
       "<style scoped>\n",
       "    .dataframe tbody tr th:only-of-type {\n",
       "        vertical-align: middle;\n",
       "    }\n",
       "\n",
       "    .dataframe tbody tr th {\n",
       "        vertical-align: top;\n",
       "    }\n",
       "\n",
       "    .dataframe thead th {\n",
       "        text-align: right;\n",
       "    }\n",
       "</style>\n",
       "<table border=\"1\" class=\"dataframe\">\n",
       "  <thead>\n",
       "    <tr style=\"text-align: right;\">\n",
       "      <th></th>\n",
       "      <th>cities</th>\n",
       "      <th>density</th>\n",
       "      <th>state</th>\n",
       "      <th>unemployed_rate</th>\n",
       "    </tr>\n",
       "  </thead>\n",
       "  <tbody>\n",
       "    <tr>\n",
       "      <td>0</td>\n",
       "      <td>Sydney</td>\n",
       "      <td>4627345</td>\n",
       "      <td>New South Wales</td>\n",
       "      <td>4.3</td>\n",
       "    </tr>\n",
       "    <tr>\n",
       "      <td>1</td>\n",
       "      <td>Melbourne</td>\n",
       "      <td>4246375</td>\n",
       "      <td>Victoria</td>\n",
       "      <td>4.9</td>\n",
       "    </tr>\n",
       "    <tr>\n",
       "      <td>2</td>\n",
       "      <td>Brisbane</td>\n",
       "      <td>2189878</td>\n",
       "      <td>Queensland</td>\n",
       "      <td>NaN</td>\n",
       "    </tr>\n",
       "    <tr>\n",
       "      <td>3</td>\n",
       "      <td>Perth</td>\n",
       "      <td>1896548</td>\n",
       "      <td>Western Australia</td>\n",
       "      <td>NaN</td>\n",
       "    </tr>\n",
       "    <tr>\n",
       "      <td>4</td>\n",
       "      <td>Adelaide</td>\n",
       "      <td>1225235</td>\n",
       "      <td>South Australia</td>\n",
       "      <td>7.3</td>\n",
       "    </tr>\n",
       "    <tr>\n",
       "      <td>5</td>\n",
       "      <td>Gold Coast</td>\n",
       "      <td>591473</td>\n",
       "      <td>Queensland</td>\n",
       "      <td>6.4</td>\n",
       "    </tr>\n",
       "    <tr>\n",
       "      <td>6</td>\n",
       "      <td>Canberra</td>\n",
       "      <td>367752</td>\n",
       "      <td>Australian Capital Territory</td>\n",
       "      <td>3.5</td>\n",
       "    </tr>\n",
       "    <tr>\n",
       "      <td>7</td>\n",
       "      <td>Newcastle</td>\n",
       "      <td>308308</td>\n",
       "      <td>New South Wales</td>\n",
       "      <td>4.3</td>\n",
       "    </tr>\n",
       "    <tr>\n",
       "      <td>8</td>\n",
       "      <td>Wollongong</td>\n",
       "      <td>292190</td>\n",
       "      <td>New South Wales</td>\n",
       "      <td>4.3</td>\n",
       "    </tr>\n",
       "    <tr>\n",
       "      <td>9</td>\n",
       "      <td>Logan City</td>\n",
       "      <td>282673</td>\n",
       "      <td>Queensland</td>\n",
       "      <td>6.4</td>\n",
       "    </tr>\n",
       "  </tbody>\n",
       "</table>\n",
       "</div>"
      ],
      "text/plain": [
       "       cities  density                         state  unemployed_rate\n",
       "0      Sydney  4627345               New South Wales              4.3\n",
       "1   Melbourne  4246375                      Victoria              4.9\n",
       "2    Brisbane  2189878                    Queensland              NaN\n",
       "3       Perth  1896548             Western Australia              NaN\n",
       "4    Adelaide  1225235               South Australia              7.3\n",
       "5  Gold Coast   591473                    Queensland              6.4\n",
       "6    Canberra   367752  Australian Capital Territory              3.5\n",
       "7   Newcastle   308308               New South Wales              4.3\n",
       "8  Wollongong   292190               New South Wales              4.3\n",
       "9  Logan City   282673                    Queensland              6.4"
      ]
     },
     "execution_count": 1,
     "metadata": {},
     "output_type": "execute_result"
    }
   ],
   "source": [
    "import pandas as pd\n",
    "import numpy as np\n",
    "\n",
    "# Create a DataFrame containing population data to use in selecting data examples\n",
    "\n",
    "#Create DataFrame using Series of population density, state, unemployment rate and city names.\n",
    "s_city = pd.Series(['Sydney','Melbourne','Brisbane','Perth','Adelaide',\n",
    "                    'Gold Coast','Canberra','Newcastle','Wollongong','Logan City'])\n",
    "s_density = pd.Series([4627345, 4246375, 2189878, 1896548,1225235, \n",
    "                       591473, 367752, 308308, 292190, 282673])\n",
    "s_state = pd.Series(['New South Wales', 'Victoria','Queensland', 'Western Australia','South Australia',\n",
    "                     'Queensland','Australian Capital Territory','New South Wales','New South Wales', \n",
    "                     'Queensland'])             \n",
    "s_unemployed_rate = pd.Series([4.3, 4.9, np.nan, np.nan, 7.3, 6.4, 3.5, 4.3, 4.3, 6.4])\n",
    "\n",
    "df_pop = pd.DataFrame({'cities':s_city,'density':s_density, 'state':s_state, \n",
    "                       'unemployed_rate':s_unemployed_rate})\n",
    "df_pop"
   ]
  },
  {
   "cell_type": "markdown",
   "metadata": {},
   "source": [
    "## Selecting the Data"
   ]
  },
  {
   "cell_type": "markdown",
   "metadata": {},
   "source": [
    "If you want to select all the data as a 2-dimensional array, use the values attribute.\n",
    "\n",
    "If you want to the values of one column, use:\n",
    "\n",
    "< DataFrame_name >.< name_column > or\n",
    "< DataFrame_name >['< name_column >']"
   ]
  },
  {
   "cell_type": "code",
   "execution_count": 2,
   "metadata": {},
   "outputs": [
    {
     "data": {
      "text/plain": [
       "array([['Sydney', 4627345, 'New South Wales', 4.3],\n",
       "       ['Melbourne', 4246375, 'Victoria', 4.9],\n",
       "       ['Brisbane', 2189878, 'Queensland', nan],\n",
       "       ['Perth', 1896548, 'Western Australia', nan],\n",
       "       ['Adelaide', 1225235, 'South Australia', 7.3],\n",
       "       ['Gold Coast', 591473, 'Queensland', 6.4],\n",
       "       ['Canberra', 367752, 'Australian Capital Territory', 3.5],\n",
       "       ['Newcastle', 308308, 'New South Wales', 4.3],\n",
       "       ['Wollongong', 292190, 'New South Wales', 4.3],\n",
       "       ['Logan City', 282673, 'Queensland', 6.4]], dtype=object)"
      ]
     },
     "execution_count": 2,
     "metadata": {},
     "output_type": "execute_result"
    }
   ],
   "source": [
    "# values property gives all data as an array\n",
    "df_pop.values"
   ]
  },
  {
   "cell_type": "code",
   "execution_count": 3,
   "metadata": {},
   "outputs": [
    {
     "data": {
      "text/plain": [
       "0        Sydney\n",
       "1     Melbourne\n",
       "2      Brisbane\n",
       "3         Perth\n",
       "4      Adelaide\n",
       "5    Gold Coast\n",
       "6      Canberra\n",
       "7     Newcastle\n",
       "8    Wollongong\n",
       "9    Logan City\n",
       "Name: cities, dtype: object"
      ]
     },
     "execution_count": 3,
     "metadata": {},
     "output_type": "execute_result"
    }
   ],
   "source": [
    "# selecting only cities\n",
    "df_pop.cities"
   ]
  },
  {
   "cell_type": "code",
   "execution_count": 5,
   "metadata": {},
   "outputs": [
    {
     "data": {
      "text/plain": [
       "0    4.3\n",
       "1    4.9\n",
       "2    NaN\n",
       "3    NaN\n",
       "4    7.3\n",
       "5    6.4\n",
       "6    3.5\n",
       "7    4.3\n",
       "8    4.3\n",
       "9    6.4\n",
       "Name: unemployed_rate, dtype: float64"
      ]
     },
     "execution_count": 5,
     "metadata": {},
     "output_type": "execute_result"
    }
   ],
   "source": [
    "#Selecting only unemployment rate\n",
    "df_pop['unemployed_rate']"
   ]
  },
  {
   "cell_type": "code",
   "execution_count": 7,
   "metadata": {},
   "outputs": [
    {
     "data": {
      "text/plain": [
       "0    4627345\n",
       "1    4246375\n",
       "2    2189878\n",
       "3    1896548\n",
       "4    1225235\n",
       "5     591473\n",
       "6     367752\n",
       "7     308308\n",
       "8     292190\n",
       "9     282673\n",
       "Name: density, dtype: int64"
      ]
     },
     "execution_count": 7,
     "metadata": {},
     "output_type": "execute_result"
    }
   ],
   "source": [
    "#With <DataFrame_Name>. and tab key you can see the properties and methods of the series\n",
    "#Also the name of the columns as well.\n",
    "df_pop.density"
   ]
  },
  {
   "cell_type": "code",
   "execution_count": null,
   "metadata": {},
   "outputs": [],
   "source": []
  }
 ],
 "metadata": {
  "kernelspec": {
   "display_name": "Python 3",
   "language": "python",
   "name": "python3"
  },
  "language_info": {
   "codemirror_mode": {
    "name": "ipython",
    "version": 3
   },
   "file_extension": ".py",
   "mimetype": "text/x-python",
   "name": "python",
   "nbconvert_exporter": "python",
   "pygments_lexer": "ipython3",
   "version": "3.7.4"
  }
 },
 "nbformat": 4,
 "nbformat_minor": 2
}
