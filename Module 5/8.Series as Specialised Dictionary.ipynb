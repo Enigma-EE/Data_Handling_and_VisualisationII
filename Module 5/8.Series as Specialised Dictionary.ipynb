{
 "cells": [
  {
   "cell_type": "markdown",
   "metadata": {},
   "source": [
    "A dictionary is a structure that maps arbitrary keys to a set of arbitrary values, and a Series is a structure that maps typed keys to a set of typed values. What this means is that, unlike dictionaries, all of the keys must be of the same type and all of the values must be of the same type.\n",
    "\n",
    "The keys do not have to be the same type as the values though. Typing the keys makes a Panda series more efficient than dictionaries in certain operations.\n",
    "\n"
   ]
  },
  {
   "cell_type": "markdown",
   "metadata": {},
   "source": [
    "Creating series from a dictionary"
   ]
  },
  {
   "cell_type": "code",
   "execution_count": 2,
   "metadata": {},
   "outputs": [
    {
     "data": {
      "text/plain": [
       "Sydney        4627345\n",
       "Melbourne     4246375\n",
       "Brisbane      2189878\n",
       "Perth         1896548\n",
       "Adelaide      1225235\n",
       "Gold Coast     591473\n",
       "Canberra       367752\n",
       "Newcastle      308308\n",
       "Wollongong     292190\n",
       "Logan City     282673\n",
       "dtype: int64"
      ]
     },
     "execution_count": 2,
     "metadata": {},
     "output_type": "execute_result"
    }
   ],
   "source": [
    "import pandas as pd\n",
    "\n",
    "# Creating a series from a dictionary\n",
    "# The population of 10 most crowed Cities in Australia (2019)\n",
    "# create a dictionary\n",
    "\n",
    "population_dictionary={'Sydney':4627345,\n",
    "                       'Melbourne':4246375,\n",
    "                       'Brisbane':2189878,\n",
    "                       'Perth': 1896548,\n",
    "                       'Adelaide': 1225235,\n",
    "                       'Gold Coast':591473,\n",
    "                       'Canberra':367752,\n",
    "                       'Newcastle':308308,\n",
    "                       'Wollongong':292190,\n",
    "                       'Logan City':282673}\n",
    "population = pd.Series(population_dictionary)\n",
    "population"
   ]
  },
  {
   "cell_type": "code",
   "execution_count": 3,
   "metadata": {},
   "outputs": [
    {
     "data": {
      "text/plain": [
       "1225235"
      ]
     },
     "execution_count": 3,
     "metadata": {},
     "output_type": "execute_result"
    }
   ],
   "source": [
    "# To access the values like in a dictionary\n",
    "population['Adelaide']"
   ]
  },
  {
   "cell_type": "code",
   "execution_count": 4,
   "metadata": {},
   "outputs": [
    {
     "data": {
      "text/plain": [
       "Brisbane      2189878\n",
       "Perth         1896548\n",
       "Adelaide      1225235\n",
       "Gold Coast     591473\n",
       "Canberra       367752\n",
       "Newcastle      308308\n",
       "dtype: int64"
      ]
     },
     "execution_count": 4,
     "metadata": {},
     "output_type": "execute_result"
    }
   ],
   "source": [
    "# you can slice the series\n",
    "population['Brisbane':'Newcastle']"
   ]
  },
  {
   "cell_type": "code",
   "execution_count": 6,
   "metadata": {},
   "outputs": [
    {
     "data": {
      "text/plain": [
       "Logan City     282673\n",
       "Wollongong     292190\n",
       "Newcastle      308308\n",
       "Canberra       367752\n",
       "Gold Coast     591473\n",
       "Adelaide      1225235\n",
       "Perth         1896548\n",
       "Brisbane      2189878\n",
       "Melbourne     4246375\n",
       "Sydney        4627345\n",
       "dtype: int64"
      ]
     },
     "execution_count": 6,
     "metadata": {},
     "output_type": "execute_result"
    }
   ],
   "source": [
    "# you can invert the series\n",
    "population[::-1]"
   ]
  },
  {
   "cell_type": "code",
   "execution_count": 7,
   "metadata": {},
   "outputs": [
    {
     "data": {
      "text/plain": [
       "Sydney        4627345\n",
       "Brisbane      2189878\n",
       "Adelaide      1225235\n",
       "Canberra       367752\n",
       "Wollongong     292190\n",
       "dtype: int64"
      ]
     },
     "execution_count": 7,
     "metadata": {},
     "output_type": "execute_result"
    }
   ],
   "source": [
    "# you can access every second data point\n",
    "population[::2]"
   ]
  },
  {
   "cell_type": "markdown",
   "metadata": {},
   "source": [
    "One interesting way to access the values in a series is using the key as an attribute.\n",
    "\n",
    "< SeriesName >.index_name\n",
    "\n",
    "Remember, if you type the < SeriesName > and a dot and then you press the tab key, you will see a menu with all the attributes and the methods of the series."
   ]
  },
  {
   "cell_type": "code",
   "execution_count": 9,
   "metadata": {},
   "outputs": [
    {
     "name": "stdout",
     "output_type": "stream",
     "text": [
      "Population in Adelaide = 1225235\n"
     ]
    }
   ],
   "source": [
    "# getting the value from a Series by attribute\n",
    "print('Population in Adelaide =', population.Adelaide)"
   ]
  },
  {
   "cell_type": "code",
   "execution_count": null,
   "metadata": {},
   "outputs": [],
   "source": []
  }
 ],
 "metadata": {
  "kernelspec": {
   "display_name": "Python 3",
   "language": "python",
   "name": "python3"
  },
  "language_info": {
   "codemirror_mode": {
    "name": "ipython",
    "version": 3
   },
   "file_extension": ".py",
   "mimetype": "text/x-python",
   "name": "python",
   "nbconvert_exporter": "python",
   "pygments_lexer": "ipython3",
   "version": "3.7.4"
  }
 },
 "nbformat": 4,
 "nbformat_minor": 2
}
