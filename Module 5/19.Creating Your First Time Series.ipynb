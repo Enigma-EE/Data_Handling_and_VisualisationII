{
 "cells": [
  {
   "cell_type": "markdown",
   "metadata": {},
   "source": [
    "Time and dates as types are useful, but what you really want is to be able to make them part of your indexable data in a series or Data Frame. You do this by creating a DateTimeIndex.\n",
    "\n",
    "A time series is simply a series or Data Frame that has a DateTimeIndex as the index (row) label.\n",
    "\n",
    "You can create a DateTimeIndex using an array or list of time information:\n",
    "\n",
    "**DatetimeIndex([timestamp1, timestamp2, timestamp3..])**\n",
    "\n",
    "If you have a lot of time to cover, you may prefer to set up an intervals of dates using the **date_range()** function. Date_range takes a starting and ending point and optionally a frequency (the default is day, so the range will include each day between the starting and ending date). The dates can be a Timestamp or a string with the date information.\n",
    "\n",
    "In this example, we generate a date index (dates from 2016-01-01 to 2019-10-07) for 2500 random numbers (simulated data).\n",
    "\n",
    "To generate a Time Series with a date range, you need to know how many values you have in your date range. You can use the **len()** function to find the number of values in the range. **len(pd.date_range('2016-01-01', '2019-10-07'))**"
   ]
  },
  {
   "cell_type": "code",
   "execution_count": 4,
   "metadata": {},
   "outputs": [
    {
     "name": "stdout",
     "output_type": "stream",
     "text": [
      "Time series using a list of times to create the index\n",
      "2016-01-01   -0.647374\n",
      "2016-01-02    0.698425\n",
      "2016-01-03    1.613422\n",
      "dtype: float64\n",
      "\n"
     ]
    }
   ],
   "source": [
    "# create a time Series\n",
    "\n",
    "\n",
    "import pandas as pd\n",
    "import numpy as np\n",
    "\n",
    "# option 1: using time stamps\n",
    "t1 = pd.Timestamp('2016-01-01')\n",
    "t2 = pd.Timestamp('2016-01-02')\n",
    "t3 = pd.Timestamp('2016-01-03')\n",
    "\n",
    "dr = pd.DatetimeIndex([t1,t2,t3])\n",
    "\n",
    "ts = pd.Series(np.random.randn(3), index = dr)\n",
    "\n",
    "print('Time series using a list of times to create the index')\n",
    "print(ts)\n",
    "print()"
   ]
  },
  {
   "cell_type": "code",
   "execution_count": 6,
   "metadata": {},
   "outputs": [
    {
     "name": "stdout",
     "output_type": "stream",
     "text": [
      "Time series using date_range to create the index\n",
      "2016-01-01    1.229503\n",
      "2016-01-02    1.446639\n",
      "2016-01-03    2.176954\n",
      "2016-01-04    1.047084\n",
      "2016-01-05   -0.227227\n",
      "                ...   \n",
      "2019-10-03   -0.253456\n",
      "2019-10-04    0.598865\n",
      "2019-10-05   -0.577108\n",
      "2019-10-06    0.169349\n",
      "2019-10-07   -0.068497\n",
      "Freq: D, Length: 1376, dtype: float64\n"
     ]
    }
   ],
   "source": [
    "# option 2: using date range\n",
    "# create a date range: ever day between Jan 1 2016 and July 10 2019\n",
    "dateRange = pd.date_range('2016-01-01','2019-10-07')\n",
    "\n",
    "# create simulated data for these dates\n",
    "# use len() to work out how many data value you need (one per date in the dateRange)\n",
    "numberGen = len(dateRange) # 1376 numbers\n",
    "\n",
    "# create a time series, using the dateRange as index\n",
    "timeSeries = pd.Series(np.random.randn(numberGen), index = dateRange)\n",
    "\n",
    "print('Time series using date_range to create the index')\n",
    "print(timeSeries)"
   ]
  },
  {
   "cell_type": "markdown",
   "metadata": {},
   "source": [
    "The point of a time series is to be able to select the data based on the date. The date indexes can be used just like any other index and you can compare them to other dates to select specific data."
   ]
  },
  {
   "cell_type": "code",
   "execution_count": 9,
   "metadata": {},
   "outputs": [
    {
     "name": "stdout",
     "output_type": "stream",
     "text": [
      "Select a specific index\n",
      "timeSeries['2019-10-4']:  0.5988650857599176\n",
      "\n",
      "Select just the values before Sept 6 2018 and after Sept 2 2018\n",
      "2018-09-03    0.482283\n",
      "2018-09-04    0.347461\n",
      "2018-09-05    0.129873\n",
      "Freq: D, dtype: float64\n",
      "\n",
      "Today is 2021-05-27 21:13:39.631102\n",
      "Select the data from the last 13 days\n",
      "2019-09-25    1.756918\n",
      "2019-09-26    0.783440\n",
      "2019-09-27   -0.384135\n",
      "2019-09-28    2.105463\n",
      "2019-09-29    0.736659\n",
      "2019-09-30   -2.239383\n",
      "2019-10-01    0.409692\n",
      "2019-10-02    1.279699\n",
      "2019-10-03   -0.253456\n",
      "2019-10-04    0.598865\n",
      "2019-10-05   -0.577108\n",
      "2019-10-06    0.169349\n",
      "2019-10-07   -0.068497\n",
      "Freq: D, dtype: float64\n"
     ]
    }
   ],
   "source": [
    "# select a species index\n",
    "print('Select a specific index')\n",
    "print(\"timeSeries['2019-10-4']: \",timeSeries['2019-10-4'])\n",
    "print()\n",
    "\n",
    "# select meeting a criteria on index\n",
    "print('Select just the values before Sept 6 2018 and after Sept 2 2018')\n",
    "print(timeSeries[(timeSeries.index < pd.Timestamp('September 6 2018'))\n",
    "                 &(timeSeries.index >pd.Timestamp('September 2 2018'))])\n",
    "print()\n",
    "\n",
    "# select using a time delta\n",
    "print('Today is', pd.Timestamp('now'))\n",
    "print('Select the data from the last 13 days')\n",
    "print(timeSeries[timeSeries.index > (pd.Timestamp('2019-10-07')-pd.Timedelta('13 days'))])"
   ]
  },
  {
   "cell_type": "markdown",
   "metadata": {},
   "source": [
    "The Datetime objects that make up the DateTimeIndex have useful attributes that you can access about each of the index labels for use in comparisons:\n",
    "\n",
    "year: the year of the datetime.\\\n",
    "month: the month as January=1, December=12.\\\n",
    "day: the days of the datetime\\\n",
    "hour: the hours of the datetime\\\n",
    "minute: the minutes of the datetime\\\n",
    "second: the seconds of the datetime\\\n",
    "microsecond: the microseconds of the datetime\\\n",
    "nanosecond: the nanoseconds of the datetime.\n",
    "\n",
    "Note that these return numbers, not labels!\n",
    "\n",
    "You can see a full list of attributes by accessing the Pandas API Reference documentation. \n",
    "\n",
    "https://pandas.pydata.org/pandas-docs/version/0.25/reference/api/pandas.DatetimeIndex.html"
   ]
  },
  {
   "cell_type": "code",
   "execution_count": 10,
   "metadata": {},
   "outputs": [
    {
     "name": "stdout",
     "output_type": "stream",
     "text": [
      "Int64Index([ 1,  1,  1,  1,  1,  1,  1,  1,  1,  1,\n",
      "            ...\n",
      "             9,  9,  9, 10, 10, 10, 10, 10, 10, 10],\n",
      "           dtype='int64', length=1376)\n",
      "Int64Index([ 1,  2,  3,  4,  5,  6,  7,  8,  9, 10,\n",
      "            ...\n",
      "            28, 29, 30,  1,  2,  3,  4,  5,  6,  7],\n",
      "           dtype='int64', length=1376)\n",
      "[False False False ... False False False]\n",
      "There are 1376 data entries for December\n"
     ]
    }
   ],
   "source": [
    "print(timeSeries.index.month)\n",
    "print(timeSeries.index.day)\n",
    "\n",
    "# create a list of which rows have a date in December\n",
    "print(timeSeries.index.month == 12)\n",
    "\n",
    "# count the number of December entries\n",
    "shape = (timeSeries.index.month == 12).shape\n",
    "\n",
    "print('There are', shape[0], 'data entries for December')"
   ]
  },
  {
   "cell_type": "markdown",
   "metadata": {},
   "source": [
    "To get a better visualisation, we can convert the series to a Data Frame with column values."
   ]
  },
  {
   "cell_type": "code",
   "execution_count": 11,
   "metadata": {},
   "outputs": [
    {
     "data": {
      "text/html": [
       "<div>\n",
       "<style scoped>\n",
       "    .dataframe tbody tr th:only-of-type {\n",
       "        vertical-align: middle;\n",
       "    }\n",
       "\n",
       "    .dataframe tbody tr th {\n",
       "        vertical-align: top;\n",
       "    }\n",
       "\n",
       "    .dataframe thead th {\n",
       "        text-align: right;\n",
       "    }\n",
       "</style>\n",
       "<table border=\"1\" class=\"dataframe\">\n",
       "  <thead>\n",
       "    <tr style=\"text-align: right;\">\n",
       "      <th></th>\n",
       "      <th>data</th>\n",
       "    </tr>\n",
       "  </thead>\n",
       "  <tbody>\n",
       "    <tr>\n",
       "      <td>2016-01-01</td>\n",
       "      <td>1.229503</td>\n",
       "    </tr>\n",
       "    <tr>\n",
       "      <td>2016-01-02</td>\n",
       "      <td>1.446639</td>\n",
       "    </tr>\n",
       "    <tr>\n",
       "      <td>2016-01-03</td>\n",
       "      <td>2.176954</td>\n",
       "    </tr>\n",
       "    <tr>\n",
       "      <td>2016-01-04</td>\n",
       "      <td>1.047084</td>\n",
       "    </tr>\n",
       "    <tr>\n",
       "      <td>2016-01-05</td>\n",
       "      <td>-0.227227</td>\n",
       "    </tr>\n",
       "    <tr>\n",
       "      <td>...</td>\n",
       "      <td>...</td>\n",
       "    </tr>\n",
       "    <tr>\n",
       "      <td>2019-10-03</td>\n",
       "      <td>-0.253456</td>\n",
       "    </tr>\n",
       "    <tr>\n",
       "      <td>2019-10-04</td>\n",
       "      <td>0.598865</td>\n",
       "    </tr>\n",
       "    <tr>\n",
       "      <td>2019-10-05</td>\n",
       "      <td>-0.577108</td>\n",
       "    </tr>\n",
       "    <tr>\n",
       "      <td>2019-10-06</td>\n",
       "      <td>0.169349</td>\n",
       "    </tr>\n",
       "    <tr>\n",
       "      <td>2019-10-07</td>\n",
       "      <td>-0.068497</td>\n",
       "    </tr>\n",
       "  </tbody>\n",
       "</table>\n",
       "<p>1376 rows × 1 columns</p>\n",
       "</div>"
      ],
      "text/plain": [
       "                data\n",
       "2016-01-01  1.229503\n",
       "2016-01-02  1.446639\n",
       "2016-01-03  2.176954\n",
       "2016-01-04  1.047084\n",
       "2016-01-05 -0.227227\n",
       "...              ...\n",
       "2019-10-03 -0.253456\n",
       "2019-10-04  0.598865\n",
       "2019-10-05 -0.577108\n",
       "2019-10-06  0.169349\n",
       "2019-10-07 -0.068497\n",
       "\n",
       "[1376 rows x 1 columns]"
      ]
     },
     "execution_count": 11,
     "metadata": {},
     "output_type": "execute_result"
    }
   ],
   "source": [
    "timeFrame = pd.DataFrame(timeSeries, columns = ['data'])\n",
    "timeFrame"
   ]
  },
  {
   "cell_type": "code",
   "execution_count": null,
   "metadata": {},
   "outputs": [],
   "source": []
  }
 ],
 "metadata": {
  "kernelspec": {
   "display_name": "Python 3",
   "language": "python",
   "name": "python3"
  },
  "language_info": {
   "codemirror_mode": {
    "name": "ipython",
    "version": 3
   },
   "file_extension": ".py",
   "mimetype": "text/x-python",
   "name": "python",
   "nbconvert_exporter": "python",
   "pygments_lexer": "ipython3",
   "version": "3.7.4"
  }
 },
 "nbformat": 4,
 "nbformat_minor": 2
}
