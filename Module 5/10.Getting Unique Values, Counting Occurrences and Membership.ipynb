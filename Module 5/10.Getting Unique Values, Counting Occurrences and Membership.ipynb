{
 "cells": [
  {
   "cell_type": "markdown",
   "metadata": {},
   "source": [
    "Sometimes in a Series, you have some repeated values, so you may want to know the unique values in your Series. To get the unique values in a Series, you use the **unique()** function.\n",
    "\n",
    "You may also want to know how many times a value is repeated or its occurrences. If so, you use **value_counts()** function.\n",
    "\n",
    "Finally, with the **isin()** function you can determine if values are contained in the Series."
   ]
  },
  {
   "cell_type": "code",
   "execution_count": 1,
   "metadata": {},
   "outputs": [
    {
     "name": "stdout",
     "output_type": "stream",
     "text": [
      "colours =\n",
      "0     yellow\n",
      "1      white\n",
      "2      black\n",
      "3      black\n",
      "4      white\n",
      "5        red\n",
      "6     yellow\n",
      "7        red\n",
      "8     purple\n",
      "9      black\n",
      "10     black\n",
      "11       red\n",
      "dtype: object\n",
      "\n",
      "The unique values in colours \n",
      " ['yellow' 'white' 'black' 'red' 'purple']\n"
     ]
    }
   ],
   "source": [
    "import pandas as pd\n",
    "\n",
    "# getting the unique values\n",
    "colors = pd.Series(['yellow', 'white', 'black', 'black', 'white', 'red', 'yellow', 'red', 'purple','black', 'black', 'red'])\n",
    "print('colours =')\n",
    "print(colors)\n",
    "print()\n",
    "\n",
    "print('The unique values in colours \\n', colors.unique())"
   ]
  },
  {
   "cell_type": "code",
   "execution_count": 2,
   "metadata": {},
   "outputs": [
    {
     "data": {
      "text/plain": [
       "black     4\n",
       "red       3\n",
       "yellow    2\n",
       "white     2\n",
       "purple    1\n",
       "dtype: int64"
      ]
     },
     "execution_count": 2,
     "metadata": {},
     "output_type": "execute_result"
    }
   ],
   "source": [
    "# counting the occurrences in a series\n",
    "colors.value_counts()"
   ]
  },
  {
   "cell_type": "code",
   "execution_count": 3,
   "metadata": {},
   "outputs": [
    {
     "data": {
      "text/plain": [
       "0     False\n",
       "1      True\n",
       "2     False\n",
       "3     False\n",
       "4      True\n",
       "5     False\n",
       "6     False\n",
       "7     False\n",
       "8     False\n",
       "9     False\n",
       "10    False\n",
       "11    False\n",
       "dtype: bool"
      ]
     },
     "execution_count": 3,
     "metadata": {},
     "output_type": "execute_result"
    }
   ],
   "source": [
    "# evaluating the membership of the values\n",
    "colors.isin(['white','green'])\n",
    "\n",
    "# Note this function returns a series with Ture for the elements that match\n",
    "# or False for those that don't match"
   ]
  },
  {
   "cell_type": "code",
   "execution_count": 4,
   "metadata": {},
   "outputs": [
    {
     "data": {
      "text/plain": [
       "1     white\n",
       "4     white\n",
       "5       red\n",
       "7       red\n",
       "11      red\n",
       "dtype: object"
      ]
     },
     "execution_count": 4,
     "metadata": {},
     "output_type": "execute_result"
    }
   ],
   "source": [
    "# filtering the data using the boolean values that the isin() function returns\n",
    "colors[colors.isin(['white','red'])]"
   ]
  },
  {
   "cell_type": "markdown",
   "metadata": {},
   "source": [
    "## Practise Series"
   ]
  },
  {
   "cell_type": "markdown",
   "metadata": {},
   "source": [
    "For your fruit Series, write code to do the following:\n",
    "\n",
    "1. Get the unique values.\n",
    "2. Count how many occurrences per fruit.\n",
    "3. Filter for ['apple', 'coconut', 'orange']."
   ]
  },
  {
   "cell_type": "code",
   "execution_count": 9,
   "metadata": {},
   "outputs": [],
   "source": [
    "#solution series 1\n",
    "import pandas as pd \n",
    "\n",
    "\n",
    "list_fruits=['apple','banana','kiwi','watermelon','mandarine','apricot',  \n",
    "             'coconut','cherry','grape','melon','watermelon',\n",
    "             'mandarine','orange','coconut','grape','mandarine','banana',\n",
    "             'coconut','cherry','mango','strawberry','apricot',\n",
    "             'nectarine','kiwi','apricot']\n"
   ]
  },
  {
   "cell_type": "code",
   "execution_count": 13,
   "metadata": {},
   "outputs": [
    {
     "name": "stdout",
     "output_type": "stream",
     "text": [
      "fruits\n",
      "0          apple\n",
      "1         banana\n",
      "2           kiwi\n",
      "3     watermelon\n",
      "4      mandarine\n",
      "5        apricot\n",
      "6        coconut\n",
      "7         cherry\n",
      "8          grape\n",
      "9          melon\n",
      "10    watermelon\n",
      "11     mandarine\n",
      "12        orange\n",
      "13       coconut\n",
      "14         grape\n",
      "15     mandarine\n",
      "16        banana\n",
      "17       coconut\n",
      "18        cherry\n",
      "19         mango\n",
      "20    strawberry\n",
      "21       apricot\n",
      "22     nectarine\n",
      "23          kiwi\n",
      "24       apricot\n",
      "dtype: object\n",
      "\n"
     ]
    }
   ],
   "source": [
    "# create series\n",
    "fruits = pd.Series(list_fruits)\n",
    "print('fruits')\n",
    "print(fruits)\n",
    "print()"
   ]
  },
  {
   "cell_type": "code",
   "execution_count": 14,
   "metadata": {},
   "outputs": [
    {
     "name": "stdout",
     "output_type": "stream",
     "text": [
      "1. Unique values in fruits\n",
      "['apple' 'banana' 'kiwi' 'watermelon' 'mandarine' 'apricot' 'coconut'\n",
      " 'cherry' 'grape' 'melon' 'orange' 'mango' 'strawberry' 'nectarine']\n",
      "\n"
     ]
    }
   ],
   "source": [
    "#unique \n",
    "print('1. Unique values in fruits')\n",
    "print(fruits.unique())\n",
    "print()\n"
   ]
  },
  {
   "cell_type": "code",
   "execution_count": 15,
   "metadata": {},
   "outputs": [
    {
     "name": "stdout",
     "output_type": "stream",
     "text": [
      "2. Number of the ocurrences\n",
      "coconut       3\n",
      "apricot       3\n",
      "mandarine     3\n",
      "kiwi          2\n",
      "grape         2\n",
      "watermelon    2\n",
      "cherry        2\n",
      "banana        2\n",
      "orange        1\n",
      "melon         1\n",
      "mango         1\n",
      "apple         1\n",
      "nectarine     1\n",
      "strawberry    1\n",
      "dtype: int64\n",
      "\n"
     ]
    }
   ],
   "source": [
    "#number of occurences\n",
    "print('2. Number of the ocurrences')\n",
    "print(fruits.value_counts())\n",
    "print()"
   ]
  },
  {
   "cell_type": "code",
   "execution_count": 16,
   "metadata": {},
   "outputs": [
    {
     "name": "stdout",
     "output_type": "stream",
     "text": [
      "3 Series filtered\n",
      "0       apple\n",
      "6     coconut\n",
      "12     orange\n",
      "13    coconut\n",
      "17    coconut\n",
      "dtype: object\n",
      "\n"
     ]
    }
   ],
   "source": [
    "#filter apple coconut orange data\n",
    "print('3 Series filtered')\n",
    "print(fruits[fruits.isin(['apple','coconut', 'orange'])])\n",
    "print()"
   ]
  },
  {
   "cell_type": "markdown",
   "metadata": {},
   "source": [
    "For your population Series, write code to do the following:\n",
    "\n",
    "1. Compute the mean.\n",
    "2. Compute the standard deviation rounded to two digits of precision.\n",
    "3. Find the minimum value.\n",
    "4. Find the maximum value."
   ]
  },
  {
   "cell_type": "code",
   "execution_count": 6,
   "metadata": {},
   "outputs": [],
   "source": [
    "#solution series 2 \n",
    "population_dictionary={'Sydney':4627345,   \n",
    "                       'Melbourne':4246375,  \n",
    "                       'Brisbane':2189878,  \n",
    "                       'Perth': 1896548,  \n",
    "                       'Adelaide': 1225235,  \n",
    "                       'Gold Coast':591473,  \n",
    "                       'Canberra':367752,  \n",
    "                       'Newcastle':308308,  \n",
    "                       'Wollongong':292190,  \n",
    "                       'Logan City':282673}  \n"
   ]
  },
  {
   "cell_type": "code",
   "execution_count": 22,
   "metadata": {},
   "outputs": [
    {
     "name": "stdout",
     "output_type": "stream",
     "text": [
      "populations\n",
      "Sydney        4627345\n",
      "Melbourne     4246375\n",
      "Brisbane      2189878\n",
      "Perth         1896548\n",
      "Adelaide      1225235\n",
      "Gold Coast     591473\n",
      "Canberra       367752\n",
      "Newcastle      308308\n",
      "Wollongong     292190\n",
      "Logan City     282673\n",
      "dtype: int64\n",
      "\n",
      "1. mean\n",
      "1602777.7\n",
      "\n"
     ]
    }
   ],
   "source": [
    "# create series\n",
    "populations = pd.Series(population_dictionary)\n",
    "print('populations')\n",
    "print(populations)\n",
    "print()\n",
    "\n",
    "# mean\n",
    "print('1. mean')\n",
    "print(populations.mean())\n",
    "print()"
   ]
  },
  {
   "cell_type": "code",
   "execution_count": 23,
   "metadata": {},
   "outputs": [
    {
     "name": "stdout",
     "output_type": "stream",
     "text": [
      "2. standard deviation\n",
      "1646347.28\n",
      "\n"
     ]
    }
   ],
   "source": [
    "# standard deviation\n",
    "print('2. standard deviation')\n",
    "print(round(populations.std(),2))\n",
    "print()\n",
    "      "
   ]
  },
  {
   "cell_type": "code",
   "execution_count": 24,
   "metadata": {},
   "outputs": [
    {
     "name": "stdout",
     "output_type": "stream",
     "text": [
      "3. minimum value\n",
      "282673\n",
      "\n",
      "4. maximum value\n",
      "4627345\n"
     ]
    }
   ],
   "source": [
    "# min\n",
    "print('3. minimum value')\n",
    "print(populations.min())\n",
    "print()\n",
    "      \n",
    "# max\n",
    "print('4. maximum value')\n",
    "print(populations.max())"
   ]
  },
  {
   "cell_type": "code",
   "execution_count": null,
   "metadata": {},
   "outputs": [],
   "source": []
  }
 ],
 "metadata": {
  "kernelspec": {
   "display_name": "Python 3",
   "language": "python",
   "name": "python3"
  },
  "language_info": {
   "codemirror_mode": {
    "name": "ipython",
    "version": 3
   },
   "file_extension": ".py",
   "mimetype": "text/x-python",
   "name": "python",
   "nbconvert_exporter": "python",
   "pygments_lexer": "ipython3",
   "version": "3.7.4"
  }
 },
 "nbformat": 4,
 "nbformat_minor": 2
}
