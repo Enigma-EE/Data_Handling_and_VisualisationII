{
 "cells": [
  {
   "cell_type": "markdown",
   "metadata": {},
   "source": [
    "You can define a specific index in a Series, but what happens if you have more indexes (rows) than you have data? For example, with the weather data, perhaps wind speed failed to be recorded during an observation. You can't just fill these with 0s as the wind speed could actually be 0 so recording a non-observed wind speed as 0 would affect calculations you did about wind speed (such as mean wind speeds).\n",
    "\n",
    "Pandas uses the **NaN** value to fill these spaces."
   ]
  },
  {
   "cell_type": "markdown",
   "metadata": {},
   "source": [
    "Pandas allows you to explicitly define NaNs (Not a Number) and add them to a Series or a Data Frame.\n",
    "\n",
    "Tip: Try to be consistent for all the data that you define as missing data. I suggest you use np.nan in all the cases."
   ]
  },
  {
   "cell_type": "code",
   "execution_count": 1,
   "metadata": {},
   "outputs": [
    {
     "name": "stdout",
     "output_type": "stream",
     "text": [
      "series1 = \n",
      "apple        1.50\n",
      "blueberry    3.50\n",
      "banana       2.99\n",
      "orange       4.30\n",
      "mandarine     NaN\n",
      "dtype: float64\n",
      "\n",
      "series2 = \n",
      "apple         1.50\n",
      "blueberry     3.50\n",
      "banana        2.99\n",
      "orange        4.30\n",
      "mandarine      NaN\n",
      "rockmelon      NaN\n",
      "strawberry     NaN\n",
      "dtype: float64\n"
     ]
    }
   ],
   "source": [
    "# creating an index and NaN values\n",
    "\n",
    "import pandas as pd\n",
    "import numpy as np\n",
    "\n",
    "# dictionary with numpy NaN value\n",
    "data = {'apple': 1.5, 'blueberry': 3.5, 'banana': 2.99, 'orange': 4.3, 'mandarine':np.nan}\n",
    "\n",
    "# create a series with the dictionary\n",
    "series1 = pd.Series(data)\n",
    "print('series1 = ')\n",
    "print(series1)\n",
    "print()\n",
    "\n",
    "# Create another series with more indexse than series1\n",
    "fruits = ['apple','blueberry','banana', 'orange', 'mandarine', 'rockmelon', 'strawberry']\n",
    "\n",
    "# Create a series using the series1 data and the additional indexes\n",
    "# series2 has more indexes than data provided\n",
    "# there are missing value for some indexes\n",
    "series2 = pd.Series(series1, index=fruits)\n",
    "print('series2 = ')\n",
    "print(series2)"
   ]
  },
  {
   "cell_type": "markdown",
   "metadata": {},
   "source": [
    "Note that all the missing values have automatically been filled in with NaN.\n",
    "\n",
    "You can find out how many NaNs you have in your Series by checking if the values are null with the **isnull( )** and **notnull( )** functions. Let's see what happen with NaNs."
   ]
  },
  {
   "cell_type": "code",
   "execution_count": 2,
   "metadata": {},
   "outputs": [
    {
     "data": {
      "text/plain": [
       "apple        False\n",
       "blueberry    False\n",
       "banana       False\n",
       "orange       False\n",
       "mandarine     True\n",
       "dtype: bool"
      ]
     },
     "execution_count": 2,
     "metadata": {},
     "output_type": "execute_result"
    }
   ],
   "source": [
    "# isnull() function return true when is a null value or NaN\n",
    "series1.isnull()\n",
    "# mandarine is null because it has NaN for value "
   ]
  },
  {
   "cell_type": "code",
   "execution_count": 3,
   "metadata": {},
   "outputs": [
    {
     "data": {
      "text/plain": [
       "apple          True\n",
       "blueberry      True\n",
       "banana         True\n",
       "orange         True\n",
       "mandarine     False\n",
       "rockmelon     False\n",
       "strawberry    False\n",
       "dtype: bool"
      ]
     },
     "execution_count": 3,
     "metadata": {},
     "output_type": "execute_result"
    }
   ],
   "source": [
    "# notull() function return true when the value is Not a null value or NaN\n",
    "series2.notnull()\n",
    "#apple, blueberry, banana and orange are True because they all have a value. \n",
    "#However, mandarine, rockmelon and strawberry are False because they have NaN values"
   ]
  },
  {
   "cell_type": "markdown",
   "metadata": {},
   "source": [
    "## Counting and Filtering NaNs in Series"
   ]
  },
  {
   "attachments": {
    "image.png": {
     "image/png": "[encoded data removed]"
    }
   },
   "cell_type": "markdown",
   "metadata": {},
   "source": [
    "![image.png](attachment:image.png)"
   ]
  },
  {
   "cell_type": "code",
   "execution_count": 4,
   "metadata": {},
   "outputs": [
    {
     "name": "stdout",
     "output_type": "stream",
     "text": [
      "Number of null data values in series2 is 3\n",
      "Number of valid data values in series2 is 4\n"
     ]
    }
   ],
   "source": [
    "# counting notnull and null data\n",
    "print('Number of null data values in series2 is', series2.isnull().sum())\n",
    "print('Number of valid data values in series2 is', series2.notnull().sum())\n"
   ]
  },
  {
   "cell_type": "code",
   "execution_count": 9,
   "metadata": {},
   "outputs": [
    {
     "name": "stdout",
     "output_type": "stream",
     "text": [
      "Number of null data values in series2 is 7\n"
     ]
    }
   ],
   "source": [
    "print('Number of null data values in series2 is', series2.isna().count())"
   ]
  },
  {
   "cell_type": "code",
   "execution_count": 5,
   "metadata": {},
   "outputs": [
    {
     "name": "stdout",
     "output_type": "stream",
     "text": [
      "The valid data in series2 are\n",
      "apple        1.50\n",
      "blueberry    3.50\n",
      "banana       2.99\n",
      "orange       4.30\n",
      "dtype: float64\n",
      "The missing data in series2 are\n",
      "mandarine    NaN\n",
      "rockmelon    NaN\n",
      "strawberry   NaN\n",
      "dtype: float64\n"
     ]
    }
   ],
   "source": [
    "# Filtering NOT null data\n",
    "print('The valid data in series2 are')\n",
    "print(series2[series2.notnull()])\n",
    "print('The missing data in series2 are')\n",
    "print(series2[series2.isnull()])"
   ]
  },
  {
   "cell_type": "markdown",
   "metadata": {},
   "source": [
    "## Practise NaNs"
   ]
  },
  {
   "cell_type": "code",
   "execution_count": null,
   "metadata": {},
   "outputs": [],
   "source": []
  }
 ],
 "metadata": {
  "kernelspec": {
   "display_name": "Python 3",
   "language": "python",
   "name": "python3"
  },
  "language_info": {
   "codemirror_mode": {
    "name": "ipython",
    "version": 3
   },
   "file_extension": ".py",
   "mimetype": "text/x-python",
   "name": "python",
   "nbconvert_exporter": "python",
   "pygments_lexer": "ipython3",
   "version": "3.7.4"
  }
 },
 "nbformat": 4,
 "nbformat_minor": 2
}
