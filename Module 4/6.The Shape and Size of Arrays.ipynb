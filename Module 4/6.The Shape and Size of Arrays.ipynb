{
 "cells": [
  {
   "cell_type": "markdown",
   "metadata": {},
   "source": [
    "Both the shape (number of rows and columns) and the size (total number of elements) of your arrays may be important to you. You can get these properties from your array. The important thing is not to mix up what they mean."
   ]
  },
  {
   "cell_type": "code",
   "execution_count": 1,
   "metadata": {},
   "outputs": [
    {
     "name": "stdout",
     "output_type": "stream",
     "text": [
      "The total number of elemments in the array is: 12\n",
      "The number of row is: 3 , the total number of columns is: 4\n"
     ]
    }
   ],
   "source": [
    "import numpy as np\n",
    "# the shape vs size of an array\n",
    "a2d = np.array([[1,2,3,4],[5,6,7,8],[9,10,11,12]])\n",
    "\n",
    "print('The total number of elemments in the array is:',a2d.size)\n",
    "\n",
    "rows,columns = a2d.shape\n",
    "print('The number of row is:',rows,', the total number of columns is:', columns)"
   ]
  },
  {
   "cell_type": "code",
   "execution_count": 2,
   "metadata": {},
   "outputs": [
    {
     "name": "stdout",
     "output_type": "stream",
     "text": [
      "The total number of elements in the array is: 12\n",
      "The number of rows is: 3 , the number of columns is: 4\n"
     ]
    }
   ],
   "source": [
    "# This is exactly the same, but using the Numpy size() and shape() functions\n",
    "# insitead of the array's shape and size attributes\n",
    "\n",
    "a2d = np.array([[1,2,3,4],[5,6,7,8],[9,10,11,12]])\n",
    "\n",
    "print('The total number of elements in the array is:', np.size(a2d))\n",
    "\n",
    "rows,columns = np.shape(a2d)\n",
    "\n",
    "print('The number of rows is:',rows,', the number of columns is:',columns)"
   ]
  },
  {
   "cell_type": "code",
   "execution_count": 3,
   "metadata": {},
   "outputs": [
    {
     "data": {
      "text/plain": [
       "3"
      ]
     },
     "execution_count": 3,
     "metadata": {},
     "output_type": "execute_result"
    }
   ],
   "source": [
    "# Remember not to use the len( ) function on multi-dimensional arrays!\n",
    "# it will NOT give you the number of elements\n",
    "len(a2d)"
   ]
  },
  {
   "cell_type": "code",
   "execution_count": null,
   "metadata": {},
   "outputs": [],
   "source": []
  }
 ],
 "metadata": {
  "kernelspec": {
   "display_name": "Python 3",
   "language": "python",
   "name": "python3"
  },
  "language_info": {
   "codemirror_mode": {
    "name": "ipython",
    "version": 3
   },
   "file_extension": ".py",
   "mimetype": "text/x-python",
   "name": "python",
   "nbconvert_exporter": "python",
   "pygments_lexer": "ipython3",
   "version": "3.7.4"
  }
 },
 "nbformat": 4,
 "nbformat_minor": 2
}
