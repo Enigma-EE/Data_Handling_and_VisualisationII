{
 "cells": [
  {
   "cell_type": "markdown",
   "metadata": {},
   "source": [
    "Everything in Python is actually an object; integers, strings, floats, as well as lists and dictionaries. But Python splits these into two groups: mutable objects (such as lists and dictionaries) and immutable objects (such as integers, floats, strings, tuples).\n",
    "\n",
    "Immutable objects will behave as you would likely expect objects to behave. If you assign them to each other, they get the same value, but further changes to one will not affect the other. What does this mean?"
   ]
  },
  {
   "cell_type": "code",
   "execution_count": 1,
   "metadata": {},
   "outputs": [
    {
     "name": "stdout",
     "output_type": "stream",
     "text": [
      "5\n",
      "6\n"
     ]
    }
   ],
   "source": [
    "a = 5\n",
    "b = 6\n",
    "b = a\n",
    "b = b + 1\n",
    "print(a)\n",
    "print(b)"
   ]
  },
  {
   "cell_type": "code",
   "execution_count": 2,
   "metadata": {},
   "outputs": [
    {
     "name": "stdout",
     "output_type": "stream",
     "text": [
      "[1, 2, 3, 4, 9]\n",
      "[1, 2, 3, 4, 9]\n"
     ]
    }
   ],
   "source": [
    "listA = [1,2,3,4]\n",
    "listB = [5,6,7,8]\n",
    "listB = listA\n",
    "listB.append(9)\n",
    "print(listA)\n",
    "print(listB)"
   ]
  },
  {
   "cell_type": "markdown",
   "metadata": {},
   "source": [
    "These two examples look identical. So why do a and b change independently, whereas listA and listB are affected by changes to each other? The difference is that the integers are immutable, whereas the lists are mutable. When assignment (=) is performed on an immutable type, a new object of that type is created to hold the answer. For mutable types, no new object is created and both variables (listA and listB) refer to the same object."
   ]
  },
  {
   "cell_type": "code",
   "execution_count": 3,
   "metadata": {},
   "outputs": [
    {
     "name": "stdout",
     "output_type": "stream",
     "text": [
      "hello hellohello\n"
     ]
    }
   ],
   "source": [
    "strA = 'hello'\n",
    "strB = 'world'\n",
    "\n",
    "strB = strA\n",
    "\n",
    "strB = strB + strB\n",
    "\n",
    "print(strA, strB)"
   ]
  },
  {
   "cell_type": "markdown",
   "metadata": {},
   "source": [
    "Strings are immutable. strB = strA created a new object with the same values as strA and stored it in strB. So, changes to strB don't affect strA and vice versa. As a matter of fact, strB = strB + strB also created a new object to store 'hellohello'.\n",
    "\n",
    "Because of this behaviour, it is important to remember that any time you are working with a mutable type, you should not use assignment to make a copy. Assignment will make both variables refer to the same mutable object.\n",
    "\n",
    "Instead, you will find that all mutable objects have a copy() method that allows you to copy them."
   ]
  },
  {
   "cell_type": "code",
   "execution_count": 4,
   "metadata": {},
   "outputs": [
    {
     "name": "stdout",
     "output_type": "stream",
     "text": [
      "[1, 2, 3, 4]\n",
      "[1, 2, 3, 4, 9]\n"
     ]
    }
   ],
   "source": [
    "listA = [1,2,3,4] \n",
    "listB = [5,6,7,8]\n",
    "\n",
    "listB = listA.copy()\n",
    "\n",
    "listB.append(9)\n",
    "\n",
    "print(listA)\n",
    "print(listB)"
   ]
  },
  {
   "cell_type": "code",
   "execution_count": 6,
   "metadata": {},
   "outputs": [
    {
     "name": "stdout",
     "output_type": "stream",
     "text": [
      "{'name': 'Siobhan', 'age': 20}\n",
      "{'name': 'Siobhan', 'age': 20}\n"
     ]
    }
   ],
   "source": [
    "dictA = {'name':'Joe','age':20} \n",
    "dictB = {'neme':'Ye', 'age':33}\n",
    "\n",
    "dictB = dictA\n",
    "\n",
    "dictB['name']= 'Siobhan'\n",
    "\n",
    "print(dictA)\n",
    "print(dictB)"
   ]
  },
  {
   "cell_type": "code",
   "execution_count": 7,
   "metadata": {},
   "outputs": [
    {
     "name": "stdout",
     "output_type": "stream",
     "text": [
      "{'name': 'Joe', 'age': 20}\n",
      "{'name': 'Siobhan', 'age': 20}\n"
     ]
    }
   ],
   "source": [
    "# dictionaries are mutable\n",
    "\n",
    "dictA = {'name':'Joe','age':20}\n",
    "dictB = {'name':'Ye', 'age':33}\n",
    "\n",
    "dictB = dictA.copy()\n",
    "dictB['name'] = 'Siobhan'\n",
    "\n",
    "print(dictA)\n",
    "print(dictB)"
   ]
  },
  {
   "cell_type": "markdown",
   "metadata": {},
   "source": [
    "Create two datetime objects, dt1 and dt2, and assign dt1=dt2.\n",
    "\n",
    "Change dt2's year with the Python code:\n",
    "\n",
    "dt2.replace(year=2119)\n",
    "\n",
    "Print dt1 and dt2.\n",
    "\n",
    "Are datetime objects mutable or immutable? If mutable, use copy() to copy the datetime and show that the changes do not affect both datetime."
   ]
  },
  {
   "cell_type": "code",
   "execution_count": 3,
   "metadata": {},
   "outputs": [
    {
     "name": "stdout",
     "output_type": "stream",
     "text": [
      "2021-05-06 16:48:30.608172\n",
      "2119-05-06 16:48:30.608172\n"
     ]
    }
   ],
   "source": [
    "import datetime\n",
    "\n",
    "dt1 = datetime.datetime.now()\n",
    "dt2 = datetime.datetime.now()\n",
    "\n",
    "dt2 = dt1\n",
    "\n",
    "dt2 = dt2.replace(year=2119)\n",
    "\n",
    "print(dt1)\n",
    "print(dt2)\n",
    "\n",
    "# datetime objects are immutable"
   ]
  },
  {
   "cell_type": "code",
   "execution_count": null,
   "metadata": {},
   "outputs": [],
   "source": []
  }
 ],
 "metadata": {
  "kernelspec": {
   "display_name": "Python 3",
   "language": "python",
   "name": "python3"
  },
  "language_info": {
   "codemirror_mode": {
    "name": "ipython",
    "version": 3
   },
   "file_extension": ".py",
   "mimetype": "text/x-python",
   "name": "python",
   "nbconvert_exporter": "python",
   "pygments_lexer": "ipython3",
   "version": "3.7.4"
  }
 },
 "nbformat": 4,
 "nbformat_minor": 2
}
