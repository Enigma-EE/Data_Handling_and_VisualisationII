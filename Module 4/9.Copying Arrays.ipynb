{
 "cells": [
  {
   "cell_type": "markdown",
   "metadata": {},
   "source": [
    "Arrays present the same problem as lists when you assign an array to another array. If you modify either of the arrays the other array is modified as well. This behaviour occurs as NumPy arrays are mutable objects.  This can be avoided by using the copy() method or np.array(), which will give you a new array that has the same values."
   ]
  },
  {
   "cell_type": "code",
   "execution_count": 3,
   "metadata": {},
   "outputs": [
    {
     "name": "stdout",
     "output_type": "stream",
     "text": [
      "a2 = \n",
      " [[ 3 12  5 65]\n",
      " [13 90  2 49]\n",
      " [35 79  1  8]]\n",
      "a2Slice = \n",
      " [[ 3 12]\n",
      " [13 90]]\n",
      "\n",
      " a2Slice after modification: \n",
      " [[-10  12]\n",
      " [ 13  90]]\n",
      "\n",
      " a2 is modified too! = \n",
      " [[-10  12   5  65]\n",
      " [ 13  90   2  49]\n",
      " [ 35  79   1   8]]\n"
     ]
    }
   ],
   "source": [
    "import numpy as np\n",
    "# ERROR - Copy an array in another array WITHOUT copy()\n",
    "\n",
    "a2 = np.array([[3, 12, 5, 65],[13, 90, 2, 49], [35, 79, 1, 8]])\n",
    "print('a2 = \\n',a2)\n",
    "\n",
    "a2Slice = a2[:2,:2]\n",
    "print('a2Slice = \\n', a2Slice)\n",
    "\n",
    "# what happens if we modified a position of the array?\n",
    "\n",
    "a2Slice[0,0] = -10\n",
    "print('\\n a2Slice after modification: \\n',a2Slice)\n",
    "print('\\n a2 is modified too! = \\n',a2)"
   ]
  },
  {
   "cell_type": "code",
   "execution_count": 13,
   "metadata": {},
   "outputs": [
    {
     "name": "stdout",
     "output_type": "stream",
     "text": [
      "a2 = \n",
      " [[ 3 12  5 65]\n",
      " [13 90  2 49]\n",
      " [35 79  1  8]]\n",
      "\n",
      " a2Slice with copy() = \n",
      " [[ 3 12]\n",
      " [13 90]]\n",
      "\n",
      " a2Slice after modified= \n",
      " [[-10  12]\n",
      " [ 13  90]]\n",
      "\n",
      " a2 is NOT modified =\n",
      " [[ 3 12  5 65]\n",
      " [13 90  2 49]\n",
      " [35 79  1  8]]\n",
      "\n",
      " a2Slice with np.array() = \n",
      " [[ 3 12]\n",
      " [13 90]]\n",
      "\n",
      " a2Slice after modified= \n",
      " [[-10  12]\n",
      " [ 13  90]]\n",
      "\n",
      " a2 is NOT modified =\n",
      " [[ 3 12  5 65]\n",
      " [13 90  2 49]\n",
      " [35 79  1  8]]\n"
     ]
    }
   ],
   "source": [
    "#Copy an array in another array with copy() \n",
    "\n",
    "#If you want an independent copy use copy() or np.array\n",
    "a2 =np.array([[3, 12, 5, 65],[13, 90, 2, 49], [35, 79, 1, 8]])\n",
    "print('a2 = \\n',a2)\n",
    "\n",
    "a2Slice= a2[:2,:2].copy()\n",
    "print('\\n a2Slice with copy() = \\n',a2Slice)\n",
    "\n",
    "#What happens if we modified a position of the array?\n",
    "a2Slice[0, 0] = -10\n",
    "print('\\n a2Slice after modified= \\n',a2Slice)\n",
    "print('\\n a2 is NOT modified =\\n', a2)\n",
    "\n",
    "\n",
    "a2Slice = np.array(a2[:2,:2])\n",
    "print('\\n a2Slice with np.array() = \\n',a2Slice)\n",
    "\n",
    "#What happens if we modified a position of the array?\n",
    "a2Slice[0, 0] = -10\n",
    "print('\\n a2Slice after modified= \\n',a2Slice)\n",
    "print('\\n a2 is NOT modified =\\n', a2)"
   ]
  },
  {
   "cell_type": "code",
   "execution_count": null,
   "metadata": {},
   "outputs": [],
   "source": []
  }
 ],
 "metadata": {
  "kernelspec": {
   "display_name": "Python 3",
   "language": "python",
   "name": "python3"
  },
  "language_info": {
   "codemirror_mode": {
    "name": "ipython",
    "version": 3
   },
   "file_extension": ".py",
   "mimetype": "text/x-python",
   "name": "python",
   "nbconvert_exporter": "python",
   "pygments_lexer": "ipython3",
   "version": "3.7.4"
  }
 },
 "nbformat": 4,
 "nbformat_minor": 2
}
