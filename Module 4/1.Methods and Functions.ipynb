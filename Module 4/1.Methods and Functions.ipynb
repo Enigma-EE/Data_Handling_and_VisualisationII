{
 "cells": [
  {
   "cell_type": "code",
   "execution_count": 1,
   "metadata": {},
   "outputs": [
    {
     "name": "stdout",
     "output_type": "stream",
     "text": [
      "(3, 4)\n",
      "[[ 1  2  3  4  5  6]\n",
      " [ 7  8  9 10 11 12]]\n",
      "<class 'numpy.ndarray'>\n"
     ]
    }
   ],
   "source": [
    "# attributes vs methods vs build-in functions\n",
    "\n",
    "import numpy as np\n",
    "\n",
    "a4 = np.array([[1,2,3,4],[5,6,7,8],[9,10,11,12]])\n",
    "\n",
    "# attribute\n",
    "print(a4.shape)\n",
    "\n",
    "# method\n",
    "a2 = a4.reshape(2,6)\n",
    "print(a2)\n",
    "\n",
    "# build-in function\n",
    "print(type(a4))\n"
   ]
  },
  {
   "cell_type": "code",
   "execution_count": 2,
   "metadata": {},
   "outputs": [
    {
     "ename": "AttributeError",
     "evalue": "'list' object has no attribute 'len'",
     "output_type": "error",
     "traceback": [
      "\u001b[1;31m---------------------------------------------------------------------------\u001b[0m",
      "\u001b[1;31mAttributeError\u001b[0m                            Traceback (most recent call last)",
      "\u001b[1;32m<ipython-input-2-f72b47824594>\u001b[0m in \u001b[0;36m<module>\u001b[1;34m\u001b[0m\n\u001b[0;32m      3\u001b[0m \u001b[1;33m\u001b[0m\u001b[0m\n\u001b[0;32m      4\u001b[0m \u001b[0mnumbers\u001b[0m \u001b[1;33m=\u001b[0m \u001b[1;33m[\u001b[0m\u001b[1;36m1\u001b[0m\u001b[1;33m,\u001b[0m\u001b[1;36m2\u001b[0m\u001b[1;33m,\u001b[0m\u001b[1;36m3\u001b[0m\u001b[1;33m,\u001b[0m\u001b[1;36m4\u001b[0m\u001b[1;33m,\u001b[0m\u001b[1;36m5\u001b[0m\u001b[1;33m]\u001b[0m\u001b[1;33m\u001b[0m\u001b[1;33m\u001b[0m\u001b[0m\n\u001b[1;32m----> 5\u001b[1;33m \u001b[0mnumbers\u001b[0m\u001b[1;33m.\u001b[0m\u001b[0mlen\u001b[0m\u001b[1;33m(\u001b[0m\u001b[1;33m)\u001b[0m  \u001b[1;31m# lists don't have a len() method!!\u001b[0m\u001b[1;33m\u001b[0m\u001b[1;33m\u001b[0m\u001b[0m\n\u001b[0m\u001b[0;32m      6\u001b[0m \u001b[1;33m\u001b[0m\u001b[0m\n\u001b[0;32m      7\u001b[0m \u001b[1;31m# need to use the built-in function len()\u001b[0m\u001b[1;33m\u001b[0m\u001b[1;33m\u001b[0m\u001b[1;33m\u001b[0m\u001b[0m\n",
      "\u001b[1;31mAttributeError\u001b[0m: 'list' object has no attribute 'len'"
     ]
    }
   ],
   "source": [
    "# it's important to use the right one\n",
    "# check the documentation for what attributes and methods an object provides\n",
    "\n",
    "numbers = [1,2,3,4,5]\n",
    "numbers.len()  # lists don't have a len() method!!\n",
    "\n",
    "# need to use the built-in function len()\n",
    "# len(numbers)"
   ]
  },
  {
   "cell_type": "markdown",
   "metadata": {},
   "source": [
    "Open your Jupyter notebook on dates/times for reference. The datetime module has three main object types that you’ve worked with:\n",
    "\n",
    "date objects — have the attributes: year, month and day.\n",
    "\n",
    "time objects — have the attributes: hour, minute, second, microsecond and tzinfo.\n",
    "\n",
    "datetime objects — have all of the attributes of both date and time objects.\n",
    "\n",
    "In your Jupyter notebook on objects, write Python code that prints one data attribute and calls one method of each of these objects. Mark which are data attributes and which are methods using Python comments."
   ]
  },
  {
   "cell_type": "code",
   "execution_count": 5,
   "metadata": {},
   "outputs": [
    {
     "name": "stdout",
     "output_type": "stream",
     "text": [
      "2021-05-03 21:20:09.279938\n",
      "2021-05-03\n",
      "21:20:09.279938\n",
      "\n",
      "2021\n",
      "5\n",
      "21\n",
      "\n",
      "0001-01-01 00:00:00\n",
      "9999-12-31 23:59:59.999999\n",
      "0:00:00.000001\n",
      "\n",
      "00:00:00\n",
      "23:59:59.999999\n",
      "0:00:00.000001\n",
      "\n",
      "0001-01-01\n",
      "9999-12-31\n",
      "1 day, 0:00:00\n"
     ]
    }
   ],
   "source": [
    "import datetime\n",
    "\n",
    "# object methods\n",
    "today = datetime.datetime.now()\n",
    "date = today.date()\n",
    "time = today.time()\n",
    "print(today)\n",
    "print(date)\n",
    "print(time)\n",
    "print()\n",
    "\n",
    "# object instance attributes\n",
    "print(today.year)\n",
    "print(date.month)\n",
    "print(time.hour)\n",
    "print()\n",
    "\n",
    "# class attributes\n",
    "print(datetime.datetime.min)\n",
    "print(datetime.datetime.max)\n",
    "print(datetime.datetime.resolution)\n",
    "print()\n",
    "\n",
    "print(datetime.time.min)\n",
    "print(datetime.time.max)\n",
    "print(datetime.time.resolution)\n",
    "print()\n",
    "\n",
    "print(datetime.date.min)\n",
    "print(datetime.date.max)\n",
    "print(datetime.date.resolution)"
   ]
  },
  {
   "cell_type": "code",
   "execution_count": null,
   "metadata": {},
   "outputs": [],
   "source": []
  }
 ],
 "metadata": {
  "kernelspec": {
   "display_name": "Python 3",
   "language": "python",
   "name": "python3"
  },
  "language_info": {
   "codemirror_mode": {
    "name": "ipython",
    "version": 3
   },
   "file_extension": ".py",
   "mimetype": "text/x-python",
   "name": "python",
   "nbconvert_exporter": "python",
   "pygments_lexer": "ipython3",
   "version": "3.7.4"
  }
 },
 "nbformat": 4,
 "nbformat_minor": 2
}
