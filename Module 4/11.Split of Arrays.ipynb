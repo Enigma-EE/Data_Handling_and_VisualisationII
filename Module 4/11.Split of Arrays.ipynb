{
 "cells": [
  {
   "cell_type": "markdown",
   "metadata": {},
   "source": [
    "You can also split an array into several arrays using:\n",
    "\n",
    "np.split(): Split an array into multiple sub-arrays. \n",
    "\n",
    "Parameters:\n",
    "Array to be divided into sub-arrays\n",
    "\n",
    "Indices or sections : int or one-dimensional array.\n",
    "1. If indices_or_sections is an integer, N, the array will be divided into N equal arrays along axis.\n",
    "2. If indices_or_sections is an array, each number in the array indicates where the next section ends.\n",
    "3. If such a split is not possible, an error is raised."
   ]
  },
  {
   "cell_type": "code",
   "execution_count": 1,
   "metadata": {},
   "outputs": [
    {
     "name": "stdout",
     "output_type": "stream",
     "text": [
      "vec =  [0 1 2 3]\n",
      "v1 =  [0]\n",
      "v2 =  [1]\n",
      "v3 =  [2]\n",
      "v4 =  [3]\n"
     ]
    }
   ],
   "source": [
    "import numpy as np\n",
    "\n",
    "# example of np.split of one-dimensional array into 4 equal sized arrays\n",
    "\n",
    "vec = np.arange(4)\n",
    "print('vec = ',vec)\n",
    "\n",
    "v1,v2,v3,v4 = np.split(vec,4)\n",
    "print('v1 = ',v1)\n",
    "print('v2 = ',v2)\n",
    "print('v3 = ',v3)\n",
    "print('v4 = ',v4)"
   ]
  },
  {
   "cell_type": "code",
   "execution_count": 2,
   "metadata": {},
   "outputs": [
    {
     "ename": "ValueError",
     "evalue": "array split does not result in an equal division",
     "output_type": "error",
     "traceback": [
      "\u001b[1;31m---------------------------------------------------------------------------\u001b[0m",
      "\u001b[1;31mTypeError\u001b[0m                                 Traceback (most recent call last)",
      "\u001b[1;32mD:\\ana\\lib\\site-packages\\numpy\\lib\\shape_base.py\u001b[0m in \u001b[0;36msplit\u001b[1;34m(ary, indices_or_sections, axis)\u001b[0m\n\u001b[0;32m    842\u001b[0m     \u001b[1;32mtry\u001b[0m\u001b[1;33m:\u001b[0m\u001b[1;33m\u001b[0m\u001b[1;33m\u001b[0m\u001b[0m\n\u001b[1;32m--> 843\u001b[1;33m         \u001b[0mlen\u001b[0m\u001b[1;33m(\u001b[0m\u001b[0mindices_or_sections\u001b[0m\u001b[1;33m)\u001b[0m\u001b[1;33m\u001b[0m\u001b[1;33m\u001b[0m\u001b[0m\n\u001b[0m\u001b[0;32m    844\u001b[0m     \u001b[1;32mexcept\u001b[0m \u001b[0mTypeError\u001b[0m\u001b[1;33m:\u001b[0m\u001b[1;33m\u001b[0m\u001b[1;33m\u001b[0m\u001b[0m\n",
      "\u001b[1;31mTypeError\u001b[0m: object of type 'int' has no len()",
      "\nDuring handling of the above exception, another exception occurred:\n",
      "\u001b[1;31mValueError\u001b[0m                                Traceback (most recent call last)",
      "\u001b[1;32m<ipython-input-2-64aa3076ff23>\u001b[0m in \u001b[0;36m<module>\u001b[1;34m\u001b[0m\n\u001b[0;32m      1\u001b[0m \u001b[1;31m# Change the split from 4 to 3 in your notebook at run it to see what happens.\u001b[0m\u001b[1;33m\u001b[0m\u001b[1;33m\u001b[0m\u001b[1;33m\u001b[0m\u001b[0m\n\u001b[1;32m----> 2\u001b[1;33m \u001b[0mv1\u001b[0m\u001b[1;33m,\u001b[0m\u001b[0mv2\u001b[0m\u001b[1;33m,\u001b[0m\u001b[0mv3\u001b[0m \u001b[1;33m=\u001b[0m \u001b[0mnp\u001b[0m\u001b[1;33m.\u001b[0m\u001b[0msplit\u001b[0m\u001b[1;33m(\u001b[0m\u001b[0mvec\u001b[0m\u001b[1;33m,\u001b[0m\u001b[1;36m3\u001b[0m\u001b[1;33m)\u001b[0m\u001b[1;33m\u001b[0m\u001b[1;33m\u001b[0m\u001b[0m\n\u001b[0m\u001b[0;32m      3\u001b[0m \u001b[0mprint\u001b[0m\u001b[1;33m(\u001b[0m\u001b[1;34m'v1 = '\u001b[0m\u001b[1;33m,\u001b[0m\u001b[0mv1\u001b[0m\u001b[1;33m)\u001b[0m\u001b[1;33m\u001b[0m\u001b[1;33m\u001b[0m\u001b[0m\n\u001b[0;32m      4\u001b[0m \u001b[0mprint\u001b[0m\u001b[1;33m(\u001b[0m\u001b[1;34m'v2 = '\u001b[0m\u001b[1;33m,\u001b[0m\u001b[0mv2\u001b[0m\u001b[1;33m)\u001b[0m\u001b[1;33m\u001b[0m\u001b[1;33m\u001b[0m\u001b[0m\n\u001b[0;32m      5\u001b[0m \u001b[0mprint\u001b[0m\u001b[1;33m(\u001b[0m\u001b[1;34m'v3 = '\u001b[0m\u001b[1;33m,\u001b[0m\u001b[0mv3\u001b[0m\u001b[1;33m)\u001b[0m\u001b[1;33m\u001b[0m\u001b[1;33m\u001b[0m\u001b[0m\n",
      "\u001b[1;32mD:\\ana\\lib\\site-packages\\numpy\\lib\\shape_base.py\u001b[0m in \u001b[0;36msplit\u001b[1;34m(ary, indices_or_sections, axis)\u001b[0m\n\u001b[0;32m    847\u001b[0m         \u001b[1;32mif\u001b[0m \u001b[0mN\u001b[0m \u001b[1;33m%\u001b[0m \u001b[0msections\u001b[0m\u001b[1;33m:\u001b[0m\u001b[1;33m\u001b[0m\u001b[1;33m\u001b[0m\u001b[0m\n\u001b[0;32m    848\u001b[0m             raise ValueError(\n\u001b[1;32m--> 849\u001b[1;33m                 'array split does not result in an equal division')\n\u001b[0m\u001b[0;32m    850\u001b[0m     \u001b[0mres\u001b[0m \u001b[1;33m=\u001b[0m \u001b[0marray_split\u001b[0m\u001b[1;33m(\u001b[0m\u001b[0mary\u001b[0m\u001b[1;33m,\u001b[0m \u001b[0mindices_or_sections\u001b[0m\u001b[1;33m,\u001b[0m \u001b[0maxis\u001b[0m\u001b[1;33m)\u001b[0m\u001b[1;33m\u001b[0m\u001b[1;33m\u001b[0m\u001b[0m\n\u001b[0;32m    851\u001b[0m     \u001b[1;32mreturn\u001b[0m \u001b[0mres\u001b[0m\u001b[1;33m\u001b[0m\u001b[1;33m\u001b[0m\u001b[0m\n",
      "\u001b[1;31mValueError\u001b[0m: array split does not result in an equal division"
     ]
    }
   ],
   "source": [
    "\n",
    "# Change the split from 4 to 3 in your notebook at run it to see what happens.\n",
    "v1,v2,v3 = np.split(vec,3)\n",
    "print('v1 = ',v1)\n",
    "print('v2 = ',v2)\n",
    "print('v3 = ',v3)"
   ]
  },
  {
   "cell_type": "code",
   "execution_count": 6,
   "metadata": {},
   "outputs": [
    {
     "name": "stdout",
     "output_type": "stream",
     "text": [
      "vec =  [0 1 2 3 4 5 6 7]\n",
      "v1 =  [0 1 2]\n",
      "v2 =  [3 4]\n",
      "v3 =  [5 6 7]\n"
     ]
    }
   ],
   "source": [
    "# example of np.split of one- dimensional array into 3 parts\n",
    "# rows 0-2, rows 3-4 and rows 5-8\n",
    "# note [3,5] \n",
    "# 3 indicates that the first split ends in index 3\n",
    "# so this first split includes indexes 0-2\n",
    "# second split starts at next index,3\n",
    "# 5 indicates second split ends at index 5\n",
    "# so the second split will include index 3-4\n",
    "# when there are no more indexes, whatever is left in the array will end up in the remainder split\n",
    "\n",
    "vec = np.arange(8)\n",
    "print('vec = ',vec)\n",
    "\n",
    "\n",
    "v1,v2,v3 = np.split(vec,[3,5])\n",
    "print('v1 = ',v1)\n",
    "print('v2 = ',v2)\n",
    "print('v3 = ',v3)\n"
   ]
  },
  {
   "cell_type": "code",
   "execution_count": 10,
   "metadata": {},
   "outputs": [
    {
     "name": "stdout",
     "output_type": "stream",
     "text": [
      "[0. 1. 2. 3. 4. 5. 6. 7. 8. 9.]\n",
      "[array([0., 1., 2.]), array([3., 4.]), array([5.]), array([6., 7., 8., 9.]), array([], dtype=float64)]\n"
     ]
    }
   ],
   "source": [
    "# Example of np.split in one-dimensional array into 5 parts\n",
    "vec = np.arange(10.0)\n",
    "print(vec)\n",
    "\n",
    "(print(np.split(vec, [3, 5, 6, 10])))\n",
    "# note that the last array is empty as there are no remaining elements after index 9"
   ]
  },
  {
   "cell_type": "code",
   "execution_count": 11,
   "metadata": {},
   "outputs": [
    {
     "name": "stdout",
     "output_type": "stream",
     "text": [
      "m1 = \n",
      " [[ 0  1  2  3]\n",
      " [ 4  5  6  7]\n",
      " [ 8  9 10 11]\n",
      " [12 13 14 15]\n",
      " [16 17 18 19]\n",
      " [20 21 22 23]]\n",
      "mS1 = \n",
      " [[ 0  1  2  3]\n",
      " [ 4  5  6  7]\n",
      " [ 8  9 10 11]]\n",
      "mS2 = \n",
      " [[12 13 14 15]\n",
      " [16 17 18 19]\n",
      " [20 21 22 23]]\n"
     ]
    }
   ],
   "source": [
    "# example with two dimentional array\n",
    "\n",
    "# create a two-dimensional array\n",
    "\n",
    "m1 = np.arange(24).reshape((6,4))\n",
    "print('m1 = \\n',m1)\n",
    "\n",
    "# split into two equal arrays\n",
    "mS1,mS2 = np.split(m1,2)\n",
    "\n",
    "# [2]index for rows,the two first\n",
    "print('mS1 = \\n',mS1)\n",
    "print('mS2 = \\n',mS2)"
   ]
  },
  {
   "cell_type": "code",
   "execution_count": 12,
   "metadata": {},
   "outputs": [
    {
     "name": "stdout",
     "output_type": "stream",
     "text": [
      "m1 =\n",
      " [[ 0  1  2  3]\n",
      " [ 4  5  6  7]\n",
      " [ 8  9 10 11]\n",
      " [12 13 14 15]\n",
      " [16 17 18 19]\n",
      " [20 21 22 23]]\n",
      "mS1 =\n",
      " [[0 1 2 3]\n",
      " [4 5 6 7]]\n",
      "mS2 =\n",
      " [[ 8  9 10 11]\n",
      " [12 13 14 15]\n",
      " [16 17 18 19]\n",
      " [20 21 22 23]]\n"
     ]
    }
   ],
   "source": [
    "# Example with two-dimensional array\n",
    "\n",
    "#Create a two-dimensional array\n",
    "m1 = np.arange(24).reshape((6, 4))\n",
    "print(\"m1 =\\n\", m1)\n",
    "\n",
    "# split the first two rows from the rest\n",
    "mS1,mS2 = np.split(m1,[2])\n",
    "\n",
    "print(\"mS1 =\\n\", mS1)\n",
    "print(\"mS2 =\\n\", mS2)"
   ]
  },
  {
   "cell_type": "code",
   "execution_count": 13,
   "metadata": {},
   "outputs": [
    {
     "name": "stdout",
     "output_type": "stream",
     "text": [
      "mS1 =\n",
      " [[ 0  1  2  3]\n",
      " [ 4  5  6  7]\n",
      " [ 8  9 10 11]\n",
      " [12 13 14 15]]\n",
      "mS2 =\n",
      " [[16 17 18 19]\n",
      " [20 21 22 23]]\n"
     ]
    }
   ],
   "source": [
    "#You can also use a negative index to indicate the offset from the end of the array \n",
    "# rather than the beginning\n",
    "# split the array, stop at the second row from the end\n",
    "\n",
    "mS1,mS2 = np.split(m1,[-2])\n",
    "print(\"mS1 =\\n\", mS1)\n",
    "print(\"mS2 =\\n\", mS2)"
   ]
  },
  {
   "cell_type": "markdown",
   "metadata": {},
   "source": [
    "np.vsplit()\n",
    "\n",
    "Array to be divided into sub-arrays\n",
    "Indexes of sections"
   ]
  },
  {
   "cell_type": "code",
   "execution_count": 14,
   "metadata": {},
   "outputs": [
    {
     "name": "stdout",
     "output_type": "stream",
     "text": [
      "m1 =\n",
      " [[ 0  1  2  3]\n",
      " [ 4  5  6  7]\n",
      " [ 8  9 10 11]\n",
      " [12 13 14 15]\n",
      " [16 17 18 19]\n",
      " [20 21 22 23]]\n",
      "above =\n",
      " [[ 0  1  2  3]\n",
      " [ 4  5  6  7]\n",
      " [ 8  9 10 11]]\n",
      "below =\n",
      " [[12 13 14 15]\n",
      " [16 17 18 19]\n",
      " [20 21 22 23]]\n"
     ]
    }
   ],
   "source": [
    "# Example of vsplit\n",
    "# Note the behaviour of vsplit is the same as split( ).\n",
    "# split optionally takes another argument indicating the axis (row or column) to use\n",
    "#　The default is row.  vsplit always splits on rows.\n",
    "\n",
    "print(\"m1 =\\n\", m1)\n",
    "\n",
    "# split the array into two equal sections of rows\n",
    "above,below = np.vsplit(m1,2)\n",
    "\n",
    "print(\"above =\\n\", above)\n",
    "print(\"below =\\n\", below)"
   ]
  },
  {
   "cell_type": "code",
   "execution_count": 16,
   "metadata": {},
   "outputs": [
    {
     "name": "stdout",
     "output_type": "stream",
     "text": [
      "m1 =\n",
      " [[ 0  1  2  3]\n",
      " [ 4  5  6  7]\n",
      " [ 8  9 10 11]\n",
      " [12 13 14 15]\n",
      " [16 17 18 19]\n",
      " [20 21 22 23]]\n",
      "a =\n",
      " [[0 1 2 3]\n",
      " [4 5 6 7]]\n",
      "b =\n",
      " [[ 8  9 10 11]]\n",
      "c =\n",
      " [[12 13 14 15]\n",
      " [16 17 18 19]\n",
      " [20 21 22 23]]\n"
     ]
    }
   ],
   "source": [
    "#Example of vsplit ()\n",
    "print(\"m1 =\\n\", m1)\n",
    "\n",
    "#split the array into three parts: up to row 2, row 2, rest of array\n",
    "a,b,c = np.vsplit(m1,np.array([2,3]))\n",
    "\n",
    "print(\"a =\\n\", a)\n",
    "print(\"b =\\n\", b)\n",
    "print(\"c =\\n\", c)"
   ]
  },
  {
   "cell_type": "markdown",
   "metadata": {},
   "source": [
    "np.hsplit()\n",
    "\n",
    "Array to be divided into sub-arrays\n",
    "Indexes of sections"
   ]
  },
  {
   "cell_type": "code",
   "execution_count": 17,
   "metadata": {},
   "outputs": [
    {
     "name": "stdout",
     "output_type": "stream",
     "text": [
      "m1 = \n",
      " [[ 0  1  2  3]\n",
      " [ 4  5  6  7]\n",
      " [ 8  9 10 11]\n",
      " [12 13 14 15]\n",
      " [16 17 18 19]\n",
      " [20 21 22 23]]\n",
      "left = \n",
      " [[ 0  1]\n",
      " [ 4  5]\n",
      " [ 8  9]\n",
      " [12 13]\n",
      " [16 17]\n",
      " [20 21]]\n",
      "right = \n",
      " [[ 2  3]\n",
      " [ 6  7]\n",
      " [10 11]\n",
      " [14 15]\n",
      " [18 19]\n",
      " [22 23]]\n"
     ]
    }
   ],
   "source": [
    "# example of hsplit()\n",
    "# hsplit() always split on columns\n",
    "\n",
    "print('m1 = \\n',m1)\n",
    "\n",
    "# split array into 2 even sections of columns\n",
    "\n",
    "left,right = np.hsplit(m1,2)\n",
    "print('left = \\n',left)\n",
    "print('right = \\n',right)"
   ]
  },
  {
   "cell_type": "code",
   "execution_count": 20,
   "metadata": {},
   "outputs": [
    {
     "name": "stdout",
     "output_type": "stream",
     "text": [
      "m1 =\n",
      " [[ 0  1  2  3]\n",
      " [ 4  5  6  7]\n",
      " [ 8  9 10 11]\n",
      " [12 13 14 15]\n",
      " [16 17 18 19]\n",
      " [20 21 22 23]]\n",
      "a = \n",
      " [[ 0  1]\n",
      " [ 4  5]\n",
      " [ 8  9]\n",
      " [12 13]\n",
      " [16 17]\n",
      " [20 21]]\n",
      "b = \n",
      " [[ 2]\n",
      " [ 6]\n",
      " [10]\n",
      " [14]\n",
      " [18]\n",
      " [22]]\n",
      "c = \n",
      " [[ 3]\n",
      " [ 7]\n",
      " [11]\n",
      " [15]\n",
      " [19]\n",
      " [23]]\n"
     ]
    }
   ],
   "source": [
    "#Example of hsplit ()\n",
    "print(\"m1 =\\n\", m1)\n",
    "\n",
    "# split array into three parts: up to column 2, column 2 and rest of the array\n",
    "a,b,c = np.hsplit(m1,np.array([2,3]))\n",
    "print('a = \\n',a)\n",
    "print('b = \\n',b)\n",
    "print('c = \\n',c)"
   ]
  },
  {
   "cell_type": "markdown",
   "metadata": {},
   "source": [
    "In your Jupyter Notebook, write the code that will take the following arrays and slice them to get the desired outputs."
   ]
  },
  {
   "cell_type": "code",
   "execution_count": 21,
   "metadata": {},
   "outputs": [
    {
     "name": "stdout",
     "output_type": "stream",
     "text": [
      "a1 = \n",
      " [[  4  -8   7   4]\n",
      " [ 32 -89  67   2]\n",
      " [ 58 -87  46  94]]\n",
      "1. = \n",
      " [[ 58 -87  46  94]\n",
      " [ 32 -89  67   2]\n",
      " [  4  -8   7   4]]\n",
      "2. = \n",
      " [[ 32 -89  67   2]]\n",
      "3. = \n",
      " [[ 7]\n",
      " [67]\n",
      " [46]]\n",
      "4. = \n",
      " [[-89  67]\n",
      " [-87  46]]\n",
      "5. = \n",
      " [[ 7  4]\n",
      " [67  2]]\n"
     ]
    }
   ],
   "source": [
    "import numpy as np\n",
    "\n",
    "a1= np.array([[  4,  -8,   7,   4],\n",
    "              [ 32, -89,  67,   2],\n",
    "              [ 58, -87,  46,  94]])\n",
    "print ('a1 = \\n',a1)\n",
    "print('1. = \\n', a1[::-1])\n",
    "print('2. = \\n', a1[1:2])\n",
    "print('3. = \\n', a1[:,2:3])\n",
    "print('4. = \\n', a1[1:3,1:3])\n",
    "print('5. = \\n', a1[0:2,2:4])\n"
   ]
  },
  {
   "cell_type": "markdown",
   "metadata": {},
   "source": [
    "In your Jupyter Notebook write the code that will take arrays (a1, a2, and a3) and concatenate and split them to get the desired outputs."
   ]
  },
  {
   "cell_type": "markdown",
   "metadata": {},
   "source": [
    "### 1-dimensional Arrays"
   ]
  },
  {
   "cell_type": "code",
   "execution_count": 22,
   "metadata": {},
   "outputs": [
    {
     "name": "stdout",
     "output_type": "stream",
     "text": [
      "v1 =  [ 20  21  22  23  24  25  26  27  28  29 -20 -19 -18 -17 -16 -15 -14 -13\n",
      " -12 -11   0   1   2   3   4   5   6   7   8   9]\n",
      "v2 =  [ 20  22  24  26  28 -20 -18 -16 -14 -12]\n",
      "v3 = [ 29  28  27  26  25  24  23  22  21  20 -11 -12 -13 -14 -15 -16 -17 -18\n",
      " -19 -20   9   8   7   6   5   4   3   2   1   0]\n"
     ]
    }
   ],
   "source": [
    "\n",
    "\n",
    "a1 = np.arange(20,30)\n",
    "a2 = np.arange(-20,-10)\n",
    "a3 = np.arange(10)\n",
    "\n",
    "#Concatenation \n",
    "\n",
    "v1 = np.concatenate([a1, a2, a3])\n",
    "v2 = np.concatenate([a1[::2],a2[::2]])\n",
    "v3 = np.concatenate([a1[::-1],a2[::-1], a3[::-1]])\n",
    "print('v1 = ',v1)\n",
    "print('v2 = ',v2)\n",
    "print('v3 =',v3)\n"
   ]
  },
  {
   "cell_type": "code",
   "execution_count": 23,
   "metadata": {},
   "outputs": [
    {
     "name": "stdout",
     "output_type": "stream",
     "text": [
      "v1 =  [20 21 22]\n",
      "v2 =  [23]\n",
      "v3 =  [24 25 26 27 28 29]\n"
     ]
    }
   ],
   "source": [
    "\n",
    "#Split\n",
    "v1,v2,v3 = np.split(a1,[3,4])\n",
    "print('v1 = ',v1)\n",
    "print('v2 = ',v2)\n",
    "print('v3 = ',v3)"
   ]
  },
  {
   "cell_type": "markdown",
   "metadata": {},
   "source": [
    "### 2-dimensional Arrays"
   ]
  },
  {
   "cell_type": "code",
   "execution_count": 24,
   "metadata": {},
   "outputs": [
    {
     "name": "stdout",
     "output_type": "stream",
     "text": [
      "====CONCATENATION===\n",
      "m1 = \n",
      " [[-1  2 -3]\n",
      " [ 4 -5  6]\n",
      " [ 7  8  9]]\n",
      "m2 = \n",
      " [[-1  2 -3]\n",
      " [ 4 -5  6]\n",
      " [ 7  8  9]\n",
      " [ 7  8  9]\n",
      " [ 4 -5  6]\n",
      " [-1  2 -3]]\n",
      "m3 = \n",
      " [[-1  2 -3 -1]\n",
      " [ 4 -5  6  4]\n",
      " [ 7  8  9  7]]\n",
      "=====SPLIT=====\n",
      "m2 =\n",
      " [[1 2 3]\n",
      " [4 5 6]\n",
      " [7 8 9]\n",
      " [7 8 9]\n",
      " [4 5 6]\n",
      " [1 2 3]]\n",
      "matrixS1 =\n",
      " [[1 2 3]\n",
      " [4 5 6]]\n",
      "matrixS2 =\n",
      " [[7 8 9]\n",
      " [7 8 9]\n",
      " [4 5 6]\n",
      " [1 2 3]]\n"
     ]
    }
   ],
   "source": [
    "m1 = np.array([[-1, 2, -3],[4, -5, 6],[7, 8, 9]])\n",
    "\n",
    "#Concatenation\n",
    "print('====CONCATENATION===')\n",
    "m2 = np.concatenate([m1,m1[::-1]])\n",
    "print('m1 = \\n', m1)\n",
    "print('m2 = \\n', m2)\n",
    "m3=np.concatenate([m1,  m1[:3, ::3] ],axis = 1)\n",
    "print('m3 = \\n', m3)\n",
    "\n",
    "\n",
    "\n",
    "#Split \n",
    "print('=====SPLIT=====')\n",
    "m1 = np.array([[1, 2, 3],[4, 5, 6],[7, 8, 9]])\n",
    "m2 = np.concatenate([m1,m1[::-1]])\n",
    "print(\"m2 =\\n\", m2)\n",
    "matrixS1,matrixS2 = np.split(m2,[2]);#[2]index for rows, the two first  \n",
    "print(\"matrixS1 =\\n\", matrixS1)\n",
    "print(\"matrixS2 =\\n\", matrixS2)"
   ]
  },
  {
   "cell_type": "code",
   "execution_count": null,
   "metadata": {},
   "outputs": [],
   "source": []
  }
 ],
 "metadata": {
  "kernelspec": {
   "display_name": "Python 3",
   "language": "python",
   "name": "python3"
  },
  "language_info": {
   "codemirror_mode": {
    "name": "ipython",
    "version": 3
   },
   "file_extension": ".py",
   "mimetype": "text/x-python",
   "name": "python",
   "nbconvert_exporter": "python",
   "pygments_lexer": "ipython3",
   "version": "3.7.4"
  }
 },
 "nbformat": 4,
 "nbformat_minor": 2
}
