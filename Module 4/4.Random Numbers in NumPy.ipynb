{
 "cells": [
  {
   "cell_type": "markdown",
   "metadata": {},
   "source": [
    "If you recall the functions from the Week 1: Random Numbers, you'll notice that NumPy has the same functions. The main difference is that the NumPy functions will return an array, whereas the Python functions return single values or a list."
   ]
  },
  {
   "cell_type": "code",
   "execution_count": 3,
   "metadata": {},
   "outputs": [
    {
     "data": {
      "text/plain": [
       "array([[-1,  1],\n",
       "       [ 3, -3],\n",
       "       [ 2, -2]])"
      ]
     },
     "execution_count": 3,
     "metadata": {},
     "output_type": "execute_result"
    }
   ],
   "source": [
    "import numpy as np\n",
    "# generate a two-dimensional array with integers numbers\n",
    "# in this examples a 3*2 array of interger number is generated randomly\n",
    "# the range of the random number is -4 to 4\n",
    "\n",
    "r1 = np.random.randint(low = -4, high = 4, size = [3,2])\n",
    "r1\n",
    "# Run this code multiple times\n",
    "# to see the different random values being generated."
   ]
  },
  {
   "cell_type": "code",
   "execution_count": 4,
   "metadata": {},
   "outputs": [
    {
     "name": "stdout",
     "output_type": "stream",
     "text": [
      "Random float numbers in a range [0 to 1], array 2*3\n",
      " [[0.69655572 0.4358933  0.8186162 ]\n",
      " [0.97535844 0.39024408 0.51430592]]\n"
     ]
    }
   ],
   "source": [
    "# generate a two- dimensional array with floats\n",
    "# in this example an array 2*3 of floats numbers is generate randomly\n",
    "\n",
    "arrayFloat = np.random.rand(2,3)\n",
    "print('Random float numbers in a range [0 to 1], array 2*3\\n',arrayFloat)"
   ]
  },
  {
   "cell_type": "markdown",
   "metadata": {},
   "source": [
    "Like Python random functions, with NumPy you can specify a range from a uniform distribution (each value equally likely)."
   ]
  },
  {
   "cell_type": "code",
   "execution_count": 5,
   "metadata": {},
   "outputs": [
    {
     "name": "stdout",
     "output_type": "stream",
     "text": [
      "Random float numbers in a range [-75.5 to 105.5],array 3*3 \n",
      " [[ 97.40258667  68.90769724 -68.90415031]\n",
      " [ 54.15967981 -30.36318766   6.33191253]\n",
      " [-74.57159323   0.10033734   0.75067754]]\n"
     ]
    }
   ],
   "source": [
    "# generate a two-dimentional array with floats\n",
    "# In this example an array 4*3 of float number is generate randomly\n",
    "# Random numbers are in a specific range: -75.5 to 105.5\n",
    "\n",
    "arrayFloat2 = np.random.uniform(-75.5,105.5,size=(3,3))\n",
    "print('Random float numbers in a range [-75.5 to 105.5],array 3*3 \\n', arrayFloat2)"
   ]
  },
  {
   "cell_type": "markdown",
   "metadata": {},
   "source": [
    "In your Jupyter notebook, write code that creates three arrays using the np.zeros, np.random, np.array.  Feel free to choose the number of rows and columns.\n",
    "\n",
    " "
   ]
  },
  {
   "cell_type": "code",
   "execution_count": 10,
   "metadata": {},
   "outputs": [
    {
     "name": "stdout",
     "output_type": "stream",
     "text": [
      "[[0. 0. 0.]\n",
      " [0. 0. 0.]\n",
      " [0. 0. 0.]]\n",
      "[[0.1693617  0.15860736 0.35724774 0.10469853 0.72927056]\n",
      " [0.43332178 0.16532766 0.25896577 0.84203418 0.76012512]\n",
      " [0.48994344 0.59637425 0.66186949 0.97266946 0.40707906]]\n",
      "[[1 2 3]\n",
      " [7 8 9]]\n"
     ]
    }
   ],
   "source": [
    "a1 = np.zeros((3,3))\n",
    "a2 = np.random.rand(3,5)\n",
    "a3 = np.array([[1,2,3],[7,8,9]])\n",
    "print(a1)\n",
    "print(a2)\n",
    "print(a3)"
   ]
  },
  {
   "cell_type": "code",
   "execution_count": null,
   "metadata": {},
   "outputs": [],
   "source": []
  }
 ],
 "metadata": {
  "kernelspec": {
   "display_name": "Python 3",
   "language": "python",
   "name": "python3"
  },
  "language_info": {
   "codemirror_mode": {
    "name": "ipython",
    "version": 3
   },
   "file_extension": ".py",
   "mimetype": "text/x-python",
   "name": "python",
   "nbconvert_exporter": "python",
   "pygments_lexer": "ipython3",
   "version": "3.7.4"
  }
 },
 "nbformat": 4,
 "nbformat_minor": 2
}
