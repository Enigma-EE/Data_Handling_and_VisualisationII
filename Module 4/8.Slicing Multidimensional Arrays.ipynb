{
 "cells": [
  {
   "cell_type": "markdown",
   "metadata": {},
   "source": [
    "Multidimensional slices work in the same way as accessing sections of an array, with multiple slices separated by commas. "
   ]
  },
  {
   "cell_type": "code",
   "execution_count": 1,
   "metadata": {},
   "outputs": [
    {
     "data": {
      "text/plain": [
       "array([[ 3, 12,  5, 65],\n",
       "       [13, 90,  2, 49],\n",
       "       [35, 79,  1,  8]])"
      ]
     },
     "execution_count": 1,
     "metadata": {},
     "output_type": "execute_result"
    }
   ],
   "source": [
    "import numpy as np\n",
    "# create a multidimensional array\n",
    "\n",
    "a2 = np.array([[3, 12, 5, 65],[13, 90, 2, 49], [35, 79, 1, 8]])\n",
    "a2"
   ]
  },
  {
   "cell_type": "code",
   "execution_count": 3,
   "metadata": {},
   "outputs": [
    {
     "data": {
      "text/plain": [
       "array([[ 3, 12,  5],\n",
       "       [13, 90,  2]])"
      ]
     },
     "execution_count": 3,
     "metadata": {},
     "output_type": "execute_result"
    }
   ],
   "source": [
    "# slice the first 2 row and the first three columns\n",
    "a2[:2,:3]"
   ]
  },
  {
   "cell_type": "code",
   "execution_count": 5,
   "metadata": {},
   "outputs": [
    {
     "data": {
      "text/plain": [
       "array([[ 3],\n",
       "       [13],\n",
       "       [35]])"
      ]
     },
     "execution_count": 5,
     "metadata": {},
     "output_type": "execute_result"
    }
   ],
   "source": [
    "# slice all the rows and the first column\n",
    "a2[:,:1]"
   ]
  },
  {
   "cell_type": "code",
   "execution_count": 7,
   "metadata": {},
   "outputs": [
    {
     "data": {
      "text/plain": [
       "array([[ 3,  5],\n",
       "       [13,  2],\n",
       "       [35,  1]])"
      ]
     },
     "execution_count": 7,
     "metadata": {},
     "output_type": "execute_result"
    }
   ],
   "source": [
    "# slice all the rows and every other columns\n",
    "a2[:,::2]"
   ]
  },
  {
   "cell_type": "code",
   "execution_count": 8,
   "metadata": {},
   "outputs": [
    {
     "name": "stdout",
     "output_type": "stream",
     "text": [
      "Original a2 \n",
      " [[ 3 12  5 65]\n",
      " [13 90  2 49]\n",
      " [35 79  1  8]]\n",
      "Inverted as \n",
      " [[ 8  1 79 35]\n",
      " [49  2 90 13]\n",
      " [65  5 12  3]]\n"
     ]
    }
   ],
   "source": [
    "# using slices to invert the rows and columns\n",
    "# slice the entire array,but step -1 for both rows and columns\n",
    "print('Original a2 \\n',a2)\n",
    "print('Inverted as \\n', a2[::-1,::-1])"
   ]
  },
  {
   "cell_type": "code",
   "execution_count": null,
   "metadata": {},
   "outputs": [],
   "source": []
  }
 ],
 "metadata": {
  "kernelspec": {
   "display_name": "Python 3",
   "language": "python",
   "name": "python3"
  },
  "language_info": {
   "codemirror_mode": {
    "name": "ipython",
    "version": 3
   },
   "file_extension": ".py",
   "mimetype": "text/x-python",
   "name": "python",
   "nbconvert_exporter": "python",
   "pygments_lexer": "ipython3",
   "version": "3.7.4"
  }
 },
 "nbformat": 4,
 "nbformat_minor": 2
}
