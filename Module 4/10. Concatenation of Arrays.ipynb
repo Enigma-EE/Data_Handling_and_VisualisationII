{
 "cells": [
  {
   "cell_type": "markdown",
   "metadata": {},
   "source": [
    "We can combine multiple arrays joining them into one array using:\n",
    "\n",
    "np.concatenate() Join a sequence of arrays along an existing axis (rows or columns).\n",
    "\n",
    "Parameters:\n",
    "1. A sequence of arrays to concatenate. The arrays must have the same shape, except in the dimension corresponding to axis (rows by default). This means that there can be different numbers of rows, but all of the arrays must have the same number of columns.\n",
    "2. axis : int, optional. The axis along which the arrays will be joined. Default is 0 (rows). 1 selects columns."
   ]
  },
  {
   "cell_type": "code",
   "execution_count": 1,
   "metadata": {},
   "outputs": [
    {
     "data": {
      "text/plain": [
       "array([-1, -2, -3,  3,  2,  1,  4,  5,  6])"
      ]
     },
     "execution_count": 1,
     "metadata": {},
     "output_type": "execute_result"
    }
   ],
   "source": [
    "import numpy as np\n",
    "# example of concatenation one-dimensional arrays\n",
    "\n",
    "a1 = np.array([-1,-2,-3])\n",
    "a2 = np.array([3,2,1])\n",
    "a3 = np.array([4,5,6])\n",
    "\n",
    "# remenber you can concatenate more than 2 arrays\n",
    "np.concatenate([a1,a2,a3])"
   ]
  },
  {
   "cell_type": "code",
   "execution_count": 3,
   "metadata": {},
   "outputs": [
    {
     "name": "stdout",
     "output_type": "stream",
     "text": [
      "matrix: \n",
      " [[1 2 3]\n",
      " [4 5 6]]\n"
     ]
    },
    {
     "data": {
      "text/plain": [
       "array([[1, 2, 3],\n",
       "       [4, 5, 6],\n",
       "       [1, 2, 3],\n",
       "       [4, 5, 6]])"
      ]
     },
     "execution_count": 3,
     "metadata": {},
     "output_type": "execute_result"
    }
   ],
   "source": [
    "# example of concatenation two-dimensional arrays\n",
    "matrix = np.array([[1,2,3],[4,5,6]])\n",
    "print('matrix: \\n', matrix)\n",
    "np.concatenate([matrix,matrix])\n",
    "# by default in axis 0(rows)"
   ]
  },
  {
   "cell_type": "code",
   "execution_count": 5,
   "metadata": {},
   "outputs": [
    {
     "name": "stdout",
     "output_type": "stream",
     "text": [
      "matrix = \n",
      " [[1 2 3]\n",
      " [4 5 6]]\n"
     ]
    },
    {
     "data": {
      "text/plain": [
       "array([[1, 2, 3, 1, 2, 3],\n",
       "       [4, 5, 6, 4, 5, 6]])"
      ]
     },
     "execution_count": 5,
     "metadata": {},
     "output_type": "execute_result"
    }
   ],
   "source": [
    "# Example of concatenate in axis 1(columns)\n",
    "matrix = np.array([[1,2,3],[4,5,6]])\n",
    "print('matrix = \\n',matrix)\n",
    "np.concatenate([matrix,matrix],axis=1)"
   ]
  },
  {
   "cell_type": "code",
   "execution_count": 6,
   "metadata": {},
   "outputs": [
    {
     "ename": "ValueError",
     "evalue": "all the input array dimensions except for the concatenation axis must match exactly",
     "output_type": "error",
     "traceback": [
      "\u001b[1;31m---------------------------------------------------------------------------\u001b[0m",
      "\u001b[1;31mValueError\u001b[0m                                Traceback (most recent call last)",
      "\u001b[1;32m<ipython-input-6-a0db68d256e7>\u001b[0m in \u001b[0;36m<module>\u001b[1;34m\u001b[0m\n\u001b[0;32m      4\u001b[0m \u001b[0mv1\u001b[0m \u001b[1;33m=\u001b[0m \u001b[0mnp\u001b[0m\u001b[1;33m.\u001b[0m\u001b[0marray\u001b[0m\u001b[1;33m(\u001b[0m\u001b[1;33m[\u001b[0m\u001b[1;33m[\u001b[0m\u001b[1;36m1\u001b[0m\u001b[1;33m,\u001b[0m\u001b[1;36m2\u001b[0m\u001b[1;33m]\u001b[0m\u001b[1;33m,\u001b[0m\u001b[1;33m[\u001b[0m\u001b[1;36m3\u001b[0m\u001b[1;33m,\u001b[0m\u001b[1;36m4\u001b[0m\u001b[1;33m]\u001b[0m\u001b[1;33m]\u001b[0m\u001b[1;33m)\u001b[0m\u001b[1;33m\u001b[0m\u001b[1;33m\u001b[0m\u001b[0m\n\u001b[0;32m      5\u001b[0m \u001b[0mmarix\u001b[0m \u001b[1;33m=\u001b[0m \u001b[0mnp\u001b[0m\u001b[1;33m.\u001b[0m\u001b[0marray\u001b[0m\u001b[1;33m(\u001b[0m\u001b[1;33m[\u001b[0m\u001b[1;33m[\u001b[0m\u001b[1;36m4\u001b[0m\u001b[1;33m,\u001b[0m\u001b[1;36m5\u001b[0m\u001b[1;33m,\u001b[0m\u001b[1;36m6\u001b[0m\u001b[1;33m]\u001b[0m\u001b[1;33m,\u001b[0m\u001b[1;33m[\u001b[0m\u001b[1;36m7\u001b[0m\u001b[1;33m,\u001b[0m\u001b[1;36m8\u001b[0m\u001b[1;33m,\u001b[0m\u001b[1;36m9\u001b[0m\u001b[1;33m]\u001b[0m\u001b[1;33m]\u001b[0m\u001b[1;33m)\u001b[0m\u001b[1;33m\u001b[0m\u001b[1;33m\u001b[0m\u001b[0m\n\u001b[1;32m----> 6\u001b[1;33m \u001b[0mnp\u001b[0m\u001b[1;33m.\u001b[0m\u001b[0mconcatenate\u001b[0m\u001b[1;33m(\u001b[0m\u001b[1;33m[\u001b[0m\u001b[0mmatrix\u001b[0m\u001b[1;33m,\u001b[0m\u001b[0mv1\u001b[0m\u001b[1;33m]\u001b[0m\u001b[1;33m)\u001b[0m\u001b[1;33m\u001b[0m\u001b[1;33m\u001b[0m\u001b[0m\n\u001b[0m",
      "\u001b[1;31mValueError\u001b[0m: all the input array dimensions except for the concatenation axis must match exactly"
     ]
    }
   ],
   "source": [
    "# dimensions MUST match other than the dimension being joined\n",
    "# v1 only has 2 columns, can't join on rows\n",
    "\n",
    "v1 = np.array([[1,2],[3,4]])\n",
    "marix = np.array([[4,5,6],[7,8,9]])\n",
    "np.concatenate([matrix,v1])"
   ]
  },
  {
   "cell_type": "code",
   "execution_count": 10,
   "metadata": {},
   "outputs": [
    {
     "data": {
      "text/plain": [
       "array([[1, 2, 3, 1, 2],\n",
       "       [4, 5, 6, 3, 4]])"
      ]
     },
     "execution_count": 10,
     "metadata": {},
     "output_type": "execute_result"
    }
   ],
   "source": [
    "# But you could concatenate on columns (both v1 and matrix have two rows)\n",
    "np.concatenate([matrix, v1],axis=1)"
   ]
  },
  {
   "cell_type": "markdown",
   "metadata": {},
   "source": [
    "np.vstack() Stack arrays in sequence vertically (row wise). \n",
    "\n",
    "Parameters:\n",
    "Arrays to concatenate. \n",
    "\n",
    "The arrays must have the same shape along all but the first axis (rows). 1D arrays must have the same length."
   ]
  },
  {
   "cell_type": "code",
   "execution_count": 11,
   "metadata": {},
   "outputs": [
    {
     "data": {
      "text/plain": [
       "array([[1, 2, 3],\n",
       "       [4, 5, 6],\n",
       "       [7, 8, 9]])"
      ]
     },
     "execution_count": 11,
     "metadata": {},
     "output_type": "execute_result"
    }
   ],
   "source": [
    "# example of np.vstack(vertical or row)\n",
    "v1 = np.array([1,2,3])\n",
    "matrix = np.array([[4,5,6],[7,8,9]])\n",
    "np.vstack([v1,matrix])"
   ]
  },
  {
   "cell_type": "markdown",
   "metadata": {},
   "source": [
    "np.hstack() Stack arrays in sequence horizontally (column wise). \n",
    "\n",
    "Parameters\n",
    "Arrays to concatenate. \n",
    "\n",
    "The arrays must have the same shape along all but the second axis (columns), except 1D arrays which can be any length."
   ]
  },
  {
   "cell_type": "code",
   "execution_count": 12,
   "metadata": {},
   "outputs": [
    {
     "name": "stdout",
     "output_type": "stream",
     "text": [
      "matrix = \n",
      " [[4 5 6]\n",
      " [7 8 9]]\n",
      "h1 = \n",
      " [[-1]\n",
      " [-2]]\n"
     ]
    },
    {
     "data": {
      "text/plain": [
       "array([[-1,  4,  5,  6],\n",
       "       [-2,  7,  8,  9]])"
      ]
     },
     "execution_count": 12,
     "metadata": {},
     "output_type": "execute_result"
    }
   ],
   "source": [
    "# example of np.hstack(horizontal or columns)\n",
    "\n",
    "matrix = np.array([[4,5,6],[7,8,9]])\n",
    "print('matrix = \\n',matrix)\n",
    "\n",
    "h1 = np.array([[-1],[-2]])\n",
    "print('h1 = \\n', h1)\n",
    "\n",
    "np.hstack([h1,matrix])"
   ]
  },
  {
   "cell_type": "code",
   "execution_count": null,
   "metadata": {},
   "outputs": [],
   "source": []
  }
 ],
 "metadata": {
  "kernelspec": {
   "display_name": "Python 3",
   "language": "python",
   "name": "python3"
  },
  "language_info": {
   "codemirror_mode": {
    "name": "ipython",
    "version": 3
   },
   "file_extension": ".py",
   "mimetype": "text/x-python",
   "name": "python",
   "nbconvert_exporter": "python",
   "pygments_lexer": "ipython3",
   "version": "3.7.4"
  }
 },
 "nbformat": 4,
 "nbformat_minor": 2
}
